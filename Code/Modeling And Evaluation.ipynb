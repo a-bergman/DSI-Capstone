{
 "cells": [
  {
   "cell_type": "markdown",
   "metadata": {},
   "source": [
    "# Imports"
   ]
  },
  {
   "cell_type": "code",
   "execution_count": null,
   "metadata": {},
   "outputs": [],
   "source": [
    "import pandas                as pd\n",
    "import numpy                 as np\n",
    "import matplotlib.pyplot     as plt\n",
    "import seaborn               as sns\n",
    "import missingno             as msno\n",
    "from sklearn.linear_model    import LinearRegression\n",
    "from sklearn.linear_model    import LassoCV\n",
    "from sklearn.linear_model    import RidgeCV\n",
    "from sklearn.metrics         import r2_score\n",
    "from sklearn.metrics         import mean_squared_error\n",
    "from sklearn.model_selection import train_test_split\n",
    "from sklearn.model_selection import GridSearchCV\n",
    "from sklearn.model_selection import cross_val_score\n",
    "from sklearn.pipeline        import Pipeline\n",
    "from IPython.core.display    import display, HTML\n",
    "sns.set(style = \"white\", palette = \"husl\")\n",
    "display(HTML(\"<style>.container { width:95% !important; }</style>\"))\n",
    "%matplotlib inline"
   ]
  },
  {
   "cell_type": "markdown",
   "metadata": {},
   "source": [
    "# Table Of Contents\n",
    "\n",
    "-----\n",
    "\n",
    "1. [Reading In The Data](#Reading-In-The-Data)\n",
    "    - [Overview](#Overview)\n",
    "\n",
    "-----\n",
    "\n",
    "2. [Feature Engineering](#Feature-Engineering)\n",
    "    - [Transforming Numeric Data](#Transforming-Numeric-Data)\n",
    "    - [Creating Segmental Features](#Creating-Segmental-Features)\n",
    "    - [Implementing The Pattern Sub-Model Approach](#Implementing-The-Pattern-Sub-Model-Approach)\n",
    "        - [Creating The Sub-Models](#Creating-The-Sub-Models)\n",
    "        - [Calculating The RMSE Weights](#Calculating-The-RMSE-Weights)\n",
    "    \n",
    "-----\n",
    "\n",
    "3. [Modeling](#Modeling)\n",
    "    - [Functions](#Functions)\n",
    "        - [Model Functions](#Model-Functions)\n",
    "        - [Evaluation Functions](#Evaluation-Functions)\n",
    "    - [Linear Regression](#Linear-Regression)\n",
    "    - [Ridge](#Ridge)\n",
    "    - [LASSO](#LASSO)"
   ]
  },
  {
   "cell_type": "markdown",
   "metadata": {},
   "source": [
    "# Reading In The Data"
   ]
  },
  {
   "cell_type": "code",
   "execution_count": null,
   "metadata": {},
   "outputs": [],
   "source": [
    "mri = pd.read_csv(\"../Data/mri_cleaned.csv\")"
   ]
  },
  {
   "cell_type": "markdown",
   "metadata": {},
   "source": [
    "## Overview"
   ]
  },
  {
   "cell_type": "code",
   "execution_count": null,
   "metadata": {},
   "outputs": [],
   "source": [
    "mri.head()"
   ]
  },
  {
   "cell_type": "markdown",
   "metadata": {},
   "source": [
    "The `smoker_status` column is still in the data, but we will not needing the column for the models because we turned it into a pair of dummy columns so we will drop the column here."
   ]
  },
  {
   "cell_type": "code",
   "execution_count": null,
   "metadata": {},
   "outputs": [],
   "source": [
    "#  Dropping `smoker_status`\n",
    "\n",
    "mri = mri.drop(\"smoker_status\", axis = 1)"
   ]
  },
  {
   "cell_type": "code",
   "execution_count": null,
   "metadata": {},
   "outputs": [],
   "source": [
    "# Checking the shape of the data\n",
    "\n",
    "print(f\"The shape of the dataset is: {mri.shape}\")"
   ]
  },
  {
   "cell_type": "code",
   "execution_count": null,
   "metadata": {},
   "outputs": [],
   "source": [
    "# Summary of column data types\n",
    "\n",
    "mri.dtypes.value_counts()"
   ]
  },
  {
   "cell_type": "code",
   "execution_count": null,
   "metadata": {},
   "outputs": [],
   "source": [
    "# Checking for columns with missing/NaN data\n",
    "\n",
    "(mri.isnull().mean()*100).sort_values(ascending = False).head(4)"
   ]
  },
  {
   "cell_type": "markdown",
   "metadata": {},
   "source": [
    "# Feature Engineering"
   ]
  },
  {
   "cell_type": "markdown",
   "metadata": {},
   "source": [
    "## Transforming Numeric Data"
   ]
  },
  {
   "cell_type": "markdown",
   "metadata": {},
   "source": [
    "There are only four numeric columns in the data set: `age`, `lvesv`, `lvedv`, `lvef`.  Of the four, only `lvef` does not have any kind of a normal distribution: `age` is close to normally distributed, while `lvesv` and `lvedv` are log-normally distributed.\n",
    "\n",
    "We cannot do anything to `lvedv` because that is my target variable, but we can take the log of `lvesv` (in this case the natural log).  We also tried squaring `age` but that did not affect the distribution in the way we hoped it would."
   ]
  },
  {
   "cell_type": "code",
   "execution_count": null,
   "metadata": {},
   "outputs": [],
   "source": [
    "# Take the natural log of `lvesv`.\n",
    "# We chose to make it it's own column rather\n",
    "# than overwrite the column.\n",
    "\n",
    "mri[\"lvesv_log\"] = mri[\"lvesv\"].apply(lambda x: np.log(x))"
   ]
  },
  {
   "cell_type": "code",
   "execution_count": null,
   "metadata": {},
   "outputs": [],
   "source": [
    "print(f\"The shape of the dataset is: {mri.shape}\")"
   ]
  },
  {
   "cell_type": "markdown",
   "metadata": {},
   "source": [
    "[Top](#Table-Of-Contents)"
   ]
  },
  {
   "cell_type": "markdown",
   "metadata": {},
   "source": [
    "## Creating Segmental Features"
   ]
  },
  {
   "cell_type": "markdown",
   "metadata": {},
   "source": [
    "Because the model attempts to predict the end diastolic volume, we want it to be as accurate as it can be.  As part of that, we will try to use many combinations of features in an attempt to achieve high accuracy.\n",
    "\n",
    "The data have 34 columns that we wish to engineer: a column measuring scarification and a column measuring ischemia.  Because there are so many of them, we felt the need to experiment with how they are passed into the model.  We are unable to create interaction columns, because there are zeros.  Instead, we elected to create segmental columns by summing similar columns together: we will compare the model's performance with the originals and with the segmental columns.\n",
    "\n",
    "We used this image to guide our create of segmental columns:\n",
    "\n",
    "<img src = \"../Images/cardiac-segmentation-for-cardiac-perfusion-defects.jpg\" alt = \"Cardiac Segmentation\" height = 750 width = 750>\n",
    "\n",
    "Case courtesy of Dr Hamid Chalian, <a href=\"https://radiopaedia.org/\">Radiopaedia.org</a>. From the case <a href=\"https://radiopaedia.org/cases/47102\">rID: 47102</a>"
   ]
  },
  {
   "cell_type": "code",
   "execution_count": null,
   "metadata": {},
   "outputs": [],
   "source": [
    "# Creating columns based off of the red, blue, green, and yellow\n",
    "# I'm combining the apex and apical regions because there is only\n",
    "# one region in the apex.\n",
    "\n",
    "# New columns for scar tissue\n",
    "\n",
    "mri[\"basal_he\"]  = mri[\"ba_he\"] + mri[\"bas_he\"] + mri[\"bis_he\"] \\\n",
    "                   + mri[\"bi_he\"] + mri[\"bil_he\"] + mri[\"bal_he\"]\n",
    "mri[\"mid_he\"]    = mri[\"ma_he\"] + mri[\"mas_he\"] + mri[\"mis_he\"] \\\n",
    "                   + mri[\"mi_he\"] + mri[\"mil_he\"] + mri[\"mal_he\"]\n",
    "mri[\"apical_he\"] = mri[\"aa_he\"] + mri[\"as_he\"] + mri[\"ai_he\"] \\\n",
    "                   + mri[\"al_he\"] + mri[\"apex_he\"]\n",
    "\n",
    "# New columns for ischemia\n",
    "\n",
    "mri[\"basal_ischemia\"]  = mri[\"ba_ischemia\"] + mri[\"bas_ischemia\"] + mri[\"bis_ischemia\"] \\\n",
    "                         + mri[\"bi_ischemia\"] + mri[\"bil_ischemia\"] + mri[\"bal_ischemia\"]\n",
    "mri[\"mid_ischemia\"]    = mri[\"ma_ischemia\"] + mri[\"mas_ischemia\"] + mri[\"mis_ischemia\"] \\\n",
    "                         + mri[\"mi_ischemia\"] + mri[\"mil_ischemia\"] + mri[\"mal_ischemia\"]\n",
    "mri[\"apical_ischemia\"] = mri[\"aa_ischemia\"] + mri[\"as_ischemia\"] + mri[\"ai_ischemia\"] \\\n",
    "                         + mri[\"al_ischemia\"]\n",
    "\n",
    "print(f\"The shape of the dataset is: {mri.shape}\")"
   ]
  },
  {
   "cell_type": "markdown",
   "metadata": {},
   "source": [
    "[Top](#Table-Of-Contents)"
   ]
  },
  {
   "cell_type": "markdown",
   "metadata": {},
   "source": [
    "## Implementing The Pattern Sub-Model Approach"
   ]
  },
  {
   "cell_type": "markdown",
   "metadata": {},
   "source": [
    "### Creating The Sub-Models"
   ]
  },
  {
   "cell_type": "markdown",
   "metadata": {},
   "source": [
    "The pattern sub-model approach depends upon the distribution of the missing data.  In order to visualize the patterns, we chose to use `missingno`'s matrix visual."
   ]
  },
  {
   "cell_type": "code",
   "execution_count": null,
   "metadata": {},
   "outputs": [],
   "source": [
    "msno.matrix(mri.sort_values(by = [\"aortic_stenosis\", \"aortic_reg\", \n",
    "                                  \"mitral_reg\", \"tricusp_reg\"]).iloc[:, 9:13], \n",
    "                            figsize = (18,4));"
   ]
  },
  {
   "cell_type": "markdown",
   "metadata": {},
   "source": [
    "There are some bands on `NaN`s across all four columns, but they are not consistent.\n",
    "\n",
    "-----\n",
    "\n",
    "Because there are four columns with missing data, there are 2<sup>4</sup> (16) possible combinations of missing data.  To create each sub-model, we have to filter the data set by each posible combinations of all four columns."
   ]
  },
  {
   "cell_type": "code",
   "execution_count": null,
   "metadata": {},
   "outputs": [],
   "source": [
    "# Setting aliases so we did not have to type out\n",
    "# each column name in full.\n",
    "\n",
    "a = \"aortic_stenosis\"\n",
    "b = \"aortic_reg\"\n",
    "c = \"mitral_reg\"\n",
    "d = \"tricusp_reg\""
   ]
  },
  {
   "cell_type": "code",
   "execution_count": null,
   "metadata": {},
   "outputs": [],
   "source": [
    "# Sub-models with only one column of missing data\n",
    "\n",
    "submodel_a      = mri[mri[a].notnull()]\n",
    "submodel_b      = mri[mri[b].notnull()]\n",
    "submodel_c      = mri[mri[c].notnull()]\n",
    "submodel_d      = mri[mri[d].notnull()]\n",
    "\n",
    "# Sub-models with 2 columns of missing data\n",
    "\n",
    "submodel_ab     = mri[(mri[a].notnull()) & (mri[b].notnull())]\n",
    "submodel_ac     = mri[(mri[a].notnull()) & (mri[c].notnull())]\n",
    "submodel_ad     = mri[(mri[a].notnull()) & (mri[d].notnull())]\n",
    "submodel_bc     = mri[(mri[b].notnull()) & (mri[c].notnull())]\n",
    "submodel_bd     = mri[(mri[b].notnull()) & (mri[d].notnull())]\n",
    "submodel_cd     = mri[(mri[c].notnull()) & (mri[d].notnull())]\n",
    "\n",
    "# Sub-models with 3 columns of missing data\n",
    "\n",
    "submodel_abc    = mri[(mri[a].notnull()) & (mri[b].notnull()) & \\\n",
    "                      (mri[c].notnull())]\n",
    "submodel_abd    = mri[(mri[a].notnull()) & (mri[b].notnull()) & \\\n",
    "                      (mri[d].notnull())]\n",
    "submodel_acd    = mri[(mri[a].notnull()) & (mri[c].notnull()) & \\\n",
    "                      (mri[d].notnull())]\n",
    "\n",
    "# Sub-model with all columns of missing data\n",
    "\n",
    "submodel_abcd   = mri[(mri[a].notnull()) & (mri[b].notnull()) & \\\n",
    "                      (mri[c].notnull()) & (mri[d].notnull())]"
   ]
  },
  {
   "cell_type": "code",
   "execution_count": null,
   "metadata": {},
   "outputs": [],
   "source": [
    "# We wanted to have an idea of how large each sub-model is\n",
    "# We used zip because it made it easier for us to print the\n",
    "# name and shape of each sub-model\n",
    "\n",
    "list_of_submodels = [submodel_nm, submodel_a, submodel_b, submodel_c,\n",
    "                     submodel_d, submodel_ab, submodel_ac, submodel_ad,\n",
    "                     submodel_bc, submodel_bd, submodel_cd, submodel_abc,\n",
    "                     submodel_abd, submodel_acd, submodel_abcd]\n",
    "\n",
    "list_of_submodels_str = ['submodel_nm', 'submodel_a', 'submodel_b', 'submodel_c',\n",
    "                     'submodel_d', 'submodel_ab', 'submodel_ac', 'submodel_ad',\n",
    "                     'submodel_bc', 'submodel_bd', 'submodel_cd', 'submodel_abc',\n",
    "                     'submodel_abd', 'submodel_acd', 'submodel_abcd']\n",
    "\n",
    "for submodel, submodel_str in zip(list_of_submodels,list_of_submodels_str):    \n",
    "    print(f\"The shape of {submodel_str} is {submodel.shape[0]}\")"
   ]
  },
  {
   "cell_type": "markdown",
   "metadata": {},
   "source": [
    "[Top](#Table-Of-Comments)"
   ]
  },
  {
   "cell_type": "markdown",
   "metadata": {},
   "source": [
    "### Calculating The RMSE Weights"
   ]
  },
  {
   "cell_type": "markdown",
   "metadata": {},
   "source": [
    "Because each model has a different length, we want to have the larger sub-models count more in the final averaged. To do that we divided the size of the subset by the length of the original set."
   ]
  },
  {
   "cell_type": "code",
   "execution_count": null,
   "metadata": {},
   "outputs": [],
   "source": [
    "original_len = len(mri)"
   ]
  },
  {
   "cell_type": "code",
   "execution_count": null,
   "metadata": {},
   "outputs": [],
   "source": [
    "def generate_weights(submodels, denominator):\n",
    "    submodel_weights = []\n",
    "    for submodel in submodels:\n",
    "        submodel_weights.append(submodel.shape[0] / denominator)\n",
    "    return submodel_weights"
   ]
  },
  {
   "cell_type": "code",
   "execution_count": null,
   "metadata": {
    "scrolled": false
   },
   "outputs": [],
   "source": [
    "weights = generate_weights(list_of_submodels, original_len)"
   ]
  },
  {
   "cell_type": "markdown",
   "metadata": {},
   "source": [
    "[Top](#Table-Of-Contents)"
   ]
  },
  {
   "cell_type": "markdown",
   "metadata": {},
   "source": [
    "# Modeling"
   ]
  },
  {
   "cell_type": "markdown",
   "metadata": {},
   "source": [
    "## Functions"
   ]
  },
  {
   "cell_type": "markdown",
   "metadata": {},
   "source": [
    "### Modeling Functions"
   ]
  },
  {
   "cell_type": "markdown",
   "metadata": {},
   "source": [
    "### Evaluation Functions"
   ]
  },
  {
   "cell_type": "markdown",
   "metadata": {},
   "source": [
    "## Linear Regression"
   ]
  },
  {
   "cell_type": "markdown",
   "metadata": {},
   "source": [
    "## Ridge"
   ]
  },
  {
   "cell_type": "markdown",
   "metadata": {},
   "source": [
    "## LASSO"
   ]
  }
 ],
 "metadata": {
  "kernelspec": {
   "display_name": "Python 3",
   "language": "python",
   "name": "python3"
  },
  "language_info": {
   "codemirror_mode": {
    "name": "ipython",
    "version": 3
   },
   "file_extension": ".py",
   "mimetype": "text/x-python",
   "name": "python",
   "nbconvert_exporter": "python",
   "pygments_lexer": "ipython3",
   "version": "3.6.8"
  }
 },
 "nbformat": 4,
 "nbformat_minor": 2
}
