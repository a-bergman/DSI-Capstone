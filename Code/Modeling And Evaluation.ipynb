{
 "cells": [
  {
   "cell_type": "markdown",
   "metadata": {},
   "source": [
    "# Part 2: Feature Engineering, Modeling, & Evaluation"
   ]
  },
  {
   "cell_type": "markdown",
   "metadata": {},
   "source": [
    "## Imports"
   ]
  },
  {
   "cell_type": "code",
   "execution_count": 1,
   "metadata": {},
   "outputs": [
    {
     "data": {
      "text/html": [
       "<style>.container { width:95% !important; }</style>"
      ],
      "text/plain": [
       "<IPython.core.display.HTML object>"
      ]
     },
     "metadata": {},
     "output_type": "display_data"
    }
   ],
   "source": [
    "import graphs\n",
    "import metrics\n",
    "import pandas                as pd\n",
    "import numpy                 as np\n",
    "import matplotlib.pyplot     as plt\n",
    "from xgboost                 import XGBRegressor             \n",
    "from sklearn.linear_model    import LinearRegression, LassoCV, RidgeCV, ElasticNetCV\n",
    "from sklearn.model_selection import train_test_split, cross_val_score, GridSearchCV\n",
    "from sklearn.preprocessing   import StandardScaler\n",
    "from sklearn.ensemble        import RandomForestRegressor\n",
    "from sklearn.pipeline        import Pipeline\n",
    "from IPython.core.display    import display, HTML\n",
    "from IPython.display         import display_html\n",
    "display(HTML(\"<style>.container { width:95% !important; }</style>\"))\n",
    "%matplotlib inline"
   ]
  },
  {
   "cell_type": "markdown",
   "metadata": {},
   "source": [
    "## Table Of Contents\n",
    "\n",
    "\n",
    "- [Reading In The Data](#Reading-In-The-Data)\n",
    "    - [Overview](#Overview)\n",
    "    \n",
    "    \n",
    "    \n",
    "- [Feature Engineering](#Feature-Engineering)\n",
    "    - [Transforming Numeric Data](#Transforming-Numeric-Data)\n",
    "    - [Creating Segmental Features](#Creating-Segmental-Features)\n",
    "        \n",
    "    \n",
    "    \n",
    "- [Modeling](#Modeling)\n",
    "    - [Functions](#Functions)\n",
    "    - [Linear Regression](#Linear-Regression)\n",
    "    - [Ridge](#Ridge)\n",
    "    - [LASSO](#LASSO)\n",
    "    - [ElasticNetCV](#ElasticNetCV)\n",
    "    - [Random Forest Reression](#Random-Forest-Regression)\n",
    "    - [XGBoosting](#XGBoosting)\n",
    "    - [Prediction Dataframes](#Prediction-Dataframes)\n",
    "     \n",
    "     \n",
    "    \n",
    "- [Model Evaluation](#Model-Evaluation)\n",
    "    - [Functions](#Evaluation-Functions)\n",
    "    - [Plotting Predictions](#Plotting-Predictions)\n",
    "    - [Plotting Residuals](#Plotting-Residuals)\n",
    "    - [Final Model Selection](#Final-Model-Selection)"
   ]
  },
  {
   "cell_type": "markdown",
   "metadata": {},
   "source": [
    "## Reading In The Data"
   ]
  },
  {
   "cell_type": "code",
   "execution_count": 2,
   "metadata": {},
   "outputs": [],
   "source": [
    "mri = pd.read_csv(\"../Data/mri_cleaned.csv\")"
   ]
  },
  {
   "cell_type": "markdown",
   "metadata": {},
   "source": [
    "### Overview"
   ]
  },
  {
   "cell_type": "code",
   "execution_count": 3,
   "metadata": {},
   "outputs": [
    {
     "data": {
      "text/html": [
       "<div>\n",
       "<style scoped>\n",
       "    .dataframe tbody tr th:only-of-type {\n",
       "        vertical-align: middle;\n",
       "    }\n",
       "\n",
       "    .dataframe tbody tr th {\n",
       "        vertical-align: top;\n",
       "    }\n",
       "\n",
       "    .dataframe thead th {\n",
       "        text-align: right;\n",
       "    }\n",
       "</style>\n",
       "<table border=\"1\" class=\"dataframe\">\n",
       "  <thead>\n",
       "    <tr style=\"text-align: right;\">\n",
       "      <th></th>\n",
       "      <th>sex</th>\n",
       "      <th>age</th>\n",
       "      <th>hypertension</th>\n",
       "      <th>hyperlipidemia</th>\n",
       "      <th>diabetes</th>\n",
       "      <th>lvedv</th>\n",
       "      <th>lvesv</th>\n",
       "      <th>lv_wall_thickness</th>\n",
       "      <th>lvef</th>\n",
       "      <th>aortic_stenosis</th>\n",
       "      <th>...</th>\n",
       "      <th>mis_ischemia</th>\n",
       "      <th>mi_ischemia</th>\n",
       "      <th>mil_ischemia</th>\n",
       "      <th>mal_ischemia</th>\n",
       "      <th>aa_ischemia</th>\n",
       "      <th>as_ischemia</th>\n",
       "      <th>ai_ischemia</th>\n",
       "      <th>al_ischemia</th>\n",
       "      <th>smoker_status_former</th>\n",
       "      <th>smoker_status_never</th>\n",
       "    </tr>\n",
       "  </thead>\n",
       "  <tbody>\n",
       "    <tr>\n",
       "      <th>0</th>\n",
       "      <td>1</td>\n",
       "      <td>37</td>\n",
       "      <td>0</td>\n",
       "      <td>0</td>\n",
       "      <td>0</td>\n",
       "      <td>613</td>\n",
       "      <td>501</td>\n",
       "      <td>0</td>\n",
       "      <td>18</td>\n",
       "      <td>0</td>\n",
       "      <td>...</td>\n",
       "      <td>0</td>\n",
       "      <td>0</td>\n",
       "      <td>0</td>\n",
       "      <td>0</td>\n",
       "      <td>0</td>\n",
       "      <td>0</td>\n",
       "      <td>0</td>\n",
       "      <td>0</td>\n",
       "      <td>0</td>\n",
       "      <td>1</td>\n",
       "    </tr>\n",
       "    <tr>\n",
       "      <th>1</th>\n",
       "      <td>1</td>\n",
       "      <td>74</td>\n",
       "      <td>0</td>\n",
       "      <td>1</td>\n",
       "      <td>0</td>\n",
       "      <td>569</td>\n",
       "      <td>492</td>\n",
       "      <td>1</td>\n",
       "      <td>14</td>\n",
       "      <td>0</td>\n",
       "      <td>...</td>\n",
       "      <td>0</td>\n",
       "      <td>0</td>\n",
       "      <td>0</td>\n",
       "      <td>0</td>\n",
       "      <td>0</td>\n",
       "      <td>1</td>\n",
       "      <td>0</td>\n",
       "      <td>1</td>\n",
       "      <td>0</td>\n",
       "      <td>1</td>\n",
       "    </tr>\n",
       "    <tr>\n",
       "      <th>2</th>\n",
       "      <td>1</td>\n",
       "      <td>78</td>\n",
       "      <td>1</td>\n",
       "      <td>1</td>\n",
       "      <td>1</td>\n",
       "      <td>564</td>\n",
       "      <td>500</td>\n",
       "      <td>0</td>\n",
       "      <td>11</td>\n",
       "      <td>0</td>\n",
       "      <td>...</td>\n",
       "      <td>1</td>\n",
       "      <td>1</td>\n",
       "      <td>0</td>\n",
       "      <td>0</td>\n",
       "      <td>1</td>\n",
       "      <td>1</td>\n",
       "      <td>0</td>\n",
       "      <td>0</td>\n",
       "      <td>0</td>\n",
       "      <td>1</td>\n",
       "    </tr>\n",
       "    <tr>\n",
       "      <th>3</th>\n",
       "      <td>1</td>\n",
       "      <td>61</td>\n",
       "      <td>0</td>\n",
       "      <td>1</td>\n",
       "      <td>0</td>\n",
       "      <td>531</td>\n",
       "      <td>435</td>\n",
       "      <td>1</td>\n",
       "      <td>18</td>\n",
       "      <td>0</td>\n",
       "      <td>...</td>\n",
       "      <td>0</td>\n",
       "      <td>0</td>\n",
       "      <td>0</td>\n",
       "      <td>0</td>\n",
       "      <td>0</td>\n",
       "      <td>0</td>\n",
       "      <td>0</td>\n",
       "      <td>0</td>\n",
       "      <td>0</td>\n",
       "      <td>1</td>\n",
       "    </tr>\n",
       "    <tr>\n",
       "      <th>4</th>\n",
       "      <td>1</td>\n",
       "      <td>53</td>\n",
       "      <td>0</td>\n",
       "      <td>0</td>\n",
       "      <td>0</td>\n",
       "      <td>522</td>\n",
       "      <td>408</td>\n",
       "      <td>0</td>\n",
       "      <td>21</td>\n",
       "      <td>0</td>\n",
       "      <td>...</td>\n",
       "      <td>0</td>\n",
       "      <td>0</td>\n",
       "      <td>0</td>\n",
       "      <td>0</td>\n",
       "      <td>0</td>\n",
       "      <td>0</td>\n",
       "      <td>0</td>\n",
       "      <td>0</td>\n",
       "      <td>0</td>\n",
       "      <td>0</td>\n",
       "    </tr>\n",
       "  </tbody>\n",
       "</table>\n",
       "<p>5 rows × 48 columns</p>\n",
       "</div>"
      ],
      "text/plain": [
       "   sex  age  hypertension  hyperlipidemia  diabetes  lvedv  lvesv  \\\n",
       "0    1   37             0               0         0    613    501   \n",
       "1    1   74             0               1         0    569    492   \n",
       "2    1   78             1               1         1    564    500   \n",
       "3    1   61             0               1         0    531    435   \n",
       "4    1   53             0               0         0    522    408   \n",
       "\n",
       "   lv_wall_thickness  lvef  aortic_stenosis  ...  mis_ischemia  mi_ischemia  \\\n",
       "0                  0    18                0  ...             0            0   \n",
       "1                  1    14                0  ...             0            0   \n",
       "2                  0    11                0  ...             1            1   \n",
       "3                  1    18                0  ...             0            0   \n",
       "4                  0    21                0  ...             0            0   \n",
       "\n",
       "   mil_ischemia  mal_ischemia  aa_ischemia  as_ischemia  ai_ischemia  \\\n",
       "0             0             0            0            0            0   \n",
       "1             0             0            0            1            0   \n",
       "2             0             0            1            1            0   \n",
       "3             0             0            0            0            0   \n",
       "4             0             0            0            0            0   \n",
       "\n",
       "   al_ischemia  smoker_status_former  smoker_status_never  \n",
       "0            0                     0                    1  \n",
       "1            1                     0                    1  \n",
       "2            0                     0                    1  \n",
       "3            0                     0                    1  \n",
       "4            0                     0                    0  \n",
       "\n",
       "[5 rows x 48 columns]"
      ]
     },
     "execution_count": 3,
     "metadata": {},
     "output_type": "execute_result"
    }
   ],
   "source": [
    "mri.head()"
   ]
  },
  {
   "cell_type": "code",
   "execution_count": 4,
   "metadata": {},
   "outputs": [
    {
     "name": "stdout",
     "output_type": "stream",
     "text": [
      "The shape of the dataset is: (6417, 48)\n"
     ]
    }
   ],
   "source": [
    "# Checking the shape of the data\n",
    "\n",
    "print(f\"The shape of the dataset is: {mri.shape}\")"
   ]
  },
  {
   "cell_type": "code",
   "execution_count": 5,
   "metadata": {},
   "outputs": [
    {
     "data": {
      "text/plain": [
       "int64    48\n",
       "dtype: int64"
      ]
     },
     "execution_count": 5,
     "metadata": {},
     "output_type": "execute_result"
    }
   ],
   "source": [
    "# Summary of column data types\n",
    "\n",
    "mri.dtypes.value_counts()"
   ]
  },
  {
   "cell_type": "markdown",
   "metadata": {},
   "source": [
    "## Feature Engineering"
   ]
  },
  {
   "cell_type": "markdown",
   "metadata": {},
   "source": [
    "### Transforming Numeric Data"
   ]
  },
  {
   "cell_type": "markdown",
   "metadata": {},
   "source": [
    "There are only four numeric columns in the data set: `age`, `lvesv`, `lvedv`, `lvef`.  Of the four, only `lvef` does not have any kind of a normal distribution: `age` is close to being normally distributed, while `lvesv` and `lvedv` are log-normally distributed.\n",
    "\n",
    "We were hesitant to transform `lvedv` because that is the target variable, but we can take the log of `lvesv` (in this case the natural log).  We also tried squaring `age` but that did not affect the distribution in the way we hoped it would."
   ]
  },
  {
   "cell_type": "code",
   "execution_count": 6,
   "metadata": {},
   "outputs": [
    {
     "name": "stdout",
     "output_type": "stream",
     "text": [
      "The data set has 49 columns.\n"
     ]
    }
   ],
   "source": [
    "# Creating a new column equal to the natural log of `lvesv`.\n",
    "\n",
    "mri[\"lvesv_log\"] = mri[\"lvesv\"].apply(lambda x: np.log(x))\n",
    "\n",
    "# Checking the number of columns\n",
    "\n",
    "print(f\"The data set has {mri.shape[1]} columns.\")"
   ]
  },
  {
   "cell_type": "markdown",
   "metadata": {},
   "source": [
    "[Top](#Table-Of-Contents)"
   ]
  },
  {
   "cell_type": "markdown",
   "metadata": {},
   "source": [
    "### Creating Segmental Features"
   ]
  },
  {
   "cell_type": "markdown",
   "metadata": {},
   "source": [
    "Because the model attempts to predict the end diastolic volume, we want it to be as accurate as it can be.  As part of that, we will try to use different combinations of features in an attempt to achieve high accuracy.\n",
    "\n",
    "The data have 34 columns that we wish to engineer: a column measuring scarification and a column measuring ischemia.  Because there are so many of them, we felt the need to experiment with how they are passed into the model.  We are unable to create multiplication interaction columns, because there are zeros.  Instead, we elected to create segmental columns by summing similar columns together: we will compare the model's performance with the originals and with the segmental columns.\n",
    "\n",
    "We used this image to guide our create of segmental columns:\n",
    "\n",
    "<img src = \"../Images/cardiac-segmentation-for-cardiac-perfusion-defects.jpg\" alt = \"Cardiac Segmentation\" height = \"750\" width = \"750\">\n",
    "\n",
    "Case courtesy of Dr Hamid Chalian, <a href=\"https://radiopaedia.org/\">Radiopaedia.org</a>. From the case <a href=\"https://radiopaedia.org/cases/47102\">rID: 47102</a>"
   ]
  },
  {
   "cell_type": "code",
   "execution_count": 7,
   "metadata": {},
   "outputs": [
    {
     "name": "stdout",
     "output_type": "stream",
     "text": [
      "The the data set has 55 columns.\n"
     ]
    }
   ],
   "source": [
    "# Creating columns based off of the red, blue, green, and yellow regions.\n",
    "# We combined the apex and apical regions because there is only one region in the apex.\n",
    "\n",
    "# New columns for scar tissue\n",
    "\n",
    "mri[\"basal_he\"]    = mri[\"ba_he\"] + mri[\"bas_he\"] + mri[\"bis_he\"] \\\n",
    "                     + mri[\"bi_he\"] + mri[\"bil_he\"] + mri[\"bal_he\"]\n",
    "mri[\"mid_he\"]      = mri[\"ma_he\"] + mri[\"mas_he\"] + mri[\"mis_he\"] \\\n",
    "                     + mri[\"mi_he\"] + mri[\"mil_he\"] + mri[\"mal_he\"]\n",
    "mri[\"apical_he\"]   = mri[\"aa_he\"] + mri[\"as_he\"] + mri[\"ai_he\"] \\\n",
    "                     + mri[\"al_he\"] + mri[\"apex_he\"]\n",
    "\n",
    "# New columns for ischemia\n",
    "\n",
    "mri[\"basal_ischemia\"]  = mri[\"ba_ischemia\"] + mri[\"bas_ischemia\"] + mri[\"bis_ischemia\"] \\\n",
    "                         + mri[\"bi_ischemia\"] + mri[\"bil_ischemia\"] + mri[\"bal_ischemia\"]\n",
    "mri[\"mid_ischemia\"]    = mri[\"ma_ischemia\"] + mri[\"mas_ischemia\"] + mri[\"mis_ischemia\"] \\\n",
    "                         + mri[\"mi_ischemia\"] + mri[\"mil_ischemia\"] + mri[\"mal_ischemia\"]\n",
    "mri[\"apical_ischemia\"] = mri[\"aa_ischemia\"] + mri[\"as_ischemia\"] + mri[\"ai_ischemia\"] \\\n",
    "                         + mri[\"al_ischemia\"]\n",
    "\n",
    "# Checking that the number of columns has increased\n",
    "\n",
    "print(f\"The the data set has {mri.shape[1]} columns.\")"
   ]
  },
  {
   "cell_type": "markdown",
   "metadata": {},
   "source": [
    "We intended to create new columns based off the secondary axis (antero-septal, infero-septal, etc.) but because of how the apical region is divided we would have counted the apical regions more than once."
   ]
  },
  {
   "cell_type": "markdown",
   "metadata": {},
   "source": [
    "[Top](#Table-Of-Contents)"
   ]
  },
  {
   "cell_type": "markdown",
   "metadata": {},
   "source": [
    "One of our goals was to see what would happen if we used the engineered features to reduce the overall number of features being passed into the model.  To accomplish that, we created two dataframes: one with the original set of features (48 including the target) and a second one with the engineered features (21 including the target).\n",
    "\n",
    "\n",
    "From this point on, `_org` will be used to refer to the original set of features and `_eng` will be use to refer to the engineered features.  The default will be `_org`, so after train-splitting the original will just be `X_train` or `X_train_ss`."
   ]
  },
  {
   "cell_type": "code",
   "execution_count": 8,
   "metadata": {},
   "outputs": [
    {
     "name": "stdout",
     "output_type": "stream",
     "text": [
      "The dataframe with original features has 48 columns.\n",
      "The dataframe with engineered features has 21 columns.\n"
     ]
    }
   ],
   "source": [
    "# Defining the original dataframe\n",
    "\n",
    "mri_org = mri.drop(labels = [\"lvesv_log\", \"basal_he\", \"mid_he\",\n",
    "                             \"apical_he\", \"basal_ischemia\",\n",
    "                             \"mid_ischemia\", \"apical_ischemia\"],\n",
    "                   axis = 1)\n",
    "\n",
    "# Defining the dataframe with only new features\n",
    "\n",
    "mri_eng = mri.drop(labels = [\"lvesv\", \"ba_he\", \"bas_he\", \"bis_he\", \"bi_he\", \n",
    "                             \"bil_he\", \"bal_he\", \"ma_he\", \"mas_he\", \"mis_he\", \n",
    "                             \"mi_he\", \"mil_he\", \"mal_he\", \"aa_he\", \"as_he\", \n",
    "                             \"ai_he\", \"al_he\", \"apex_he\", \"ba_ischemia\",\n",
    "                             \"bas_ischemia\", \"bis_ischemia\", \"bi_ischemia\", \n",
    "                             \"bil_ischemia\", \"bal_ischemia\", \"ma_ischemia\", \n",
    "                             \"mas_ischemia\", \"mis_ischemia\", \"mi_ischemia\", \n",
    "                             \"mil_ischemia\", \"mal_ischemia\", \"aa_ischemia\", \n",
    "                             \"as_ischemia\", \"ai_ischemia\", \"al_ischemia\"],\n",
    "                   axis = 1)\n",
    "\n",
    "# Checking to make sure the two have different numbers of columns\n",
    "\n",
    "print(f\"The dataframe with original features has {mri_org.shape[1]} columns.\")\n",
    "print(f\"The dataframe with engineered features has {mri_eng.shape[1]} columns.\")"
   ]
  },
  {
   "cell_type": "markdown",
   "metadata": {},
   "source": [
    "[Top](#Table-Of-Contents)"
   ]
  },
  {
   "cell_type": "markdown",
   "metadata": {},
   "source": [
    "## Modeling"
   ]
  },
  {
   "cell_type": "markdown",
   "metadata": {},
   "source": [
    "Before we can start modeling, we have to perform a train-test split.  A train-test split allows us to train our data on one subset of the dataframe and train on another subset.\n",
    "\n",
    "Since I have two versions of the dataframe, I will have to train-test split on both."
   ]
  },
  {
   "cell_type": "code",
   "execution_count": 9,
   "metadata": {},
   "outputs": [],
   "source": [
    "# Setting up the X and y variables for the original features\n",
    "\n",
    "X = mri_org.drop(\"lvedv\", axis = 1)\n",
    "y = mri_org[\"lvedv\"]\n",
    "\n",
    "# Setting up the X and y variables for the engineered features\n",
    "\n",
    "X_eng = mri_eng.drop(\"lvedv\", axis = 1)\n",
    "y_eng = mri_eng[\"lvedv\"]"
   ]
  },
  {
   "cell_type": "code",
   "execution_count": 10,
   "metadata": {},
   "outputs": [],
   "source": [
    "# Train-test splitting mri_og\n",
    "\n",
    "X_train, X_test, y_train, y_test = train_test_split(X, \n",
    "                                                    y,\n",
    "                                                    random_state = 42,\n",
    "                                                    test_size    = 0.25) \n",
    "\n",
    "# Train-test splitting mri_new\n",
    "\n",
    "X_train_eng, X_test_eng, y_train_eng, y_test_eng = train_test_split(X_eng, \n",
    "                                                                    y_eng,\n",
    "                                                                    random_state = 42,\n",
    "                                                                    test_size    = 0.25) "
   ]
  },
  {
   "cell_type": "markdown",
   "metadata": {},
   "source": [
    "Each model going forward will be fit and evaluated on both sets of train-test splits."
   ]
  },
  {
   "cell_type": "markdown",
   "metadata": {},
   "source": [
    "Since we will be running models that need to have the data scaled, we will run both sets of X variables through `StandardScaler` and save them as new variables."
   ]
  },
  {
   "cell_type": "code",
   "execution_count": 11,
   "metadata": {},
   "outputs": [],
   "source": [
    "# Instantiating the standard scaler\n",
    "\n",
    "ss = StandardScaler()"
   ]
  },
  {
   "cell_type": "code",
   "execution_count": 12,
   "metadata": {},
   "outputs": [],
   "source": [
    "# Transforming the set with original features.\n",
    "\n",
    "# Fit-transforming the X_train features\n",
    "\n",
    "X_train_ss = ss.fit_transform(X_train)\n",
    "\n",
    "# Transforming my X_test variables\n",
    "\n",
    "X_test_ss  = ss.transform(X_test)"
   ]
  },
  {
   "cell_type": "code",
   "execution_count": 13,
   "metadata": {},
   "outputs": [],
   "source": [
    "# Transforming the sub-set with the features we engineered\n",
    "\n",
    "# Fit-transforming the engineered X_train\n",
    "\n",
    "X_train_eng_ss = ss.fit_transform(X_train_eng)\n",
    "\n",
    "# Transforming the engineered X_test features\n",
    "\n",
    "X_test_eng_ss  = ss.transform(X_test_eng)"
   ]
  },
  {
   "cell_type": "markdown",
   "metadata": {},
   "source": [
    "### Functions"
   ]
  },
  {
   "cell_type": "markdown",
   "metadata": {},
   "source": [
    "The `regression_summary` function has four metrics:\n",
    "\n",
    "* Root mean squared error (RMSE) to measure the difference between the predicted values and the actual values;\n",
    "\n",
    "\n",
    "* Mean absolute error (MAE) to measure the absolute mean error (this method is more robust to outliers);\n",
    "\n",
    "\n",
    "* R<sup>2</sup> to measure variance in `y` caused by the `X` variables;\n",
    "\n",
    "\n",
    "The `regression_summary_adjr2` function has four metrics:\n",
    "\n",
    "* Root mean squared error (RMSE) to measure the difference between the predicted values and the actual values;\n",
    "\n",
    "\n",
    "* Mean absolute error (MAE) to measure the absolute mean error (this method is more robust to outliers);\n",
    "\n",
    "\n",
    "* R<sup>2</sup> to measure variance in `y` caused by the `X` variables;\n",
    "\n",
    "\n",
    "* Adjusted R<sup>2</sup> to measure the same, but weighted for the number of features."
   ]
  },
  {
   "cell_type": "code",
   "execution_count": 14,
   "metadata": {},
   "outputs": [],
   "source": [
    "# This allows us to display the dataframes of the linear regression\n",
    "# coefficients side-by-side to save space.\n",
    "\n",
    "def display_side_by_side(*args):\n",
    "    html_str = ''\n",
    "    for df in args:\n",
    "        html_str += df.to_html()\n",
    "    display_html(html_str.replace('table', 'table style=\"display:inline\"'), raw = True)"
   ]
  },
  {
   "cell_type": "markdown",
   "metadata": {},
   "source": [
    "The code is from user `ntg` on StackOverflow.  [Here](https://stackoverflow.com/a/44923103) is the source."
   ]
  },
  {
   "cell_type": "markdown",
   "metadata": {},
   "source": [
    "[Top](#Table-Of-Contents)"
   ]
  },
  {
   "cell_type": "markdown",
   "metadata": {},
   "source": [
    "### Linear Regression"
   ]
  },
  {
   "cell_type": "markdown",
   "metadata": {},
   "source": [
    "When developing about our approach to modeling, we decided to start with the simplest model we could think of: the linear regression."
   ]
  },
  {
   "cell_type": "markdown",
   "metadata": {},
   "source": [
    "#### Original Set"
   ]
  },
  {
   "cell_type": "markdown",
   "metadata": {},
   "source": [
    "The original set is the dataframe with its original 48 columns."
   ]
  },
  {
   "cell_type": "code",
   "execution_count": 15,
   "metadata": {},
   "outputs": [],
   "source": [
    "# Instantiating the linear regression\n",
    "\n",
    "lr = LinearRegression()"
   ]
  },
  {
   "cell_type": "code",
   "execution_count": 16,
   "metadata": {},
   "outputs": [],
   "source": [
    "# Fitting the linear regression to the original (non-engineered) subset\n",
    "\n",
    "lr.fit(X_train, y_train);"
   ]
  },
  {
   "cell_type": "code",
   "execution_count": 17,
   "metadata": {},
   "outputs": [],
   "source": [
    "# Generating predictions from the training set\n",
    "\n",
    "train_preds = lr.predict(X_train)\n",
    "\n",
    "# Generating predictions from the test set\n",
    "\n",
    "lr_preds = lr.predict(X_test)"
   ]
  },
  {
   "cell_type": "code",
   "execution_count": 18,
   "metadata": {},
   "outputs": [
    {
     "data": {
      "text/html": [
       "<div>\n",
       "<style scoped>\n",
       "    .dataframe tbody tr th:only-of-type {\n",
       "        vertical-align: middle;\n",
       "    }\n",
       "\n",
       "    .dataframe tbody tr th {\n",
       "        vertical-align: top;\n",
       "    }\n",
       "\n",
       "    .dataframe thead th {\n",
       "        text-align: right;\n",
       "    }\n",
       "</style>\n",
       "<table border=\"1\" class=\"dataframe\">\n",
       "  <thead>\n",
       "    <tr style=\"text-align: right;\">\n",
       "      <th></th>\n",
       "      <th>Scores</th>\n",
       "    </tr>\n",
       "  </thead>\n",
       "  <tbody>\n",
       "    <tr>\n",
       "      <th>RMSE</th>\n",
       "      <td>16.416573</td>\n",
       "    </tr>\n",
       "    <tr>\n",
       "      <th>MAE</th>\n",
       "      <td>12.076838</td>\n",
       "    </tr>\n",
       "    <tr>\n",
       "      <th>R2</th>\n",
       "      <td>0.925847</td>\n",
       "    </tr>\n",
       "    <tr>\n",
       "      <th>Adj. R2</th>\n",
       "      <td>0.925115</td>\n",
       "    </tr>\n",
       "  </tbody>\n",
       "</table>\n",
       "</div>"
      ],
      "text/plain": [
       "            Scores\n",
       "RMSE     16.416573\n",
       "MAE      12.076838\n",
       "R2        0.925847\n",
       "Adj. R2   0.925115"
      ]
     },
     "execution_count": 18,
     "metadata": {},
     "output_type": "execute_result"
    }
   ],
   "source": [
    "metrics.regression_summary_adjr2(X_train, y_train, train_preds)"
   ]
  },
  {
   "cell_type": "code",
   "execution_count": 19,
   "metadata": {},
   "outputs": [
    {
     "data": {
      "text/html": [
       "<div>\n",
       "<style scoped>\n",
       "    .dataframe tbody tr th:only-of-type {\n",
       "        vertical-align: middle;\n",
       "    }\n",
       "\n",
       "    .dataframe tbody tr th {\n",
       "        vertical-align: top;\n",
       "    }\n",
       "\n",
       "    .dataframe thead th {\n",
       "        text-align: right;\n",
       "    }\n",
       "</style>\n",
       "<table border=\"1\" class=\"dataframe\">\n",
       "  <thead>\n",
       "    <tr style=\"text-align: right;\">\n",
       "      <th></th>\n",
       "      <th>Scores</th>\n",
       "    </tr>\n",
       "  </thead>\n",
       "  <tbody>\n",
       "    <tr>\n",
       "      <th>RMSE</th>\n",
       "      <td>17.474493</td>\n",
       "    </tr>\n",
       "    <tr>\n",
       "      <th>MAE</th>\n",
       "      <td>12.896848</td>\n",
       "    </tr>\n",
       "    <tr>\n",
       "      <th>R2</th>\n",
       "      <td>0.923749</td>\n",
       "    </tr>\n",
       "    <tr>\n",
       "      <th>Adj. R2</th>\n",
       "      <td>0.921448</td>\n",
       "    </tr>\n",
       "  </tbody>\n",
       "</table>\n",
       "</div>"
      ],
      "text/plain": [
       "            Scores\n",
       "RMSE     17.474493\n",
       "MAE      12.896848\n",
       "R2        0.923749\n",
       "Adj. R2   0.921448"
      ]
     },
     "execution_count": 19,
     "metadata": {},
     "output_type": "execute_result"
    }
   ],
   "source": [
    "metrics.regression_summary_adjr2(X_test, y_test, lr_preds)"
   ]
  },
  {
   "cell_type": "markdown",
   "metadata": {},
   "source": [
    "When we first saw these scores, we were surprised by not only how well the model perform but also by the close range of scores between the train and test."
   ]
  },
  {
   "cell_type": "markdown",
   "metadata": {},
   "source": [
    "While a linear regression is not always the best model, one of its major selling points is that coefficients can be derived from the models.\n",
    "\n",
    "The math for the linear regression is fairly simple: y = $\\beta$<sub>0</sub> + $\\beta$<sub>1</sub>X<sub>1</sub> + $\\beta$<sub>1</sub>X<sub>1</sub>...$\\beta$<sub>i</sub>X<sub>i</sub>.\n",
    "\n",
    "From the formula we can see that the coefficient ($\\beta$) scales the variables (X): the coefficients emphasize or reduce the impact of a given feature and thus we can derive relative importance from the coefficients."
   ]
  },
  {
   "cell_type": "code",
   "execution_count": 20,
   "metadata": {},
   "outputs": [
    {
     "data": {
      "text/html": [
       "<table style=\"display:inline\" border=\"1\" class=\"dataframe\">\n",
       "  <thead>\n",
       "    <tr style=\"text-align: right;\">\n",
       "      <th></th>\n",
       "      <th>LR_Org</th>\n",
       "    </tr>\n",
       "  </thead>\n",
       "  <tbody>\n",
       "    <tr>\n",
       "      <th>sex</th>\n",
       "      <td>10.864849</td>\n",
       "    </tr>\n",
       "    <tr>\n",
       "      <th>smoker_status_former</th>\n",
       "      <td>3.329839</td>\n",
       "    </tr>\n",
       "    <tr>\n",
       "      <th>smoker_status_never</th>\n",
       "      <td>3.101885</td>\n",
       "    </tr>\n",
       "    <tr>\n",
       "      <th>mil_ischemia</th>\n",
       "      <td>1.894495</td>\n",
       "    </tr>\n",
       "    <tr>\n",
       "      <th>lvef</th>\n",
       "      <td>1.755295</td>\n",
       "    </tr>\n",
       "  </tbody>\n",
       "</table style=\"display:inline\"><table style=\"display:inline\" border=\"1\" class=\"dataframe\">\n",
       "  <thead>\n",
       "    <tr style=\"text-align: right;\">\n",
       "      <th></th>\n",
       "      <th>LR_Org</th>\n",
       "    </tr>\n",
       "  </thead>\n",
       "  <tbody>\n",
       "    <tr>\n",
       "      <th>mas_ischemia</th>\n",
       "      <td>-1.323619</td>\n",
       "    </tr>\n",
       "    <tr>\n",
       "      <th>hyperlipidemia</th>\n",
       "      <td>-1.667128</td>\n",
       "    </tr>\n",
       "    <tr>\n",
       "      <th>al_ischemia</th>\n",
       "      <td>-1.739566</td>\n",
       "    </tr>\n",
       "    <tr>\n",
       "      <th>ba_ischemia</th>\n",
       "      <td>-2.837152</td>\n",
       "    </tr>\n",
       "    <tr>\n",
       "      <th>bas_he</th>\n",
       "      <td>-3.040015</td>\n",
       "    </tr>\n",
       "  </tbody>\n",
       "</table style=\"display:inline\">"
      ]
     },
     "metadata": {},
     "output_type": "display_data"
    }
   ],
   "source": [
    "# Creating a dataframe makes looking the coefficients easier\n",
    "\n",
    "lr_org = pd.DataFrame(data    = lr.coef_,\n",
    "                      index   = X_test.columns,\n",
    "                      columns = [\"LR_Org\"])\n",
    "\n",
    "# Sorting for the head and tail five coefficients\n",
    "\n",
    "head = lr_org.sort_values(by = \"LR_Org\", ascending = False).head()\n",
    "tail = lr_org.sort_values(by = \"LR_Org\", ascending = False).tail()\n",
    "\n",
    "display_side_by_side(head, tail)"
   ]
  },
  {
   "cell_type": "markdown",
   "metadata": {},
   "source": [
    "Displaying the heads and tails displays showed us the strongest and weakest coefficients as determined during the modeling process.\n",
    "\n",
    "We found it interesting that `smoker_status_never` was one of the strongest coefficients because smoking is such a serious risk factor for all kinds of heart disease."
   ]
  },
  {
   "cell_type": "markdown",
   "metadata": {},
   "source": [
    "#### Engineered Subset"
   ]
  },
  {
   "cell_type": "markdown",
   "metadata": {},
   "source": [
    "The engineered subset is the dataframe but with the features we engineered instead of the original 34 segmental features."
   ]
  },
  {
   "cell_type": "code",
   "execution_count": 21,
   "metadata": {},
   "outputs": [],
   "source": [
    "# Instantiating the linear model\n",
    "\n",
    "lr_2 = LinearRegression()"
   ]
  },
  {
   "cell_type": "code",
   "execution_count": 22,
   "metadata": {},
   "outputs": [],
   "source": [
    "# Fitting the linear regression to the subset with the features we engineered\n",
    "\n",
    "lr_2.fit(X_train_eng, y_train_eng);"
   ]
  },
  {
   "cell_type": "code",
   "execution_count": 23,
   "metadata": {},
   "outputs": [],
   "source": [
    "# Generating predictions for the training set\n",
    "\n",
    "train_preds = lr_2.predict(X_train_eng)\n",
    "\n",
    "# Generating my predictions for the testing set\n",
    "\n",
    "lr_2_preds  = lr_2.predict(X_test_eng)"
   ]
  },
  {
   "cell_type": "code",
   "execution_count": 24,
   "metadata": {},
   "outputs": [
    {
     "data": {
      "text/html": [
       "<div>\n",
       "<style scoped>\n",
       "    .dataframe tbody tr th:only-of-type {\n",
       "        vertical-align: middle;\n",
       "    }\n",
       "\n",
       "    .dataframe tbody tr th {\n",
       "        vertical-align: top;\n",
       "    }\n",
       "\n",
       "    .dataframe thead th {\n",
       "        text-align: right;\n",
       "    }\n",
       "</style>\n",
       "<table border=\"1\" class=\"dataframe\">\n",
       "  <thead>\n",
       "    <tr style=\"text-align: right;\">\n",
       "      <th></th>\n",
       "      <th>Scores</th>\n",
       "    </tr>\n",
       "  </thead>\n",
       "  <tbody>\n",
       "    <tr>\n",
       "      <th>RMSE</th>\n",
       "      <td>23.306992</td>\n",
       "    </tr>\n",
       "    <tr>\n",
       "      <th>MAE</th>\n",
       "      <td>14.592137</td>\n",
       "    </tr>\n",
       "    <tr>\n",
       "      <th>R2</th>\n",
       "      <td>0.850536</td>\n",
       "    </tr>\n",
       "    <tr>\n",
       "      <th>Adj. R2</th>\n",
       "      <td>0.849912</td>\n",
       "    </tr>\n",
       "  </tbody>\n",
       "</table>\n",
       "</div>"
      ],
      "text/plain": [
       "            Scores\n",
       "RMSE     23.306992\n",
       "MAE      14.592137\n",
       "R2        0.850536\n",
       "Adj. R2   0.849912"
      ]
     },
     "execution_count": 24,
     "metadata": {},
     "output_type": "execute_result"
    }
   ],
   "source": [
    "metrics.regression_summary_adjr2(X_train_eng, y_train_eng, train_preds)"
   ]
  },
  {
   "cell_type": "code",
   "execution_count": 25,
   "metadata": {},
   "outputs": [
    {
     "data": {
      "text/html": [
       "<div>\n",
       "<style scoped>\n",
       "    .dataframe tbody tr th:only-of-type {\n",
       "        vertical-align: middle;\n",
       "    }\n",
       "\n",
       "    .dataframe tbody tr th {\n",
       "        vertical-align: top;\n",
       "    }\n",
       "\n",
       "    .dataframe thead th {\n",
       "        text-align: right;\n",
       "    }\n",
       "</style>\n",
       "<table border=\"1\" class=\"dataframe\">\n",
       "  <thead>\n",
       "    <tr style=\"text-align: right;\">\n",
       "      <th></th>\n",
       "      <th>Scores</th>\n",
       "    </tr>\n",
       "  </thead>\n",
       "  <tbody>\n",
       "    <tr>\n",
       "      <th>RMSE</th>\n",
       "      <td>23.111113</td>\n",
       "    </tr>\n",
       "    <tr>\n",
       "      <th>MAE</th>\n",
       "      <td>15.234990</td>\n",
       "    </tr>\n",
       "    <tr>\n",
       "      <th>R2</th>\n",
       "      <td>0.866625</td>\n",
       "    </tr>\n",
       "    <tr>\n",
       "      <th>Adj. R2</th>\n",
       "      <td>0.864941</td>\n",
       "    </tr>\n",
       "  </tbody>\n",
       "</table>\n",
       "</div>"
      ],
      "text/plain": [
       "            Scores\n",
       "RMSE     23.111113\n",
       "MAE      15.234990\n",
       "R2        0.866625\n",
       "Adj. R2   0.864941"
      ]
     },
     "execution_count": 25,
     "metadata": {},
     "output_type": "execute_result"
    }
   ],
   "source": [
    "metrics.regression_summary_adjr2(X_test_eng, y_test_eng, lr_2_preds)"
   ]
  },
  {
   "cell_type": "markdown",
   "metadata": {},
   "source": [
    "The scores for the engineered subset are worse than for the original features, but they were still very consistent across the train and test. This was firm evidence for us that a linear type model is a good way to approach the data, so we will continue with linear models."
   ]
  },
  {
   "cell_type": "code",
   "execution_count": 26,
   "metadata": {},
   "outputs": [
    {
     "data": {
      "text/html": [
       "<table style=\"display:inline\" border=\"1\" class=\"dataframe\">\n",
       "  <thead>\n",
       "    <tr style=\"text-align: right;\">\n",
       "      <th></th>\n",
       "      <th>LR_Eng</th>\n",
       "    </tr>\n",
       "  </thead>\n",
       "  <tbody>\n",
       "    <tr>\n",
       "      <th>lvesv_log</th>\n",
       "      <td>129.015341</td>\n",
       "    </tr>\n",
       "    <tr>\n",
       "      <th>mitral_reg</th>\n",
       "      <td>5.307152</td>\n",
       "    </tr>\n",
       "    <tr>\n",
       "      <th>lvef</th>\n",
       "      <td>2.253598</td>\n",
       "    </tr>\n",
       "    <tr>\n",
       "      <th>hypertension</th>\n",
       "      <td>2.104900</td>\n",
       "    </tr>\n",
       "    <tr>\n",
       "      <th>lv_wall_thickness</th>\n",
       "      <td>2.094055</td>\n",
       "    </tr>\n",
       "  </tbody>\n",
       "</table style=\"display:inline\"><table style=\"display:inline\" border=\"1\" class=\"dataframe\">\n",
       "  <thead>\n",
       "    <tr style=\"text-align: right;\">\n",
       "      <th></th>\n",
       "      <th>LR_Eng</th>\n",
       "    </tr>\n",
       "  </thead>\n",
       "  <tbody>\n",
       "    <tr>\n",
       "      <th>basal_he</th>\n",
       "      <td>-0.205841</td>\n",
       "    </tr>\n",
       "    <tr>\n",
       "      <th>smoker_status_never</th>\n",
       "      <td>-1.111246</td>\n",
       "    </tr>\n",
       "    <tr>\n",
       "      <th>diabetes</th>\n",
       "      <td>-1.244056</td>\n",
       "    </tr>\n",
       "    <tr>\n",
       "      <th>mid_ischemia</th>\n",
       "      <td>-1.261124</td>\n",
       "    </tr>\n",
       "    <tr>\n",
       "      <th>smoker_status_former</th>\n",
       "      <td>-2.031060</td>\n",
       "    </tr>\n",
       "  </tbody>\n",
       "</table style=\"display:inline\">"
      ]
     },
     "metadata": {},
     "output_type": "display_data"
    }
   ],
   "source": [
    "# It is easier to view the coefficients in a df\n",
    "\n",
    "lr_eng = pd.DataFrame(data    = lr_2.coef_,\n",
    "                      index   = X_test_eng.columns,\n",
    "                      columns = [\"LR_Eng\"])\n",
    "\n",
    "# Masking the head and tail five\n",
    "\n",
    "head = lr_eng.sort_values(by = \"LR_Eng\", ascending = False).head(5)\n",
    "tail = lr_eng.sort_values(by = \"LR_Eng\", ascending = False).tail(5)\n",
    "\n",
    "display_side_by_side(head,tail)"
   ]
  },
  {
   "cell_type": "markdown",
   "metadata": {},
   "source": [
    "We were surprised how much different these coefficients were than the ones for the original features.  In particular, we were surprised by the sheer magnitude of the `lvesv_log` column but considering the relationship between ESV and EDV it's not surprising."
   ]
  },
  {
   "cell_type": "markdown",
   "metadata": {},
   "source": [
    "[Top](#Table-Of-Contents)"
   ]
  },
  {
   "cell_type": "markdown",
   "metadata": {},
   "source": [
    "### Ridge"
   ]
  },
  {
   "cell_type": "markdown",
   "metadata": {},
   "source": [
    "Ridge regression works by imposing a penalty on the coefficients: it uses the $\\ell$<sub>2</sub> regularization which shrinks them towards 0 and effectively removes features without actually doing so and reduces the overall complexity.\n",
    "\n",
    "\n",
    "Because the features can be so strongly affected by the regularization it is important to have them all be on the same scale; this was done earlier with `StandardScaler`."
   ]
  },
  {
   "cell_type": "markdown",
   "metadata": {},
   "source": [
    "#### Original Set"
   ]
  },
  {
   "cell_type": "code",
   "execution_count": 27,
   "metadata": {},
   "outputs": [],
   "source": [
    "# Instantiating the ridge model\n",
    "\n",
    "ridge = RidgeCV()"
   ]
  },
  {
   "cell_type": "code",
   "execution_count": 28,
   "metadata": {},
   "outputs": [],
   "source": [
    "# Fitting the ridge model to the training data\n",
    "\n",
    "ridge.fit(X_train_ss, y_train);"
   ]
  },
  {
   "cell_type": "code",
   "execution_count": 29,
   "metadata": {},
   "outputs": [],
   "source": [
    "# Generating predictions for the training set\n",
    "\n",
    "train_preds = ridge.predict(X_train_ss)\n",
    "\n",
    "# Generating Predictions for the testing set\n",
    "\n",
    "ridge_preds = ridge.predict(X_test_ss)"
   ]
  },
  {
   "cell_type": "markdown",
   "metadata": {},
   "source": [
    "Because the RidgeCV and following models use scaled data, they lose the feature columns and instead use arrays of data.  For this reason, an adjusted R<sup>2</sup> cannot be used."
   ]
  },
  {
   "cell_type": "code",
   "execution_count": 30,
   "metadata": {},
   "outputs": [
    {
     "data": {
      "text/html": [
       "<div>\n",
       "<style scoped>\n",
       "    .dataframe tbody tr th:only-of-type {\n",
       "        vertical-align: middle;\n",
       "    }\n",
       "\n",
       "    .dataframe tbody tr th {\n",
       "        vertical-align: top;\n",
       "    }\n",
       "\n",
       "    .dataframe thead th {\n",
       "        text-align: right;\n",
       "    }\n",
       "</style>\n",
       "<table border=\"1\" class=\"dataframe\">\n",
       "  <thead>\n",
       "    <tr style=\"text-align: right;\">\n",
       "      <th></th>\n",
       "      <th>Score</th>\n",
       "    </tr>\n",
       "  </thead>\n",
       "  <tbody>\n",
       "    <tr>\n",
       "      <th>RMSE</th>\n",
       "      <td>16.420406</td>\n",
       "    </tr>\n",
       "    <tr>\n",
       "      <th>MAE</th>\n",
       "      <td>12.115056</td>\n",
       "    </tr>\n",
       "    <tr>\n",
       "      <th>R2</th>\n",
       "      <td>0.925812</td>\n",
       "    </tr>\n",
       "  </tbody>\n",
       "</table>\n",
       "</div>"
      ],
      "text/plain": [
       "          Score\n",
       "RMSE  16.420406\n",
       "MAE   12.115056\n",
       "R2     0.925812"
      ]
     },
     "execution_count": 30,
     "metadata": {},
     "output_type": "execute_result"
    }
   ],
   "source": [
    "metrics.regression_summary(y_train, train_preds)"
   ]
  },
  {
   "cell_type": "code",
   "execution_count": 31,
   "metadata": {},
   "outputs": [
    {
     "data": {
      "text/html": [
       "<div>\n",
       "<style scoped>\n",
       "    .dataframe tbody tr th:only-of-type {\n",
       "        vertical-align: middle;\n",
       "    }\n",
       "\n",
       "    .dataframe tbody tr th {\n",
       "        vertical-align: top;\n",
       "    }\n",
       "\n",
       "    .dataframe thead th {\n",
       "        text-align: right;\n",
       "    }\n",
       "</style>\n",
       "<table border=\"1\" class=\"dataframe\">\n",
       "  <thead>\n",
       "    <tr style=\"text-align: right;\">\n",
       "      <th></th>\n",
       "      <th>Score</th>\n",
       "    </tr>\n",
       "  </thead>\n",
       "  <tbody>\n",
       "    <tr>\n",
       "      <th>RMSE</th>\n",
       "      <td>17.462780</td>\n",
       "    </tr>\n",
       "    <tr>\n",
       "      <th>MAE</th>\n",
       "      <td>12.933571</td>\n",
       "    </tr>\n",
       "    <tr>\n",
       "      <th>R2</th>\n",
       "      <td>0.923852</td>\n",
       "    </tr>\n",
       "  </tbody>\n",
       "</table>\n",
       "</div>"
      ],
      "text/plain": [
       "          Score\n",
       "RMSE  17.462780\n",
       "MAE   12.933571\n",
       "R2     0.923852"
      ]
     },
     "execution_count": 31,
     "metadata": {},
     "output_type": "execute_result"
    }
   ],
   "source": [
    "metrics.regression_summary(y_test, ridge_preds)"
   ]
  },
  {
   "cell_type": "markdown",
   "metadata": {},
   "source": [
    "This Ridge model's performance is very similar to the linear model's performance which was surprising to us because we had expected the regularization to improve its performance."
   ]
  },
  {
   "cell_type": "markdown",
   "metadata": {},
   "source": [
    "#### Engineered Subset"
   ]
  },
  {
   "cell_type": "code",
   "execution_count": 32,
   "metadata": {},
   "outputs": [],
   "source": [
    "# Instantiating the ridge model\n",
    "\n",
    "ridge_2 = RidgeCV()"
   ]
  },
  {
   "cell_type": "code",
   "execution_count": 33,
   "metadata": {},
   "outputs": [],
   "source": [
    "# Fitting the ridge model to the data with engineered features.\n",
    "\n",
    "ridge_2.fit(X_train_eng_ss, y_train_eng);"
   ]
  },
  {
   "cell_type": "code",
   "execution_count": 34,
   "metadata": {},
   "outputs": [],
   "source": [
    "# Generating predictions for the training data\n",
    "\n",
    "train_preds = ridge_2.predict(X_train_eng_ss)\n",
    "\n",
    "# Generating predictions for the test data\n",
    "\n",
    "ridge_2_preds = ridge_2.predict(X_test_eng_ss)"
   ]
  },
  {
   "cell_type": "code",
   "execution_count": 35,
   "metadata": {},
   "outputs": [
    {
     "data": {
      "text/html": [
       "<div>\n",
       "<style scoped>\n",
       "    .dataframe tbody tr th:only-of-type {\n",
       "        vertical-align: middle;\n",
       "    }\n",
       "\n",
       "    .dataframe tbody tr th {\n",
       "        vertical-align: top;\n",
       "    }\n",
       "\n",
       "    .dataframe thead th {\n",
       "        text-align: right;\n",
       "    }\n",
       "</style>\n",
       "<table border=\"1\" class=\"dataframe\">\n",
       "  <thead>\n",
       "    <tr style=\"text-align: right;\">\n",
       "      <th></th>\n",
       "      <th>Score</th>\n",
       "    </tr>\n",
       "  </thead>\n",
       "  <tbody>\n",
       "    <tr>\n",
       "      <th>RMSE</th>\n",
       "      <td>23.307037</td>\n",
       "    </tr>\n",
       "    <tr>\n",
       "      <th>MAE</th>\n",
       "      <td>14.594379</td>\n",
       "    </tr>\n",
       "    <tr>\n",
       "      <th>R2</th>\n",
       "      <td>0.850536</td>\n",
       "    </tr>\n",
       "  </tbody>\n",
       "</table>\n",
       "</div>"
      ],
      "text/plain": [
       "          Score\n",
       "RMSE  23.307037\n",
       "MAE   14.594379\n",
       "R2     0.850536"
      ]
     },
     "execution_count": 35,
     "metadata": {},
     "output_type": "execute_result"
    }
   ],
   "source": [
    "metrics.regression_summary(y_train_eng, train_preds)"
   ]
  },
  {
   "cell_type": "code",
   "execution_count": 36,
   "metadata": {},
   "outputs": [
    {
     "data": {
      "text/html": [
       "<div>\n",
       "<style scoped>\n",
       "    .dataframe tbody tr th:only-of-type {\n",
       "        vertical-align: middle;\n",
       "    }\n",
       "\n",
       "    .dataframe tbody tr th {\n",
       "        vertical-align: top;\n",
       "    }\n",
       "\n",
       "    .dataframe thead th {\n",
       "        text-align: right;\n",
       "    }\n",
       "</style>\n",
       "<table border=\"1\" class=\"dataframe\">\n",
       "  <thead>\n",
       "    <tr style=\"text-align: right;\">\n",
       "      <th></th>\n",
       "      <th>Score</th>\n",
       "    </tr>\n",
       "  </thead>\n",
       "  <tbody>\n",
       "    <tr>\n",
       "      <th>RMSE</th>\n",
       "      <td>23.112857</td>\n",
       "    </tr>\n",
       "    <tr>\n",
       "      <th>MAE</th>\n",
       "      <td>15.236579</td>\n",
       "    </tr>\n",
       "    <tr>\n",
       "      <th>R2</th>\n",
       "      <td>0.866604</td>\n",
       "    </tr>\n",
       "  </tbody>\n",
       "</table>\n",
       "</div>"
      ],
      "text/plain": [
       "          Score\n",
       "RMSE  23.112857\n",
       "MAE   15.236579\n",
       "R2     0.866604"
      ]
     },
     "execution_count": 36,
     "metadata": {},
     "output_type": "execute_result"
    }
   ],
   "source": [
    "metrics.regression_summary(y_test_eng, ridge_2_preds)"
   ]
  },
  {
   "cell_type": "markdown",
   "metadata": {},
   "source": [
    "We were not really surprised that the Ridge model with engineered features performed worse, but the models have been continually consistent so far."
   ]
  },
  {
   "cell_type": "markdown",
   "metadata": {},
   "source": [
    "[Top](#Table-Of-Contents)"
   ]
  },
  {
   "cell_type": "markdown",
   "metadata": {},
   "source": [
    "### LASSO"
   ]
  },
  {
   "cell_type": "markdown",
   "metadata": {},
   "source": [
    "LASSO (Least Absolute Shrinkage and Selection Operator) is conceptually similar to Ridge in that it penalizes coefficients, but it uses $\\ell$<sub>2</sub> regularization which actually reduces the coefficients of unimportant features to exactly 0.\n",
    "\n",
    "LASSO also needs to have the features on the same scale."
   ]
  },
  {
   "cell_type": "markdown",
   "metadata": {},
   "source": [
    "#### Original Set"
   ]
  },
  {
   "cell_type": "code",
   "execution_count": 37,
   "metadata": {},
   "outputs": [],
   "source": [
    "# Instantiating the LASSO model\n",
    "\n",
    "lasso = LassoCV()"
   ]
  },
  {
   "cell_type": "code",
   "execution_count": 38,
   "metadata": {},
   "outputs": [
    {
     "name": "stderr",
     "output_type": "stream",
     "text": [
      "C:\\Users\\andre\\Anaconda3\\lib\\site-packages\\sklearn\\model_selection\\_split.py:1978: FutureWarning: The default value of cv will change from 3 to 5 in version 0.22. Specify it explicitly to silence this warning.\n",
      "  warnings.warn(CV_WARNING, FutureWarning)\n"
     ]
    }
   ],
   "source": [
    "# Fitting the lasso to my training data without engineered features\n",
    "\n",
    "lasso.fit(X_train_ss, y_train);\n",
    "\n",
    "# The warning is a future warning, nothing serious"
   ]
  },
  {
   "cell_type": "code",
   "execution_count": 39,
   "metadata": {},
   "outputs": [],
   "source": [
    "# Generating predictions for the training data\n",
    "\n",
    "train_preds = lasso.predict(X_train_ss)\n",
    "\n",
    "# Generating predictions for the testing data\n",
    "\n",
    "lasso_preds = lasso.predict(X_test_ss)"
   ]
  },
  {
   "cell_type": "code",
   "execution_count": 40,
   "metadata": {},
   "outputs": [
    {
     "data": {
      "text/html": [
       "<div>\n",
       "<style scoped>\n",
       "    .dataframe tbody tr th:only-of-type {\n",
       "        vertical-align: middle;\n",
       "    }\n",
       "\n",
       "    .dataframe tbody tr th {\n",
       "        vertical-align: top;\n",
       "    }\n",
       "\n",
       "    .dataframe thead th {\n",
       "        text-align: right;\n",
       "    }\n",
       "</style>\n",
       "<table border=\"1\" class=\"dataframe\">\n",
       "  <thead>\n",
       "    <tr style=\"text-align: right;\">\n",
       "      <th></th>\n",
       "      <th>Score</th>\n",
       "    </tr>\n",
       "  </thead>\n",
       "  <tbody>\n",
       "    <tr>\n",
       "      <th>RMSE</th>\n",
       "      <td>16.464926</td>\n",
       "    </tr>\n",
       "    <tr>\n",
       "      <th>MAE</th>\n",
       "      <td>12.132530</td>\n",
       "    </tr>\n",
       "    <tr>\n",
       "      <th>R2</th>\n",
       "      <td>0.925410</td>\n",
       "    </tr>\n",
       "  </tbody>\n",
       "</table>\n",
       "</div>"
      ],
      "text/plain": [
       "          Score\n",
       "RMSE  16.464926\n",
       "MAE   12.132530\n",
       "R2     0.925410"
      ]
     },
     "execution_count": 40,
     "metadata": {},
     "output_type": "execute_result"
    }
   ],
   "source": [
    "metrics.regression_summary(y_train, train_preds)"
   ]
  },
  {
   "cell_type": "code",
   "execution_count": 41,
   "metadata": {},
   "outputs": [
    {
     "data": {
      "text/html": [
       "<div>\n",
       "<style scoped>\n",
       "    .dataframe tbody tr th:only-of-type {\n",
       "        vertical-align: middle;\n",
       "    }\n",
       "\n",
       "    .dataframe tbody tr th {\n",
       "        vertical-align: top;\n",
       "    }\n",
       "\n",
       "    .dataframe thead th {\n",
       "        text-align: right;\n",
       "    }\n",
       "</style>\n",
       "<table border=\"1\" class=\"dataframe\">\n",
       "  <thead>\n",
       "    <tr style=\"text-align: right;\">\n",
       "      <th></th>\n",
       "      <th>Score</th>\n",
       "    </tr>\n",
       "  </thead>\n",
       "  <tbody>\n",
       "    <tr>\n",
       "      <th>RMSE</th>\n",
       "      <td>17.452842</td>\n",
       "    </tr>\n",
       "    <tr>\n",
       "      <th>MAE</th>\n",
       "      <td>12.939964</td>\n",
       "    </tr>\n",
       "    <tr>\n",
       "      <th>R2</th>\n",
       "      <td>0.923938</td>\n",
       "    </tr>\n",
       "  </tbody>\n",
       "</table>\n",
       "</div>"
      ],
      "text/plain": [
       "          Score\n",
       "RMSE  17.452842\n",
       "MAE   12.939964\n",
       "R2     0.923938"
      ]
     },
     "execution_count": 41,
     "metadata": {},
     "output_type": "execute_result"
    }
   ],
   "source": [
    "metrics.regression_summary(y_test, lasso_preds)"
   ]
  },
  {
   "cell_type": "markdown",
   "metadata": {},
   "source": [
    "The scores are very similar to the previous models, which we found surprising because Lasso uses a different regularization method."
   ]
  },
  {
   "cell_type": "markdown",
   "metadata": {},
   "source": [
    "#### Engineered Subset"
   ]
  },
  {
   "cell_type": "code",
   "execution_count": 42,
   "metadata": {},
   "outputs": [],
   "source": [
    "# Instantiating the lasso model\n",
    "\n",
    "lasso_2 = LassoCV()"
   ]
  },
  {
   "cell_type": "code",
   "execution_count": 43,
   "metadata": {},
   "outputs": [
    {
     "name": "stderr",
     "output_type": "stream",
     "text": [
      "C:\\Users\\andre\\Anaconda3\\lib\\site-packages\\sklearn\\model_selection\\_split.py:1978: FutureWarning: The default value of cv will change from 3 to 5 in version 0.22. Specify it explicitly to silence this warning.\n",
      "  warnings.warn(CV_WARNING, FutureWarning)\n"
     ]
    }
   ],
   "source": [
    "# Fitting the lasso to my training data with engineered features\n",
    "\n",
    "lasso_2.fit(X_train_eng_ss, y_train_eng);\n",
    "\n",
    "# The warning is a future warning, nothing serious"
   ]
  },
  {
   "cell_type": "code",
   "execution_count": 44,
   "metadata": {},
   "outputs": [],
   "source": [
    "# Generating predictions for the training data\n",
    "\n",
    "train_preds = lasso_2.predict(X_train_eng_ss)\n",
    "\n",
    "# Generating predictions for the testing data\n",
    "\n",
    "lasso_2_preds = lasso_2.predict(X_test_eng_ss)"
   ]
  },
  {
   "cell_type": "code",
   "execution_count": 45,
   "metadata": {},
   "outputs": [
    {
     "data": {
      "text/html": [
       "<div>\n",
       "<style scoped>\n",
       "    .dataframe tbody tr th:only-of-type {\n",
       "        vertical-align: middle;\n",
       "    }\n",
       "\n",
       "    .dataframe tbody tr th {\n",
       "        vertical-align: top;\n",
       "    }\n",
       "\n",
       "    .dataframe thead th {\n",
       "        text-align: right;\n",
       "    }\n",
       "</style>\n",
       "<table border=\"1\" class=\"dataframe\">\n",
       "  <thead>\n",
       "    <tr style=\"text-align: right;\">\n",
       "      <th></th>\n",
       "      <th>Score</th>\n",
       "    </tr>\n",
       "  </thead>\n",
       "  <tbody>\n",
       "    <tr>\n",
       "      <th>RMSE</th>\n",
       "      <td>23.332976</td>\n",
       "    </tr>\n",
       "    <tr>\n",
       "      <th>MAE</th>\n",
       "      <td>14.649484</td>\n",
       "    </tr>\n",
       "    <tr>\n",
       "      <th>R2</th>\n",
       "      <td>0.850203</td>\n",
       "    </tr>\n",
       "  </tbody>\n",
       "</table>\n",
       "</div>"
      ],
      "text/plain": [
       "          Score\n",
       "RMSE  23.332976\n",
       "MAE   14.649484\n",
       "R2     0.850203"
      ]
     },
     "execution_count": 45,
     "metadata": {},
     "output_type": "execute_result"
    }
   ],
   "source": [
    "metrics.regression_summary(y_train_eng, train_preds)"
   ]
  },
  {
   "cell_type": "code",
   "execution_count": 46,
   "metadata": {},
   "outputs": [
    {
     "data": {
      "text/html": [
       "<div>\n",
       "<style scoped>\n",
       "    .dataframe tbody tr th:only-of-type {\n",
       "        vertical-align: middle;\n",
       "    }\n",
       "\n",
       "    .dataframe tbody tr th {\n",
       "        vertical-align: top;\n",
       "    }\n",
       "\n",
       "    .dataframe thead th {\n",
       "        text-align: right;\n",
       "    }\n",
       "</style>\n",
       "<table border=\"1\" class=\"dataframe\">\n",
       "  <thead>\n",
       "    <tr style=\"text-align: right;\">\n",
       "      <th></th>\n",
       "      <th>Score</th>\n",
       "    </tr>\n",
       "  </thead>\n",
       "  <tbody>\n",
       "    <tr>\n",
       "      <th>RMSE</th>\n",
       "      <td>23.166185</td>\n",
       "    </tr>\n",
       "    <tr>\n",
       "      <th>MAE</th>\n",
       "      <td>15.294186</td>\n",
       "    </tr>\n",
       "    <tr>\n",
       "      <th>R2</th>\n",
       "      <td>0.865988</td>\n",
       "    </tr>\n",
       "  </tbody>\n",
       "</table>\n",
       "</div>"
      ],
      "text/plain": [
       "          Score\n",
       "RMSE  23.166185\n",
       "MAE   15.294186\n",
       "R2     0.865988"
      ]
     },
     "execution_count": 46,
     "metadata": {},
     "output_type": "execute_result"
    }
   ],
   "source": [
    "metrics.regression_summary(y_test_eng, lasso_2_preds)"
   ]
  },
  {
   "cell_type": "markdown",
   "metadata": {},
   "source": [
    "We were not surprised that the model with engineered features was better given that none of the previous models with the engineered features outperformed the original features."
   ]
  },
  {
   "cell_type": "markdown",
   "metadata": {},
   "source": [
    "[Top](#Table-Of-Contents)"
   ]
  },
  {
   "cell_type": "markdown",
   "metadata": {},
   "source": [
    "### ElasticNetCV"
   ]
  },
  {
   "cell_type": "markdown",
   "metadata": {},
   "source": [
    "An ElasticNet is similar to both Ridge _and_ LASSO models: it is a compromise between the $\\ell$<sub>1</sub> and $\\ell$<sub>2</sub> regularization methods.  In practice the model drives down non-significant features but does not remove them entirely.\n",
    "\n",
    "Like the Ridge and LASSO models, an ElasticNet needs to have the data be on the same scale."
   ]
  },
  {
   "cell_type": "markdown",
   "metadata": {},
   "source": [
    "#### Original Set"
   ]
  },
  {
   "cell_type": "code",
   "execution_count": 47,
   "metadata": {},
   "outputs": [],
   "source": [
    "# Instantiating the model\n",
    "\n",
    "enet = ElasticNetCV()"
   ]
  },
  {
   "cell_type": "code",
   "execution_count": 48,
   "metadata": {},
   "outputs": [
    {
     "name": "stderr",
     "output_type": "stream",
     "text": [
      "C:\\Users\\andre\\Anaconda3\\lib\\site-packages\\sklearn\\model_selection\\_split.py:1978: FutureWarning: The default value of cv will change from 3 to 5 in version 0.22. Specify it explicitly to silence this warning.\n",
      "  warnings.warn(CV_WARNING, FutureWarning)\n"
     ]
    }
   ],
   "source": [
    "# Fitting the model to the original data set\n",
    "\n",
    "enet.fit(X_train_ss, y_train);\n",
    "\n",
    "# The warning is a future warning, nothing serious"
   ]
  },
  {
   "cell_type": "code",
   "execution_count": 49,
   "metadata": {},
   "outputs": [],
   "source": [
    "# Generating training predictions\n",
    "\n",
    "train_preds = enet.predict(X_train_ss)\n",
    "\n",
    "# Generating testing predictions\n",
    "\n",
    "enet_preds  = enet.predict(X_test_ss)"
   ]
  },
  {
   "cell_type": "code",
   "execution_count": 50,
   "metadata": {},
   "outputs": [
    {
     "data": {
      "text/html": [
       "<div>\n",
       "<style scoped>\n",
       "    .dataframe tbody tr th:only-of-type {\n",
       "        vertical-align: middle;\n",
       "    }\n",
       "\n",
       "    .dataframe tbody tr th {\n",
       "        vertical-align: top;\n",
       "    }\n",
       "\n",
       "    .dataframe thead th {\n",
       "        text-align: right;\n",
       "    }\n",
       "</style>\n",
       "<table border=\"1\" class=\"dataframe\">\n",
       "  <thead>\n",
       "    <tr style=\"text-align: right;\">\n",
       "      <th></th>\n",
       "      <th>Score</th>\n",
       "    </tr>\n",
       "  </thead>\n",
       "  <tbody>\n",
       "    <tr>\n",
       "      <th>RMSE</th>\n",
       "      <td>18.005266</td>\n",
       "    </tr>\n",
       "    <tr>\n",
       "      <th>MAE</th>\n",
       "      <td>13.804344</td>\n",
       "    </tr>\n",
       "    <tr>\n",
       "      <th>R2</th>\n",
       "      <td>0.910800</td>\n",
       "    </tr>\n",
       "  </tbody>\n",
       "</table>\n",
       "</div>"
      ],
      "text/plain": [
       "          Score\n",
       "RMSE  18.005266\n",
       "MAE   13.804344\n",
       "R2     0.910800"
      ]
     },
     "execution_count": 50,
     "metadata": {},
     "output_type": "execute_result"
    }
   ],
   "source": [
    "metrics.regression_summary(y_train, train_preds)"
   ]
  },
  {
   "cell_type": "code",
   "execution_count": 51,
   "metadata": {},
   "outputs": [
    {
     "data": {
      "text/html": [
       "<div>\n",
       "<style scoped>\n",
       "    .dataframe tbody tr th:only-of-type {\n",
       "        vertical-align: middle;\n",
       "    }\n",
       "\n",
       "    .dataframe tbody tr th {\n",
       "        vertical-align: top;\n",
       "    }\n",
       "\n",
       "    .dataframe thead th {\n",
       "        text-align: right;\n",
       "    }\n",
       "</style>\n",
       "<table border=\"1\" class=\"dataframe\">\n",
       "  <thead>\n",
       "    <tr style=\"text-align: right;\">\n",
       "      <th></th>\n",
       "      <th>Score</th>\n",
       "    </tr>\n",
       "  </thead>\n",
       "  <tbody>\n",
       "    <tr>\n",
       "      <th>RMSE</th>\n",
       "      <td>18.718252</td>\n",
       "    </tr>\n",
       "    <tr>\n",
       "      <th>MAE</th>\n",
       "      <td>14.381574</td>\n",
       "    </tr>\n",
       "    <tr>\n",
       "      <th>R2</th>\n",
       "      <td>0.912509</td>\n",
       "    </tr>\n",
       "  </tbody>\n",
       "</table>\n",
       "</div>"
      ],
      "text/plain": [
       "          Score\n",
       "RMSE  18.718252\n",
       "MAE   14.381574\n",
       "R2     0.912509"
      ]
     },
     "execution_count": 51,
     "metadata": {},
     "output_type": "execute_result"
    }
   ],
   "source": [
    "metrics.regression_summary(y_test, enet_preds)"
   ]
  },
  {
   "cell_type": "markdown",
   "metadata": {},
   "source": [
    "We were surprised that the ElasticNet performed worse because it is a method that balance both regularization methods and we had assumed that would increase the performance.  However, the model's scores are still very consistent which is good."
   ]
  },
  {
   "cell_type": "markdown",
   "metadata": {},
   "source": [
    "#### Engineered Subset"
   ]
  },
  {
   "cell_type": "code",
   "execution_count": 52,
   "metadata": {},
   "outputs": [],
   "source": [
    "# Instantiatig the model\n",
    "\n",
    "enet_2 = ElasticNetCV()"
   ]
  },
  {
   "cell_type": "code",
   "execution_count": 53,
   "metadata": {},
   "outputs": [
    {
     "name": "stderr",
     "output_type": "stream",
     "text": [
      "C:\\Users\\andre\\Anaconda3\\lib\\site-packages\\sklearn\\model_selection\\_split.py:1978: FutureWarning: The default value of cv will change from 3 to 5 in version 0.22. Specify it explicitly to silence this warning.\n",
      "  warnings.warn(CV_WARNING, FutureWarning)\n"
     ]
    }
   ],
   "source": [
    "# Fitting the model to the data with engineered features\n",
    "\n",
    "enet_2.fit(X_train_eng_ss, y_train_eng);\n",
    "\n",
    "# The warning is a future warning, nothing serious"
   ]
  },
  {
   "cell_type": "code",
   "execution_count": 54,
   "metadata": {},
   "outputs": [],
   "source": [
    "# Generating training predictions\n",
    "\n",
    "train_preds = enet_2.predict(X_train_eng_ss)\n",
    "\n",
    "# Generating testing predictions\n",
    "\n",
    "enet_2_preds = enet_2.predict(X_test_eng_ss)"
   ]
  },
  {
   "cell_type": "code",
   "execution_count": 55,
   "metadata": {},
   "outputs": [
    {
     "data": {
      "text/html": [
       "<div>\n",
       "<style scoped>\n",
       "    .dataframe tbody tr th:only-of-type {\n",
       "        vertical-align: middle;\n",
       "    }\n",
       "\n",
       "    .dataframe tbody tr th {\n",
       "        vertical-align: top;\n",
       "    }\n",
       "\n",
       "    .dataframe thead th {\n",
       "        text-align: right;\n",
       "    }\n",
       "</style>\n",
       "<table border=\"1\" class=\"dataframe\">\n",
       "  <thead>\n",
       "    <tr style=\"text-align: right;\">\n",
       "      <th></th>\n",
       "      <th>Score</th>\n",
       "    </tr>\n",
       "  </thead>\n",
       "  <tbody>\n",
       "    <tr>\n",
       "      <th>RMSE</th>\n",
       "      <td>24.750637</td>\n",
       "    </tr>\n",
       "    <tr>\n",
       "      <th>MAE</th>\n",
       "      <td>16.218554</td>\n",
       "    </tr>\n",
       "    <tr>\n",
       "      <th>R2</th>\n",
       "      <td>0.831447</td>\n",
       "    </tr>\n",
       "  </tbody>\n",
       "</table>\n",
       "</div>"
      ],
      "text/plain": [
       "          Score\n",
       "RMSE  24.750637\n",
       "MAE   16.218554\n",
       "R2     0.831447"
      ]
     },
     "execution_count": 55,
     "metadata": {},
     "output_type": "execute_result"
    }
   ],
   "source": [
    "metrics.regression_summary(y_train_eng, train_preds)"
   ]
  },
  {
   "cell_type": "code",
   "execution_count": 56,
   "metadata": {},
   "outputs": [
    {
     "data": {
      "text/html": [
       "<div>\n",
       "<style scoped>\n",
       "    .dataframe tbody tr th:only-of-type {\n",
       "        vertical-align: middle;\n",
       "    }\n",
       "\n",
       "    .dataframe tbody tr th {\n",
       "        vertical-align: top;\n",
       "    }\n",
       "\n",
       "    .dataframe thead th {\n",
       "        text-align: right;\n",
       "    }\n",
       "</style>\n",
       "<table border=\"1\" class=\"dataframe\">\n",
       "  <thead>\n",
       "    <tr style=\"text-align: right;\">\n",
       "      <th></th>\n",
       "      <th>Score</th>\n",
       "    </tr>\n",
       "  </thead>\n",
       "  <tbody>\n",
       "    <tr>\n",
       "      <th>RMSE</th>\n",
       "      <td>24.881057</td>\n",
       "    </tr>\n",
       "    <tr>\n",
       "      <th>MAE</th>\n",
       "      <td>16.691842</td>\n",
       "    </tr>\n",
       "    <tr>\n",
       "      <th>R2</th>\n",
       "      <td>0.845413</td>\n",
       "    </tr>\n",
       "  </tbody>\n",
       "</table>\n",
       "</div>"
      ],
      "text/plain": [
       "          Score\n",
       "RMSE  24.881057\n",
       "MAE   16.691842\n",
       "R2     0.845413"
      ]
     },
     "execution_count": 56,
     "metadata": {},
     "output_type": "execute_result"
    }
   ],
   "source": [
    "metrics.regression_summary(y_test_eng, enet_2_preds)"
   ]
  },
  {
   "cell_type": "markdown",
   "metadata": {},
   "source": [
    "Again, we were not surprised that the model with engineered features performed worse but we were still surprised that the ElasticNet did not perform better."
   ]
  },
  {
   "cell_type": "markdown",
   "metadata": {},
   "source": [
    "[Top](#Table-Of-Contents)"
   ]
  },
  {
   "cell_type": "markdown",
   "metadata": {},
   "source": [
    "### Random Forest Regression"
   ]
  },
  {
   "cell_type": "markdown",
   "metadata": {},
   "source": [
    "A random forest regressor is a regression method based on decision trees.  A decision tree splits the data into branches and evaluates the quality of a split by using a metric (in our case MSE).  Random forests implement bagging (bootstrap aggregation) mean that they take random samples of rows with replacement.  However, another level of randomness by randomly sampling a given number of features.  When it comes to predicting, it generates the mean of each node.  We chose to run a random forest regression because, while the linear regression did fairly well, we wanted to optimize our metrics given the nature of the data we have.\n",
    "\n",
    "In addition to running the model, we chose to use a pipeline to make it easier for us to find optimal hyperparameter values; hyperparameters are parameters defined by the individual running the code."
   ]
  },
  {
   "cell_type": "markdown",
   "metadata": {},
   "source": [
    "#### Original Set"
   ]
  },
  {
   "cell_type": "code",
   "execution_count": 57,
   "metadata": {},
   "outputs": [],
   "source": [
    "# Instantiating the pipeline\n",
    "\n",
    "rfr_pipe = Pipeline([(\"rfr\", RandomForestRegressor(random_state = 42))])"
   ]
  },
  {
   "cell_type": "code",
   "execution_count": 58,
   "metadata": {},
   "outputs": [],
   "source": [
    "# Setting the values for the gridsearch\n",
    "\n",
    "# These are the optimized values\n",
    "\n",
    "params = {\"rfr__n_estimators\"     : [35],\n",
    "          \"rfr__max_depth\"        : [None],\n",
    "          \"rfr__min_samples_split\": [10],\n",
    "          \"rfr__min_samples_leaf\" : [2,],\n",
    "          \"rfr__n_jobs\"           : [6]}\n",
    "\n",
    "# Instantiating the gridsearch\n",
    "\n",
    "rfr_gs = GridSearchCV(rfr_pipe, \n",
    "                      param_grid = params,\n",
    "                      cv         = 5)\n",
    "\n",
    "# Fitting the gridsearch to the training data\n",
    "\n",
    "rfr_gs.fit(X_train, y_train);\n",
    "\n",
    "# Getting the best parameters\n",
    "\n",
    "# rfr_gs.best_params_"
   ]
  },
  {
   "cell_type": "code",
   "execution_count": 59,
   "metadata": {},
   "outputs": [],
   "source": [
    "# Generating training predictions\n",
    "\n",
    "train_preds = rfr_gs.predict(X_train)\n",
    "\n",
    "# Generating testing predictions\n",
    "\n",
    "rfr_preds = rfr_gs.predict(X_test)"
   ]
  },
  {
   "cell_type": "code",
   "execution_count": 60,
   "metadata": {},
   "outputs": [
    {
     "data": {
      "text/html": [
       "<div>\n",
       "<style scoped>\n",
       "    .dataframe tbody tr th:only-of-type {\n",
       "        vertical-align: middle;\n",
       "    }\n",
       "\n",
       "    .dataframe tbody tr th {\n",
       "        vertical-align: top;\n",
       "    }\n",
       "\n",
       "    .dataframe thead th {\n",
       "        text-align: right;\n",
       "    }\n",
       "</style>\n",
       "<table border=\"1\" class=\"dataframe\">\n",
       "  <thead>\n",
       "    <tr style=\"text-align: right;\">\n",
       "      <th></th>\n",
       "      <th>Scores</th>\n",
       "    </tr>\n",
       "  </thead>\n",
       "  <tbody>\n",
       "    <tr>\n",
       "      <th>RMSE</th>\n",
       "      <td>4.426234</td>\n",
       "    </tr>\n",
       "    <tr>\n",
       "      <th>MAE</th>\n",
       "      <td>1.926701</td>\n",
       "    </tr>\n",
       "    <tr>\n",
       "      <th>R2</th>\n",
       "      <td>0.994609</td>\n",
       "    </tr>\n",
       "    <tr>\n",
       "      <th>Adj. R2</th>\n",
       "      <td>0.994556</td>\n",
       "    </tr>\n",
       "  </tbody>\n",
       "</table>\n",
       "</div>"
      ],
      "text/plain": [
       "           Scores\n",
       "RMSE     4.426234\n",
       "MAE      1.926701\n",
       "R2       0.994609\n",
       "Adj. R2  0.994556"
      ]
     },
     "execution_count": 60,
     "metadata": {},
     "output_type": "execute_result"
    }
   ],
   "source": [
    "metrics.regression_summary_adjr2(X_train, y_train, train_preds)"
   ]
  },
  {
   "cell_type": "code",
   "execution_count": 61,
   "metadata": {},
   "outputs": [
    {
     "data": {
      "text/html": [
       "<div>\n",
       "<style scoped>\n",
       "    .dataframe tbody tr th:only-of-type {\n",
       "        vertical-align: middle;\n",
       "    }\n",
       "\n",
       "    .dataframe tbody tr th {\n",
       "        vertical-align: top;\n",
       "    }\n",
       "\n",
       "    .dataframe thead th {\n",
       "        text-align: right;\n",
       "    }\n",
       "</style>\n",
       "<table border=\"1\" class=\"dataframe\">\n",
       "  <thead>\n",
       "    <tr style=\"text-align: right;\">\n",
       "      <th></th>\n",
       "      <th>Scores</th>\n",
       "    </tr>\n",
       "  </thead>\n",
       "  <tbody>\n",
       "    <tr>\n",
       "      <th>RMSE</th>\n",
       "      <td>5.750232</td>\n",
       "    </tr>\n",
       "    <tr>\n",
       "      <th>MAE</th>\n",
       "      <td>2.907834</td>\n",
       "    </tr>\n",
       "    <tr>\n",
       "      <th>R2</th>\n",
       "      <td>0.991743</td>\n",
       "    </tr>\n",
       "    <tr>\n",
       "      <th>Adj. R2</th>\n",
       "      <td>0.991494</td>\n",
       "    </tr>\n",
       "  </tbody>\n",
       "</table>\n",
       "</div>"
      ],
      "text/plain": [
       "           Scores\n",
       "RMSE     5.750232\n",
       "MAE      2.907834\n",
       "R2       0.991743\n",
       "Adj. R2  0.991494"
      ]
     },
     "execution_count": 61,
     "metadata": {},
     "output_type": "execute_result"
    }
   ],
   "source": [
    "metrics.regression_summary_adjr2(X_test, y_test, rfr_preds)"
   ]
  },
  {
   "cell_type": "markdown",
   "metadata": {},
   "source": [
    "We were quite surprised by the performance of this model because we had heard mixed things about the performance of tree-based regression model.  These scores varied a little bit more than previous models, but because the difference is still quite small we decided the variance was not significant.\n",
    "\n",
    "The most surprising metrics were the R<sup>2</sup> and the adjusted R<sup>2</sup> scores, because they both that our model accounts for virtually all of the model's variance.  The most important here is the adjusted R<sup>2</sup> score because it indicates that the R<sup>2</sup> is not high just because of the number of features."
   ]
  },
  {
   "cell_type": "markdown",
   "metadata": {},
   "source": [
    "#### Engineered Subset"
   ]
  },
  {
   "cell_type": "code",
   "execution_count": 62,
   "metadata": {},
   "outputs": [],
   "source": [
    "# Setting the values for the gridsearch\n",
    "\n",
    "# These are the optimized values\n",
    "\n",
    "params = {\"rfr__n_estimators\"     : [35],\n",
    "          \"rfr__max_depth\"        : [None],\n",
    "          \"rfr__min_samples_split\": [2],\n",
    "          \"rfr__min_samples_leaf\" : [2],\n",
    "          \"rfr__n_jobs\"           : [6]}\n",
    "\n",
    "# Instantiating the gridsearch\n",
    "\n",
    "rfr_2_gs = GridSearchCV(rfr_pipe, \n",
    "                        param_grid = params,\n",
    "                        cv         = 5)\n",
    "\n",
    "# Fitting the gridsearch to the training data\n",
    "\n",
    "rfr_2_gs.fit(X_train_eng, y_train_eng);\n",
    "\n",
    "# Getting the best parameters\n",
    "\n",
    "# rfr_2_gs.best_params_"
   ]
  },
  {
   "cell_type": "code",
   "execution_count": 63,
   "metadata": {},
   "outputs": [],
   "source": [
    "# Generating training predictions\n",
    "\n",
    "train_preds = rfr_2_gs.predict(X_train_eng)\n",
    "\n",
    "# Generating testing predictions\n",
    "\n",
    "rfr_2_preds = rfr_2_gs.predict(X_test_eng)"
   ]
  },
  {
   "cell_type": "code",
   "execution_count": 64,
   "metadata": {},
   "outputs": [
    {
     "data": {
      "text/html": [
       "<div>\n",
       "<style scoped>\n",
       "    .dataframe tbody tr th:only-of-type {\n",
       "        vertical-align: middle;\n",
       "    }\n",
       "\n",
       "    .dataframe tbody tr th {\n",
       "        vertical-align: top;\n",
       "    }\n",
       "\n",
       "    .dataframe thead th {\n",
       "        text-align: right;\n",
       "    }\n",
       "</style>\n",
       "<table border=\"1\" class=\"dataframe\">\n",
       "  <thead>\n",
       "    <tr style=\"text-align: right;\">\n",
       "      <th></th>\n",
       "      <th>Scores</th>\n",
       "    </tr>\n",
       "  </thead>\n",
       "  <tbody>\n",
       "    <tr>\n",
       "      <th>RMSE</th>\n",
       "      <td>3.580993</td>\n",
       "    </tr>\n",
       "    <tr>\n",
       "      <th>MAE</th>\n",
       "      <td>1.437873</td>\n",
       "    </tr>\n",
       "    <tr>\n",
       "      <th>R2</th>\n",
       "      <td>0.996472</td>\n",
       "    </tr>\n",
       "    <tr>\n",
       "      <th>Adj. R2</th>\n",
       "      <td>0.996457</td>\n",
       "    </tr>\n",
       "  </tbody>\n",
       "</table>\n",
       "</div>"
      ],
      "text/plain": [
       "           Scores\n",
       "RMSE     3.580993\n",
       "MAE      1.437873\n",
       "R2       0.996472\n",
       "Adj. R2  0.996457"
      ]
     },
     "execution_count": 64,
     "metadata": {},
     "output_type": "execute_result"
    }
   ],
   "source": [
    "metrics.regression_summary_adjr2(X_train_eng, y_train_eng, train_preds)"
   ]
  },
  {
   "cell_type": "code",
   "execution_count": 65,
   "metadata": {},
   "outputs": [
    {
     "data": {
      "text/html": [
       "<div>\n",
       "<style scoped>\n",
       "    .dataframe tbody tr th:only-of-type {\n",
       "        vertical-align: middle;\n",
       "    }\n",
       "\n",
       "    .dataframe tbody tr th {\n",
       "        vertical-align: top;\n",
       "    }\n",
       "\n",
       "    .dataframe thead th {\n",
       "        text-align: right;\n",
       "    }\n",
       "</style>\n",
       "<table border=\"1\" class=\"dataframe\">\n",
       "  <thead>\n",
       "    <tr style=\"text-align: right;\">\n",
       "      <th></th>\n",
       "      <th>Scores</th>\n",
       "    </tr>\n",
       "  </thead>\n",
       "  <tbody>\n",
       "    <tr>\n",
       "      <th>RMSE</th>\n",
       "      <td>5.429876</td>\n",
       "    </tr>\n",
       "    <tr>\n",
       "      <th>MAE</th>\n",
       "      <td>2.770788</td>\n",
       "    </tr>\n",
       "    <tr>\n",
       "      <th>R2</th>\n",
       "      <td>0.992638</td>\n",
       "    </tr>\n",
       "    <tr>\n",
       "      <th>Adj. R2</th>\n",
       "      <td>0.992545</td>\n",
       "    </tr>\n",
       "  </tbody>\n",
       "</table>\n",
       "</div>"
      ],
      "text/plain": [
       "           Scores\n",
       "RMSE     5.429876\n",
       "MAE      2.770788\n",
       "R2       0.992638\n",
       "Adj. R2  0.992545"
      ]
     },
     "execution_count": 65,
     "metadata": {},
     "output_type": "execute_result"
    }
   ],
   "source": [
    "metrics.regression_summary_adjr2(X_test_eng, y_test_eng, rfr_2_preds)"
   ]
  },
  {
   "cell_type": "markdown",
   "metadata": {},
   "source": [
    "We were even more surprised with these results because this is the first time we have had a model perform better with the engineered features.  Furthermore, the both R<sup>2</sup> scores slightly increased as well."
   ]
  },
  {
   "cell_type": "markdown",
   "metadata": {},
   "source": [
    "[Top](#Table-Of-Contents)"
   ]
  },
  {
   "cell_type": "markdown",
   "metadata": {},
   "source": [
    "### XGBoosting"
   ]
  },
  {
   "cell_type": "markdown",
   "metadata": {},
   "source": [
    "XGBoosting is a method that combines gradient descent with boosting.  The alogrithm works by generating a linear regression, deriving the coefficients, and then it runs further linear regressions until the sum of constants is constant.  Additionally, XGBoost makes use of _both_ $\\ell$<sub>1</sub> _and_ $\\ell$<sub>2</sub> regularization to help minimize overfitting on the training data."
   ]
  },
  {
   "cell_type": "markdown",
   "metadata": {},
   "source": [
    "#### Original Set"
   ]
  },
  {
   "cell_type": "code",
   "execution_count": 66,
   "metadata": {},
   "outputs": [],
   "source": [
    "# Instantiating the xgboost regressor\n",
    "\n",
    "xgb = XGBRegressor()"
   ]
  },
  {
   "cell_type": "code",
   "execution_count": 67,
   "metadata": {},
   "outputs": [
    {
     "name": "stderr",
     "output_type": "stream",
     "text": [
      "C:\\Users\\andre\\Anaconda3\\lib\\site-packages\\xgboost\\core.py:587: FutureWarning: Series.base is deprecated and will be removed in a future version\n",
      "  if getattr(data, 'base', None) is not None and \\\n"
     ]
    },
    {
     "name": "stdout",
     "output_type": "stream",
     "text": [
      "[16:56:24] WARNING: C:/Jenkins/workspace/xgboost-win64_release_0.90/src/objective/regression_obj.cu:152: reg:linear is now deprecated in favor of reg:squarederror.\n"
     ]
    }
   ],
   "source": [
    "# Fitting to my training data\n",
    "\n",
    "xgb.fit(X_train, y_train);\n",
    "\n",
    "# The first warning is just a default change\n",
    "# The second is a future warning, nothing serious"
   ]
  },
  {
   "cell_type": "code",
   "execution_count": 68,
   "metadata": {},
   "outputs": [],
   "source": [
    "# Generating training predictions\n",
    "\n",
    "train_preds = xgb.predict(X_train)\n",
    "\n",
    "# Generating testing predictions\n",
    "\n",
    "xgb_preds = xgb.predict(X_test)"
   ]
  },
  {
   "cell_type": "code",
   "execution_count": 69,
   "metadata": {},
   "outputs": [
    {
     "data": {
      "text/html": [
       "<div>\n",
       "<style scoped>\n",
       "    .dataframe tbody tr th:only-of-type {\n",
       "        vertical-align: middle;\n",
       "    }\n",
       "\n",
       "    .dataframe tbody tr th {\n",
       "        vertical-align: top;\n",
       "    }\n",
       "\n",
       "    .dataframe thead th {\n",
       "        text-align: right;\n",
       "    }\n",
       "</style>\n",
       "<table border=\"1\" class=\"dataframe\">\n",
       "  <thead>\n",
       "    <tr style=\"text-align: right;\">\n",
       "      <th></th>\n",
       "      <th>Scores</th>\n",
       "    </tr>\n",
       "  </thead>\n",
       "  <tbody>\n",
       "    <tr>\n",
       "      <th>RMSE</th>\n",
       "      <td>5.845130</td>\n",
       "    </tr>\n",
       "    <tr>\n",
       "      <th>MAE</th>\n",
       "      <td>3.441946</td>\n",
       "    </tr>\n",
       "    <tr>\n",
       "      <th>R2</th>\n",
       "      <td>0.990599</td>\n",
       "    </tr>\n",
       "    <tr>\n",
       "      <th>Adj. R2</th>\n",
       "      <td>0.990507</td>\n",
       "    </tr>\n",
       "  </tbody>\n",
       "</table>\n",
       "</div>"
      ],
      "text/plain": [
       "           Scores\n",
       "RMSE     5.845130\n",
       "MAE      3.441946\n",
       "R2       0.990599\n",
       "Adj. R2  0.990507"
      ]
     },
     "execution_count": 69,
     "metadata": {},
     "output_type": "execute_result"
    }
   ],
   "source": [
    "metrics.regression_summary_adjr2(X_train, y_train, train_preds)"
   ]
  },
  {
   "cell_type": "code",
   "execution_count": 70,
   "metadata": {},
   "outputs": [
    {
     "data": {
      "text/html": [
       "<div>\n",
       "<style scoped>\n",
       "    .dataframe tbody tr th:only-of-type {\n",
       "        vertical-align: middle;\n",
       "    }\n",
       "\n",
       "    .dataframe tbody tr th {\n",
       "        vertical-align: top;\n",
       "    }\n",
       "\n",
       "    .dataframe thead th {\n",
       "        text-align: right;\n",
       "    }\n",
       "</style>\n",
       "<table border=\"1\" class=\"dataframe\">\n",
       "  <thead>\n",
       "    <tr style=\"text-align: right;\">\n",
       "      <th></th>\n",
       "      <th>Scores</th>\n",
       "    </tr>\n",
       "  </thead>\n",
       "  <tbody>\n",
       "    <tr>\n",
       "      <th>RMSE</th>\n",
       "      <td>6.801884</td>\n",
       "    </tr>\n",
       "    <tr>\n",
       "      <th>MAE</th>\n",
       "      <td>4.012041</td>\n",
       "    </tr>\n",
       "    <tr>\n",
       "      <th>R2</th>\n",
       "      <td>0.988447</td>\n",
       "    </tr>\n",
       "    <tr>\n",
       "      <th>Adj. R2</th>\n",
       "      <td>0.988098</td>\n",
       "    </tr>\n",
       "  </tbody>\n",
       "</table>\n",
       "</div>"
      ],
      "text/plain": [
       "           Scores\n",
       "RMSE     6.801884\n",
       "MAE      4.012041\n",
       "R2       0.988447\n",
       "Adj. R2  0.988098"
      ]
     },
     "execution_count": 70,
     "metadata": {},
     "output_type": "execute_result"
    }
   ],
   "source": [
    "metrics.regression_summary_adjr2(X_test, y_test, xgb_preds)"
   ]
  },
  {
   "cell_type": "markdown",
   "metadata": {},
   "source": [
    "We were expecting that XGBoost would be the best performing model because of how the algorithm works.  Despite the fact that model performed slightly worse that the random forest regression, the difference between the train and test scores was very tight indicating that the model did a very good job at reducing overfitting on the training data."
   ]
  },
  {
   "cell_type": "markdown",
   "metadata": {},
   "source": [
    "Similarly to the linear regression's coefficients, we are able to retrieve coefficients from the XGBoost and they work the same way: they weight the features while the model is predicting."
   ]
  },
  {
   "cell_type": "code",
   "execution_count": 71,
   "metadata": {},
   "outputs": [
    {
     "data": {
      "text/html": [
       "<table style=\"display:inline\" border=\"1\" class=\"dataframe\">\n",
       "  <thead>\n",
       "    <tr style=\"text-align: right;\">\n",
       "      <th></th>\n",
       "      <th>XGB_Org</th>\n",
       "    </tr>\n",
       "  </thead>\n",
       "  <tbody>\n",
       "    <tr>\n",
       "      <th>lvesv</th>\n",
       "      <td>0.752125</td>\n",
       "    </tr>\n",
       "    <tr>\n",
       "      <th>lvef</th>\n",
       "      <td>0.098452</td>\n",
       "    </tr>\n",
       "    <tr>\n",
       "      <th>sex</th>\n",
       "      <td>0.066943</td>\n",
       "    </tr>\n",
       "    <tr>\n",
       "      <th>age</th>\n",
       "      <td>0.033713</td>\n",
       "    </tr>\n",
       "    <tr>\n",
       "      <th>aortic_reg</th>\n",
       "      <td>0.018858</td>\n",
       "    </tr>\n",
       "  </tbody>\n",
       "</table style=\"display:inline\"><table style=\"display:inline\" border=\"1\" class=\"dataframe\">\n",
       "  <thead>\n",
       "    <tr style=\"text-align: right;\">\n",
       "      <th></th>\n",
       "      <th>XGB_Org</th>\n",
       "    </tr>\n",
       "  </thead>\n",
       "  <tbody>\n",
       "    <tr>\n",
       "      <th>mas_he</th>\n",
       "      <td>0.0</td>\n",
       "    </tr>\n",
       "    <tr>\n",
       "      <th>mis_he</th>\n",
       "      <td>0.0</td>\n",
       "    </tr>\n",
       "    <tr>\n",
       "      <th>mi_he</th>\n",
       "      <td>0.0</td>\n",
       "    </tr>\n",
       "    <tr>\n",
       "      <th>mil_he</th>\n",
       "      <td>0.0</td>\n",
       "    </tr>\n",
       "    <tr>\n",
       "      <th>smoker_status_never</th>\n",
       "      <td>0.0</td>\n",
       "    </tr>\n",
       "  </tbody>\n",
       "</table style=\"display:inline\">"
      ]
     },
     "metadata": {},
     "output_type": "display_data"
    }
   ],
   "source": [
    "# Creating a coefficients dataframe\n",
    "\n",
    "xgb_org = pd.DataFrame(data    = xgb.feature_importances_,\n",
    "                       index   = X_test.columns,\n",
    "                       columns = [\"XGB_Org\"])\n",
    "\n",
    "# Sorting for the head and tail five coefficients\n",
    "\n",
    "head = xgb_org.sort_values(by = \"XGB_Org\", ascending = False).head()\n",
    "tail = xgb_org.sort_values(by = \"XGB_Org\", ascending = False).tail()\n",
    "\n",
    "display_side_by_side(head,tail)"
   ]
  },
  {
   "cell_type": "markdown",
   "metadata": {},
   "source": [
    "While we expected the end systolic volume to have a heavy weight because of its relationship to the end diastolic volume, we were surprised by how much less significant the other features with non-zero coefficients were.  Furthermore, we knew that because the XGBoost makes use of $\\ell$<sub>2</sub> regularization, we were expecting some of the coeffecients to be reduced to zero but were did not expect to only have 9 non-zero coefficients."
   ]
  },
  {
   "cell_type": "markdown",
   "metadata": {},
   "source": [
    "#### Engineered Subset"
   ]
  },
  {
   "cell_type": "code",
   "execution_count": 72,
   "metadata": {},
   "outputs": [],
   "source": [
    "xgb_2 = XGBRegressor()"
   ]
  },
  {
   "cell_type": "code",
   "execution_count": 73,
   "metadata": {},
   "outputs": [
    {
     "name": "stderr",
     "output_type": "stream",
     "text": [
      "C:\\Users\\andre\\Anaconda3\\lib\\site-packages\\xgboost\\core.py:587: FutureWarning: Series.base is deprecated and will be removed in a future version\n",
      "  if getattr(data, 'base', None) is not None and \\\n"
     ]
    },
    {
     "name": "stdout",
     "output_type": "stream",
     "text": [
      "[16:56:26] WARNING: C:/Jenkins/workspace/xgboost-win64_release_0.90/src/objective/regression_obj.cu:152: reg:linear is now deprecated in favor of reg:squarederror.\n"
     ]
    }
   ],
   "source": [
    "xgb_2.fit(X_train_eng, y_train_eng);\n",
    "\n",
    "# The first warning is just a default change\n",
    "# The second is a future warning, nothing serious"
   ]
  },
  {
   "cell_type": "code",
   "execution_count": 74,
   "metadata": {},
   "outputs": [],
   "source": [
    "# Generating predictions for the training data\n",
    "\n",
    "train_preds = xgb_2.predict(X_train_eng)\n",
    "\n",
    "# Generating predictions for the test data\n",
    "\n",
    "xgb_2_preds = xgb_2.predict(X_test_eng)"
   ]
  },
  {
   "cell_type": "code",
   "execution_count": 75,
   "metadata": {},
   "outputs": [
    {
     "data": {
      "text/html": [
       "<div>\n",
       "<style scoped>\n",
       "    .dataframe tbody tr th:only-of-type {\n",
       "        vertical-align: middle;\n",
       "    }\n",
       "\n",
       "    .dataframe tbody tr th {\n",
       "        vertical-align: top;\n",
       "    }\n",
       "\n",
       "    .dataframe thead th {\n",
       "        text-align: right;\n",
       "    }\n",
       "</style>\n",
       "<table border=\"1\" class=\"dataframe\">\n",
       "  <thead>\n",
       "    <tr style=\"text-align: right;\">\n",
       "      <th></th>\n",
       "      <th>Scores</th>\n",
       "    </tr>\n",
       "  </thead>\n",
       "  <tbody>\n",
       "    <tr>\n",
       "      <th>RMSE</th>\n",
       "      <td>5.823299</td>\n",
       "    </tr>\n",
       "    <tr>\n",
       "      <th>MAE</th>\n",
       "      <td>3.392329</td>\n",
       "    </tr>\n",
       "    <tr>\n",
       "      <th>R2</th>\n",
       "      <td>0.990670</td>\n",
       "    </tr>\n",
       "    <tr>\n",
       "      <th>Adj. R2</th>\n",
       "      <td>0.990631</td>\n",
       "    </tr>\n",
       "  </tbody>\n",
       "</table>\n",
       "</div>"
      ],
      "text/plain": [
       "           Scores\n",
       "RMSE     5.823299\n",
       "MAE      3.392329\n",
       "R2       0.990670\n",
       "Adj. R2  0.990631"
      ]
     },
     "execution_count": 75,
     "metadata": {},
     "output_type": "execute_result"
    }
   ],
   "source": [
    "metrics.regression_summary_adjr2(X_train_eng, y_train_eng, train_preds)"
   ]
  },
  {
   "cell_type": "code",
   "execution_count": 76,
   "metadata": {},
   "outputs": [
    {
     "data": {
      "text/html": [
       "<div>\n",
       "<style scoped>\n",
       "    .dataframe tbody tr th:only-of-type {\n",
       "        vertical-align: middle;\n",
       "    }\n",
       "\n",
       "    .dataframe tbody tr th {\n",
       "        vertical-align: top;\n",
       "    }\n",
       "\n",
       "    .dataframe thead th {\n",
       "        text-align: right;\n",
       "    }\n",
       "</style>\n",
       "<table border=\"1\" class=\"dataframe\">\n",
       "  <thead>\n",
       "    <tr style=\"text-align: right;\">\n",
       "      <th></th>\n",
       "      <th>Scores</th>\n",
       "    </tr>\n",
       "  </thead>\n",
       "  <tbody>\n",
       "    <tr>\n",
       "      <th>RMSE</th>\n",
       "      <td>6.787067</td>\n",
       "    </tr>\n",
       "    <tr>\n",
       "      <th>MAE</th>\n",
       "      <td>3.961325</td>\n",
       "    </tr>\n",
       "    <tr>\n",
       "      <th>R2</th>\n",
       "      <td>0.988497</td>\n",
       "    </tr>\n",
       "    <tr>\n",
       "      <th>Adj. R2</th>\n",
       "      <td>0.988352</td>\n",
       "    </tr>\n",
       "  </tbody>\n",
       "</table>\n",
       "</div>"
      ],
      "text/plain": [
       "           Scores\n",
       "RMSE     6.787067\n",
       "MAE      3.961325\n",
       "R2       0.988497\n",
       "Adj. R2  0.988352"
      ]
     },
     "execution_count": 76,
     "metadata": {},
     "output_type": "execute_result"
    }
   ],
   "source": [
    "metrics.regression_summary_adjr2(X_test_eng, y_test_eng, xgb_2_preds)"
   ]
  },
  {
   "cell_type": "code",
   "execution_count": 77,
   "metadata": {},
   "outputs": [
    {
     "data": {
      "text/html": [
       "<table style=\"display:inline\" border=\"1\" class=\"dataframe\">\n",
       "  <thead>\n",
       "    <tr style=\"text-align: right;\">\n",
       "      <th></th>\n",
       "      <th>XGB_Eng</th>\n",
       "    </tr>\n",
       "  </thead>\n",
       "  <tbody>\n",
       "    <tr>\n",
       "      <th>lvesv_log</th>\n",
       "      <td>0.768933</td>\n",
       "    </tr>\n",
       "    <tr>\n",
       "      <th>lvef</th>\n",
       "      <td>0.098857</td>\n",
       "    </tr>\n",
       "    <tr>\n",
       "      <th>sex</th>\n",
       "      <td>0.052479</td>\n",
       "    </tr>\n",
       "    <tr>\n",
       "      <th>age</th>\n",
       "      <td>0.038210</td>\n",
       "    </tr>\n",
       "    <tr>\n",
       "      <th>apical_ischemia</th>\n",
       "      <td>0.016051</td>\n",
       "    </tr>\n",
       "  </tbody>\n",
       "</table style=\"display:inline\"><table style=\"display:inline\" border=\"1\" class=\"dataframe\">\n",
       "  <thead>\n",
       "    <tr style=\"text-align: right;\">\n",
       "      <th></th>\n",
       "      <th>XGB_Eng</th>\n",
       "    </tr>\n",
       "  </thead>\n",
       "  <tbody>\n",
       "    <tr>\n",
       "      <th>basal_he</th>\n",
       "      <td>0.0</td>\n",
       "    </tr>\n",
       "    <tr>\n",
       "      <th>mid_he</th>\n",
       "      <td>0.0</td>\n",
       "    </tr>\n",
       "    <tr>\n",
       "      <th>basal_ischemia</th>\n",
       "      <td>0.0</td>\n",
       "    </tr>\n",
       "    <tr>\n",
       "      <th>mid_ischemia</th>\n",
       "      <td>0.0</td>\n",
       "    </tr>\n",
       "    <tr>\n",
       "      <th>tricusp_reg</th>\n",
       "      <td>0.0</td>\n",
       "    </tr>\n",
       "  </tbody>\n",
       "</table style=\"display:inline\">"
      ]
     },
     "metadata": {},
     "output_type": "display_data"
    }
   ],
   "source": [
    "# Creating a coefficients dataframe\n",
    "\n",
    "xgb_eng = pd.DataFrame(data    = xgb_2.feature_importances_,\n",
    "                       index   = X_test_eng.columns,\n",
    "                       columns = [\"XGB_Eng\"])\n",
    "\n",
    "#Sorting for the head and tail five coefficients\n",
    "\n",
    "head = xgb_eng.sort_values(by = \"XGB_Eng\", ascending = False).head()\n",
    "tail = xgb_eng.sort_values(by = \"XGB_Eng\", ascending = False).tail()\n",
    "\n",
    "display_side_by_side(head,tail)"
   ]
  },
  {
   "cell_type": "markdown",
   "metadata": {},
   "source": [
    "We were again surprised here by the weight of the heaviest feature and `lvesv_log`'s weight compared to the other feature.  We were also surprised that even with less features than the original features, we ended up with 9 non-zero coefficients."
   ]
  },
  {
   "cell_type": "markdown",
   "metadata": {},
   "source": [
    "[Top](#Table-Of-Contents)"
   ]
  },
  {
   "cell_type": "markdown",
   "metadata": {},
   "source": [
    "### Prediction Dataframes"
   ]
  },
  {
   "cell_type": "code",
   "execution_count": 78,
   "metadata": {},
   "outputs": [],
   "source": [
    "# Creating a dataframe out of the four sets of predictions\n",
    "# The y_test is for comparison\n",
    "\n",
    "# Original features\n",
    "\n",
    "org_model_predictions = pd.DataFrame([np.array(y_test), lr_preds, ridge_preds, \n",
    "                                      lasso_preds, enet_preds, rfr_preds, xgb_preds],\n",
    "                                     index = [\"Actual\", \"Linear_Reg.\", \"RidgeCV\", \"LassoCV\",\n",
    "                                              \"ElasticNetCV\", \"Random Forest Reg.\", \"XGBoost Reg.\"]).T\n",
    "\n",
    "# Engineeered features\n",
    "\n",
    "eng_model_predictions = pd.DataFrame([np.array(y_test_eng), lr_2_preds, ridge_2_preds, \n",
    "                                      lasso_2_preds, enet_2_preds, rfr_2_preds, xgb_2_preds],\n",
    "                                     index = [\"Actual\", \"Linear_Reg.\", \"RidgeCV\", \"LassoCV\",\n",
    "                                              \"ElasticNetCV\", \"Random Forest Reg.\", \"XGBoost Reg.\"]).T\n",
    "\n",
    "# Setting the index to the X_test index and sorting from lowest to highest\n",
    "\n",
    "org_model_predictions = org_model_predictions.set_index(X_test.index).sort_index(ascending = True)\n",
    "eng_model_predictions = eng_model_predictions.set_index(X_test.index).sort_index(ascending = True)\n",
    "\n",
    "# Saving as a .csv file\n",
    "\n",
    "org_model_predictions.to_csv(\"../Data/original_model_predictions.csv\")\n",
    "eng_model_predictions.to_csv(\"../Data/engineered_model_predictions.csv\")"
   ]
  },
  {
   "cell_type": "markdown",
   "metadata": {},
   "source": [
    "#### Reading In The Files"
   ]
  },
  {
   "cell_type": "code",
   "execution_count": 79,
   "metadata": {},
   "outputs": [],
   "source": [
    "original_features   = pd.read_csv(\"../Data/original_model_predictions.csv\", index_col = 0)\n",
    "engineered_features = pd.read_csv(\"../Data/engineered_model_predictions.csv\", index_col = 0)"
   ]
  },
  {
   "cell_type": "code",
   "execution_count": 80,
   "metadata": {},
   "outputs": [
    {
     "data": {
      "text/html": [
       "<div>\n",
       "<style scoped>\n",
       "    .dataframe tbody tr th:only-of-type {\n",
       "        vertical-align: middle;\n",
       "    }\n",
       "\n",
       "    .dataframe tbody tr th {\n",
       "        vertical-align: top;\n",
       "    }\n",
       "\n",
       "    .dataframe thead th {\n",
       "        text-align: right;\n",
       "    }\n",
       "</style>\n",
       "<table border=\"1\" class=\"dataframe\">\n",
       "  <thead>\n",
       "    <tr style=\"text-align: right;\">\n",
       "      <th></th>\n",
       "      <th>Actual</th>\n",
       "      <th>Linear_Reg.</th>\n",
       "      <th>RidgeCV</th>\n",
       "      <th>LassoCV</th>\n",
       "      <th>ElasticNetCV</th>\n",
       "      <th>Random Forest Reg.</th>\n",
       "      <th>XGBoost Reg.</th>\n",
       "    </tr>\n",
       "  </thead>\n",
       "  <tbody>\n",
       "    <tr>\n",
       "      <th>8</th>\n",
       "      <td>493.0</td>\n",
       "      <td>572.264144</td>\n",
       "      <td>569.825874</td>\n",
       "      <td>566.892768</td>\n",
       "      <td>519.544071</td>\n",
       "      <td>519.307599</td>\n",
       "      <td>506.268127</td>\n",
       "    </tr>\n",
       "    <tr>\n",
       "      <th>14</th>\n",
       "      <td>459.0</td>\n",
       "      <td>489.987583</td>\n",
       "      <td>488.015805</td>\n",
       "      <td>490.723083</td>\n",
       "      <td>448.705137</td>\n",
       "      <td>429.685092</td>\n",
       "      <td>441.612457</td>\n",
       "    </tr>\n",
       "    <tr>\n",
       "      <th>15</th>\n",
       "      <td>457.0</td>\n",
       "      <td>547.683444</td>\n",
       "      <td>545.605984</td>\n",
       "      <td>544.698525</td>\n",
       "      <td>502.634616</td>\n",
       "      <td>479.359693</td>\n",
       "      <td>466.966064</td>\n",
       "    </tr>\n",
       "    <tr>\n",
       "      <th>17</th>\n",
       "      <td>448.0</td>\n",
       "      <td>521.891881</td>\n",
       "      <td>520.030701</td>\n",
       "      <td>520.226527</td>\n",
       "      <td>481.846421</td>\n",
       "      <td>460.729906</td>\n",
       "      <td>462.428802</td>\n",
       "    </tr>\n",
       "    <tr>\n",
       "      <th>19</th>\n",
       "      <td>440.0</td>\n",
       "      <td>479.465079</td>\n",
       "      <td>477.675070</td>\n",
       "      <td>479.320752</td>\n",
       "      <td>441.786400</td>\n",
       "      <td>422.076500</td>\n",
       "      <td>438.847504</td>\n",
       "    </tr>\n",
       "  </tbody>\n",
       "</table>\n",
       "</div>"
      ],
      "text/plain": [
       "    Actual  Linear_Reg.     RidgeCV     LassoCV  ElasticNetCV  \\\n",
       "8    493.0   572.264144  569.825874  566.892768    519.544071   \n",
       "14   459.0   489.987583  488.015805  490.723083    448.705137   \n",
       "15   457.0   547.683444  545.605984  544.698525    502.634616   \n",
       "17   448.0   521.891881  520.030701  520.226527    481.846421   \n",
       "19   440.0   479.465079  477.675070  479.320752    441.786400   \n",
       "\n",
       "    Random Forest Reg.  XGBoost Reg.  \n",
       "8           519.307599    506.268127  \n",
       "14          429.685092    441.612457  \n",
       "15          479.359693    466.966064  \n",
       "17          460.729906    462.428802  \n",
       "19          422.076500    438.847504  "
      ]
     },
     "execution_count": 80,
     "metadata": {},
     "output_type": "execute_result"
    }
   ],
   "source": [
    "# Checking that the df looks correct\n",
    "\n",
    "original_features.head()"
   ]
  },
  {
   "cell_type": "code",
   "execution_count": 81,
   "metadata": {},
   "outputs": [
    {
     "data": {
      "text/html": [
       "<div>\n",
       "<style scoped>\n",
       "    .dataframe tbody tr th:only-of-type {\n",
       "        vertical-align: middle;\n",
       "    }\n",
       "\n",
       "    .dataframe tbody tr th {\n",
       "        vertical-align: top;\n",
       "    }\n",
       "\n",
       "    .dataframe thead th {\n",
       "        text-align: right;\n",
       "    }\n",
       "</style>\n",
       "<table border=\"1\" class=\"dataframe\">\n",
       "  <thead>\n",
       "    <tr style=\"text-align: right;\">\n",
       "      <th></th>\n",
       "      <th>Actual</th>\n",
       "      <th>Linear_Reg.</th>\n",
       "      <th>RidgeCV</th>\n",
       "      <th>LassoCV</th>\n",
       "      <th>ElasticNetCV</th>\n",
       "      <th>Random Forest Reg.</th>\n",
       "      <th>XGBoost Reg.</th>\n",
       "    </tr>\n",
       "  </thead>\n",
       "  <tbody>\n",
       "    <tr>\n",
       "      <th>8</th>\n",
       "      <td>493.0</td>\n",
       "      <td>325.693516</td>\n",
       "      <td>325.659420</td>\n",
       "      <td>325.956695</td>\n",
       "      <td>317.455068</td>\n",
       "      <td>514.988163</td>\n",
       "      <td>514.711609</td>\n",
       "    </tr>\n",
       "    <tr>\n",
       "      <th>14</th>\n",
       "      <td>459.0</td>\n",
       "      <td>309.829732</td>\n",
       "      <td>309.767088</td>\n",
       "      <td>309.733185</td>\n",
       "      <td>297.934608</td>\n",
       "      <td>430.928810</td>\n",
       "      <td>441.360931</td>\n",
       "    </tr>\n",
       "    <tr>\n",
       "      <th>15</th>\n",
       "      <td>457.0</td>\n",
       "      <td>312.128454</td>\n",
       "      <td>312.127297</td>\n",
       "      <td>312.197388</td>\n",
       "      <td>309.996070</td>\n",
       "      <td>475.298878</td>\n",
       "      <td>466.801544</td>\n",
       "    </tr>\n",
       "    <tr>\n",
       "      <th>17</th>\n",
       "      <td>448.0</td>\n",
       "      <td>311.917106</td>\n",
       "      <td>311.911396</td>\n",
       "      <td>310.659369</td>\n",
       "      <td>309.259491</td>\n",
       "      <td>447.815544</td>\n",
       "      <td>462.511169</td>\n",
       "    </tr>\n",
       "    <tr>\n",
       "      <th>19</th>\n",
       "      <td>440.0</td>\n",
       "      <td>312.846399</td>\n",
       "      <td>312.791802</td>\n",
       "      <td>311.255639</td>\n",
       "      <td>301.971008</td>\n",
       "      <td>427.792415</td>\n",
       "      <td>438.609283</td>\n",
       "    </tr>\n",
       "  </tbody>\n",
       "</table>\n",
       "</div>"
      ],
      "text/plain": [
       "    Actual  Linear_Reg.     RidgeCV     LassoCV  ElasticNetCV  \\\n",
       "8    493.0   325.693516  325.659420  325.956695    317.455068   \n",
       "14   459.0   309.829732  309.767088  309.733185    297.934608   \n",
       "15   457.0   312.128454  312.127297  312.197388    309.996070   \n",
       "17   448.0   311.917106  311.911396  310.659369    309.259491   \n",
       "19   440.0   312.846399  312.791802  311.255639    301.971008   \n",
       "\n",
       "    Random Forest Reg.  XGBoost Reg.  \n",
       "8           514.988163    514.711609  \n",
       "14          430.928810    441.360931  \n",
       "15          475.298878    466.801544  \n",
       "17          447.815544    462.511169  \n",
       "19          427.792415    438.609283  "
      ]
     },
     "execution_count": 81,
     "metadata": {},
     "output_type": "execute_result"
    }
   ],
   "source": [
    "# Checking that the df look correct\n",
    "\n",
    "engineered_features.head()"
   ]
  },
  {
   "cell_type": "markdown",
   "metadata": {},
   "source": [
    "[Top](#Table-Of-Contents)"
   ]
  },
  {
   "cell_type": "markdown",
   "metadata": {},
   "source": [
    "## Model Evaluation"
   ]
  },
  {
   "cell_type": "markdown",
   "metadata": {},
   "source": [
    "### Evaluation Functions"
   ]
  },
  {
   "cell_type": "markdown",
   "metadata": {},
   "source": [
    "This function simply plots the predictions from all four models together with the true `y` values in one scatter plot."
   ]
  },
  {
   "cell_type": "code",
   "execution_count": 82,
   "metadata": {},
   "outputs": [],
   "source": [
    "def plot_linear_predictions(df, true, title):\n",
    "    \n",
    "    # Setting the `facecolor` to white makes it easier to see on a different background.\n",
    "    \n",
    "    plt.figure(figsize   = (18,6))\n",
    "    \n",
    "    # Generating a scatter plot for each set of values, but they'll be on one chart.\n",
    "    plt.scatter(x = true, y = \"Actual\", data = df,\n",
    "                color = \"black\", label = \"Actual\")\n",
    "    plt.scatter(x = true, y = \"Linear_Reg.\", data = df,\n",
    "                color = \"red\", label = \"Linear Reg.\")\n",
    "    plt.scatter(x = true, y = \"RidgeCV\", data = df,\n",
    "                color = \"blue\", label = \"RidgeCV\")\n",
    "    plt.scatter(x = true, y = \"LassoCV\", data = df,\n",
    "                color = \"green\", label = \"LassoCV\")\n",
    "    plt.scatter(x = true, y = \"ElasticNetCV\", data = df,\n",
    "                color = \"orange\", label = \"ElasticNetCV\")\n",
    "    \n",
    "    # Setting graph parameters\n",
    "    plt.title(f\"Linear Predictions From The {title}\", size = 18)\n",
    "    plt.xlabel(\"Predicted\", size = 16)\n",
    "    plt.ylabel(\"Actual\", size = 16)\n",
    "    plt.xticks(size = 14)\n",
    "    plt.yticks(size = 14)\n",
    "    plt.legend(bbox_to_anchor = (1.04,1), loc = \"upper left\");"
   ]
  },
  {
   "cell_type": "code",
   "execution_count": 83,
   "metadata": {},
   "outputs": [],
   "source": [
    "def plot_nonlinear_predictions(df, true, title):\n",
    "    plt.figure(figsize   = (18,6),\n",
    "               facecolor = \"white\")\n",
    "    plt.scatter(x = true, y = \"Actual\", data = df, color = \"black\",\n",
    "                label = \"Actual\")\n",
    "    plt.scatter(x = true, y = \"Random Forest Reg.\", data = df,\n",
    "                color = \"red\", label = \"Random Forest Reg.\")\n",
    "    plt.scatter(x = true, y = \"XGBoost Reg.\", data = df,\n",
    "                color = \"green\", label = \"XGBoost Reg.\")\n",
    "    plt.title(f\"Non-Linear Predictions From The {title}\", size = 18)\n",
    "    plt.xlabel(\"Predicted\", size = 16)\n",
    "    plt.ylabel(\"Actual\", size = 16)\n",
    "    plt.xticks(size = 14)\n",
    "    plt.yticks(size = 14)\n",
    "    plt.legend(bbox_to_anchor = (1.04,1), loc = \"upper left\");"
   ]
  },
  {
   "cell_type": "markdown",
   "metadata": {},
   "source": [
    "[Top](#Table-Of-Contents)"
   ]
  },
  {
   "cell_type": "markdown",
   "metadata": {},
   "source": [
    "### Plotting Predictions"
   ]
  },
  {
   "cell_type": "markdown",
   "metadata": {},
   "source": [
    "While we had a good idea of how the models were performing based on the scores calculated by our metrics, we felt that visualizing the predictions of the model would help us have a better idea of where the models were strong and weak.  To do that, we simply plotting the four sets of predictions along with the true values in  a scatter plot."
   ]
  },
  {
   "cell_type": "code",
   "execution_count": 84,
   "metadata": {},
   "outputs": [
    {
     "data": {
      "image/png": "[encoded data removed]",
      "text/plain": [
       "<Figure size 1296x432 with 1 Axes>"
      ]
     },
     "metadata": {
      "needs_background": "light"
     },
     "output_type": "display_data"
    }
   ],
   "source": [
    "plot_linear_predictions(df    = original_features, \n",
    "                        true  = \"Actual\", \n",
    "                        title = \"Original Features\")"
   ]
  },
  {
   "cell_type": "code",
   "execution_count": 85,
   "metadata": {},
   "outputs": [
    {
     "data": {
      "image/png": "[encoded data removed]",
      "text/plain": [
       "<Figure size 1296x432 with 1 Axes>"
      ]
     },
     "metadata": {},
     "output_type": "display_data"
    }
   ],
   "source": [
    "plot_nonlinear_predictions(df    = original_features, \n",
    "                           true  = \"Actual\", \n",
    "                           title = \"Original Features\")"
   ]
  },
  {
   "cell_type": "markdown",
   "metadata": {},
   "source": [
    "The four linear models performed the best on values <200 given that the points there are overlapping so much.  However for values >200, the predictions follow the actual values but they became much more varied.\n",
    "\n",
    "On the other hand, the non-linear models followed the true line much more closely.  Although the variance increased as the values increased, it is not nearly as dramatic as with the linear models"
   ]
  },
  {
   "cell_type": "code",
   "execution_count": 86,
   "metadata": {},
   "outputs": [
    {
     "data": {
      "image/png": "[encoded data removed]",
      "text/plain": [
       "<Figure size 1296x432 with 1 Axes>"
      ]
     },
     "metadata": {
      "needs_background": "light"
     },
     "output_type": "display_data"
    }
   ],
   "source": [
    "plot_linear_predictions(df    = engineered_features, \n",
    "                        true  = \"Actual\", \n",
    "                        title = \"Engineered Features\")"
   ]
  },
  {
   "cell_type": "code",
   "execution_count": 87,
   "metadata": {},
   "outputs": [
    {
     "data": {
      "image/png": "[encoded data removed]",
      "text/plain": [
       "<Figure size 1296x432 with 1 Axes>"
      ]
     },
     "metadata": {},
     "output_type": "display_data"
    }
   ],
   "source": [
    "plot_nonlinear_predictions(df    = engineered_features, \n",
    "                           true  = \"Actual\", \n",
    "                           title = \"Engineered Features\")"
   ]
  },
  {
   "cell_type": "markdown",
   "metadata": {},
   "source": [
    "The linear models have a very distinct curve where the accuracy begins to flatten and become much less accurate.  This is because of how heteroscedastic the models are.  \n",
    "\n",
    "On the other hand the non-linear models are much more accurate and follow a straight line much more closely."
   ]
  },
  {
   "cell_type": "markdown",
   "metadata": {},
   "source": [
    "[Top](#Table-Of-Contents)"
   ]
  },
  {
   "cell_type": "markdown",
   "metadata": {},
   "source": [
    "### Plotting Residuals"
   ]
  },
  {
   "cell_type": "markdown",
   "metadata": {},
   "source": [
    "The residuals are simply the difference between the actual values and the predicted values.  Looking at the residuals allows us to detect if the independence of errors assumption is violated."
   ]
  },
  {
   "cell_type": "code",
   "execution_count": 88,
   "metadata": {},
   "outputs": [
    {
     "data": {
      "image/png": "[encoded data removed]",
      "text/plain": [
       "<Figure size 1440x720 with 6 Axes>"
      ]
     },
     "metadata": {},
     "output_type": "display_data"
    }
   ],
   "source": [
    "graphs.residualplots(df      = original_features,\n",
    "                     columns = [\"Linear_Reg.\", \"RidgeCV\",\n",
    "                                \"LassoCV\", \"ElasticNetCV\",\n",
    "                                \"Random Forest Reg.\", \"XGBoost Reg.\"],\n",
    "                     x       = \"Actual\",\n",
    "                     dim     = (20,10),\n",
    "                     titles  = [\"Linear Regression\", \"RidgeCV\",\n",
    "                                \"LassoCV\", \"ElasticNetCV\", \"Random Forest Reg.\",\n",
    "                                \"XGBoost Reg.\"],\n",
    "                     row     = 3,\n",
    "                     col     = 3)"
   ]
  },
  {
   "cell_type": "markdown",
   "metadata": {},
   "source": [
    "The residual plots of the linear models are not at all surprising given the distribution of my predicted values: they are dense for low values and very disperse for high values.  That means that the data is heteroscedastic, which means that it is violating one of the assumptions of linear models: independence of errors; ideally the points would be scattered randomly along the horizontal line.\n",
    "\n",
    "The two non-linear models are magnitudes better: the points are scattered along the line indicating that the independence of errors is not violated."
   ]
  },
  {
   "cell_type": "code",
   "execution_count": 89,
   "metadata": {
    "scrolled": false
   },
   "outputs": [
    {
     "data": {
      "image/png": "[encoded data removed]",
      "text/plain": [
       "<Figure size 1440x720 with 6 Axes>"
      ]
     },
     "metadata": {},
     "output_type": "display_data"
    }
   ],
   "source": [
    "graphs.residualplots(df      = engineered_features,\n",
    "                     columns = [\"Linear_Reg.\", \"RidgeCV\",\n",
    "                                \"LassoCV\", \"ElasticNetCV\",\n",
    "                                \"Random Forest Reg.\", \"XGBoost Reg.\"],\n",
    "                     x       = \"Actual\",\n",
    "                     dim     = (20,10),\n",
    "                     titles  = [\"Linear Regression\", \"RidgeCV\",\n",
    "                                \"LassoCV\", \"ElasticNetCV\", \"Random Forest Reg.\",\n",
    "                                \"XGBoost Reg.\"],\n",
    "                     row     = 3,\n",
    "                     col     = 3)"
   ]
  },
  {
   "cell_type": "markdown",
   "metadata": {},
   "source": [
    "These residual plots of the linear models are not at all surprising given the distribution of my predicted values: they are dense for low values and very disperse for high values.  It is easy to see where the models were under-performing for low values and high values. As a result, this data is also heteroscedastic.\n",
    "\n",
    "However the non-linear models are homoscedastic (the opposite of heteroscedastic)."
   ]
  },
  {
   "cell_type": "markdown",
   "metadata": {},
   "source": [
    "[Top](#Table-Of-Contents)"
   ]
  },
  {
   "cell_type": "markdown",
   "metadata": {},
   "source": [
    "### Final Model Choice"
   ]
  },
  {
   "cell_type": "markdown",
   "metadata": {},
   "source": [
    "Model Performance With The Four Metrics With The Original Features:\n",
    "    \n",
    "| Metric                 | Linear Regression | RidgeCV | LassoCV | ElasticNetCV | Random Forest Regression | XGBoost Regression |\n",
    "|:-----------------------|:-----------------:|:-------:|:-------:|:------------:|:------------------------:|:------------------:|\n",
    "| **RMSE**               | 17.47             | 17.46   | 17.45   | 18.71        | 4.426                    | 6.801              |\n",
    "| **MAE**                | 12.89             | 12.93   | 12.93   | 14.38        | 2.907                    | 4.012              |\n",
    "| **R<sup>2</sup>**      | 0.9237            | 0.9238  | 0.9239  | 0.9125       | 0.9917                   | 0.9884             |\n",
    "| **Adj. R<sup>2</sup>** | 0.9214            | -----   | -----   | -----        | 0.9914                   | 0.9880             |\n",
    "\n",
    "\n",
    "Model Performance With The Four Metrics With The Engineered Features:\n",
    "\n",
    "| Metric                 | Linear Regression | RidgeCV | LassoCV | ElasticNetCV | Random Forest Regression | XGBoost Regression |\n",
    "|:-----------------------|:-----------------:|:-------:|:-------:|:------------:|:------------------------:|:------------------:|\n",
    "| **RMSE**               | 23.11             | 23.11   | 23.16   | 24.58        | 5.429                    | 6.787              |\n",
    "| **MAE**                | 15.23             | 15.23   | 15.29   | 16.69        | 2.770                    | 3.961              |    \n",
    "| **R<sup>2</sup>**      | 0.8662            | 0.8666  | 0.8659  | 0.8454       | 0.9926                   | 0.9884             |\n",
    "| **Adj. R<sup>2</sup>** | 0.8649            | -----   | -----   | -----        | 0.9925                   | 0.9883             |\n"
   ]
  },
  {
   "cell_type": "markdown",
   "metadata": {},
   "source": [
    "Once we had run the non-linear models, it was readily apparent to us that they were far superior to the linear models.  To that end, we chose two models as our final models:\n",
    "\n",
    "- XGBoost Regression with the engineered features for interpretation.\n",
    "\n",
    "- Random Forest Regression with the engineered features for accuracy.\n",
    "\n",
    "We chose to have two final models because we wanted to produce a model that is as accurate as possible while also having a model that would be easy for us to talk about."
   ]
  },
  {
   "cell_type": "markdown",
   "metadata": {},
   "source": [
    "[Top](#Table-Of-Contents)"
   ]
  }
 ],
 "metadata": {
  "kernelspec": {
   "display_name": "Python 3",
   "language": "python",
   "name": "python3"
  },
  "language_info": {
   "codemirror_mode": {
    "name": "ipython",
    "version": 3
   },
   "file_extension": ".py",
   "mimetype": "text/x-python",
   "name": "python",
   "nbconvert_exporter": "python",
   "pygments_lexer": "ipython3",
   "version": "3.6.8"
  }
 },
 "nbformat": 4,
 "nbformat_minor": 2
}
