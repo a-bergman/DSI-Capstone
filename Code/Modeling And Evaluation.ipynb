{
 "cells": [
  {
   "cell_type": "markdown",
   "metadata": {},
   "source": [
    "# Part 2: Feature Engineering, Modeling, & Evaluation"
   ]
  },
  {
   "cell_type": "markdown",
   "metadata": {},
   "source": [
    "## Imports"
   ]
  },
  {
   "cell_type": "code",
   "execution_count": 1,
   "metadata": {},
   "outputs": [
    {
     "data": {
      "text/html": [
       "<style>.container { width:95% !important; }</style>"
      ],
      "text/plain": [
       "<IPython.core.display.HTML object>"
      ]
     },
     "metadata": {},
     "output_type": "display_data"
    }
   ],
   "source": [
    "import pandas                as pd\n",
    "import numpy                 as np\n",
    "import matplotlib.pyplot     as plt\n",
    "import seaborn               as sns\n",
    "import xgboost               as xgb\n",
    "from math                    import sqrt\n",
    "from sklearn.linear_model    import LinearRegression, LassoCV, RidgeCV, ElasticNetCV\n",
    "from sklearn.metrics         import r2_score, mean_squared_error, mean_absolute_error \n",
    "from sklearn.model_selection import train_test_split, cross_val_score, GridSearchCV\n",
    "from sklearn.preprocessing   import StandardScaler\n",
    "from sklearn.ensemble        import RandomForestRegressor\n",
    "from sklearn.pipeline        import Pipeline\n",
    "from IPython.core.display    import display, HTML\n",
    "from IPython.display         import display_html\n",
    "sns.set(style = \"white\", palette = \"husl\")\n",
    "display(HTML(\"<style>.container { width:95% !important; }</style>\"))\n",
    "%matplotlib inline"
   ]
  },
  {
   "cell_type": "markdown",
   "metadata": {},
   "source": [
    "## Table Of Contents\n",
    "\n",
    "\n",
    "1. [Reading In The Data](#Reading-In-The-Data)\n",
    "    - [Overview](#Overview)\n",
    "\n",
    "\n",
    "2. [Feature Engineering](#Feature-Engineering)\n",
    "    - [Transforming Numeric Data](#Transforming-Numeric-Data)\n",
    "    - [Creating Segmental Features](#Creating-Segmental-Features)\n",
    "    \n",
    "\n",
    "3. [Modeling](#Modeling)\n",
    "    - [Functions](#Functions)\n",
    "    - [Linear Regression](#Linear-Regression)\n",
    "    - [Ridge](#Ridge)\n",
    "    - [LASSO](#LASSO)\n",
    "    - [ElasticNetCV](#ElasticNetCV)\n",
    "    - [Random Forest Reression](#Random-Forest-Regression)\n",
    "    - [XGBoosting](#XGBoost)\n",
    "    - [Prediction Dataframes](#Prediction-Dataframes)\n",
    "    \n",
    "\n",
    "4. [Model Evaluation](#Model-Evaluation)\n",
    "    - [Functions](#Evaluation-Functions)\n",
    "    - [Plotting Predictions](#Plotting-Predictions)\n",
    "    - [Plotting Residuals](#Plotting-Residuals)"
   ]
  },
  {
   "cell_type": "markdown",
   "metadata": {},
   "source": [
    "## Reading In The Data"
   ]
  },
  {
   "cell_type": "code",
   "execution_count": 2,
   "metadata": {},
   "outputs": [],
   "source": [
    "mri = pd.read_csv(\"../Data/mri_cleaned.csv\")"
   ]
  },
  {
   "cell_type": "markdown",
   "metadata": {},
   "source": [
    "### Overview"
   ]
  },
  {
   "cell_type": "code",
   "execution_count": 3,
   "metadata": {},
   "outputs": [
    {
     "data": {
      "text/html": [
       "<div>\n",
       "<style scoped>\n",
       "    .dataframe tbody tr th:only-of-type {\n",
       "        vertical-align: middle;\n",
       "    }\n",
       "\n",
       "    .dataframe tbody tr th {\n",
       "        vertical-align: top;\n",
       "    }\n",
       "\n",
       "    .dataframe thead th {\n",
       "        text-align: right;\n",
       "    }\n",
       "</style>\n",
       "<table border=\"1\" class=\"dataframe\">\n",
       "  <thead>\n",
       "    <tr style=\"text-align: right;\">\n",
       "      <th></th>\n",
       "      <th>sex</th>\n",
       "      <th>age</th>\n",
       "      <th>hypertension</th>\n",
       "      <th>hyperlipidemia</th>\n",
       "      <th>diabetes</th>\n",
       "      <th>lvedv</th>\n",
       "      <th>lvesv</th>\n",
       "      <th>lv_wall_thickness</th>\n",
       "      <th>lvef</th>\n",
       "      <th>aortic_stenosis</th>\n",
       "      <th>...</th>\n",
       "      <th>mis_ischemia</th>\n",
       "      <th>mi_ischemia</th>\n",
       "      <th>mil_ischemia</th>\n",
       "      <th>mal_ischemia</th>\n",
       "      <th>aa_ischemia</th>\n",
       "      <th>as_ischemia</th>\n",
       "      <th>ai_ischemia</th>\n",
       "      <th>al_ischemia</th>\n",
       "      <th>smoker_status_former</th>\n",
       "      <th>smoker_status_never</th>\n",
       "    </tr>\n",
       "  </thead>\n",
       "  <tbody>\n",
       "    <tr>\n",
       "      <th>0</th>\n",
       "      <td>1</td>\n",
       "      <td>37</td>\n",
       "      <td>0</td>\n",
       "      <td>0</td>\n",
       "      <td>0</td>\n",
       "      <td>613</td>\n",
       "      <td>501</td>\n",
       "      <td>0</td>\n",
       "      <td>18</td>\n",
       "      <td>0</td>\n",
       "      <td>...</td>\n",
       "      <td>0</td>\n",
       "      <td>0</td>\n",
       "      <td>0</td>\n",
       "      <td>0</td>\n",
       "      <td>0</td>\n",
       "      <td>0</td>\n",
       "      <td>0</td>\n",
       "      <td>0</td>\n",
       "      <td>0</td>\n",
       "      <td>1</td>\n",
       "    </tr>\n",
       "    <tr>\n",
       "      <th>1</th>\n",
       "      <td>1</td>\n",
       "      <td>74</td>\n",
       "      <td>0</td>\n",
       "      <td>1</td>\n",
       "      <td>0</td>\n",
       "      <td>569</td>\n",
       "      <td>492</td>\n",
       "      <td>1</td>\n",
       "      <td>14</td>\n",
       "      <td>0</td>\n",
       "      <td>...</td>\n",
       "      <td>0</td>\n",
       "      <td>0</td>\n",
       "      <td>0</td>\n",
       "      <td>0</td>\n",
       "      <td>0</td>\n",
       "      <td>1</td>\n",
       "      <td>0</td>\n",
       "      <td>1</td>\n",
       "      <td>0</td>\n",
       "      <td>1</td>\n",
       "    </tr>\n",
       "    <tr>\n",
       "      <th>2</th>\n",
       "      <td>1</td>\n",
       "      <td>78</td>\n",
       "      <td>1</td>\n",
       "      <td>1</td>\n",
       "      <td>1</td>\n",
       "      <td>564</td>\n",
       "      <td>500</td>\n",
       "      <td>0</td>\n",
       "      <td>11</td>\n",
       "      <td>0</td>\n",
       "      <td>...</td>\n",
       "      <td>1</td>\n",
       "      <td>1</td>\n",
       "      <td>0</td>\n",
       "      <td>0</td>\n",
       "      <td>1</td>\n",
       "      <td>1</td>\n",
       "      <td>0</td>\n",
       "      <td>0</td>\n",
       "      <td>0</td>\n",
       "      <td>1</td>\n",
       "    </tr>\n",
       "    <tr>\n",
       "      <th>3</th>\n",
       "      <td>1</td>\n",
       "      <td>61</td>\n",
       "      <td>0</td>\n",
       "      <td>1</td>\n",
       "      <td>0</td>\n",
       "      <td>531</td>\n",
       "      <td>435</td>\n",
       "      <td>1</td>\n",
       "      <td>18</td>\n",
       "      <td>0</td>\n",
       "      <td>...</td>\n",
       "      <td>0</td>\n",
       "      <td>0</td>\n",
       "      <td>0</td>\n",
       "      <td>0</td>\n",
       "      <td>0</td>\n",
       "      <td>0</td>\n",
       "      <td>0</td>\n",
       "      <td>0</td>\n",
       "      <td>0</td>\n",
       "      <td>1</td>\n",
       "    </tr>\n",
       "    <tr>\n",
       "      <th>4</th>\n",
       "      <td>1</td>\n",
       "      <td>53</td>\n",
       "      <td>0</td>\n",
       "      <td>0</td>\n",
       "      <td>0</td>\n",
       "      <td>522</td>\n",
       "      <td>408</td>\n",
       "      <td>0</td>\n",
       "      <td>21</td>\n",
       "      <td>0</td>\n",
       "      <td>...</td>\n",
       "      <td>0</td>\n",
       "      <td>0</td>\n",
       "      <td>0</td>\n",
       "      <td>0</td>\n",
       "      <td>0</td>\n",
       "      <td>0</td>\n",
       "      <td>0</td>\n",
       "      <td>0</td>\n",
       "      <td>0</td>\n",
       "      <td>0</td>\n",
       "    </tr>\n",
       "  </tbody>\n",
       "</table>\n",
       "<p>5 rows × 48 columns</p>\n",
       "</div>"
      ],
      "text/plain": [
       "   sex  age  hypertension  hyperlipidemia  diabetes  lvedv  lvesv  \\\n",
       "0    1   37             0               0         0    613    501   \n",
       "1    1   74             0               1         0    569    492   \n",
       "2    1   78             1               1         1    564    500   \n",
       "3    1   61             0               1         0    531    435   \n",
       "4    1   53             0               0         0    522    408   \n",
       "\n",
       "   lv_wall_thickness  lvef  aortic_stenosis  ...  mis_ischemia  mi_ischemia  \\\n",
       "0                  0    18                0  ...             0            0   \n",
       "1                  1    14                0  ...             0            0   \n",
       "2                  0    11                0  ...             1            1   \n",
       "3                  1    18                0  ...             0            0   \n",
       "4                  0    21                0  ...             0            0   \n",
       "\n",
       "   mil_ischemia  mal_ischemia  aa_ischemia  as_ischemia  ai_ischemia  \\\n",
       "0             0             0            0            0            0   \n",
       "1             0             0            0            1            0   \n",
       "2             0             0            1            1            0   \n",
       "3             0             0            0            0            0   \n",
       "4             0             0            0            0            0   \n",
       "\n",
       "   al_ischemia  smoker_status_former  smoker_status_never  \n",
       "0            0                     0                    1  \n",
       "1            1                     0                    1  \n",
       "2            0                     0                    1  \n",
       "3            0                     0                    1  \n",
       "4            0                     0                    0  \n",
       "\n",
       "[5 rows x 48 columns]"
      ]
     },
     "execution_count": 3,
     "metadata": {},
     "output_type": "execute_result"
    }
   ],
   "source": [
    "mri.head()"
   ]
  },
  {
   "cell_type": "code",
   "execution_count": 4,
   "metadata": {},
   "outputs": [
    {
     "name": "stdout",
     "output_type": "stream",
     "text": [
      "The shape of the dataset is: (6417, 48)\n"
     ]
    }
   ],
   "source": [
    "# Checking the shape of the data\n",
    "\n",
    "print(f\"The shape of the dataset is: {mri.shape}\")"
   ]
  },
  {
   "cell_type": "code",
   "execution_count": 5,
   "metadata": {},
   "outputs": [
    {
     "data": {
      "text/plain": [
       "int64    48\n",
       "dtype: int64"
      ]
     },
     "execution_count": 5,
     "metadata": {},
     "output_type": "execute_result"
    }
   ],
   "source": [
    "# Summary of column data types\n",
    "\n",
    "mri.dtypes.value_counts()"
   ]
  },
  {
   "cell_type": "markdown",
   "metadata": {},
   "source": [
    "## Feature Engineering"
   ]
  },
  {
   "cell_type": "markdown",
   "metadata": {},
   "source": [
    "### Transforming Numeric Data"
   ]
  },
  {
   "cell_type": "markdown",
   "metadata": {},
   "source": [
    "There are only four numeric columns in the data set: `age`, `lvesv`, `lvedv`, `lvef`.  Of the four, only `lvef` does not have any kind of a normal distribution: `age` is close to normally distributed, while `lvesv` and `lvedv` are log-normally distributed.\n",
    "\n",
    "We cannot do anything to `lvedv` because that is my target variable, but we can take the log of `lvesv` (in this case the natural log).  We also tried squaring `age` but that did not affect the distribution in the way we hoped it would."
   ]
  },
  {
   "cell_type": "code",
   "execution_count": 6,
   "metadata": {},
   "outputs": [],
   "source": [
    "# Take the natural log of `lvesv`.\n",
    "# We chose to make it it's own column rather\n",
    "# than overwrite the column.\n",
    "\n",
    "mri[\"lvesv_log\"] = mri[\"lvesv\"].apply(lambda x: np.log(x))"
   ]
  },
  {
   "cell_type": "code",
   "execution_count": 7,
   "metadata": {},
   "outputs": [
    {
     "name": "stdout",
     "output_type": "stream",
     "text": [
      "The shape of the dataset is: (6417, 49)\n"
     ]
    }
   ],
   "source": [
    "print(f\"The shape of the dataset is: {mri.shape}\")"
   ]
  },
  {
   "cell_type": "markdown",
   "metadata": {},
   "source": [
    "[Top](#Table-Of-Contents)"
   ]
  },
  {
   "cell_type": "markdown",
   "metadata": {},
   "source": [
    "### Creating Segmental Features"
   ]
  },
  {
   "cell_type": "markdown",
   "metadata": {},
   "source": [
    "Because the model attempts to predict the end diastolic volume, we want it to be as accurate as it can be.  As part of that, we will try to use different combinations of features in an attempt to achieve high accuracy.\n",
    "\n",
    "The data have 34 columns that we wish to engineer: a column measuring scarification and a column measuring ischemia.  Because there are so many of them, we felt the need to experiment with how they are passed into the model.  We are unable to create multiplication interaction columns, because there are zeros.  Instead, we elected to create segmental columns by summing similar columns together: we will compare the model's performance with the originals and with the segmental columns.\n",
    "\n",
    "We used this image to guide our create of segmental columns:\n",
    "\n",
    "<img src = \"../Images/cardiac-segmentation-for-cardiac-perfusion-defects.jpg\" alt = \"Cardiac Segmentation\" height = 750 width = 750>\n",
    "\n",
    "Case courtesy of Dr Hamid Chalian, <a href=\"https://radiopaedia.org/\">Radiopaedia.org</a>. From the case <a href=\"https://radiopaedia.org/cases/47102\">rID: 47102</a>"
   ]
  },
  {
   "cell_type": "code",
   "execution_count": 8,
   "metadata": {},
   "outputs": [
    {
     "name": "stdout",
     "output_type": "stream",
     "text": [
      "The shape of the dataset is: (6417, 55)\n"
     ]
    }
   ],
   "source": [
    "# Creating columns based off of the red, blue, green, and yellow\n",
    "# We combined the apex and apical regions because there is only\n",
    "# one region in the apex.\n",
    "\n",
    "# New columns for scar tissue\n",
    "\n",
    "mri[\"basal_he\"]    = mri[\"ba_he\"] + mri[\"bas_he\"] + mri[\"bis_he\"] \\\n",
    "                     + mri[\"bi_he\"] + mri[\"bil_he\"] + mri[\"bal_he\"]\n",
    "mri[\"mid_he\"]      = mri[\"ma_he\"] + mri[\"mas_he\"] + mri[\"mis_he\"] \\\n",
    "                     + mri[\"mi_he\"] + mri[\"mil_he\"] + mri[\"mal_he\"]\n",
    "mri[\"apical_he\"]   = mri[\"aa_he\"] + mri[\"as_he\"] + mri[\"ai_he\"] \\\n",
    "                     + mri[\"al_he\"] + mri[\"apex_he\"]\n",
    "\n",
    "# New columns for ischemia\n",
    "\n",
    "mri[\"basal_ischemia\"]  = mri[\"ba_ischemia\"] + mri[\"bas_ischemia\"] + mri[\"bis_ischemia\"] \\\n",
    "                         + mri[\"bi_ischemia\"] + mri[\"bil_ischemia\"] + mri[\"bal_ischemia\"]\n",
    "mri[\"mid_ischemia\"]    = mri[\"ma_ischemia\"] + mri[\"mas_ischemia\"] + mri[\"mis_ischemia\"] \\\n",
    "                         + mri[\"mi_ischemia\"] + mri[\"mil_ischemia\"] + mri[\"mal_ischemia\"]\n",
    "mri[\"apical_ischemia\"] = mri[\"aa_ischemia\"] + mri[\"as_ischemia\"] + mri[\"ai_ischemia\"] \\\n",
    "                         + mri[\"al_ischemia\"]\n",
    "\n",
    "print(f\"The shape of the dataset is: {mri.shape}\")"
   ]
  },
  {
   "cell_type": "markdown",
   "metadata": {},
   "source": [
    "We intended to create new columns based off the secondary axis (anteroseptal, inferoseptal, etc.) but because of how the apical region is divided we would have counted the apical regions more than once."
   ]
  },
  {
   "cell_type": "markdown",
   "metadata": {},
   "source": [
    "[Top](#Table-Of-Contents)"
   ]
  },
  {
   "cell_type": "markdown",
   "metadata": {},
   "source": [
    "One of our goals was to see what would happen if we used the engineered features to reduce the overall number of reatures being passed into the model.  To accomplish that, we created two dataframes: one with the original set of features (48 including the target) and a second one with the engineered features (21 including the target).\n",
    "\n",
    "\n",
    "From this point on, `_org` will be used to refer to the original set of features and `_eng` will be use to refer to the engineered features.  The default will be `_org`, so after train-splitting the originial will just be `X_train` or `X_train_ss`."
   ]
  },
  {
   "cell_type": "code",
   "execution_count": 9,
   "metadata": {},
   "outputs": [
    {
     "name": "stdout",
     "output_type": "stream",
     "text": [
      "The shape of the dataframe with original features is  : (6417, 48)\n",
      "The shape of the dataframe with engineered features is: (6417, 21)\n"
     ]
    }
   ],
   "source": [
    "# Defining the original dataframe\n",
    "\n",
    "mri_org = mri.drop(labels = [\"lvesv_log\", \"basal_he\", \"mid_he\",\n",
    "                             \"apical_he\", \"basal_ischemia\",\n",
    "                             \"mid_ischemia\", \"apical_ischemia\"],\n",
    "                   axis = 1)\n",
    "\n",
    "# Defining the dataframe with only new features\n",
    "\n",
    "mri_eng = mri.drop(labels = ['lvesv', 'ba_he', 'bas_he', 'bis_he','bi_he', \n",
    "                             'bil_he', 'bal_he', 'ma_he', 'mas_he', 'mis_he', \n",
    "                             'mi_he', 'mil_he','mal_he', 'aa_he', 'as_he', \n",
    "                             'ai_he', 'al_he', 'apex_he', 'ba_ischemia',\n",
    "                             'bas_ischemia', 'bis_ischemia', 'bi_ischemia', \n",
    "                             'bil_ischemia','bal_ischemia', 'ma_ischemia', \n",
    "                             'mas_ischemia', 'mis_ischemia','mi_ischemia', \n",
    "                             'mil_ischemia', 'mal_ischemia', 'aa_ischemia', \n",
    "                             'as_ischemia', 'ai_ischemia', 'al_ischemia'],\n",
    "                   axis = 1)\n",
    "\n",
    "# Checking to make sure the two have different numbers of columns\n",
    "\n",
    "print(f\"The shape of the dataframe with original features is  : {mri_org.shape}\")\n",
    "print(f\"The shape of the dataframe with engineered features is: {mri_eng.shape}\")"
   ]
  },
  {
   "cell_type": "markdown",
   "metadata": {},
   "source": [
    "[Top](#Table-Of-Contents)"
   ]
  },
  {
   "cell_type": "markdown",
   "metadata": {},
   "source": [
    "## Modeling"
   ]
  },
  {
   "cell_type": "markdown",
   "metadata": {},
   "source": [
    "Before we can start modeling, we have to perform a train-test split.  A train-test split allows us to train our data on one subset of the dataframe and train on another subset.\n",
    "\n",
    "Since I have two versions of the dataframe, I will have to train-test split on both."
   ]
  },
  {
   "cell_type": "code",
   "execution_count": 10,
   "metadata": {},
   "outputs": [],
   "source": [
    "# Setting up my X and y variables for the original\n",
    "\n",
    "X = mri_org.drop(\"lvedv\", axis = 1)\n",
    "y = mri_org[\"lvedv\"]\n",
    "\n",
    "# Setting up my X and y variables for the new\n",
    "\n",
    "X_eng = mri_eng.drop(\"lvedv\", axis = 1)\n",
    "y_eng = mri_eng[\"lvedv\"]"
   ]
  },
  {
   "cell_type": "code",
   "execution_count": 11,
   "metadata": {},
   "outputs": [],
   "source": [
    "# Train-test splitting mri_og\n",
    "\n",
    "X_train, X_test, y_train, y_test = train_test_split(X, \n",
    "                                                    y,\n",
    "                                                    random_state = 42,\n",
    "                                                    test_size    = 0.25) \n",
    "\n",
    "# Train-test splitting mri_new\n",
    "\n",
    "X_train_eng, X_test_eng, y_train_eng, y_test_eng = train_test_split(X_eng, \n",
    "                                                                    y_eng,\n",
    "                                                                    random_state = 42,\n",
    "                                                                    test_size    = 0.25) "
   ]
  },
  {
   "cell_type": "markdown",
   "metadata": {},
   "source": [
    "Each model going forward will be fit and evaluated on both sets of train-test splits."
   ]
  },
  {
   "cell_type": "markdown",
   "metadata": {},
   "source": [
    "Since I will be running models that need to have the data scaled, I will run both sets of X variables through `StandardScaler`."
   ]
  },
  {
   "cell_type": "code",
   "execution_count": 12,
   "metadata": {},
   "outputs": [],
   "source": [
    "# Instantiating the standard scaler\n",
    "\n",
    "ss = StandardScaler()"
   ]
  },
  {
   "cell_type": "code",
   "execution_count": 13,
   "metadata": {},
   "outputs": [],
   "source": [
    "# Transforming the set with original \n",
    "# features.\n",
    "\n",
    "# Fit-transforming the X_train features\n",
    "\n",
    "X_train_ss = ss.fit_transform(X_train)\n",
    "\n",
    "# Transforming my X_test variables\n",
    "\n",
    "X_test_ss  = ss.transform(X_test)"
   ]
  },
  {
   "cell_type": "code",
   "execution_count": 14,
   "metadata": {},
   "outputs": [],
   "source": [
    "# Transforming the sub-set with the\n",
    "# features I engineered\n",
    "\n",
    "# Fit-transforming the engineered X_train\n",
    "\n",
    "X_train_eng_ss = ss.fit_transform(X_train_eng)\n",
    "\n",
    "# Transforming the engineered X_test features\n",
    "\n",
    "X_test_eng_ss  = ss.transform(X_test_eng)"
   ]
  },
  {
   "cell_type": "markdown",
   "metadata": {},
   "source": [
    "### Functions"
   ]
  },
  {
   "cell_type": "code",
   "execution_count": 15,
   "metadata": {},
   "outputs": [],
   "source": [
    "# Formula to generate an adjusted r^2 score for\n",
    "# my model evaluation function in the next cell\n",
    "\n",
    "# This formula was take from the linear regression lab\n",
    "\n",
    "def r2_adj(X, y_true, y_predicted):\n",
    "    r2          = r2_score(y_true, y_predicted)\n",
    "    numerator   = (1 - r2) * (len(y) - 1)\n",
    "    denominator = (len(y) - len(X.columns)) - 1\n",
    "    quotient    = numerator / denominator\n",
    "    r2_adj      = 1 - quotient\n",
    "    return r2_adj"
   ]
  },
  {
   "cell_type": "markdown",
   "metadata": {},
   "source": [
    "The `model_evaluation` function has four metrics:\n",
    "\n",
    "* r<sup>2</sup> to measure variance in `y` caused by the `X` variables;\n",
    "\n",
    "\n",
    "* adjusted r<sup>2</sup> to measure the same, but weighted for the number of features;\n",
    "\n",
    "\n",
    "* root mean squared error (RMSE) to measure the difference between my predicted values and the actual values;\n",
    "\n",
    "\n",
    "* mean absolute error (MAE) to measure the absolute mean error (this method is less sensitive to outliers)."
   ]
  },
  {
   "cell_type": "code",
   "execution_count": 16,
   "metadata": {},
   "outputs": [],
   "source": [
    "def model_evaluation(X, y_true, y_predicted):\n",
    "    rmse = sqrt(mean_squared_error(y_true, y_predicted))\n",
    "    mae  = mean_absolute_error(y_true, y_predicted)\n",
    "    r2   = r2_score(y_true, y_predicted)\n",
    "    print(f\"The root mean squared error is : {rmse}\")\n",
    "    print(f\"The mean absolute error is     : {mae}\")\n",
    "    print(f\"The r2 score is                : {r2}\")\n",
    "    print(f\"The adjusted r2 score is       : {r2_adj(X, y_true, y_predicted)}\")"
   ]
  },
  {
   "cell_type": "code",
   "execution_count": 17,
   "metadata": {},
   "outputs": [],
   "source": [
    "# This is the same as the cell above, but lacking the adjusted r^2 score\n",
    "# because after standard scaling the `X` variables the columns are lost.\n",
    "\n",
    "def model_evaluation_nor2adj(y_true, y_predicted):\n",
    "    rmse = sqrt(mean_squared_error(y_true, y_predicted))\n",
    "    mae  = mean_absolute_error(y_true, y_predicted)\n",
    "    r2   = r2_score(y_true, y_predicted)\n",
    "    print(f\"The root mean squared error is : {rmse}\")\n",
    "    print(f\"The mean absolute error is     : {mae}\")\n",
    "    print(f\"The r2 score is                : {r2}\")"
   ]
  },
  {
   "cell_type": "markdown",
   "metadata": {},
   "source": [
    "The following code is from user ntg on StackOverflow.  [Here](https://stackoverflow.com/a/44923103) is the source."
   ]
  },
  {
   "cell_type": "code",
   "execution_count": 18,
   "metadata": {},
   "outputs": [],
   "source": [
    "# This allows me to display the dataframes of the linear regression\n",
    "# coefficients side-by-side to save space.\n",
    "\n",
    "def display_side_by_side(*args):\n",
    "    html_str = ''\n",
    "    for df in args:\n",
    "        html_str += df.to_html()\n",
    "    display_html(html_str.replace('table', 'table style=\"display:inline\"'), raw = True)"
   ]
  },
  {
   "cell_type": "markdown",
   "metadata": {},
   "source": [
    "[Top](#Table-Of-Contents)"
   ]
  },
  {
   "cell_type": "markdown",
   "metadata": {},
   "source": [
    "### Linear Regression"
   ]
  },
  {
   "cell_type": "markdown",
   "metadata": {},
   "source": [
    "When thinking about our approach to modeling, we decided to start with the simplest model we could think of which was the linear regression."
   ]
  },
  {
   "cell_type": "markdown",
   "metadata": {},
   "source": [
    "#### Original Set"
   ]
  },
  {
   "cell_type": "markdown",
   "metadata": {},
   "source": [
    "The original set is the dataframe with its original 48 columns."
   ]
  },
  {
   "cell_type": "code",
   "execution_count": 19,
   "metadata": {},
   "outputs": [],
   "source": [
    "# Instantiating the linear regression\n",
    "\n",
    "lr = LinearRegression()"
   ]
  },
  {
   "cell_type": "code",
   "execution_count": 20,
   "metadata": {},
   "outputs": [],
   "source": [
    "# Fitting the linear regression to the original\n",
    "# (non-engineered) subset\n",
    "\n",
    "lr.fit(X_train, y_train);"
   ]
  },
  {
   "cell_type": "code",
   "execution_count": 21,
   "metadata": {},
   "outputs": [],
   "source": [
    "# Generating predictions from the training set\n",
    "\n",
    "train_preds = lr.predict(X_train)\n",
    "\n",
    "# Generating my test predictions\n",
    "\n",
    "lr_preds = lr.predict(X_test)"
   ]
  },
  {
   "cell_type": "code",
   "execution_count": 22,
   "metadata": {},
   "outputs": [
    {
     "name": "stdout",
     "output_type": "stream",
     "text": [
      "The root mean squared error is : 16.416572717672008\n",
      "The mean absolute error is     : 12.076837694615273\n",
      "The r2 score is                : 0.9258469775866639\n",
      "The adjusted r2 score is       : 0.9252997657710842\n"
     ]
    }
   ],
   "source": [
    "model_evaluation(X_train, y_train, train_preds)"
   ]
  },
  {
   "cell_type": "code",
   "execution_count": 23,
   "metadata": {
    "scrolled": false
   },
   "outputs": [
    {
     "name": "stdout",
     "output_type": "stream",
     "text": [
      "The root mean squared error is : 17.474492744600283\n",
      "The mean absolute error is     : 12.896847595997924\n",
      "The r2 score is                : 0.9237493878185266\n",
      "The adjusted r2 score is       : 0.9231866968509447\n"
     ]
    }
   ],
   "source": [
    "model_evaluation(X_test, y_test, lr_preds)"
   ]
  },
  {
   "cell_type": "markdown",
   "metadata": {},
   "source": [
    "Based off of how similar the scores are, it is clear that the model is performing very well.\n",
    "\n",
    "The model is technically overfit, but it is so minor we decided to ignore the overfit."
   ]
  },
  {
   "cell_type": "code",
   "execution_count": 24,
   "metadata": {},
   "outputs": [
    {
     "data": {
      "text/html": [
       "<table style=\"display:inline\" border=\"1\" class=\"dataframe\">\n",
       "  <thead>\n",
       "    <tr style=\"text-align: right;\">\n",
       "      <th></th>\n",
       "      <th>Lin_Reg_Org</th>\n",
       "    </tr>\n",
       "  </thead>\n",
       "  <tbody>\n",
       "    <tr>\n",
       "      <th>sex</th>\n",
       "      <td>10.864849</td>\n",
       "    </tr>\n",
       "    <tr>\n",
       "      <th>smoker_status_former</th>\n",
       "      <td>3.329839</td>\n",
       "    </tr>\n",
       "    <tr>\n",
       "      <th>smoker_status_never</th>\n",
       "      <td>3.101885</td>\n",
       "    </tr>\n",
       "    <tr>\n",
       "      <th>mil_ischemia</th>\n",
       "      <td>1.894495</td>\n",
       "    </tr>\n",
       "    <tr>\n",
       "      <th>lvef</th>\n",
       "      <td>1.755295</td>\n",
       "    </tr>\n",
       "  </tbody>\n",
       "</table style=\"display:inline\"><table style=\"display:inline\" border=\"1\" class=\"dataframe\">\n",
       "  <thead>\n",
       "    <tr style=\"text-align: right;\">\n",
       "      <th></th>\n",
       "      <th>Lin_Reg_Org</th>\n",
       "    </tr>\n",
       "  </thead>\n",
       "  <tbody>\n",
       "    <tr>\n",
       "      <th>mas_ischemia</th>\n",
       "      <td>-1.323619</td>\n",
       "    </tr>\n",
       "    <tr>\n",
       "      <th>hyperlipidemia</th>\n",
       "      <td>-1.667128</td>\n",
       "    </tr>\n",
       "    <tr>\n",
       "      <th>al_ischemia</th>\n",
       "      <td>-1.739566</td>\n",
       "    </tr>\n",
       "    <tr>\n",
       "      <th>ba_ischemia</th>\n",
       "      <td>-2.837152</td>\n",
       "    </tr>\n",
       "    <tr>\n",
       "      <th>bas_he</th>\n",
       "      <td>-3.040015</td>\n",
       "    </tr>\n",
       "  </tbody>\n",
       "</table style=\"display:inline\">"
      ]
     },
     "metadata": {},
     "output_type": "display_data"
    }
   ],
   "source": [
    "# Creating a dataframe makes looking the coefficients easier\n",
    "\n",
    "lin_reg_org = pd.DataFrame(data    = lr.coef_,\n",
    "                           index   = X_test.columns,\n",
    "                           columns = [\"Lin_Reg_Org\"])\n",
    "\n",
    "# Sorting for the head and tail five coefficients\n",
    "\n",
    "head = lin_reg_org.sort_values(by = \"Lin_Reg_Org\", ascending = False).head()\n",
    "tail = lin_reg_org.sort_values(by = \"Lin_Reg_Org\", ascending = False).tail()\n",
    "\n",
    "display_side_by_side(head,tail)"
   ]
  },
  {
   "cell_type": "markdown",
   "metadata": {},
   "source": [
    "Displaying the heads and tails displays showed us the strongest and weakest coefficients as determined during the modeling process.\n",
    "\n",
    "We found it interesting that sex and smoker status were so strong, but hyperlipidemia was so weak in comparison: hicgh cholesterol is a significant factor for cardiac disease."
   ]
  },
  {
   "cell_type": "markdown",
   "metadata": {},
   "source": [
    "#### Engineered Subset"
   ]
  },
  {
   "cell_type": "markdown",
   "metadata": {},
   "source": [
    "The engineered subset is the dataframe but with the features we engineered instead of the original 34 segmental features."
   ]
  },
  {
   "cell_type": "code",
   "execution_count": 25,
   "metadata": {},
   "outputs": [],
   "source": [
    "# Instantiating the linear model\n",
    "\n",
    "lr_2 = LinearRegression()"
   ]
  },
  {
   "cell_type": "code",
   "execution_count": 26,
   "metadata": {},
   "outputs": [],
   "source": [
    "# Fitting the linear regression to the subset\n",
    "# with the features I engineered\n",
    "\n",
    "lr_2.fit(X_train_eng, y_train_eng);"
   ]
  },
  {
   "cell_type": "code",
   "execution_count": 27,
   "metadata": {},
   "outputs": [],
   "source": [
    "# Generating predictions for the training set\n",
    "\n",
    "train_preds = lr_2.predict(X_train_eng)\n",
    "\n",
    "# Generating my predictions for the testing set\n",
    "\n",
    "lr_2_preds  = lr_2.predict(X_test_eng)"
   ]
  },
  {
   "cell_type": "code",
   "execution_count": 28,
   "metadata": {},
   "outputs": [
    {
     "name": "stdout",
     "output_type": "stream",
     "text": [
      "The root mean squared error is : 23.306991935523463\n",
      "The mean absolute error is     : 14.592137130598315\n",
      "The r2 score is                : 0.8505360968014757\n",
      "The adjusted r2 score is       : 0.8500687299997292\n"
     ]
    }
   ],
   "source": [
    "model_evaluation(X_train_eng, y_train_eng, train_preds)"
   ]
  },
  {
   "cell_type": "code",
   "execution_count": 29,
   "metadata": {},
   "outputs": [
    {
     "name": "stdout",
     "output_type": "stream",
     "text": [
      "The root mean squared error is : 23.111112718046606\n",
      "The mean absolute error is     : 15.234989524246423\n",
      "The r2 score is                : 0.8666245521501372\n",
      "The adjusted r2 score is       : 0.8662074932137712\n"
     ]
    }
   ],
   "source": [
    "model_evaluation(X_test_eng, y_test_eng, lr_2_preds)"
   ]
  },
  {
   "cell_type": "markdown",
   "metadata": {},
   "source": [
    "The scores for the engineered subset are worse than for the original dataset, but they are even more consistant.\n",
    "\n",
    "This was firm evidence for us that a linear type model likely is the best way to model this data."
   ]
  },
  {
   "cell_type": "code",
   "execution_count": 30,
   "metadata": {},
   "outputs": [],
   "source": [
    "# It is easier to view the coefficients in a df\n",
    "\n",
    "lin_reg_eng = pd.DataFrame(data  = lr_2.coef_,\n",
    "                           index = X_test_eng.columns,\n",
    "                           columns = [\"Lin_Reg_Eng\"])"
   ]
  },
  {
   "cell_type": "code",
   "execution_count": 31,
   "metadata": {},
   "outputs": [
    {
     "data": {
      "text/html": [
       "<table style=\"display:inline\" border=\"1\" class=\"dataframe\">\n",
       "  <thead>\n",
       "    <tr style=\"text-align: right;\">\n",
       "      <th></th>\n",
       "      <th>Lin_Reg_Eng</th>\n",
       "    </tr>\n",
       "  </thead>\n",
       "  <tbody>\n",
       "    <tr>\n",
       "      <th>lvesv_log</th>\n",
       "      <td>129.015341</td>\n",
       "    </tr>\n",
       "    <tr>\n",
       "      <th>mitral_reg</th>\n",
       "      <td>5.307152</td>\n",
       "    </tr>\n",
       "    <tr>\n",
       "      <th>lvef</th>\n",
       "      <td>2.253598</td>\n",
       "    </tr>\n",
       "    <tr>\n",
       "      <th>hypertension</th>\n",
       "      <td>2.104900</td>\n",
       "    </tr>\n",
       "    <tr>\n",
       "      <th>lv_wall_thickness</th>\n",
       "      <td>2.094055</td>\n",
       "    </tr>\n",
       "  </tbody>\n",
       "</table style=\"display:inline\"><table style=\"display:inline\" border=\"1\" class=\"dataframe\">\n",
       "  <thead>\n",
       "    <tr style=\"text-align: right;\">\n",
       "      <th></th>\n",
       "      <th>Lin_Reg_Eng</th>\n",
       "    </tr>\n",
       "  </thead>\n",
       "  <tbody>\n",
       "    <tr>\n",
       "      <th>basal_he</th>\n",
       "      <td>-0.205841</td>\n",
       "    </tr>\n",
       "    <tr>\n",
       "      <th>smoker_status_never</th>\n",
       "      <td>-1.111246</td>\n",
       "    </tr>\n",
       "    <tr>\n",
       "      <th>diabetes</th>\n",
       "      <td>-1.244056</td>\n",
       "    </tr>\n",
       "    <tr>\n",
       "      <th>mid_ischemia</th>\n",
       "      <td>-1.261124</td>\n",
       "    </tr>\n",
       "    <tr>\n",
       "      <th>smoker_status_former</th>\n",
       "      <td>-2.031060</td>\n",
       "    </tr>\n",
       "  </tbody>\n",
       "</table style=\"display:inline\">"
      ]
     },
     "metadata": {},
     "output_type": "display_data"
    }
   ],
   "source": [
    "head = lin_reg_eng.sort_values(by = \"Lin_Reg_Eng\", ascending = False).head()\n",
    "tail = lin_reg_eng.sort_values(by = \"Lin_Reg_Eng\", ascending = False).tail()\n",
    "\n",
    "display_side_by_side(head,tail)"
   ]
  },
  {
   "cell_type": "markdown",
   "metadata": {},
   "source": [
    "[Top](#Table-Of-Contents)"
   ]
  },
  {
   "cell_type": "markdown",
   "metadata": {},
   "source": [
    "### Ridge"
   ]
  },
  {
   "cell_type": "markdown",
   "metadata": {},
   "source": [
    "Ridge regression works by imposing a penalty on the coefficients: it uses the $\\ell$<sub>2</sub> regularization which shrinks thems towards 0 and effectively removes features without actually doing so and reduces the overall complexity.\n",
    "\n",
    "\n",
    "Because the features can be so strongly affected by the regularization it is important to have them all be on the same scale; this was done aboe with `StandardScaler`."
   ]
  },
  {
   "cell_type": "markdown",
   "metadata": {},
   "source": [
    "#### Original Set"
   ]
  },
  {
   "cell_type": "code",
   "execution_count": 32,
   "metadata": {},
   "outputs": [],
   "source": [
    "# Instantiating the ridge model\n",
    "\n",
    "ridge = RidgeCV()"
   ]
  },
  {
   "cell_type": "code",
   "execution_count": 33,
   "metadata": {},
   "outputs": [],
   "source": [
    "# Fitting the ridge model to the training data\n",
    "\n",
    "ridge.fit(X_train_ss, y_train);"
   ]
  },
  {
   "cell_type": "code",
   "execution_count": 34,
   "metadata": {},
   "outputs": [],
   "source": [
    "# Generating predictions for the training set\n",
    "\n",
    "train_preds = ridge.predict(X_train_ss)\n",
    "\n",
    "# Generating Predictions for the testing set\n",
    "\n",
    "ridge_preds = ridge.predict(X_test_ss)"
   ]
  },
  {
   "cell_type": "markdown",
   "metadata": {},
   "source": [
    "Becuase the RidgeCV and following models use scaled data, they lose the feature columns and instead use arrays of data.  For this reason, an adjusted r<sup>2</sup> cannot be used."
   ]
  },
  {
   "cell_type": "code",
   "execution_count": 35,
   "metadata": {},
   "outputs": [
    {
     "name": "stdout",
     "output_type": "stream",
     "text": [
      "The root mean squared error is : 16.42040617933562\n",
      "The mean absolute error is     : 12.115056107447613\n",
      "The r2 score is                : 0.9258123423478851\n"
     ]
    }
   ],
   "source": [
    "model_evaluation_nor2adj(y_train, train_preds)"
   ]
  },
  {
   "cell_type": "code",
   "execution_count": 36,
   "metadata": {},
   "outputs": [
    {
     "name": "stdout",
     "output_type": "stream",
     "text": [
      "The root mean squared error is : 17.4627798093733\n",
      "The mean absolute error is     : 12.93357119857244\n",
      "The r2 score is                : 0.9238515732348865\n"
     ]
    }
   ],
   "source": [
    "model_evaluation_nor2adj(y_test, ridge_preds)"
   ]
  },
  {
   "cell_type": "markdown",
   "metadata": {},
   "source": [
    "This Ridge model's performance is very similar to the linear model's performance which was surprising to us because we had expected the regularization to improve its performance."
   ]
  },
  {
   "cell_type": "markdown",
   "metadata": {},
   "source": [
    "#### Engineered Subset"
   ]
  },
  {
   "cell_type": "code",
   "execution_count": 37,
   "metadata": {},
   "outputs": [],
   "source": [
    "# Instantiating the ridge model\n",
    "\n",
    "ridge_2 = RidgeCV()"
   ]
  },
  {
   "cell_type": "code",
   "execution_count": 38,
   "metadata": {},
   "outputs": [],
   "source": [
    "# Fitting the ridge model to the data\n",
    "# with engineered features.\n",
    "\n",
    "ridge_2.fit(X_train_eng_ss, y_train_eng);"
   ]
  },
  {
   "cell_type": "code",
   "execution_count": 39,
   "metadata": {},
   "outputs": [],
   "source": [
    "# Generating predictions for the trianing data\n",
    "\n",
    "train_preds = ridge_2.predict(X_train_eng_ss)\n",
    "\n",
    "# Generating Predictions\n",
    "\n",
    "ridge_2_preds = ridge_2.predict(X_test_eng_ss)"
   ]
  },
  {
   "cell_type": "code",
   "execution_count": 40,
   "metadata": {},
   "outputs": [
    {
     "name": "stdout",
     "output_type": "stream",
     "text": [
      "The root mean squared error is : 23.307036851719992\n",
      "The mean absolute error is     : 14.59437914664354\n",
      "The r2 score is                : 0.8505355207205694\n"
     ]
    }
   ],
   "source": [
    "model_evaluation_nor2adj(y_train_eng, train_preds)"
   ]
  },
  {
   "cell_type": "code",
   "execution_count": 41,
   "metadata": {},
   "outputs": [
    {
     "name": "stdout",
     "output_type": "stream",
     "text": [
      "The root mean squared error is : 23.11285690232428\n",
      "The mean absolute error is     : 15.236579363787632\n",
      "The r2 score is                : 0.8666044198319497\n"
     ]
    }
   ],
   "source": [
    "model_evaluation_nor2adj(y_test_eng, ridge_2_preds)"
   ]
  },
  {
   "cell_type": "markdown",
   "metadata": {},
   "source": [
    "[Top](#Table-Of-Contents)"
   ]
  },
  {
   "cell_type": "markdown",
   "metadata": {},
   "source": [
    "### LASSO"
   ]
  },
  {
   "cell_type": "markdown",
   "metadata": {},
   "source": [
    "LASSO (Least Absolute Shrinkage and Selection Operator) is conceptually similar to Ridge in that it penalizes coefficients, but it uses $\\ell$<sub>2</sub> regularization which actually reduces the coefficients of unimportant features to exactly 0.\n",
    "\n",
    "LASSO also needs to have the features on the same scale."
   ]
  },
  {
   "cell_type": "markdown",
   "metadata": {},
   "source": [
    "#### Original Set"
   ]
  },
  {
   "cell_type": "code",
   "execution_count": 42,
   "metadata": {},
   "outputs": [],
   "source": [
    "# Instantiating the LASSO model\n",
    "\n",
    "lasso = LassoCV()"
   ]
  },
  {
   "cell_type": "code",
   "execution_count": 43,
   "metadata": {},
   "outputs": [
    {
     "name": "stderr",
     "output_type": "stream",
     "text": [
      "C:\\Users\\andre\\Anaconda3\\lib\\site-packages\\sklearn\\model_selection\\_split.py:1978: FutureWarning: The default value of cv will change from 3 to 5 in version 0.22. Specify it explicitly to silence this warning.\n",
      "  warnings.warn(CV_WARNING, FutureWarning)\n"
     ]
    },
    {
     "data": {
      "text/plain": [
       "LassoCV(alphas=None, copy_X=True, cv='warn', eps=0.001, fit_intercept=True,\n",
       "        max_iter=1000, n_alphas=100, n_jobs=None, normalize=False,\n",
       "        positive=False, precompute='auto', random_state=None,\n",
       "        selection='cyclic', tol=0.0001, verbose=False)"
      ]
     },
     "execution_count": 43,
     "metadata": {},
     "output_type": "execute_result"
    }
   ],
   "source": [
    "# Fitting the lasso to my training data\n",
    "# without engineered features\n",
    "\n",
    "lasso.fit(X_train_ss, y_train)"
   ]
  },
  {
   "cell_type": "code",
   "execution_count": 44,
   "metadata": {},
   "outputs": [],
   "source": [
    "# Generating predictions for the training data\n",
    "\n",
    "train_preds = lasso.predict(X_train_ss)\n",
    "\n",
    "# Generating predictions for the testing data\n",
    "\n",
    "lasso_preds = lasso.predict(X_test_ss)"
   ]
  },
  {
   "cell_type": "code",
   "execution_count": 45,
   "metadata": {},
   "outputs": [
    {
     "name": "stdout",
     "output_type": "stream",
     "text": [
      "The root mean squared error is : 16.464926023979082\n",
      "The mean absolute error is     : 12.132529959476345\n",
      "The r2 score is                : 0.925409514263332\n"
     ]
    }
   ],
   "source": [
    "model_evaluation_nor2adj(y_train, train_preds)"
   ]
  },
  {
   "cell_type": "code",
   "execution_count": 46,
   "metadata": {},
   "outputs": [
    {
     "name": "stdout",
     "output_type": "stream",
     "text": [
      "The root mean squared error is : 17.452841587008194\n",
      "The mean absolute error is     : 12.939964432287836\n",
      "The r2 score is                : 0.9239382220572515\n"
     ]
    }
   ],
   "source": [
    "model_evaluation_nor2adj(y_test, lasso_preds)"
   ]
  },
  {
   "cell_type": "markdown",
   "metadata": {},
   "source": [
    "#### Engineered Subset"
   ]
  },
  {
   "cell_type": "code",
   "execution_count": 47,
   "metadata": {},
   "outputs": [],
   "source": [
    "# Instantiating the lasso model\n",
    "\n",
    "lasso_2 = LassoCV()"
   ]
  },
  {
   "cell_type": "code",
   "execution_count": 48,
   "metadata": {},
   "outputs": [
    {
     "name": "stderr",
     "output_type": "stream",
     "text": [
      "C:\\Users\\andre\\Anaconda3\\lib\\site-packages\\sklearn\\model_selection\\_split.py:1978: FutureWarning: The default value of cv will change from 3 to 5 in version 0.22. Specify it explicitly to silence this warning.\n",
      "  warnings.warn(CV_WARNING, FutureWarning)\n"
     ]
    },
    {
     "data": {
      "text/plain": [
       "LassoCV(alphas=None, copy_X=True, cv='warn', eps=0.001, fit_intercept=True,\n",
       "        max_iter=1000, n_alphas=100, n_jobs=None, normalize=False,\n",
       "        positive=False, precompute='auto', random_state=None,\n",
       "        selection='cyclic', tol=0.0001, verbose=False)"
      ]
     },
     "execution_count": 48,
     "metadata": {},
     "output_type": "execute_result"
    }
   ],
   "source": [
    "# Fitting the lasso to my training data\n",
    "# with engineered features\n",
    "\n",
    "lasso_2.fit(X_train_eng_ss, y_train_eng)"
   ]
  },
  {
   "cell_type": "code",
   "execution_count": 49,
   "metadata": {},
   "outputs": [],
   "source": [
    "# Generating predictions for the training data\n",
    "\n",
    "train_preds = lasso_2.predict(X_train_eng_ss)\n",
    "\n",
    "# Generating predictions for the testing data\n",
    "\n",
    "lasso_2_preds = lasso_2.predict(X_test_eng_ss)"
   ]
  },
  {
   "cell_type": "code",
   "execution_count": 50,
   "metadata": {},
   "outputs": [
    {
     "name": "stdout",
     "output_type": "stream",
     "text": [
      "The root mean squared error is : 23.332976290429542\n",
      "The mean absolute error is     : 14.649484238864776\n",
      "The r2 score is                : 0.8502026442437456\n"
     ]
    }
   ],
   "source": [
    "model_evaluation_nor2adj(y_train, train_preds)"
   ]
  },
  {
   "cell_type": "code",
   "execution_count": 51,
   "metadata": {},
   "outputs": [
    {
     "name": "stdout",
     "output_type": "stream",
     "text": [
      "The root mean squared error is : 23.166184744532803\n",
      "The mean absolute error is     : 15.294185552657328\n",
      "The r2 score is                : 0.8659881476740601\n"
     ]
    }
   ],
   "source": [
    "model_evaluation_nor2adj(y_test_eng, lasso_2_preds)"
   ]
  },
  {
   "cell_type": "markdown",
   "metadata": {},
   "source": [
    "[Top](#Table-Of-Contents)"
   ]
  },
  {
   "cell_type": "markdown",
   "metadata": {},
   "source": [
    "### ElasticNetCV"
   ]
  },
  {
   "cell_type": "markdown",
   "metadata": {},
   "source": [
    "Elastic net models are similar to both Ridge _and_ LASSO models: they are a compromise between the $\\ell$<sub>1</sub> and$\\ell$<sub>2</sub> regularizations.  In practice the model drives down non-significant features but does not remove them entirely.\n",
    "\n",
    "-----\n",
    "\n",
    "Like the Ridge and LASSO models, an ElasticNet needs to have the data be on the same scale."
   ]
  },
  {
   "cell_type": "markdown",
   "metadata": {},
   "source": [
    "#### Original Set"
   ]
  },
  {
   "cell_type": "code",
   "execution_count": 52,
   "metadata": {},
   "outputs": [],
   "source": [
    "# Instantiating the model\n",
    "\n",
    "enet = ElasticNetCV()"
   ]
  },
  {
   "cell_type": "code",
   "execution_count": 53,
   "metadata": {},
   "outputs": [
    {
     "name": "stderr",
     "output_type": "stream",
     "text": [
      "C:\\Users\\andre\\Anaconda3\\lib\\site-packages\\sklearn\\model_selection\\_split.py:1978: FutureWarning: The default value of cv will change from 3 to 5 in version 0.22. Specify it explicitly to silence this warning.\n",
      "  warnings.warn(CV_WARNING, FutureWarning)\n"
     ]
    },
    {
     "data": {
      "text/plain": [
       "ElasticNetCV(alphas=None, copy_X=True, cv='warn', eps=0.001, fit_intercept=True,\n",
       "             l1_ratio=0.5, max_iter=1000, n_alphas=100, n_jobs=None,\n",
       "             normalize=False, positive=False, precompute='auto',\n",
       "             random_state=None, selection='cyclic', tol=0.0001, verbose=0)"
      ]
     },
     "execution_count": 53,
     "metadata": {},
     "output_type": "execute_result"
    }
   ],
   "source": [
    "# Fitting the model to the \n",
    "# original data set\n",
    "\n",
    "enet.fit(X_train_ss, y_train)"
   ]
  },
  {
   "cell_type": "code",
   "execution_count": 54,
   "metadata": {},
   "outputs": [],
   "source": [
    "# Generating training predictions\n",
    "\n",
    "train_preds = enet.predict(X_train_ss)\n",
    "\n",
    "# Generating testing predictions\n",
    "\n",
    "enet_preds = enet.predict(X_test_ss)"
   ]
  },
  {
   "cell_type": "code",
   "execution_count": 55,
   "metadata": {},
   "outputs": [
    {
     "name": "stdout",
     "output_type": "stream",
     "text": [
      "The root mean squared error is : 18.00526616920079\n",
      "The mean absolute error is     : 13.804343899364056\n",
      "The r2 score is                : 0.9108003891975689\n"
     ]
    }
   ],
   "source": [
    "model_evaluation_nor2adj(y_train, train_preds)"
   ]
  },
  {
   "cell_type": "code",
   "execution_count": 56,
   "metadata": {},
   "outputs": [
    {
     "name": "stdout",
     "output_type": "stream",
     "text": [
      "The root mean squared error is : 18.71825193430591\n",
      "The mean absolute error is     : 14.381573761551651\n",
      "The r2 score is                : 0.912508722920664\n"
     ]
    }
   ],
   "source": [
    "model_evaluation_nor2adj(y_test, enet_preds)"
   ]
  },
  {
   "cell_type": "markdown",
   "metadata": {},
   "source": [
    "#### Engineered Subset"
   ]
  },
  {
   "cell_type": "code",
   "execution_count": 57,
   "metadata": {},
   "outputs": [],
   "source": [
    "# Instantiatig the model\n",
    "\n",
    "enet_2 = ElasticNetCV()"
   ]
  },
  {
   "cell_type": "code",
   "execution_count": 58,
   "metadata": {},
   "outputs": [
    {
     "name": "stderr",
     "output_type": "stream",
     "text": [
      "C:\\Users\\andre\\Anaconda3\\lib\\site-packages\\sklearn\\model_selection\\_split.py:1978: FutureWarning: The default value of cv will change from 3 to 5 in version 0.22. Specify it explicitly to silence this warning.\n",
      "  warnings.warn(CV_WARNING, FutureWarning)\n"
     ]
    },
    {
     "data": {
      "text/plain": [
       "ElasticNetCV(alphas=None, copy_X=True, cv='warn', eps=0.001, fit_intercept=True,\n",
       "             l1_ratio=0.5, max_iter=1000, n_alphas=100, n_jobs=None,\n",
       "             normalize=False, positive=False, precompute='auto',\n",
       "             random_state=None, selection='cyclic', tol=0.0001, verbose=0)"
      ]
     },
     "execution_count": 58,
     "metadata": {},
     "output_type": "execute_result"
    }
   ],
   "source": [
    "# Fitting the model to the data\n",
    "# with engineered features\n",
    "\n",
    "enet_2.fit(X_train_eng_ss, y_train_eng)"
   ]
  },
  {
   "cell_type": "code",
   "execution_count": 59,
   "metadata": {},
   "outputs": [],
   "source": [
    "# Generating training predictions\n",
    "\n",
    "train_preds = enet_2.predict(X_train_eng_ss)\n",
    "\n",
    "# Generating testing predictions\n",
    "\n",
    "enet_2_preds = enet_2.predict(X_test_eng_ss)"
   ]
  },
  {
   "cell_type": "code",
   "execution_count": 60,
   "metadata": {},
   "outputs": [
    {
     "name": "stdout",
     "output_type": "stream",
     "text": [
      "The root mean squared error is : 24.750636813677065\n",
      "The mean absolute error is     : 16.218553615656663\n",
      "The r2 score is                : 0.8314469472575524\n"
     ]
    }
   ],
   "source": [
    "model_evaluation_nor2adj(y_train_eng, train_preds)"
   ]
  },
  {
   "cell_type": "code",
   "execution_count": 61,
   "metadata": {},
   "outputs": [
    {
     "name": "stdout",
     "output_type": "stream",
     "text": [
      "The root mean squared error is : 24.881057382163224\n",
      "The mean absolute error is     : 16.691842447714198\n",
      "The r2 score is                : 0.845413400147587\n"
     ]
    }
   ],
   "source": [
    "model_evaluation_nor2adj(y_test_eng, enet_2_preds)"
   ]
  },
  {
   "cell_type": "markdown",
   "metadata": {},
   "source": [
    "[Top](#Table-Of-Contents)"
   ]
  },
  {
   "cell_type": "markdown",
   "metadata": {},
   "source": [
    "### Random Forest Regression"
   ]
  },
  {
   "cell_type": "markdown",
   "metadata": {},
   "source": [
    "A random forest regressor works by bagging (bootstrap aggregation) random samples of the original dataframe and uses a metric (in our case MSE) to determine the quality of a split.  When it comes to predicting, it generates the mean of each node.\n",
    "\n",
    "We chose to use a pipeline to make it easier for us to find optimal hyperparameter values; hyperparameters are parameters defined by the individual running the code."
   ]
  },
  {
   "cell_type": "markdown",
   "metadata": {},
   "source": [
    "#### Original Set"
   ]
  },
  {
   "cell_type": "code",
   "execution_count": 62,
   "metadata": {},
   "outputs": [],
   "source": [
    "# Instantiating the pipeline\n",
    "\n",
    "rfr_pipe = Pipeline([(\"rfr\", RandomForestRegressor(random_state = 42))])"
   ]
  },
  {
   "cell_type": "code",
   "execution_count": 63,
   "metadata": {},
   "outputs": [
    {
     "data": {
      "text/plain": [
       "{'rfr__max_depth': None,\n",
       " 'rfr__min_samples_leaf': 2,\n",
       " 'rfr__min_samples_split': 10,\n",
       " 'rfr__n_estimators': 35,\n",
       " 'rfr__n_jobs': 6}"
      ]
     },
     "execution_count": 63,
     "metadata": {},
     "output_type": "execute_result"
    }
   ],
   "source": [
    "# Setting the values for the gridsearch\n",
    "# These are the optimized values\n",
    "\n",
    "params = {\"rfr__n_estimators\"     : [35],\n",
    "          \"rfr__max_depth\"        : [None],\n",
    "          \"rfr__min_samples_split\": [10],\n",
    "          \"rfr__min_samples_leaf\" : [2,],\n",
    "          \"rfr__n_jobs\"           : [6]}\n",
    "\n",
    "# Instantiating the gridsearch\n",
    "\n",
    "rfr_gs = GridSearchCV(rfr_pipe, \n",
    "                      param_grid = params,\n",
    "                      cv         = 5)\n",
    "\n",
    "# Fitting the gridsearch to the training data\n",
    "\n",
    "rfr_gs.fit(X_train, y_train);\n",
    "\n",
    "# Getting the best parameters\n",
    "\n",
    "rfr_gs.best_params_"
   ]
  },
  {
   "cell_type": "code",
   "execution_count": 64,
   "metadata": {},
   "outputs": [],
   "source": [
    "# Generating training predictions\n",
    "\n",
    "train_preds = rfr_gs.predict(X_train)\n",
    "\n",
    "# Generating testing predictions\n",
    "\n",
    "rfr_preds = rfr_gs.predict(X_test)"
   ]
  },
  {
   "cell_type": "code",
   "execution_count": 65,
   "metadata": {},
   "outputs": [
    {
     "name": "stdout",
     "output_type": "stream",
     "text": [
      "The root mean squared error is : 4.426234051218963\n",
      "The mean absolute error is     : 1.9267013511015492\n",
      "The r2 score is                : 0.994609455724008\n",
      "The adjusted r2 score is       : 0.9945696762325695\n"
     ]
    }
   ],
   "source": [
    "model_evaluation(X_train, y_train, train_preds)"
   ]
  },
  {
   "cell_type": "code",
   "execution_count": 66,
   "metadata": {},
   "outputs": [
    {
     "name": "stdout",
     "output_type": "stream",
     "text": [
      "The root mean squared error is : 5.750231631733555\n",
      "The mean absolute error is     : 2.907834110888434\n",
      "The r2 score is                : 0.9917433313156421\n",
      "The adjusted r2 score is       : 0.9916824012751074\n"
     ]
    }
   ],
   "source": [
    "model_evaluation(X_test, y_test, rfr_preds)"
   ]
  },
  {
   "cell_type": "markdown",
   "metadata": {},
   "source": [
    "#### Engineered Subset"
   ]
  },
  {
   "cell_type": "code",
   "execution_count": 67,
   "metadata": {},
   "outputs": [
    {
     "data": {
      "text/plain": [
       "{'rfr__max_depth': None,\n",
       " 'rfr__min_samples_leaf': 2,\n",
       " 'rfr__min_samples_split': 2,\n",
       " 'rfr__n_estimators': 35,\n",
       " 'rfr__n_jobs': 6}"
      ]
     },
     "execution_count": 67,
     "metadata": {},
     "output_type": "execute_result"
    }
   ],
   "source": [
    "# Setting the values for the gridsearch\n",
    "# These are the optimized values\n",
    "\n",
    "params = {\"rfr__n_estimators\"     : [35],\n",
    "          \"rfr__max_depth\"        : [None],\n",
    "          \"rfr__min_samples_split\": [2],\n",
    "          \"rfr__min_samples_leaf\" : [2],\n",
    "          \"rfr__n_jobs\"           : [6]}\n",
    "\n",
    "# Instantiating the gridsearch\n",
    "\n",
    "rfr_2_gs = GridSearchCV(rfr_pipe, \n",
    "                        param_grid = params,\n",
    "                        cv         = 5)\n",
    "\n",
    "# Fitting the gridsearch to the training data\n",
    "\n",
    "rfr_2_gs.fit(X_train_eng, y_train_eng);\n",
    "\n",
    "# Getting the best parameters\n",
    "\n",
    "rfr_2_gs.best_params_"
   ]
  },
  {
   "cell_type": "code",
   "execution_count": 68,
   "metadata": {},
   "outputs": [],
   "source": [
    "# Generating training predictions\n",
    "\n",
    "train_preds = rfr_2_gs.predict(X_train_eng)\n",
    "\n",
    "# Generating testing predictions\n",
    "\n",
    "rfr_2_preds = rfr_2_gs.predict(X_test_eng)"
   ]
  },
  {
   "cell_type": "code",
   "execution_count": 69,
   "metadata": {},
   "outputs": [
    {
     "name": "stdout",
     "output_type": "stream",
     "text": [
      "The root mean squared error is : 3.5809933246840426\n",
      "The mean absolute error is     : 1.4378725598907294\n",
      "The r2 score is                : 0.9964716562433406\n",
      "The adjusted r2 score is       : 0.9964606232734948\n"
     ]
    }
   ],
   "source": [
    "model_evaluation(X_train_eng, y_train_eng, train_preds)"
   ]
  },
  {
   "cell_type": "code",
   "execution_count": 70,
   "metadata": {},
   "outputs": [
    {
     "name": "stdout",
     "output_type": "stream",
     "text": [
      "The root mean squared error is : 5.429875875269961\n",
      "The mean absolute error is     : 2.770788142777462\n",
      "The r2 score is                : 0.9926376919827254\n",
      "The adjusted r2 score is       : 0.9926146703816708\n"
     ]
    }
   ],
   "source": [
    "model_evaluation(X_test_eng, y_test_eng, rfr_2_preds)"
   ]
  },
  {
   "cell_type": "markdown",
   "metadata": {},
   "source": [
    "[Top](#Table-Of-Contents)"
   ]
  },
  {
   "cell_type": "markdown",
   "metadata": {},
   "source": [
    "### XGBoosting"
   ]
  },
  {
   "cell_type": "markdown",
   "metadata": {},
   "source": [
    "#### Original Set"
   ]
  },
  {
   "cell_type": "code",
   "execution_count": 71,
   "metadata": {},
   "outputs": [],
   "source": [
    "# Instantiating the xgboost regressor\n",
    "\n",
    "xgbr = xgb.XGBRegressor()"
   ]
  },
  {
   "cell_type": "code",
   "execution_count": 72,
   "metadata": {},
   "outputs": [
    {
     "name": "stdout",
     "output_type": "stream",
     "text": [
      "[16:44:42] WARNING: C:/Jenkins/workspace/xgboost-win64_release_0.90/src/objective/regression_obj.cu:152: reg:linear is now deprecated in favor of reg:squarederror.\n"
     ]
    },
    {
     "name": "stderr",
     "output_type": "stream",
     "text": [
      "C:\\Users\\andre\\Anaconda3\\lib\\site-packages\\xgboost\\core.py:587: FutureWarning: Series.base is deprecated and will be removed in a future version\n",
      "  if getattr(data, 'base', None) is not None and \\\n"
     ]
    }
   ],
   "source": [
    "# Fitting to my training data\n",
    "\n",
    "xgbr.fit(X_train, y_train);"
   ]
  },
  {
   "cell_type": "code",
   "execution_count": 73,
   "metadata": {},
   "outputs": [],
   "source": [
    "# Generating training predictions\n",
    "\n",
    "train_preds = xgbr.predict(X_train)\n",
    "\n",
    "# Generating testing predictions\n",
    "\n",
    "xgbr_preds = xgbr.predict(X_test)"
   ]
  },
  {
   "cell_type": "code",
   "execution_count": 74,
   "metadata": {},
   "outputs": [
    {
     "name": "stdout",
     "output_type": "stream",
     "text": [
      "The root mean squared error is : 5.8451301412383945\n",
      "The mean absolute error is     : 3.4419462508394236\n",
      "The r2 score is                : 0.9905994722022834\n",
      "The adjusted r2 score is       : 0.9905301010597976\n"
     ]
    }
   ],
   "source": [
    "model_evaluation(X_train, y_train, train_preds)"
   ]
  },
  {
   "cell_type": "code",
   "execution_count": 75,
   "metadata": {},
   "outputs": [
    {
     "name": "stdout",
     "output_type": "stream",
     "text": [
      "The root mean squared error is : 6.8018837951461775\n",
      "The mean absolute error is     : 4.012041278494482\n",
      "The r2 score is                : 0.9884470579360995\n",
      "The adjusted r2 score is       : 0.9883618030645336\n"
     ]
    }
   ],
   "source": [
    "model_evaluation(X_test, y_test, xgbr_preds)"
   ]
  },
  {
   "cell_type": "code",
   "execution_count": 76,
   "metadata": {},
   "outputs": [
    {
     "data": {
      "text/html": [
       "<table style=\"display:inline\" border=\"1\" class=\"dataframe\">\n",
       "  <thead>\n",
       "    <tr style=\"text-align: right;\">\n",
       "      <th></th>\n",
       "      <th>XGBR_Org</th>\n",
       "    </tr>\n",
       "  </thead>\n",
       "  <tbody>\n",
       "    <tr>\n",
       "      <th>lvesv</th>\n",
       "      <td>0.752125</td>\n",
       "    </tr>\n",
       "    <tr>\n",
       "      <th>lvef</th>\n",
       "      <td>0.098452</td>\n",
       "    </tr>\n",
       "    <tr>\n",
       "      <th>sex</th>\n",
       "      <td>0.066943</td>\n",
       "    </tr>\n",
       "    <tr>\n",
       "      <th>age</th>\n",
       "      <td>0.033713</td>\n",
       "    </tr>\n",
       "    <tr>\n",
       "      <th>aortic_reg</th>\n",
       "      <td>0.018858</td>\n",
       "    </tr>\n",
       "  </tbody>\n",
       "</table style=\"display:inline\"><table style=\"display:inline\" border=\"1\" class=\"dataframe\">\n",
       "  <thead>\n",
       "    <tr style=\"text-align: right;\">\n",
       "      <th></th>\n",
       "      <th>XGBR_Org</th>\n",
       "    </tr>\n",
       "  </thead>\n",
       "  <tbody>\n",
       "    <tr>\n",
       "      <th>mas_he</th>\n",
       "      <td>0.0</td>\n",
       "    </tr>\n",
       "    <tr>\n",
       "      <th>mis_he</th>\n",
       "      <td>0.0</td>\n",
       "    </tr>\n",
       "    <tr>\n",
       "      <th>mi_he</th>\n",
       "      <td>0.0</td>\n",
       "    </tr>\n",
       "    <tr>\n",
       "      <th>mil_he</th>\n",
       "      <td>0.0</td>\n",
       "    </tr>\n",
       "    <tr>\n",
       "      <th>smoker_status_never</th>\n",
       "      <td>0.0</td>\n",
       "    </tr>\n",
       "  </tbody>\n",
       "</table style=\"display:inline\">"
      ]
     },
     "metadata": {},
     "output_type": "display_data"
    }
   ],
   "source": [
    "# Creating a coefficients dataframe\n",
    "\n",
    "xgbr_org = pd.DataFrame(data    = xgbr.feature_importances_,\n",
    "                        index   = X_test.columns,\n",
    "                        columns = [\"XGBR_Org\"])\n",
    "\n",
    "#Sorting for the head and tail five coefficients\n",
    "\n",
    "head = xgbr_org.sort_values(by = \"XGBR_Org\", ascending = False).head()\n",
    "tail = xgbr_org.sort_values(by = \"XGBR_Org\", ascending = False).tail()\n",
    "\n",
    "display_side_by_side(head,tail)"
   ]
  },
  {
   "cell_type": "markdown",
   "metadata": {},
   "source": [
    "#### Engineered Subset"
   ]
  },
  {
   "cell_type": "code",
   "execution_count": 77,
   "metadata": {},
   "outputs": [],
   "source": [
    "xgbr_2 = xgb.XGBRegressor()"
   ]
  },
  {
   "cell_type": "code",
   "execution_count": 78,
   "metadata": {},
   "outputs": [
    {
     "name": "stdout",
     "output_type": "stream",
     "text": [
      "[16:44:43] WARNING: C:/Jenkins/workspace/xgboost-win64_release_0.90/src/objective/regression_obj.cu:152: reg:linear is now deprecated in favor of reg:squarederror.\n"
     ]
    },
    {
     "name": "stderr",
     "output_type": "stream",
     "text": [
      "C:\\Users\\andre\\Anaconda3\\lib\\site-packages\\xgboost\\core.py:587: FutureWarning: Series.base is deprecated and will be removed in a future version\n",
      "  if getattr(data, 'base', None) is not None and \\\n"
     ]
    }
   ],
   "source": [
    "xgbr_2.fit(X_train_eng, y_train_eng);"
   ]
  },
  {
   "cell_type": "code",
   "execution_count": 79,
   "metadata": {},
   "outputs": [],
   "source": [
    "train_preds = xgbr_2.predict(X_train_eng)"
   ]
  },
  {
   "cell_type": "code",
   "execution_count": 80,
   "metadata": {},
   "outputs": [],
   "source": [
    "xgbr_2_preds = xgbr_2.predict(X_test_eng)"
   ]
  },
  {
   "cell_type": "code",
   "execution_count": 81,
   "metadata": {},
   "outputs": [
    {
     "name": "stdout",
     "output_type": "stream",
     "text": [
      "The root mean squared error is : 5.823299294635276\n",
      "The mean absolute error is     : 3.392328765723275\n",
      "The r2 score is                : 0.9906695607159071\n",
      "The adjusted r2 score is       : 0.9906403848582332\n"
     ]
    }
   ],
   "source": [
    "model_evaluation(X_train_eng, y_train_eng, train_preds)"
   ]
  },
  {
   "cell_type": "code",
   "execution_count": 82,
   "metadata": {},
   "outputs": [
    {
     "name": "stdout",
     "output_type": "stream",
     "text": [
      "The root mean squared error is : 6.787066758204617\n",
      "The mean absolute error is     : 3.9613246715700146\n",
      "The r2 score is                : 0.98849733633755\n",
      "The adjusted r2 score is       : 0.9884613680334148\n"
     ]
    }
   ],
   "source": [
    "model_evaluation(X_test_eng, y_test_eng, xgbr_2_preds)"
   ]
  },
  {
   "cell_type": "code",
   "execution_count": 83,
   "metadata": {},
   "outputs": [
    {
     "data": {
      "text/html": [
       "<table style=\"display:inline\" border=\"1\" class=\"dataframe\">\n",
       "  <thead>\n",
       "    <tr style=\"text-align: right;\">\n",
       "      <th></th>\n",
       "      <th>XGBR_Eng</th>\n",
       "    </tr>\n",
       "  </thead>\n",
       "  <tbody>\n",
       "    <tr>\n",
       "      <th>lvesv_log</th>\n",
       "      <td>0.768933</td>\n",
       "    </tr>\n",
       "    <tr>\n",
       "      <th>lvef</th>\n",
       "      <td>0.098857</td>\n",
       "    </tr>\n",
       "    <tr>\n",
       "      <th>sex</th>\n",
       "      <td>0.052479</td>\n",
       "    </tr>\n",
       "    <tr>\n",
       "      <th>age</th>\n",
       "      <td>0.038210</td>\n",
       "    </tr>\n",
       "    <tr>\n",
       "      <th>apical_ischemia</th>\n",
       "      <td>0.016051</td>\n",
       "    </tr>\n",
       "  </tbody>\n",
       "</table style=\"display:inline\"><table style=\"display:inline\" border=\"1\" class=\"dataframe\">\n",
       "  <thead>\n",
       "    <tr style=\"text-align: right;\">\n",
       "      <th></th>\n",
       "      <th>XGBR_Eng</th>\n",
       "    </tr>\n",
       "  </thead>\n",
       "  <tbody>\n",
       "    <tr>\n",
       "      <th>basal_he</th>\n",
       "      <td>0.0</td>\n",
       "    </tr>\n",
       "    <tr>\n",
       "      <th>mid_he</th>\n",
       "      <td>0.0</td>\n",
       "    </tr>\n",
       "    <tr>\n",
       "      <th>basal_ischemia</th>\n",
       "      <td>0.0</td>\n",
       "    </tr>\n",
       "    <tr>\n",
       "      <th>mid_ischemia</th>\n",
       "      <td>0.0</td>\n",
       "    </tr>\n",
       "    <tr>\n",
       "      <th>tricusp_reg</th>\n",
       "      <td>0.0</td>\n",
       "    </tr>\n",
       "  </tbody>\n",
       "</table style=\"display:inline\">"
      ]
     },
     "metadata": {},
     "output_type": "display_data"
    }
   ],
   "source": [
    "# Creating a coefficients dataframe\n",
    "\n",
    "xgbr_eng = pd.DataFrame(data    = xgbr_2.feature_importances_,\n",
    "                        index   = X_test_eng.columns,\n",
    "                        columns = [\"XGBR_Eng\"])\n",
    "\n",
    "#Sorting for the head and tail five coefficients\n",
    "\n",
    "head = xgbr_eng.sort_values(by = \"XGBR_Eng\", ascending = False).head()\n",
    "tail = xgbr_eng.sort_values(by = \"XGBR_Eng\", ascending = False).tail()\n",
    "\n",
    "display_side_by_side(head,tail)"
   ]
  },
  {
   "cell_type": "markdown",
   "metadata": {},
   "source": [
    "[Top](#Table-Of-Contents)"
   ]
  },
  {
   "cell_type": "markdown",
   "metadata": {},
   "source": [
    "### Prediction Dataframes"
   ]
  },
  {
   "cell_type": "markdown",
   "metadata": {},
   "source": [
    "#### Original Features"
   ]
  },
  {
   "cell_type": "code",
   "execution_count": 84,
   "metadata": {},
   "outputs": [],
   "source": [
    "# Creating a dataframe out of the four sets of predictions\n",
    "# and the y_test true values for comparison\n",
    "\n",
    "org_model_predictions = pd.DataFrame([np.array(y_test), lr_preds, ridge_preds, \n",
    "                                      lasso_preds, enet_preds, rfr_preds, xgbr_preds])\n",
    "\n",
    "# Transposing the dataframe so it has five columns\n",
    "\n",
    "org_model_predictions = org_model_predictions.T\n",
    "\n",
    "# Renaming the columns for each model\n",
    "\n",
    "org_model_predictions.rename({0: \"Actual\", 1: \"Linear Reg.\", 2: \"RidgeCV\",\n",
    "                              3: \"LassoCV\", 4: \"ElasticNetCV\", 5: \"Random Forest Reg.\",\n",
    "                              6: \"XGBoost Reg.\"}, \n",
    "                              axis = 1,\n",
    "                              inplace = True)\n",
    "\n",
    "# Setting the index to the X_test index\n",
    "# and sorting from lowest to highest\n",
    "\n",
    "org_model_predictions = org_model_predictions.set_index(X_test.index).sort_index(ascending = True)\n",
    "\n",
    "# Saving as a .csv file\n",
    "\n",
    "org_model_predictions.to_csv(\"../Data/original_model_predictions.csv\")"
   ]
  },
  {
   "cell_type": "markdown",
   "metadata": {},
   "source": [
    "#### Engineered Features"
   ]
  },
  {
   "cell_type": "code",
   "execution_count": 85,
   "metadata": {},
   "outputs": [],
   "source": [
    "# Creating a dataframe out of the four sets of predictions\n",
    "# and the y_test true values for comparison\n",
    "\n",
    "eng_model_predictions = pd.DataFrame([np.array(y_test_eng), lr_2_preds, ridge_2_preds, \n",
    "                                     lasso_2_preds, enet_2_preds, rfr_2_preds, xgbr_2_preds])\n",
    "\n",
    "# Transposing the dataframe so it has five columns\n",
    "\n",
    "eng_model_predictions = eng_model_predictions.T\n",
    "\n",
    "# Renaming the columns for each model\n",
    "\n",
    "eng_model_predictions.rename({0: \"Actual\", 1: \"Linear Reg.\", 2: \"RidgeCV\",\n",
    "                              3: \"LassoCV\", 4: \"ElasticNetCV\", 5: \"Random Forest Reg.\",\n",
    "                              6: \"XGBoost Reg.\"}, \n",
    "                              axis = 1,\n",
    "                              inplace = True)\n",
    "\n",
    "# Setting the index to the X_test index\n",
    "# and sorting from lowest to highest\n",
    "\n",
    "eng_model_predictions = eng_model_predictions.set_index(X_test.index).sort_index(ascending = True)\n",
    "\n",
    "# Saving as a .csv file\n",
    "\n",
    "eng_model_predictions.to_csv(\"../Data/engineered_model_predictions.csv\")"
   ]
  },
  {
   "cell_type": "markdown",
   "metadata": {},
   "source": [
    "#### Reading In The Files"
   ]
  },
  {
   "cell_type": "code",
   "execution_count": 86,
   "metadata": {},
   "outputs": [],
   "source": [
    "original_features   = pd.read_csv(\"../Data/original_model_predictions.csv\", index_col = 0)\n",
    "engineered_features = pd.read_csv(\"../Data/engineered_model_predictions.csv\", index_col = 0)"
   ]
  },
  {
   "cell_type": "code",
   "execution_count": 87,
   "metadata": {},
   "outputs": [
    {
     "data": {
      "text/html": [
       "<div>\n",
       "<style scoped>\n",
       "    .dataframe tbody tr th:only-of-type {\n",
       "        vertical-align: middle;\n",
       "    }\n",
       "\n",
       "    .dataframe tbody tr th {\n",
       "        vertical-align: top;\n",
       "    }\n",
       "\n",
       "    .dataframe thead th {\n",
       "        text-align: right;\n",
       "    }\n",
       "</style>\n",
       "<table border=\"1\" class=\"dataframe\">\n",
       "  <thead>\n",
       "    <tr style=\"text-align: right;\">\n",
       "      <th></th>\n",
       "      <th>Actual</th>\n",
       "      <th>Linear Reg.</th>\n",
       "      <th>RidgeCV</th>\n",
       "      <th>LassoCV</th>\n",
       "      <th>ElasticNetCV</th>\n",
       "      <th>Random Forest Reg.</th>\n",
       "      <th>XGBoost Reg.</th>\n",
       "    </tr>\n",
       "  </thead>\n",
       "  <tbody>\n",
       "    <tr>\n",
       "      <th>8</th>\n",
       "      <td>493.0</td>\n",
       "      <td>572.264144</td>\n",
       "      <td>569.825874</td>\n",
       "      <td>566.892768</td>\n",
       "      <td>519.544071</td>\n",
       "      <td>519.307599</td>\n",
       "      <td>506.268127</td>\n",
       "    </tr>\n",
       "    <tr>\n",
       "      <th>14</th>\n",
       "      <td>459.0</td>\n",
       "      <td>489.987583</td>\n",
       "      <td>488.015805</td>\n",
       "      <td>490.723083</td>\n",
       "      <td>448.705137</td>\n",
       "      <td>429.685092</td>\n",
       "      <td>441.612457</td>\n",
       "    </tr>\n",
       "    <tr>\n",
       "      <th>15</th>\n",
       "      <td>457.0</td>\n",
       "      <td>547.683444</td>\n",
       "      <td>545.605984</td>\n",
       "      <td>544.698525</td>\n",
       "      <td>502.634616</td>\n",
       "      <td>479.359693</td>\n",
       "      <td>466.966064</td>\n",
       "    </tr>\n",
       "    <tr>\n",
       "      <th>17</th>\n",
       "      <td>448.0</td>\n",
       "      <td>521.891881</td>\n",
       "      <td>520.030701</td>\n",
       "      <td>520.226527</td>\n",
       "      <td>481.846421</td>\n",
       "      <td>460.729906</td>\n",
       "      <td>462.428802</td>\n",
       "    </tr>\n",
       "    <tr>\n",
       "      <th>19</th>\n",
       "      <td>440.0</td>\n",
       "      <td>479.465079</td>\n",
       "      <td>477.675070</td>\n",
       "      <td>479.320752</td>\n",
       "      <td>441.786400</td>\n",
       "      <td>422.076500</td>\n",
       "      <td>438.847504</td>\n",
       "    </tr>\n",
       "  </tbody>\n",
       "</table>\n",
       "</div>"
      ],
      "text/plain": [
       "    Actual  Linear Reg.     RidgeCV     LassoCV  ElasticNetCV  \\\n",
       "8    493.0   572.264144  569.825874  566.892768    519.544071   \n",
       "14   459.0   489.987583  488.015805  490.723083    448.705137   \n",
       "15   457.0   547.683444  545.605984  544.698525    502.634616   \n",
       "17   448.0   521.891881  520.030701  520.226527    481.846421   \n",
       "19   440.0   479.465079  477.675070  479.320752    441.786400   \n",
       "\n",
       "    Random Forest Reg.  XGBoost Reg.  \n",
       "8           519.307599    506.268127  \n",
       "14          429.685092    441.612457  \n",
       "15          479.359693    466.966064  \n",
       "17          460.729906    462.428802  \n",
       "19          422.076500    438.847504  "
      ]
     },
     "execution_count": 87,
     "metadata": {},
     "output_type": "execute_result"
    }
   ],
   "source": [
    "# Checking that the df looks correct\n",
    "\n",
    "original_features.head()"
   ]
  },
  {
   "cell_type": "code",
   "execution_count": 88,
   "metadata": {},
   "outputs": [
    {
     "data": {
      "text/html": [
       "<div>\n",
       "<style scoped>\n",
       "    .dataframe tbody tr th:only-of-type {\n",
       "        vertical-align: middle;\n",
       "    }\n",
       "\n",
       "    .dataframe tbody tr th {\n",
       "        vertical-align: top;\n",
       "    }\n",
       "\n",
       "    .dataframe thead th {\n",
       "        text-align: right;\n",
       "    }\n",
       "</style>\n",
       "<table border=\"1\" class=\"dataframe\">\n",
       "  <thead>\n",
       "    <tr style=\"text-align: right;\">\n",
       "      <th></th>\n",
       "      <th>Actual</th>\n",
       "      <th>Linear Reg.</th>\n",
       "      <th>RidgeCV</th>\n",
       "      <th>LassoCV</th>\n",
       "      <th>ElasticNetCV</th>\n",
       "      <th>Random Forest Reg.</th>\n",
       "      <th>XGBoost Reg.</th>\n",
       "    </tr>\n",
       "  </thead>\n",
       "  <tbody>\n",
       "    <tr>\n",
       "      <th>8</th>\n",
       "      <td>493.0</td>\n",
       "      <td>325.693516</td>\n",
       "      <td>325.659420</td>\n",
       "      <td>325.956695</td>\n",
       "      <td>317.455068</td>\n",
       "      <td>514.988163</td>\n",
       "      <td>514.711609</td>\n",
       "    </tr>\n",
       "    <tr>\n",
       "      <th>14</th>\n",
       "      <td>459.0</td>\n",
       "      <td>309.829732</td>\n",
       "      <td>309.767088</td>\n",
       "      <td>309.733185</td>\n",
       "      <td>297.934608</td>\n",
       "      <td>430.928810</td>\n",
       "      <td>441.360931</td>\n",
       "    </tr>\n",
       "    <tr>\n",
       "      <th>15</th>\n",
       "      <td>457.0</td>\n",
       "      <td>312.128454</td>\n",
       "      <td>312.127297</td>\n",
       "      <td>312.197388</td>\n",
       "      <td>309.996070</td>\n",
       "      <td>475.298878</td>\n",
       "      <td>466.801544</td>\n",
       "    </tr>\n",
       "    <tr>\n",
       "      <th>17</th>\n",
       "      <td>448.0</td>\n",
       "      <td>311.917106</td>\n",
       "      <td>311.911396</td>\n",
       "      <td>310.659369</td>\n",
       "      <td>309.259491</td>\n",
       "      <td>447.815544</td>\n",
       "      <td>462.511169</td>\n",
       "    </tr>\n",
       "    <tr>\n",
       "      <th>19</th>\n",
       "      <td>440.0</td>\n",
       "      <td>312.846399</td>\n",
       "      <td>312.791802</td>\n",
       "      <td>311.255639</td>\n",
       "      <td>301.971008</td>\n",
       "      <td>427.792415</td>\n",
       "      <td>438.609283</td>\n",
       "    </tr>\n",
       "  </tbody>\n",
       "</table>\n",
       "</div>"
      ],
      "text/plain": [
       "    Actual  Linear Reg.     RidgeCV     LassoCV  ElasticNetCV  \\\n",
       "8    493.0   325.693516  325.659420  325.956695    317.455068   \n",
       "14   459.0   309.829732  309.767088  309.733185    297.934608   \n",
       "15   457.0   312.128454  312.127297  312.197388    309.996070   \n",
       "17   448.0   311.917106  311.911396  310.659369    309.259491   \n",
       "19   440.0   312.846399  312.791802  311.255639    301.971008   \n",
       "\n",
       "    Random Forest Reg.  XGBoost Reg.  \n",
       "8           514.988163    514.711609  \n",
       "14          430.928810    441.360931  \n",
       "15          475.298878    466.801544  \n",
       "17          447.815544    462.511169  \n",
       "19          427.792415    438.609283  "
      ]
     },
     "execution_count": 88,
     "metadata": {},
     "output_type": "execute_result"
    }
   ],
   "source": [
    "# Checking that the df look correct\n",
    "\n",
    "engineered_features.head()"
   ]
  },
  {
   "cell_type": "markdown",
   "metadata": {},
   "source": [
    "[Top](#Table-Of-Contents)"
   ]
  },
  {
   "cell_type": "markdown",
   "metadata": {},
   "source": [
    "## Model Evaluation"
   ]
  },
  {
   "cell_type": "markdown",
   "metadata": {},
   "source": [
    "### Evaluation Functions"
   ]
  },
  {
   "cell_type": "markdown",
   "metadata": {},
   "source": [
    "This function simply plots the predictions from all four models together with the true `y` values in one scatter plot."
   ]
  },
  {
   "cell_type": "code",
   "execution_count": 89,
   "metadata": {},
   "outputs": [],
   "source": [
    "def plot_linear_predictions(df, true, title):\n",
    "    \n",
    "    # Setting the `facecolor` to white makes\n",
    "    # it easier to see on a different background.\n",
    "    plt.figure(figsize   = (18,6),\n",
    "               facecolor = \"white\")\n",
    "    \n",
    "    # Generating a scatter plot for each set of\n",
    "    # values, but they'll be on one chart.\n",
    "    plt.scatter(x = true, y = \"Actual\", data = df,\n",
    "                color = \"black\", label = \"Actual\")\n",
    "    plt.scatter(x = true, y = \"Linear Reg.\", data = df,\n",
    "                color = \"red\", label = \"Linear Reg.\")\n",
    "    plt.scatter(x = true, y = \"RidgeCV\", data = df,\n",
    "                color = \"blue\", label = \"RidgeCV\")\n",
    "    plt.scatter(x = true, y = \"LassoCV\", data = df,\n",
    "                color = \"green\", label = \"LassoCV\")\n",
    "    plt.scatter(x = true, y = \"ElasticNetCV\", data = df,\n",
    "                color = \"orange\", label = \"ElasticNetCV\")\n",
    "    \n",
    "    # Setting graph parameters\n",
    "    plt.title(f\"Linear Predictions From The {title}\", size = 18)\n",
    "    plt.xlabel(\"Predicted\", size = 16)\n",
    "    plt.ylabel(\"Actual\", size = 16)\n",
    "    plt.xticks(size = 14)\n",
    "    plt.yticks(size = 14)\n",
    "    plt.legend(bbox_to_anchor = (1.04,1), loc = \"upper left\");"
   ]
  },
  {
   "cell_type": "code",
   "execution_count": 90,
   "metadata": {},
   "outputs": [],
   "source": [
    "def plot_nonlinear_predictions(df, true, title):\n",
    "    plt.figure(figsize   = (18,6),\n",
    "               facecolor = \"white\")\n",
    "    plt.scatter(x = true, y = \"Actual\", data = df, color = \"black\",\n",
    "                label = \"Actual\")\n",
    "    plt.scatter(x = true, y = \"Random Forest Reg.\", data = df,\n",
    "                color = \"red\", label = \"Random Forest Reg.\")\n",
    "    plt.scatter(x = true, y = \"XGBoost Reg.\", data = df,\n",
    "                color = \"green\", label = \"XGBoost Reg.\")\n",
    "    plt.title(f\"Non-Linear Predictions From The {title}\", size = 18)\n",
    "    plt.xlabel(\"Predicted\", size = 16)\n",
    "    plt.ylabel(\"Actual\", size = 16)\n",
    "    plt.xticks(size = 14)\n",
    "    plt.yticks(size = 14)\n",
    "    plt.legend(bbox_to_anchor = (1.04,1), loc = \"upper left\");"
   ]
  },
  {
   "cell_type": "code",
   "execution_count": 91,
   "metadata": {},
   "outputs": [],
   "source": [
    "# The same as the plots in my first notebooks,\n",
    "# but graphing the residuals.\n",
    "\n",
    "def plot_residuals(df, columns, titles):\n",
    "    count = 0\n",
    "    fig   = plt.figure(figsize = (18,8))\n",
    "    for c, column in enumerate(columns):\n",
    "        count += 1\n",
    "        ax    = fig.add_subplot(3, 3, count)\n",
    "        plt.title(f\"{titles[c]}\", size = 18)\n",
    "        sns.residplot(x = \"Actual\",\n",
    "                      y = column,\n",
    "                      data = df)\n",
    "        plt.xlabel(\"Predicted\", size = 16)\n",
    "        plt.ylabel(\"Actual\", size = 16)\n",
    "        plt.xticks(size = 14)\n",
    "        plt.yticks(size = 14)\n",
    "    plt.tight_layout();\n",
    "    plt.show();"
   ]
  },
  {
   "cell_type": "markdown",
   "metadata": {},
   "source": [
    "[Top](#Table-Of-Contents)"
   ]
  },
  {
   "cell_type": "markdown",
   "metadata": {},
   "source": [
    "### Plotting Predictions"
   ]
  },
  {
   "cell_type": "markdown",
   "metadata": {},
   "source": [
    "While we had a good idea of how the models were performing ased on the scores calculated by our metrics, we felt that visualizing the predictions of the model would help us have a better idea of where the models were strong and weak.  To do that, we simply plotting the four sets of predictions along with the true values in  a scatter plot."
   ]
  },
  {
   "cell_type": "code",
   "execution_count": 92,
   "metadata": {},
   "outputs": [
    {
     "data": {
      "image/png": "[encoded data removed]",
      "text/plain": [
       "<Figure size 1296x432 with 1 Axes>"
      ]
     },
     "metadata": {},
     "output_type": "display_data"
    }
   ],
   "source": [
    "plot_linear_predictions(df    = original_features, \n",
    "                        true  = \"Actual\", \n",
    "                        title = \"Original Features\")"
   ]
  },
  {
   "cell_type": "code",
   "execution_count": 93,
   "metadata": {},
   "outputs": [
    {
     "data": {
      "image/png": "[encoded data removed]",
      "text/plain": [
       "<Figure size 1296x432 with 1 Axes>"
      ]
     },
     "metadata": {},
     "output_type": "display_data"
    }
   ],
   "source": [
    "plot_nonlinear_predictions(df    = original_features, \n",
    "                           true  = \"Actual\", \n",
    "                           title = \"Original Features\")"
   ]
  },
  {
   "cell_type": "markdown",
   "metadata": {},
   "source": [
    "The four linear models performed the best on values <200 given that the points there are overlapping so much.  However for values >200, the predictions follow the actual values but they became much more varied.\n",
    "\n",
    "On the other hand, the non-linear models followed the true line much more closely.  Although the variance increased as the values increased, it is not as dramatic as with the linear models"
   ]
  },
  {
   "cell_type": "code",
   "execution_count": 94,
   "metadata": {},
   "outputs": [
    {
     "data": {
      "image/png": "[encoded data removed]",
      "text/plain": [
       "<Figure size 1296x432 with 1 Axes>"
      ]
     },
     "metadata": {},
     "output_type": "display_data"
    }
   ],
   "source": [
    "plot_linear_predictions(df    = engineered_features, \n",
    "                        true  = \"Actual\", \n",
    "                        title = \"Engineered Features\")"
   ]
  },
  {
   "cell_type": "code",
   "execution_count": 95,
   "metadata": {},
   "outputs": [
    {
     "data": {
      "image/png": "[encoded data removed]",
      "text/plain": [
       "<Figure size 1296x432 with 1 Axes>"
      ]
     },
     "metadata": {},
     "output_type": "display_data"
    }
   ],
   "source": [
    "plot_nonlinear_predictions(df    = engineered_features, \n",
    "                           true  = \"Actual\", \n",
    "                           title = \"Engineered Features\")"
   ]
  },
  {
   "cell_type": "markdown",
   "metadata": {},
   "source": [
    "The linear models (Linear to ElasticNet) have a very distinct curve where the models' accuracy begins to flatten and become much less accurate.  This is because of how heterscedastic the models are.  \n",
    "\n",
    "On the other hand the non-linear models (Random Forest and XGBoost) are much more accurate and follow a straight line much more closely."
   ]
  },
  {
   "cell_type": "markdown",
   "metadata": {},
   "source": [
    "[Top](#Table-Of-Contents)"
   ]
  },
  {
   "cell_type": "markdown",
   "metadata": {},
   "source": [
    "### Plotting Residuals"
   ]
  },
  {
   "cell_type": "markdown",
   "metadata": {},
   "source": [
    "The residuals are simply the difference between the actual values and the predicted values.  Looking at the residuals allows us to detect if the independence of errors assumption is violated."
   ]
  },
  {
   "cell_type": "code",
   "execution_count": 96,
   "metadata": {},
   "outputs": [
    {
     "data": {
      "image/png": "[encoded data removed]",
      "text/plain": [
       "<Figure size 1296x576 with 6 Axes>"
      ]
     },
     "metadata": {
      "needs_background": "light"
     },
     "output_type": "display_data"
    }
   ],
   "source": [
    "plot_residuals(df      = original_features,\n",
    "               columns = [\"Linear Reg.\", \"RidgeCV\",\n",
    "                          \"LassoCV\", \"ElasticNetCV\",\n",
    "                          \"Random Forest Reg.\", \"XGBoost Reg.\"],\n",
    "               titles  = [\"Linear Regression\", \"RidgeCV\",\n",
    "                          \"LassoCV\", \"ElasticNetCV\", \"Random Forest Reg.\",\n",
    "                          \"XGBoost Reg.\"])"
   ]
  },
  {
   "cell_type": "markdown",
   "metadata": {},
   "source": [
    "The residual plots of the linear models are not at all surprising given the distribution of my predicted values: they are dense for low values and very disperse for high values.  That means that the data is heteroscedastic, which means that it is violating one of the assumptions of linear models: independence of errors; ideally the points would be scattered randomly along the horizontal line.\n",
    "\n",
    "The two non-linear models are magnitudes better: the points are scattered along the line indicating that the independence of errors is not violated."
   ]
  },
  {
   "cell_type": "code",
   "execution_count": 97,
   "metadata": {},
   "outputs": [
    {
     "data": {
      "image/png": "[encoded data removed]",
      "text/plain": [
       "<Figure size 1296x576 with 6 Axes>"
      ]
     },
     "metadata": {
      "needs_background": "light"
     },
     "output_type": "display_data"
    }
   ],
   "source": [
    "plot_residuals(df      = engineered_features,\n",
    "               columns = [\"Linear Reg.\", \"RidgeCV\",\n",
    "                          \"LassoCV\", \"ElasticNetCV\", \"Random Forest Reg.\",\n",
    "                          \"XGBoost Reg.\"],\n",
    "               titles  = [\"Linear Regression\", \"RidgeCV\",\n",
    "                          \"LassoCV\", \"ElasticNetCV\", \"Random Forest Reg.\",\n",
    "                          \"XGBoost Reg.\"])"
   ]
  },
  {
   "cell_type": "markdown",
   "metadata": {},
   "source": [
    "These residual plots of the linear models are not at all surprising given the distribution of my predicted values: they are dense for low values and very disperse for high values.  It is easy to see where the models were underperforming for low valuess and high values. As a result, this data is also heterscedastic.\n",
    "\n",
    "However the non-linear models are homoscedastic (the opposite of heteroscedastic)."
   ]
  },
  {
   "cell_type": "markdown",
   "metadata": {},
   "source": [
    "[Top](#Table-Of-Contents)"
   ]
  },
  {
   "cell_type": "markdown",
   "metadata": {},
   "source": [
    "### Final Model Choice"
   ]
  },
  {
   "cell_type": "markdown",
   "metadata": {},
   "source": [
    "Model Performance With The Four Metrics With The Original Features:\n",
    "    \n",
    "| Metric             | Linear Regression | RidgeCV | LassoCV | ElasticNetCV | Random Forest Regression | XGBoost Regression |\n",
    "|:-------------------|:-----------------:|:-------:|:-------:|:------------:|:------------------------:|:------------------:|\n",
    "| RMSE               | 17.47             | 17.46   | 17.45   | 18.71        | 5.750                    | 6.801              |\n",
    "| MAE                | 12.90             | 12.93   | 12.93   | 14.38        | 2.907                    | 4.012              |\n",
    "| R<sup>2</sup>      | 0.9237            | 0.9238  | 0.9239  | 0.9125       | 0.9917                   | 0.9884             |\n",
    "| Adj. R<sup>2</sup> | 0.9231            | -----   | -----   | -----        | 0.9916                   | 0.9883             |\n",
    "\n",
    "\n",
    "Model Performance With The Four Metrics With The Engineered Features:\n",
    "\n",
    "| Metric             | Linear Regression | RidgeCV | LassoCV | ElasticNetCV | Random Forest Regression | XGBoost Regression |\n",
    "|:-------------------|:-----------------:|:-------:|:-------:|:------------:|:------------------------:|:------------------:|\n",
    "| RMSE               | 23.30             | 23.11   | 23.16   | 24.88        | 5.429                    | 6.787              |\n",
    "| MAE                | 14.59             | 15.23   | 15.29   | 16.69        | 2.770                    | 3.961              |    \n",
    "| R<sup>2</sup>      | 0.8666            | 0.86    | 0.8659  | 0.8454       | 0.9926                   | 0.9884             |\n",
    "| Adj. R<sup>2</sup> | 0.8662            | -----   | -----   | -----        | 0.9926                   | 0.9884             |\n"
   ]
  },
  {
   "cell_type": "markdown",
   "metadata": {},
   "source": [
    "Once we had run the non-linear models, it was readily apparent to us that they were far superior to the linear models.  To that end, we chose two models as our final models:\n",
    "\n",
    "- XGBoost Regression with the engineered features for interpretability.\n",
    "\n",
    "- Random Forest Regression with the engineered features for accuracy.\n",
    "\n",
    "We chose to have two final models because we wanted to produce a model that is as accurate as possible while also having a model that would be easy for us to talk about."
   ]
  },
  {
   "cell_type": "markdown",
   "metadata": {},
   "source": [
    "[Top](#Table-Of-Contents)"
   ]
  }
 ],
 "metadata": {
  "kernelspec": {
   "display_name": "Python 3",
   "language": "python",
   "name": "python3"
  },
  "language_info": {
   "codemirror_mode": {
    "name": "ipython",
    "version": 3
   },
   "file_extension": ".py",
   "mimetype": "text/x-python",
   "name": "python",
   "nbconvert_exporter": "python",
   "pygments_lexer": "ipython3",
   "version": "3.6.8"
  }
 },
 "nbformat": 4,
 "nbformat_minor": 2
}
