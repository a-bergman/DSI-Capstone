{
 "cells": [
  {
   "cell_type": "markdown",
   "metadata": {},
   "source": [
    "# Imports"
   ]
  },
  {
   "cell_type": "code",
   "execution_count": 1,
   "metadata": {},
   "outputs": [
    {
     "data": {
      "text/html": [
       "<style>.container { width:95% !important; }</style>"
      ],
      "text/plain": [
       "<IPython.core.display.HTML object>"
      ]
     },
     "metadata": {},
     "output_type": "display_data"
    }
   ],
   "source": [
    "import pandas                as pd\n",
    "import numpy                 as np\n",
    "import matplotlib.pyplot     as plt\n",
    "import seaborn               as sns\n",
    "from math                    import sqrt\n",
    "from sklearn.linear_model    import LinearRegression, LassoCV, RidgeCV, ElasticNetCV\n",
    "from sklearn.metrics         import r2_score, mean_squared_error, mean_absolute_error \n",
    "from sklearn.model_selection import train_test_split, cross_val_score\n",
    "from sklearn.preprocessing   import StandardScaler\n",
    "from IPython.core.display    import display, HTML\n",
    "from IPython.display         import display_html\n",
    "sns.set(style = \"white\", palette = \"husl\")\n",
    "display(HTML(\"<style>.container { width:95% !important; }</style>\"))\n",
    "%matplotlib inline"
   ]
  },
  {
   "cell_type": "markdown",
   "metadata": {},
   "source": [
    "# Table Of Contents\n",
    "\n",
    "-----\n",
    "\n",
    "1. [Reading In The Data](#Reading-In-The-Data)\n",
    "    - [Overview](#Overview)\n",
    "\n",
    "-----\n",
    "\n",
    "2. [Feature Engineering](#Feature-Engineering)\n",
    "    - [Transforming Numeric Data](#Transforming-Numeric-Data)\n",
    "    - [Creating Segmental Features](#Creating-Segmental-Features)\n",
    "    \n",
    "-----\n",
    "\n",
    "3. [Modeling](#Modeling)\n",
    "    - [Functions](#Functions)\n",
    "    - [Linear Regression](#Linear-Regression)\n",
    "    - [Ridge](#Ridge)\n",
    "    - [LASSO](#LASSO)\n",
    "    - [ElasticNetCV](#ElasticNetCV)\n",
    "    \n",
    "-----\n",
    "\n",
    "4. [Model Evaluation](#Model-Evaluation)"
   ]
  },
  {
   "cell_type": "markdown",
   "metadata": {},
   "source": [
    "# Reading In The Data"
   ]
  },
  {
   "cell_type": "code",
   "execution_count": 2,
   "metadata": {},
   "outputs": [],
   "source": [
    "mri = pd.read_csv(\"../Data/mri_cleaned.csv\")"
   ]
  },
  {
   "cell_type": "markdown",
   "metadata": {},
   "source": [
    "## Overview"
   ]
  },
  {
   "cell_type": "code",
   "execution_count": 3,
   "metadata": {},
   "outputs": [
    {
     "data": {
      "text/html": [
       "<div>\n",
       "<style scoped>\n",
       "    .dataframe tbody tr th:only-of-type {\n",
       "        vertical-align: middle;\n",
       "    }\n",
       "\n",
       "    .dataframe tbody tr th {\n",
       "        vertical-align: top;\n",
       "    }\n",
       "\n",
       "    .dataframe thead th {\n",
       "        text-align: right;\n",
       "    }\n",
       "</style>\n",
       "<table border=\"1\" class=\"dataframe\">\n",
       "  <thead>\n",
       "    <tr style=\"text-align: right;\">\n",
       "      <th></th>\n",
       "      <th>sex</th>\n",
       "      <th>age</th>\n",
       "      <th>hypertension</th>\n",
       "      <th>hyperlipidemia</th>\n",
       "      <th>diabetes</th>\n",
       "      <th>lvedv</th>\n",
       "      <th>lvesv</th>\n",
       "      <th>lv_wall_thickness</th>\n",
       "      <th>lvef</th>\n",
       "      <th>aortic_stenosis</th>\n",
       "      <th>...</th>\n",
       "      <th>mis_ischemia</th>\n",
       "      <th>mi_ischemia</th>\n",
       "      <th>mil_ischemia</th>\n",
       "      <th>mal_ischemia</th>\n",
       "      <th>aa_ischemia</th>\n",
       "      <th>as_ischemia</th>\n",
       "      <th>ai_ischemia</th>\n",
       "      <th>al_ischemia</th>\n",
       "      <th>smoker_status_former</th>\n",
       "      <th>smoker_status_never</th>\n",
       "    </tr>\n",
       "  </thead>\n",
       "  <tbody>\n",
       "    <tr>\n",
       "      <th>0</th>\n",
       "      <td>1</td>\n",
       "      <td>37</td>\n",
       "      <td>0</td>\n",
       "      <td>0</td>\n",
       "      <td>0</td>\n",
       "      <td>613</td>\n",
       "      <td>501</td>\n",
       "      <td>0</td>\n",
       "      <td>18</td>\n",
       "      <td>0</td>\n",
       "      <td>...</td>\n",
       "      <td>0</td>\n",
       "      <td>0</td>\n",
       "      <td>0</td>\n",
       "      <td>0</td>\n",
       "      <td>0</td>\n",
       "      <td>0</td>\n",
       "      <td>0</td>\n",
       "      <td>0</td>\n",
       "      <td>0</td>\n",
       "      <td>1</td>\n",
       "    </tr>\n",
       "    <tr>\n",
       "      <th>1</th>\n",
       "      <td>1</td>\n",
       "      <td>74</td>\n",
       "      <td>0</td>\n",
       "      <td>1</td>\n",
       "      <td>0</td>\n",
       "      <td>569</td>\n",
       "      <td>492</td>\n",
       "      <td>1</td>\n",
       "      <td>14</td>\n",
       "      <td>0</td>\n",
       "      <td>...</td>\n",
       "      <td>0</td>\n",
       "      <td>0</td>\n",
       "      <td>0</td>\n",
       "      <td>0</td>\n",
       "      <td>0</td>\n",
       "      <td>1</td>\n",
       "      <td>0</td>\n",
       "      <td>1</td>\n",
       "      <td>0</td>\n",
       "      <td>1</td>\n",
       "    </tr>\n",
       "    <tr>\n",
       "      <th>2</th>\n",
       "      <td>1</td>\n",
       "      <td>78</td>\n",
       "      <td>1</td>\n",
       "      <td>1</td>\n",
       "      <td>1</td>\n",
       "      <td>564</td>\n",
       "      <td>500</td>\n",
       "      <td>0</td>\n",
       "      <td>11</td>\n",
       "      <td>0</td>\n",
       "      <td>...</td>\n",
       "      <td>1</td>\n",
       "      <td>1</td>\n",
       "      <td>0</td>\n",
       "      <td>0</td>\n",
       "      <td>1</td>\n",
       "      <td>1</td>\n",
       "      <td>0</td>\n",
       "      <td>0</td>\n",
       "      <td>0</td>\n",
       "      <td>1</td>\n",
       "    </tr>\n",
       "    <tr>\n",
       "      <th>3</th>\n",
       "      <td>1</td>\n",
       "      <td>61</td>\n",
       "      <td>0</td>\n",
       "      <td>1</td>\n",
       "      <td>0</td>\n",
       "      <td>531</td>\n",
       "      <td>435</td>\n",
       "      <td>1</td>\n",
       "      <td>18</td>\n",
       "      <td>0</td>\n",
       "      <td>...</td>\n",
       "      <td>0</td>\n",
       "      <td>0</td>\n",
       "      <td>0</td>\n",
       "      <td>0</td>\n",
       "      <td>0</td>\n",
       "      <td>0</td>\n",
       "      <td>0</td>\n",
       "      <td>0</td>\n",
       "      <td>0</td>\n",
       "      <td>1</td>\n",
       "    </tr>\n",
       "    <tr>\n",
       "      <th>4</th>\n",
       "      <td>1</td>\n",
       "      <td>53</td>\n",
       "      <td>0</td>\n",
       "      <td>0</td>\n",
       "      <td>0</td>\n",
       "      <td>522</td>\n",
       "      <td>408</td>\n",
       "      <td>0</td>\n",
       "      <td>21</td>\n",
       "      <td>0</td>\n",
       "      <td>...</td>\n",
       "      <td>0</td>\n",
       "      <td>0</td>\n",
       "      <td>0</td>\n",
       "      <td>0</td>\n",
       "      <td>0</td>\n",
       "      <td>0</td>\n",
       "      <td>0</td>\n",
       "      <td>0</td>\n",
       "      <td>0</td>\n",
       "      <td>0</td>\n",
       "    </tr>\n",
       "  </tbody>\n",
       "</table>\n",
       "<p>5 rows × 48 columns</p>\n",
       "</div>"
      ],
      "text/plain": [
       "   sex  age  hypertension  hyperlipidemia  diabetes  lvedv  lvesv  \\\n",
       "0    1   37             0               0         0    613    501   \n",
       "1    1   74             0               1         0    569    492   \n",
       "2    1   78             1               1         1    564    500   \n",
       "3    1   61             0               1         0    531    435   \n",
       "4    1   53             0               0         0    522    408   \n",
       "\n",
       "   lv_wall_thickness  lvef  aortic_stenosis  ...  mis_ischemia  mi_ischemia  \\\n",
       "0                  0    18                0  ...             0            0   \n",
       "1                  1    14                0  ...             0            0   \n",
       "2                  0    11                0  ...             1            1   \n",
       "3                  1    18                0  ...             0            0   \n",
       "4                  0    21                0  ...             0            0   \n",
       "\n",
       "   mil_ischemia  mal_ischemia  aa_ischemia  as_ischemia  ai_ischemia  \\\n",
       "0             0             0            0            0            0   \n",
       "1             0             0            0            1            0   \n",
       "2             0             0            1            1            0   \n",
       "3             0             0            0            0            0   \n",
       "4             0             0            0            0            0   \n",
       "\n",
       "   al_ischemia  smoker_status_former  smoker_status_never  \n",
       "0            0                     0                    1  \n",
       "1            1                     0                    1  \n",
       "2            0                     0                    1  \n",
       "3            0                     0                    1  \n",
       "4            0                     0                    0  \n",
       "\n",
       "[5 rows x 48 columns]"
      ]
     },
     "execution_count": 3,
     "metadata": {},
     "output_type": "execute_result"
    }
   ],
   "source": [
    "mri.head()"
   ]
  },
  {
   "cell_type": "markdown",
   "metadata": {},
   "source": [
    "The `smoker_status` column is still in the data, but we will not needing the column for the models because we turned it into a pair of dummy columns so we will drop the column here."
   ]
  },
  {
   "cell_type": "code",
   "execution_count": 4,
   "metadata": {},
   "outputs": [
    {
     "name": "stdout",
     "output_type": "stream",
     "text": [
      "The shape of the dataset is: (6417, 48)\n"
     ]
    }
   ],
   "source": [
    "# Checking the shape of the data\n",
    "\n",
    "print(f\"The shape of the dataset is: {mri.shape}\")"
   ]
  },
  {
   "cell_type": "code",
   "execution_count": 5,
   "metadata": {},
   "outputs": [
    {
     "data": {
      "text/plain": [
       "int64    48\n",
       "dtype: int64"
      ]
     },
     "execution_count": 5,
     "metadata": {},
     "output_type": "execute_result"
    }
   ],
   "source": [
    "# Summary of column data types\n",
    "\n",
    "mri.dtypes.value_counts()"
   ]
  },
  {
   "cell_type": "markdown",
   "metadata": {},
   "source": [
    "# Feature Engineering"
   ]
  },
  {
   "cell_type": "markdown",
   "metadata": {},
   "source": [
    "## Transforming Numeric Data"
   ]
  },
  {
   "cell_type": "markdown",
   "metadata": {},
   "source": [
    "There are only four numeric columns in the data set: `age`, `lvesv`, `lvedv`, `lvef`.  Of the four, only `lvef` does not have any kind of a normal distribution: `age` is close to normally distributed, while `lvesv` and `lvedv` are log-normally distributed.\n",
    "\n",
    "We cannot do anything to `lvedv` because that is my target variable, but we can take the log of `lvesv` (in this case the natural log).  We also tried squaring `age` but that did not affect the distribution in the way we hoped it would."
   ]
  },
  {
   "cell_type": "code",
   "execution_count": 6,
   "metadata": {},
   "outputs": [],
   "source": [
    "# Take the natural log of `lvesv`.\n",
    "# We chose to make it it's own column rather\n",
    "# than overwrite the column.\n",
    "\n",
    "mri[\"lvesv_log\"] = mri[\"lvesv\"].apply(lambda x: np.log(x))"
   ]
  },
  {
   "cell_type": "code",
   "execution_count": 7,
   "metadata": {},
   "outputs": [
    {
     "name": "stdout",
     "output_type": "stream",
     "text": [
      "The shape of the dataset is: (6417, 49)\n"
     ]
    }
   ],
   "source": [
    "print(f\"The shape of the dataset is: {mri.shape}\")"
   ]
  },
  {
   "cell_type": "markdown",
   "metadata": {},
   "source": [
    "[Top](#Table-Of-Contents)"
   ]
  },
  {
   "cell_type": "markdown",
   "metadata": {},
   "source": [
    "## Creating Segmental Features"
   ]
  },
  {
   "cell_type": "markdown",
   "metadata": {},
   "source": [
    "Because the model attempts to predict the end diastolic volume, we want it to be as accurate as it can be.  As part of that, we will try to use many combinations of features in an attempt to achieve high accuracy.\n",
    "\n",
    "The data have 34 columns that we wish to engineer: a column measuring scarification and a column measuring ischemia.  Because there are so many of them, we felt the need to experiment with how they are passed into the model.  We are unable to create interaction columns, because there are zeros.  Instead, we elected to create segmental columns by summing similar columns together: we will compare the model's performance with the originals and with the segmental columns.\n",
    "\n",
    "We used this image to guide our create of segmental columns:\n",
    "\n",
    "<img src = \"../Images/cardiac-segmentation-for-cardiac-perfusion-defects.jpg\" alt = \"Cardiac Segmentation\" height = 750 width = 750>\n",
    "\n",
    "Case courtesy of Dr Hamid Chalian, <a href=\"https://radiopaedia.org/\">Radiopaedia.org</a>. From the case <a href=\"https://radiopaedia.org/cases/47102\">rID: 47102</a>"
   ]
  },
  {
   "cell_type": "code",
   "execution_count": 8,
   "metadata": {},
   "outputs": [
    {
     "name": "stdout",
     "output_type": "stream",
     "text": [
      "The shape of the dataset is: (6417, 55)\n"
     ]
    }
   ],
   "source": [
    "# Creating columns based off of the red, blue, green, and yellow\n",
    "# I'm combining the apex and apical regions because there is only\n",
    "# one region in the apex.\n",
    "\n",
    "# New columns for scar tissue\n",
    "\n",
    "mri[\"basal_he\"]  = mri[\"ba_he\"] + mri[\"bas_he\"] + mri[\"bis_he\"] \\\n",
    "                   + mri[\"bi_he\"] + mri[\"bil_he\"] + mri[\"bal_he\"]\n",
    "mri[\"mid_he\"]    = mri[\"ma_he\"] + mri[\"mas_he\"] + mri[\"mis_he\"] \\\n",
    "                   + mri[\"mi_he\"] + mri[\"mil_he\"] + mri[\"mal_he\"]\n",
    "mri[\"apical_he\"] = mri[\"aa_he\"] + mri[\"as_he\"] + mri[\"ai_he\"] \\\n",
    "                   + mri[\"al_he\"] + mri[\"apex_he\"]\n",
    "\n",
    "# New columns for ischemia\n",
    "\n",
    "mri[\"basal_ischemia\"]  = mri[\"ba_ischemia\"] + mri[\"bas_ischemia\"] + mri[\"bis_ischemia\"] \\\n",
    "                         + mri[\"bi_ischemia\"] + mri[\"bil_ischemia\"] + mri[\"bal_ischemia\"]\n",
    "mri[\"mid_ischemia\"]    = mri[\"ma_ischemia\"] + mri[\"mas_ischemia\"] + mri[\"mis_ischemia\"] \\\n",
    "                         + mri[\"mi_ischemia\"] + mri[\"mil_ischemia\"] + mri[\"mal_ischemia\"]\n",
    "mri[\"apical_ischemia\"] = mri[\"aa_ischemia\"] + mri[\"as_ischemia\"] + mri[\"ai_ischemia\"] \\\n",
    "                         + mri[\"al_ischemia\"]\n",
    "\n",
    "print(f\"The shape of the dataset is: {mri.shape}\")"
   ]
  },
  {
   "cell_type": "markdown",
   "metadata": {},
   "source": [
    "[Top](#Table-Of-Contents)"
   ]
  },
  {
   "cell_type": "markdown",
   "metadata": {},
   "source": [
    "It will be easier when modeling to have two data sets: one with the original features and one with the features I engineered.\n"
   ]
  },
  {
   "cell_type": "code",
   "execution_count": 9,
   "metadata": {},
   "outputs": [
    {
     "name": "stdout",
     "output_type": "stream",
     "text": [
      "The shape of the dataframe with original features is: (6417, 48)\n",
      "The shape of the dataframe with new features is     : (6417, 21)\n"
     ]
    }
   ],
   "source": [
    "# Defining the original dataframe\n",
    "\n",
    "mri_org = mri.drop(labels = [\"lvesv_log\", \"basal_he\", \"mid_he\",\n",
    "                             \"apical_he\", \"basal_ischemia\",\n",
    "                             \"mid_ischemia\", \"apical_ischemia\"],\n",
    "                   axis = 1)\n",
    "\n",
    "# Defining the dataframe with only new features\n",
    "\n",
    "mri_eng = mri.drop(labels = ['lvesv', 'ba_he', 'bas_he', 'bis_he','bi_he', \n",
    "                             'bil_he', 'bal_he', 'ma_he', 'mas_he', 'mis_he', \n",
    "                             'mi_he', 'mil_he','mal_he', 'aa_he', 'as_he', \n",
    "                             'ai_he', 'al_he', 'apex_he', 'ba_ischemia',\n",
    "                             'bas_ischemia', 'bis_ischemia', 'bi_ischemia', \n",
    "                             'bil_ischemia','bal_ischemia', 'ma_ischemia', \n",
    "                             'mas_ischemia', 'mis_ischemia','mi_ischemia', \n",
    "                             'mil_ischemia', 'mal_ischemia', 'aa_ischemia', \n",
    "                             'as_ischemia', 'ai_ischemia', 'al_ischemia'],\n",
    "                   axis = 1)\n",
    "\n",
    "# Checking to make sure the two have different numbers of columns\n",
    "\n",
    "print(f\"The shape of the dataframe with original features is: {mri_org.shape}\")\n",
    "print(f\"The shape of the dataframe with new features is     : {mri_eng.shape}\")"
   ]
  },
  {
   "cell_type": "markdown",
   "metadata": {},
   "source": [
    "[Top](#Table-Of-Contents)"
   ]
  },
  {
   "cell_type": "markdown",
   "metadata": {},
   "source": [
    "# Modeling"
   ]
  },
  {
   "cell_type": "markdown",
   "metadata": {},
   "source": [
    "Before we can start modeling, we have to perform a train-test split.  A train-test split allows us to train our data on one subset of the dataframe and train on another subset.\n",
    "\n",
    "Since I have two versions of the dataframe, I will have to train-test split on both."
   ]
  },
  {
   "cell_type": "code",
   "execution_count": 10,
   "metadata": {},
   "outputs": [],
   "source": [
    "# Setting up my X and y variables for the original\n",
    "\n",
    "X  = mri_org.drop(\"lvedv\", axis = 1)\n",
    "y  = mri_org[\"lvedv\"]\n",
    "\n",
    "# Setting up my X and y variables for the new\n",
    "\n",
    "X_eng = mri_eng.drop(\"lvedv\", axis = 1)\n",
    "y_eng = mri_eng[\"lvedv\"]"
   ]
  },
  {
   "cell_type": "code",
   "execution_count": 11,
   "metadata": {},
   "outputs": [],
   "source": [
    "# Train-test splitting mri_og\n",
    "\n",
    "X_train, X_test, y_train, y_test = train_test_split(X, \n",
    "                                                    y,\n",
    "                                                    random_state = 42,\n",
    "                                                    test_size    = 0.25) \n",
    "\n",
    "# Train-test splitting mri_new\n",
    "\n",
    "X_train_eng, X_test_eng, y_train_eng, y_test_eng = train_test_split(X_eng, \n",
    "                                                                    y_eng,\n",
    "                                                                    random_state = 42,\n",
    "                                                                    test_size    = 0.25) "
   ]
  },
  {
   "cell_type": "markdown",
   "metadata": {},
   "source": [
    "## Functions"
   ]
  },
  {
   "cell_type": "code",
   "execution_count": 12,
   "metadata": {},
   "outputs": [],
   "source": [
    "# Formula to generate an adjusted r^2 score for\n",
    "# my model evaluation function in the next cell\n",
    "\n",
    "def r2_adj(X, y_true, y_predicted):\n",
    "    r2          = r2_score(y_true, y_predicted)\n",
    "    numerator   = (1 - r2) * (len(y) - 1)\n",
    "    denominator = (len(y) - len(X.columns)) - 1\n",
    "    quotient    = numerator / denominator\n",
    "    r2_adj      = 1 - quotient\n",
    "    return r2_adj"
   ]
  },
  {
   "cell_type": "markdown",
   "metadata": {},
   "source": [
    "The `model_evaluation` function has four metrics:\n",
    "* r<sup>2</sup> to measure variance in `y` caused by the `X` variables;\n",
    "* adjusted r<sup>2</sup> to measure the same, but weighted for the number of features;\n",
    "* root mean squared error (RMSE) to measure the difference between my predicted values and the actual values;\n",
    "* mean absolute error (MAE) to measure the absolute mean error (this method is less sensitive to outliers)."
   ]
  },
  {
   "cell_type": "code",
   "execution_count": 13,
   "metadata": {},
   "outputs": [],
   "source": [
    "def model_evaluation(X, y_true, y_predicted):\n",
    "    rmse = sqrt(mean_squared_error(y_true, y_predicted))\n",
    "    mae  = mean_absolute_error(y_true, y_predicted)\n",
    "    r2   = r2_score(y_true, y_predicted)\n",
    "    print(f\"The root mean squared error is : {rmse}\")\n",
    "    print(f\"The mean absolute error is     : {mae}\")\n",
    "    print(f\"The r2 score is                : {r2}\")\n",
    "    print(f\"The adjusted r2 score is       : {r2_adj(X, y_true, y_predicted)}\")"
   ]
  },
  {
   "cell_type": "code",
   "execution_count": 14,
   "metadata": {},
   "outputs": [],
   "source": [
    "# This is the same as the cell above, but lacking the adjusted r^2 score\n",
    "# because after standard scaling the `X` variables the columns are lost.\n",
    "\n",
    "def model_evaluation_nor2adj(y_true, y_predicted):\n",
    "    rmse = sqrt(mean_squared_error(y_true, y_predicted))\n",
    "    mae  = mean_absolute_error(y_true, y_predicted)\n",
    "    r2   = r2_score(y_true, y_predicted)\n",
    "    print(f\"The root mean squared error is : {rmse}\")\n",
    "    print(f\"The mean absolute error is     : {mae}\")\n",
    "    print(f\"The r2 score is                : {r2}\")"
   ]
  },
  {
   "cell_type": "code",
   "execution_count": 15,
   "metadata": {},
   "outputs": [],
   "source": [
    "# This allows me to display the dataframes of the linear regression\n",
    "# coefficients side-by-side to save space.\n",
    "\n",
    "def display_side_by_side(*args):\n",
    "    html_str = ''\n",
    "    for df in args:\n",
    "        html_str += df.to_html()\n",
    "    display_html(html_str.replace('table', 'table style=\"display:inline\"'), raw = True)"
   ]
  },
  {
   "cell_type": "markdown",
   "metadata": {},
   "source": [
    "[Top](#Table-Of-Contents)"
   ]
  },
  {
   "cell_type": "markdown",
   "metadata": {},
   "source": [
    "## Linear Regression"
   ]
  },
  {
   "cell_type": "markdown",
   "metadata": {},
   "source": [
    "I chose to start with linear regression because it is the simplest of the regression models and allows for the model to be interpretable."
   ]
  },
  {
   "cell_type": "markdown",
   "metadata": {},
   "source": [
    "### Original Set"
   ]
  },
  {
   "cell_type": "markdown",
   "metadata": {},
   "source": [
    "The original set is the dataframe with its original 48 columns."
   ]
  },
  {
   "cell_type": "code",
   "execution_count": 16,
   "metadata": {},
   "outputs": [],
   "source": [
    "# Instantiating the linear regression\n",
    "\n",
    "lr = LinearRegression()"
   ]
  },
  {
   "cell_type": "code",
   "execution_count": 17,
   "metadata": {},
   "outputs": [],
   "source": [
    "# Fitting the linear regression to the original\n",
    "# (non-engineered) subset\n",
    "\n",
    "lr.fit(X_train, y_train);"
   ]
  },
  {
   "cell_type": "code",
   "execution_count": 18,
   "metadata": {},
   "outputs": [],
   "source": [
    "# Generating my predictions\n",
    "\n",
    "lr_preds = lr.predict(X_test)"
   ]
  },
  {
   "cell_type": "code",
   "execution_count": 19,
   "metadata": {
    "scrolled": false
   },
   "outputs": [
    {
     "name": "stdout",
     "output_type": "stream",
     "text": [
      "The root mean squared error is : 17.474492744600283\n",
      "The mean absolute error is     : 12.896847595997924\n",
      "The r2 score is                : 0.9237493878185266\n",
      "The adjusted r2 score is       : 0.9231866968509447\n"
     ]
    }
   ],
   "source": [
    "# Evaluating my original set\n",
    "\n",
    "model_evaluation(X_test, y_test, lr_preds)"
   ]
  },
  {
   "cell_type": "code",
   "execution_count": 20,
   "metadata": {},
   "outputs": [],
   "source": [
    "# Creating a dataframe makes looking the coefficients easier\n",
    "\n",
    "lin_reg_org = pd.DataFrame(data  = lr.coef_,\n",
    "                           index = X_test.columns,\n",
    "                           columns = [\"Lin_Reg_Org\"])"
   ]
  },
  {
   "cell_type": "code",
   "execution_count": 21,
   "metadata": {},
   "outputs": [
    {
     "data": {
      "text/html": [
       "<table style=\"display:inline\" border=\"1\" class=\"dataframe\">\n",
       "  <thead>\n",
       "    <tr style=\"text-align: right;\">\n",
       "      <th></th>\n",
       "      <th>Lin_Reg_Org</th>\n",
       "    </tr>\n",
       "  </thead>\n",
       "  <tbody>\n",
       "    <tr>\n",
       "      <th>sex</th>\n",
       "      <td>10.864849</td>\n",
       "    </tr>\n",
       "    <tr>\n",
       "      <th>smoker_status_former</th>\n",
       "      <td>3.329839</td>\n",
       "    </tr>\n",
       "    <tr>\n",
       "      <th>smoker_status_never</th>\n",
       "      <td>3.101885</td>\n",
       "    </tr>\n",
       "    <tr>\n",
       "      <th>mil_ischemia</th>\n",
       "      <td>1.894495</td>\n",
       "    </tr>\n",
       "    <tr>\n",
       "      <th>lvef</th>\n",
       "      <td>1.755295</td>\n",
       "    </tr>\n",
       "  </tbody>\n",
       "</table style=\"display:inline\"><table style=\"display:inline\" border=\"1\" class=\"dataframe\">\n",
       "  <thead>\n",
       "    <tr style=\"text-align: right;\">\n",
       "      <th></th>\n",
       "      <th>Lin_Reg_Org</th>\n",
       "    </tr>\n",
       "  </thead>\n",
       "  <tbody>\n",
       "    <tr>\n",
       "      <th>mas_ischemia</th>\n",
       "      <td>-1.323619</td>\n",
       "    </tr>\n",
       "    <tr>\n",
       "      <th>hyperlipidemia</th>\n",
       "      <td>-1.667128</td>\n",
       "    </tr>\n",
       "    <tr>\n",
       "      <th>al_ischemia</th>\n",
       "      <td>-1.739566</td>\n",
       "    </tr>\n",
       "    <tr>\n",
       "      <th>ba_ischemia</th>\n",
       "      <td>-2.837152</td>\n",
       "    </tr>\n",
       "    <tr>\n",
       "      <th>bas_he</th>\n",
       "      <td>-3.040015</td>\n",
       "    </tr>\n",
       "  </tbody>\n",
       "</table style=\"display:inline\">"
      ]
     },
     "metadata": {},
     "output_type": "display_data"
    }
   ],
   "source": [
    "# Displaying the head and tail side-by-side to show the strongest\n",
    "# and weakest variables\n",
    "\n",
    "head = lin_reg_org.sort_values(by = \"Lin_Reg_Org\", ascending = False).head()\n",
    "tail = lin_reg_org.sort_values(by = \"Lin_Reg_Org\", ascending = False).tail()\n",
    "\n",
    "display_side_by_side(head,tail)"
   ]
  },
  {
   "cell_type": "code",
   "execution_count": 22,
   "metadata": {},
   "outputs": [
    {
     "data": {
      "image/png": "[encoded data removed]",
      "text/plain": [
       "<Figure size 432x288 with 1 Axes>"
      ]
     },
     "metadata": {
      "needs_background": "light"
     },
     "output_type": "display_data"
    }
   ],
   "source": [
    "# Plotting the residuals (difference between the predicted and the actual)\n",
    "\n",
    "sns.residplot(y_test, lr_preds);"
   ]
  },
  {
   "cell_type": "markdown",
   "metadata": {},
   "source": [
    "[Top](#Table-Of-Contents)"
   ]
  },
  {
   "cell_type": "markdown",
   "metadata": {},
   "source": [
    "### Engineered Subset"
   ]
  },
  {
   "cell_type": "markdown",
   "metadata": {},
   "source": [
    "The engineered subset is the dataframe but with the features we engineered instead of the original 34 segmental features."
   ]
  },
  {
   "cell_type": "code",
   "execution_count": 23,
   "metadata": {},
   "outputs": [],
   "source": [
    "# Instantiating the linear model\n",
    "\n",
    "lr_2 = LinearRegression()"
   ]
  },
  {
   "cell_type": "code",
   "execution_count": 24,
   "metadata": {},
   "outputs": [],
   "source": [
    "# Fitting the linear regression to the subset\n",
    "# with the features I engineered\n",
    "\n",
    "lr_2.fit(X_train_eng, y_train_eng);"
   ]
  },
  {
   "cell_type": "code",
   "execution_count": 25,
   "metadata": {},
   "outputs": [],
   "source": [
    "# Generating my predictions\n",
    "\n",
    "lr_2_preds  = lr_2.predict(X_test_eng)"
   ]
  },
  {
   "cell_type": "code",
   "execution_count": 26,
   "metadata": {},
   "outputs": [
    {
     "name": "stdout",
     "output_type": "stream",
     "text": [
      "The root mean squared error is : 23.111112718046606\n",
      "The mean absolute error is     : 15.234989524246423\n",
      "The r2 score is                : 0.8666245521501372\n",
      "The adjusted r2 score is       : 0.8662074932137712\n"
     ]
    }
   ],
   "source": [
    "# Evaluating my new set\n",
    "\n",
    "model_evaluation(X_test_eng, y_test_eng, lr_2_preds)"
   ]
  },
  {
   "cell_type": "code",
   "execution_count": 27,
   "metadata": {},
   "outputs": [],
   "source": [
    "# It is easier to view the coefficients in a df\n",
    "\n",
    "lin_reg_eng = pd.DataFrame(data  = lr_2.coef_,\n",
    "                           index = X_test_eng.columns,\n",
    "                           columns = [\"Lin_Reg_Eng\"])"
   ]
  },
  {
   "cell_type": "code",
   "execution_count": 28,
   "metadata": {},
   "outputs": [
    {
     "data": {
      "text/html": [
       "<table style=\"display:inline\" border=\"1\" class=\"dataframe\">\n",
       "  <thead>\n",
       "    <tr style=\"text-align: right;\">\n",
       "      <th></th>\n",
       "      <th>Lin_Reg_Eng</th>\n",
       "    </tr>\n",
       "  </thead>\n",
       "  <tbody>\n",
       "    <tr>\n",
       "      <th>lvesv_log</th>\n",
       "      <td>129.015341</td>\n",
       "    </tr>\n",
       "    <tr>\n",
       "      <th>mitral_reg</th>\n",
       "      <td>5.307152</td>\n",
       "    </tr>\n",
       "    <tr>\n",
       "      <th>lvef</th>\n",
       "      <td>2.253598</td>\n",
       "    </tr>\n",
       "    <tr>\n",
       "      <th>hypertension</th>\n",
       "      <td>2.104900</td>\n",
       "    </tr>\n",
       "    <tr>\n",
       "      <th>lv_wall_thickness</th>\n",
       "      <td>2.094055</td>\n",
       "    </tr>\n",
       "  </tbody>\n",
       "</table style=\"display:inline\"><table style=\"display:inline\" border=\"1\" class=\"dataframe\">\n",
       "  <thead>\n",
       "    <tr style=\"text-align: right;\">\n",
       "      <th></th>\n",
       "      <th>Lin_Reg_Eng</th>\n",
       "    </tr>\n",
       "  </thead>\n",
       "  <tbody>\n",
       "    <tr>\n",
       "      <th>basal_he</th>\n",
       "      <td>-0.205841</td>\n",
       "    </tr>\n",
       "    <tr>\n",
       "      <th>smoker_status_never</th>\n",
       "      <td>-1.111246</td>\n",
       "    </tr>\n",
       "    <tr>\n",
       "      <th>diabetes</th>\n",
       "      <td>-1.244056</td>\n",
       "    </tr>\n",
       "    <tr>\n",
       "      <th>mid_ischemia</th>\n",
       "      <td>-1.261124</td>\n",
       "    </tr>\n",
       "    <tr>\n",
       "      <th>smoker_status_former</th>\n",
       "      <td>-2.031060</td>\n",
       "    </tr>\n",
       "  </tbody>\n",
       "</table style=\"display:inline\">"
      ]
     },
     "metadata": {},
     "output_type": "display_data"
    }
   ],
   "source": [
    "head = lin_reg_eng.sort_values(by = \"Lin_Reg_Eng\", ascending = False).head()\n",
    "tail = lin_reg_eng.sort_values(by = \"Lin_Reg_Eng\", ascending = False).tail()\n",
    "\n",
    "display_side_by_side(head,tail)"
   ]
  },
  {
   "cell_type": "code",
   "execution_count": 29,
   "metadata": {},
   "outputs": [
    {
     "data": {
      "image/png": "[encoded data removed]",
      "text/plain": [
       "<Figure size 432x288 with 1 Axes>"
      ]
     },
     "metadata": {
      "needs_background": "light"
     },
     "output_type": "display_data"
    }
   ],
   "source": [
    "# Looking at the residuals\n",
    "\n",
    "sns.residplot(y_test_eng, lr_2_preds);"
   ]
  },
  {
   "cell_type": "markdown",
   "metadata": {},
   "source": [
    "[Top](#Table-Of-Contents)"
   ]
  },
  {
   "cell_type": "markdown",
   "metadata": {},
   "source": [
    "## Ridge"
   ]
  },
  {
   "cell_type": "markdown",
   "metadata": {},
   "source": [
    "Ridge regression works by imposing a penalty on the coefficients: it uses the $\\ell$<sub>2</sub> regularization which shrinks thems towards 0 and effectively removes features without actually doing so and reduces the overall complexity.\n",
    "\n",
    "----\n",
    "\n",
    "Because the features can be so strongly affected by $\\alpha$ it is important to have them all be on the same scale.  To do this, we used `StandardScaler`."
   ]
  },
  {
   "cell_type": "code",
   "execution_count": 30,
   "metadata": {},
   "outputs": [],
   "source": [
    "# Instantiating the standard scaler\n",
    "\n",
    "ss = StandardScaler()"
   ]
  },
  {
   "cell_type": "code",
   "execution_count": 31,
   "metadata": {},
   "outputs": [],
   "source": [
    "# Transforming the original set\n",
    "\n",
    "# Fit-transforming my X_train features\n",
    "\n",
    "X_train_ss     = ss.fit_transform(X_train)\n",
    "\n",
    "# Transforming my X_test variables\n",
    "\n",
    "X_test_ss  = ss.transform(X_test)"
   ]
  },
  {
   "cell_type": "code",
   "execution_count": 32,
   "metadata": {},
   "outputs": [],
   "source": [
    "# Transforming the engineered set\n",
    "\n",
    "# Fit-transforming my X_train_eng features\n",
    "\n",
    "X_train_eng_ss = ss.fit_transform(X_train_eng)\n",
    "\n",
    "# Transforming my X_test_eng features\n",
    "\n",
    "X_test_eng_ss = ss.transform(X_test_eng)"
   ]
  },
  {
   "cell_type": "markdown",
   "metadata": {},
   "source": [
    "### Original Set"
   ]
  },
  {
   "cell_type": "code",
   "execution_count": 33,
   "metadata": {},
   "outputs": [],
   "source": [
    "# Instantiating the ridge model\n",
    "\n",
    "ridge = RidgeCV()"
   ]
  },
  {
   "cell_type": "code",
   "execution_count": 34,
   "metadata": {},
   "outputs": [],
   "source": [
    "# Fitting the ridge model to the training data\n",
    "\n",
    "ridge.fit(X_train_ss, y_train);"
   ]
  },
  {
   "cell_type": "code",
   "execution_count": 35,
   "metadata": {},
   "outputs": [],
   "source": [
    "# Generating Predictions\n",
    "\n",
    "ridge_preds = ridge.predict(X_test_ss)"
   ]
  },
  {
   "cell_type": "code",
   "execution_count": 36,
   "metadata": {},
   "outputs": [
    {
     "name": "stdout",
     "output_type": "stream",
     "text": [
      "The root mean squared error is : 17.4627798093733\n",
      "The mean absolute error is     : 12.93357119857244\n",
      "The r2 score is                : 0.9238515732348865\n"
     ]
    }
   ],
   "source": [
    "# Evaluating the model\n",
    "# There is no adjusted r2 score because there are \n",
    "# no columns after the scaling process\n",
    "\n",
    "model_evaluation_nor2adj(y_test, ridge_preds)"
   ]
  },
  {
   "cell_type": "code",
   "execution_count": 37,
   "metadata": {},
   "outputs": [
    {
     "data": {
      "image/png": "[encoded data removed]",
      "text/plain": [
       "<Figure size 432x288 with 1 Axes>"
      ]
     },
     "metadata": {
      "needs_background": "light"
     },
     "output_type": "display_data"
    }
   ],
   "source": [
    "sns.residplot(y_test, ridge_preds);"
   ]
  },
  {
   "cell_type": "markdown",
   "metadata": {},
   "source": [
    "### Engineered Subset"
   ]
  },
  {
   "cell_type": "code",
   "execution_count": 38,
   "metadata": {},
   "outputs": [],
   "source": [
    "# Instantiating the ridge model\n",
    "\n",
    "ridge_2 = RidgeCV()"
   ]
  },
  {
   "cell_type": "code",
   "execution_count": 39,
   "metadata": {},
   "outputs": [],
   "source": [
    "# Fitting the ridge model to the data\n",
    "# with engineered features\n",
    "\n",
    "ridge_2.fit(X_train_eng_ss, y_train_eng);"
   ]
  },
  {
   "cell_type": "code",
   "execution_count": 40,
   "metadata": {},
   "outputs": [],
   "source": [
    "# Generating Predictions\n",
    "\n",
    "ridge_2_preds = ridge_2.predict(X_test_eng_ss)"
   ]
  },
  {
   "cell_type": "code",
   "execution_count": 41,
   "metadata": {},
   "outputs": [
    {
     "name": "stdout",
     "output_type": "stream",
     "text": [
      "The root mean squared error is : 23.11285690232428\n",
      "The mean absolute error is     : 15.236579363787632\n",
      "The r2 score is                : 0.8666044198319497\n"
     ]
    }
   ],
   "source": [
    "model_evaluation_nor2adj(y_test_eng, ridge_2_preds)"
   ]
  },
  {
   "cell_type": "code",
   "execution_count": 42,
   "metadata": {},
   "outputs": [
    {
     "data": {
      "image/png": "[encoded data removed]",
      "text/plain": [
       "<Figure size 432x288 with 1 Axes>"
      ]
     },
     "metadata": {
      "needs_background": "light"
     },
     "output_type": "display_data"
    }
   ],
   "source": [
    "sns.residplot(y_test_eng, ridge_2_preds);"
   ]
  },
  {
   "cell_type": "markdown",
   "metadata": {},
   "source": [
    "[Top](#Table-Of-Contents)"
   ]
  },
  {
   "cell_type": "markdown",
   "metadata": {},
   "source": [
    "## LASSO"
   ]
  },
  {
   "cell_type": "markdown",
   "metadata": {},
   "source": [
    "LASSO (Least Absolute Shrinkage and Selection Operator) is conceptually similar to Ridge in that it penalizes coefficients, but it uses $\\ell$<sub>2</sub> regularization which actually reduces the coefficients of unimportant features to exactly 0.\n",
    "\n",
    "-----\n",
    "\n",
    "Like Ridge, the values put into a LASSO model have to be scaled."
   ]
  },
  {
   "cell_type": "code",
   "execution_count": 43,
   "metadata": {},
   "outputs": [],
   "source": [
    "# Transforming the original set\n",
    "\n",
    "# Fit-transforming my X_train features\n",
    "\n",
    "X_train_ss     = ss.fit_transform(X_train)\n",
    "\n",
    "# Transforming my X_test variables\n",
    "\n",
    "X_test_ss  = ss.transform(X_test)"
   ]
  },
  {
   "cell_type": "code",
   "execution_count": 44,
   "metadata": {},
   "outputs": [],
   "source": [
    "# Transforming the engineered set\n",
    "\n",
    "# Fit-transforming my X_train_eng features\n",
    "\n",
    "X_train_eng_ss = ss.fit_transform(X_train_eng)\n",
    "\n",
    "# Transforming my X_test_eng features\n",
    "\n",
    "X_test_eng_ss = ss.transform(X_test_eng)"
   ]
  },
  {
   "cell_type": "markdown",
   "metadata": {},
   "source": [
    "### Original Set"
   ]
  },
  {
   "cell_type": "code",
   "execution_count": 45,
   "metadata": {},
   "outputs": [],
   "source": [
    "# Instantiating the LASSO model\n",
    "\n",
    "lasso = LassoCV()"
   ]
  },
  {
   "cell_type": "code",
   "execution_count": 46,
   "metadata": {},
   "outputs": [
    {
     "name": "stderr",
     "output_type": "stream",
     "text": [
      "C:\\Users\\andre\\Anaconda3\\lib\\site-packages\\sklearn\\model_selection\\_split.py:1978: FutureWarning: The default value of cv will change from 3 to 5 in version 0.22. Specify it explicitly to silence this warning.\n",
      "  warnings.warn(CV_WARNING, FutureWarning)\n"
     ]
    },
    {
     "data": {
      "text/plain": [
       "LassoCV(alphas=None, copy_X=True, cv='warn', eps=0.001, fit_intercept=True,\n",
       "        max_iter=1000, n_alphas=100, n_jobs=None, normalize=False,\n",
       "        positive=False, precompute='auto', random_state=None,\n",
       "        selection='cyclic', tol=0.0001, verbose=False)"
      ]
     },
     "execution_count": 46,
     "metadata": {},
     "output_type": "execute_result"
    }
   ],
   "source": [
    "# Fitting the lasso to my training data\n",
    "# without engineered features\n",
    "\n",
    "lasso.fit(X_train_ss, y_train)"
   ]
  },
  {
   "cell_type": "code",
   "execution_count": 47,
   "metadata": {},
   "outputs": [],
   "source": [
    "# Generating predictions\n",
    "\n",
    "lasso_preds = lasso.predict(X_test_ss)"
   ]
  },
  {
   "cell_type": "code",
   "execution_count": 48,
   "metadata": {},
   "outputs": [
    {
     "name": "stdout",
     "output_type": "stream",
     "text": [
      "The root mean squared error is : 17.452841587008194\n",
      "The mean absolute error is     : 12.939964432287836\n",
      "The r2 score is                : 0.9239382220572515\n"
     ]
    }
   ],
   "source": [
    "# Evaluating the model's performance\n",
    "\n",
    "model_evaluation_nor2adj(y_test, lasso_preds)"
   ]
  },
  {
   "cell_type": "code",
   "execution_count": 49,
   "metadata": {},
   "outputs": [
    {
     "data": {
      "image/png": "[encoded data removed]",
      "text/plain": [
       "<Figure size 432x288 with 1 Axes>"
      ]
     },
     "metadata": {
      "needs_background": "light"
     },
     "output_type": "display_data"
    }
   ],
   "source": [
    "sns.residplot(y_test, lasso_preds);"
   ]
  },
  {
   "cell_type": "markdown",
   "metadata": {},
   "source": [
    "### Engineered Subset"
   ]
  },
  {
   "cell_type": "code",
   "execution_count": 50,
   "metadata": {},
   "outputs": [],
   "source": [
    "# Instantiating the lasso model\n",
    "\n",
    "lasso_2 = LassoCV()"
   ]
  },
  {
   "cell_type": "code",
   "execution_count": 51,
   "metadata": {},
   "outputs": [
    {
     "name": "stderr",
     "output_type": "stream",
     "text": [
      "C:\\Users\\andre\\Anaconda3\\lib\\site-packages\\sklearn\\model_selection\\_split.py:1978: FutureWarning: The default value of cv will change from 3 to 5 in version 0.22. Specify it explicitly to silence this warning.\n",
      "  warnings.warn(CV_WARNING, FutureWarning)\n"
     ]
    },
    {
     "data": {
      "text/plain": [
       "LassoCV(alphas=None, copy_X=True, cv='warn', eps=0.001, fit_intercept=True,\n",
       "        max_iter=1000, n_alphas=100, n_jobs=None, normalize=False,\n",
       "        positive=False, precompute='auto', random_state=None,\n",
       "        selection='cyclic', tol=0.0001, verbose=False)"
      ]
     },
     "execution_count": 51,
     "metadata": {},
     "output_type": "execute_result"
    }
   ],
   "source": [
    "# Fitting the lasso to my training data\n",
    "# with engineered features\n",
    "\n",
    "lasso_2.fit(X_train_eng_ss, y_train_eng)"
   ]
  },
  {
   "cell_type": "code",
   "execution_count": 52,
   "metadata": {},
   "outputs": [],
   "source": [
    "# Generating predictions\n",
    "\n",
    "lasso_2_preds = lasso_2.predict(X_test_eng_ss)"
   ]
  },
  {
   "cell_type": "code",
   "execution_count": 53,
   "metadata": {},
   "outputs": [
    {
     "name": "stdout",
     "output_type": "stream",
     "text": [
      "The root mean squared error is : 23.166184744532803\n",
      "The mean absolute error is     : 15.294185552657328\n",
      "The r2 score is                : 0.8659881476740601\n"
     ]
    }
   ],
   "source": [
    "model_evaluation_nor2adj(y_test_eng, lasso_2_preds)"
   ]
  },
  {
   "cell_type": "code",
   "execution_count": 54,
   "metadata": {},
   "outputs": [
    {
     "data": {
      "image/png": "[encoded data removed]",
      "text/plain": [
       "<Figure size 432x288 with 1 Axes>"
      ]
     },
     "metadata": {
      "needs_background": "light"
     },
     "output_type": "display_data"
    }
   ],
   "source": [
    "sns.residplot(y_test, lasso_2_preds);"
   ]
  },
  {
   "cell_type": "markdown",
   "metadata": {},
   "source": [
    "[Top](#Table-Of-Contents)"
   ]
  },
  {
   "cell_type": "markdown",
   "metadata": {},
   "source": [
    "## ElasticNetCV"
   ]
  },
  {
   "cell_type": "markdown",
   "metadata": {},
   "source": [
    "Elastic net models are similar to both Ridge _and_ LASSO models: they are a compromise between the $\\ell$<sub>1</sub> and$\\ell$<sub>2</sub> regularizations.  In practice the model drives down non-significant features but does not remove them entirely.\n",
    "\n",
    "-----\n",
    "\n",
    "This method also requires the X variables to be scaled."
   ]
  },
  {
   "cell_type": "markdown",
   "metadata": {},
   "source": [
    "### Original Set"
   ]
  },
  {
   "cell_type": "code",
   "execution_count": 55,
   "metadata": {},
   "outputs": [],
   "source": [
    "# Instantiating the model\n",
    "\n",
    "enet = ElasticNetCV()"
   ]
  },
  {
   "cell_type": "code",
   "execution_count": 56,
   "metadata": {},
   "outputs": [
    {
     "name": "stderr",
     "output_type": "stream",
     "text": [
      "C:\\Users\\andre\\Anaconda3\\lib\\site-packages\\sklearn\\model_selection\\_split.py:1978: FutureWarning: The default value of cv will change from 3 to 5 in version 0.22. Specify it explicitly to silence this warning.\n",
      "  warnings.warn(CV_WARNING, FutureWarning)\n"
     ]
    },
    {
     "data": {
      "text/plain": [
       "ElasticNetCV(alphas=None, copy_X=True, cv='warn', eps=0.001, fit_intercept=True,\n",
       "             l1_ratio=0.5, max_iter=1000, n_alphas=100, n_jobs=None,\n",
       "             normalize=False, positive=False, precompute='auto',\n",
       "             random_state=None, selection='cyclic', tol=0.0001, verbose=0)"
      ]
     },
     "execution_count": 56,
     "metadata": {},
     "output_type": "execute_result"
    }
   ],
   "source": [
    "# Fitting the model to the \n",
    "# original data set\n",
    "\n",
    "enet.fit(X_train_ss, y_train)"
   ]
  },
  {
   "cell_type": "code",
   "execution_count": 57,
   "metadata": {},
   "outputs": [],
   "source": [
    "# Generating predictions\n",
    "\n",
    "enet_preds = enet.predict(X_test_ss)"
   ]
  },
  {
   "cell_type": "code",
   "execution_count": 58,
   "metadata": {},
   "outputs": [
    {
     "name": "stdout",
     "output_type": "stream",
     "text": [
      "The root mean squared error is : 18.71825193430591\n",
      "The mean absolute error is     : 14.381573761551651\n",
      "The r2 score is                : 0.912508722920664\n"
     ]
    }
   ],
   "source": [
    "# Evaluating the model's performance\n",
    "\n",
    "model_evaluation_nor2adj(y_test, enet_preds)"
   ]
  },
  {
   "cell_type": "code",
   "execution_count": 59,
   "metadata": {},
   "outputs": [
    {
     "data": {
      "image/png": "[encoded data removed]",
      "text/plain": [
       "<Figure size 432x288 with 1 Axes>"
      ]
     },
     "metadata": {
      "needs_background": "light"
     },
     "output_type": "display_data"
    }
   ],
   "source": [
    "# Plotting the residuals\n",
    "\n",
    "sns.residplot(y_test, enet_preds);"
   ]
  },
  {
   "cell_type": "markdown",
   "metadata": {},
   "source": [
    "### Engineered Subset"
   ]
  },
  {
   "cell_type": "code",
   "execution_count": 60,
   "metadata": {},
   "outputs": [],
   "source": [
    "# Instantiatig the model\n",
    "\n",
    "enet_2 = ElasticNetCV()"
   ]
  },
  {
   "cell_type": "code",
   "execution_count": 61,
   "metadata": {},
   "outputs": [
    {
     "name": "stderr",
     "output_type": "stream",
     "text": [
      "C:\\Users\\andre\\Anaconda3\\lib\\site-packages\\sklearn\\model_selection\\_split.py:1978: FutureWarning: The default value of cv will change from 3 to 5 in version 0.22. Specify it explicitly to silence this warning.\n",
      "  warnings.warn(CV_WARNING, FutureWarning)\n"
     ]
    },
    {
     "data": {
      "text/plain": [
       "ElasticNetCV(alphas=None, copy_X=True, cv='warn', eps=0.001, fit_intercept=True,\n",
       "             l1_ratio=0.5, max_iter=1000, n_alphas=100, n_jobs=None,\n",
       "             normalize=False, positive=False, precompute='auto',\n",
       "             random_state=None, selection='cyclic', tol=0.0001, verbose=0)"
      ]
     },
     "execution_count": 61,
     "metadata": {},
     "output_type": "execute_result"
    }
   ],
   "source": [
    "# Fitting the model to the data\n",
    "# with engineered features\n",
    "\n",
    "enet_2.fit(X_train_eng_ss, y_train_eng)"
   ]
  },
  {
   "cell_type": "code",
   "execution_count": 62,
   "metadata": {},
   "outputs": [],
   "source": [
    "# Generating predictions\n",
    "\n",
    "enet_2_preds = enet_2.predict(X_test_eng_ss)"
   ]
  },
  {
   "cell_type": "code",
   "execution_count": 63,
   "metadata": {},
   "outputs": [
    {
     "name": "stdout",
     "output_type": "stream",
     "text": [
      "The root mean squared error is : 24.881057382163224\n",
      "The mean absolute error is     : 16.691842447714198\n",
      "The r2 score is                : 0.845413400147587\n"
     ]
    }
   ],
   "source": [
    "# Evaluating the model\n",
    "\n",
    "model_evaluation_nor2adj(y_test_eng, enet_2_preds)"
   ]
  },
  {
   "cell_type": "code",
   "execution_count": 64,
   "metadata": {},
   "outputs": [
    {
     "data": {
      "image/png": "[encoded data removed]",
      "text/plain": [
       "<Figure size 432x288 with 1 Axes>"
      ]
     },
     "metadata": {
      "needs_background": "light"
     },
     "output_type": "display_data"
    }
   ],
   "source": [
    "# Plotting the residuals\n",
    "\n",
    "sns.residplot(y_test, enet_2_preds);"
   ]
  },
  {
   "cell_type": "markdown",
   "metadata": {},
   "source": [
    "[Top](#Table-Of-Contents)"
   ]
  },
  {
   "cell_type": "markdown",
   "metadata": {},
   "source": [
    "# Model Evaluation"
   ]
  }
 ],
 "metadata": {
  "kernelspec": {
   "display_name": "Python 3",
   "language": "python",
   "name": "python3"
  },
  "language_info": {
   "codemirror_mode": {
    "name": "ipython",
    "version": 3
   },
   "file_extension": ".py",
   "mimetype": "text/x-python",
   "name": "python",
   "nbconvert_exporter": "python",
   "pygments_lexer": "ipython3",
   "version": "3.6.8"
  }
 },
 "nbformat": 4,
 "nbformat_minor": 2
}
