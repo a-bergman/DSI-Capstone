{
 "cells": [
  {
   "cell_type": "markdown",
   "metadata": {},
   "source": [
    "# Imports"
   ]
  },
  {
   "cell_type": "code",
   "execution_count": null,
   "metadata": {
    "scrolled": false
   },
   "outputs": [],
   "source": [
    "import pandas               as pd\n",
    "import numpy                as np\n",
    "import seaborn              as sns\n",
    "import matplotlib.pyplot    as plt\n",
    "from IPython.core.display   import display, HTML\n",
    "sns.set(style = \"white\", palette = \"husl\")\n",
    "display(HTML(\"<style>.container { width:95% !important; }</style>\"))\n",
    "%matplotlib inline"
   ]
  },
  {
   "cell_type": "markdown",
   "metadata": {},
   "source": [
    "# Table Of Contents\n",
    "\n",
    "-----\n",
    "\n",
    "1. [Data Cleaning](#Data-Cleaning)\n",
    "\n",
    "    - [Reading In The Data](#Reading-In-The-Data)\n",
    "    - [Overview](#Overview)\n",
    "    - [Columns](#Columns)\n",
    "    - [Ordinal & Nominal Values](#Ordinal-&-Nominal-Values)\n",
    "    - [Missing Data](#Imputation-Of-Missing-Data)\n",
    "    - [Saving A New Dataframe](#Saving-A-New-Dataframe)\n",
    "    \n",
    "-----\n",
    "\n",
    "2. [Exploratory Visualizations](#Exploratory-Visualizations)\n",
    "    - [Numeric Data](#Numeric-Data)\n",
    "        - [Functions](#Functions)\n",
    "        - [Histograms](#Histograms)\n",
    "        - [Box Plots](#Box-Plots)\n",
    "        - [Scatter Plots](#Scatter-Plots)\n",
    "    - [Ordinal Data](#Ordinal-Data)\n",
    "        - [Functions](#Functions)\n",
    "        - [Bar Plots](#Bar-Plots)\n",
    "        \n",
    "-----\n",
    "\n",
    "3. [Heat Map](#Heat-Map)"
   ]
  },
  {
   "cell_type": "markdown",
   "metadata": {},
   "source": [
    "# Data Cleaning"
   ]
  },
  {
   "cell_type": "markdown",
   "metadata": {},
   "source": [
    "## Reading In The Data"
   ]
  },
  {
   "cell_type": "code",
   "execution_count": null,
   "metadata": {},
   "outputs": [],
   "source": [
    "# Reading in the MRI data file\n",
    "\n",
    "mri = pd.read_csv(\"../Data/stress_cardiac_mri.csv\")"
   ]
  },
  {
   "cell_type": "markdown",
   "metadata": {},
   "source": [
    "## Overview"
   ]
  },
  {
   "cell_type": "code",
   "execution_count": null,
   "metadata": {
    "scrolled": true
   },
   "outputs": [],
   "source": [
    "# Looking at the head of the data frame\n",
    "\n",
    "mri.head()"
   ]
  },
  {
   "cell_type": "code",
   "execution_count": null,
   "metadata": {},
   "outputs": [],
   "source": [
    "# Checking the shape of the data\n",
    "\n",
    "print(f'The shape of the mri set is: {mri.shape}')"
   ]
  },
  {
   "cell_type": "code",
   "execution_count": null,
   "metadata": {},
   "outputs": [],
   "source": [
    "# Getting the data types\n",
    "\n",
    "mri.dtypes"
   ]
  },
  {
   "cell_type": "code",
   "execution_count": null,
   "metadata": {},
   "outputs": [],
   "source": [
    "# Sum of the data types\n",
    "\n",
    "mri.dtypes.value_counts()"
   ]
  },
  {
   "cell_type": "code",
   "execution_count": null,
   "metadata": {},
   "outputs": [],
   "source": [
    "# Description Of Columns With Continuous/Discrete Data\n",
    "\n",
    "columns = [\"Age\", \"LVEDV\", \"LVESV\", \"LVEF\"]\n",
    "\n",
    "mri[columns].describe()"
   ]
  },
  {
   "cell_type": "markdown",
   "metadata": {},
   "source": [
    "There is something unusual in the description: it is impossible to have an ejection fraction of greater than 100% because it measures how much blood is pumped during contraction.\n",
    "\n",
    "We decided to simply filter those values out."
   ]
  },
  {
   "cell_type": "code",
   "execution_count": null,
   "metadata": {
    "scrolled": false
   },
   "outputs": [],
   "source": [
    "mri = mri[mri[\"LVEF\"] <= 100]"
   ]
  },
  {
   "cell_type": "markdown",
   "metadata": {},
   "source": [
    "### Columns"
   ]
  },
  {
   "cell_type": "code",
   "execution_count": null,
   "metadata": {},
   "outputs": [],
   "source": [
    "# Some of the columns have names that can be simplified\n",
    "\n",
    "mri = mri.rename({\"Sex (1=male,0=female)\": \"Sex\", \n",
    "                  \"Hypertension (1=yes,0=no)\": \"Hypertension\", \n",
    "                  \"Name\": \"ID\",\n",
    "                  \"History of smoking\": \"Smoker Status\", \n",
    "                  \"Tricuspid Regurgitation\": \"Tricusp Reg\"}, axis = 1)\n",
    "mri = mri.rename({\"Aortic Regurgitation (0=none, 0.5 = trivial, 1=mild, 1.5=mild-moderate, 2=moderate, 2.5=moderate-severe, 3= severe)\":\n",
    "                  \"Aortic Reg\"}, axis = 1)\n",
    "mri = mri.rename({\"Mitral Regurgitation (0=none, 0.5 = trivial, 1=mild, 1.5=mild-moderate, 2=moderate, 2.5=moderate-severe, 3= severe)\":\n",
    "                  \"Mitral Reg\"}, axis = 1)"
   ]
  },
  {
   "cell_type": "code",
   "execution_count": null,
   "metadata": {},
   "outputs": [],
   "source": [
    "# Replacing spaces with underscores\n",
    "# Making sure that all columns are lower case\n",
    "\n",
    "mri.columns = mri.columns.str.replace(\" \", \"_\")\n",
    "mri.columns = mri.columns.str.lower()"
   ]
  },
  {
   "cell_type": "markdown",
   "metadata": {},
   "source": [
    "The columns `ID` is just the name of the MRI image that the measurements came from.  I do not need that column for this project, so I will drop it."
   ]
  },
  {
   "cell_type": "code",
   "execution_count": null,
   "metadata": {},
   "outputs": [],
   "source": [
    "mri = mri.drop(\"id\", axis = 1)\n",
    "mri.shape"
   ]
  },
  {
   "cell_type": "markdown",
   "metadata": {},
   "source": [
    "### Ordinal & Nominal Values"
   ]
  },
  {
   "cell_type": "code",
   "execution_count": null,
   "metadata": {},
   "outputs": [],
   "source": [
    "# Making Yes/No values binary\n",
    "\n",
    "mri[\"diabetes\"] = mri[\"diabetes\"].apply(lambda x: 1 if x == \"Yes\" else 0)"
   ]
  },
  {
   "cell_type": "code",
   "execution_count": null,
   "metadata": {},
   "outputs": [],
   "source": [
    "# Creating dictionaries for mapping string ordinal data\n",
    "# to numeric scales\n",
    "\n",
    "lv_wall_map         = {\"Normal\": 0, \n",
    "                       \"MILD HYPERTROPHY\": 1, \n",
    "                       \"MODERATE HYPERTROPHY\": 2, \n",
    "                       \"SEVERE HYPERTROPHY\": 3}\n",
    "\n",
    "aortic_stenosis_map = {\"None\": 0, \n",
    "                       \"Indeterminant\": 0, \n",
    "                       \"Trivial\": 1, \n",
    "                       \"Mild\": 2, \n",
    "                       \"MODERATE\": 3, \n",
    "                       \"SEVERE\": 4}\n",
    "\n",
    "tricuspid_map       = {\"None\": 0, \n",
    "                       \"Trivial\": 1, \n",
    "                       \"MILD\": 2, \n",
    "                       \"MILD-MODERATE\": 3, \n",
    "                       \"MODERATE\": 4, \n",
    "                       \"MODERATE-SEVERE\": 5, \n",
    "                       \"SEVERE\": 6}\n",
    "\n",
    "aortic_mitral_map   = {0: 0, \n",
    "                       0.5: 1, \n",
    "                       1: 2, \n",
    "                       1.5: 2, \n",
    "                       2: 3, \n",
    "                       2.5: 3, \n",
    "                       3: 4}"
   ]
  },
  {
   "cell_type": "code",
   "execution_count": null,
   "metadata": {},
   "outputs": [],
   "source": [
    "# Mapping the ordinal data using the dicitionaries from above\n",
    "# I am ignoring NaNs here, but they will be dealt with later\n",
    "\n",
    "mri[\"lv_wall_thickness\"] = mri[\"lv_wall_thickness\"].map(lv_wall_map, na_action = \"ignore\")\n",
    "mri[\"aortic_stenosis\"]   = mri[\"aortic_stenosis\"].map(aortic_stenosis_map, na_action = \"ignore\")\n",
    "mri[\"tricusp_reg\"]       = mri[\"tricusp_reg\"].map(tricuspid_map, na_action = \"ignore\")\n",
    "mri[\"aortic_reg\"]        = mri[\"aortic_reg\"].map(aortic_mitral_map, na_action = \"ignore\")\n",
    "mri[\"mitral_reg\"]        = mri[\"mitral_reg\"].map(aortic_mitral_map, na_action = \"ignore\")"
   ]
  },
  {
   "cell_type": "code",
   "execution_count": null,
   "metadata": {},
   "outputs": [],
   "source": [
    "# The doctors who gave me this data told me to treat the `Unknown` value as `Never`\n",
    "\n",
    "mri[\"smoker_status\"] = mri[\"smoker_status\"].replace({\"Unknown\": \"Never\",\n",
    "                                                     \"Former (>1yr)\": \"Former\"})"
   ]
  },
  {
   "cell_type": "code",
   "execution_count": null,
   "metadata": {},
   "outputs": [],
   "source": [
    "# Since the `smoker_status` column is nominal, they have to be made into dummies\n",
    "# I am not going to drop `smoker_status` immediately because I want to look at the\n",
    "# distribution of the classes\n",
    "\n",
    "smoker_dummies = pd.get_dummies(mri[\"smoker_status\"], drop_first = True)\n",
    "mri = pd.concat(objs = [mri, smoker_dummies], axis = 1)"
   ]
  },
  {
   "cell_type": "code",
   "execution_count": null,
   "metadata": {},
   "outputs": [],
   "source": [
    "mri.columns"
   ]
  },
  {
   "cell_type": "code",
   "execution_count": null,
   "metadata": {},
   "outputs": [],
   "source": [
    "# Renaming the `smoker_status_former` column\n",
    "\n",
    "mri = mri.rename({\"Former\": \"smoker_status_former\",\n",
    "                  \"Never\": \"smoker_status_never\"}, axis = 1)"
   ]
  },
  {
   "cell_type": "code",
   "execution_count": null,
   "metadata": {},
   "outputs": [],
   "source": [
    "mri.columns"
   ]
  },
  {
   "cell_type": "markdown",
   "metadata": {},
   "source": [
    "[Top](#Table-Of-Contents)"
   ]
  },
  {
   "cell_type": "markdown",
   "metadata": {},
   "source": [
    "### Imputation Of Missing Data"
   ]
  },
  {
   "cell_type": "markdown",
   "metadata": {},
   "source": [
    "Rather than directly imputing missing values, I will make use of the pattern sub-model approach which helps avoid the pitfalls of most imputation techniques: making up data and underestimating the variance of the data.\n",
    "\n",
    "The technique works by splitting the data into sub-groups based off which rows are missing data.  When it comes time for fitting models, a model will be run on each set."
   ]
  },
  {
   "cell_type": "code",
   "execution_count": null,
   "metadata": {},
   "outputs": [],
   "source": [
    "# Checking for columns with missing/NaN data\n",
    "\n",
    "(mri.isnull().mean()*100).sort_values(ascending = False).head(6)"
   ]
  },
  {
   "cell_type": "markdown",
   "metadata": {},
   "source": [
    "Despite these columns missing data, the doctors who gave us the data said that the `NaNs` in `LV_Wall_Thickness` can be considered to be \"normal\".  This is because this column measures how hypertrophic the tissue is, i.e is the tissue thicker than normal."
   ]
  },
  {
   "cell_type": "code",
   "execution_count": null,
   "metadata": {},
   "outputs": [],
   "source": [
    "mri[\"lv_wall_thickness\"] = mri[\"lv_wall_thickness\"].fillna(0)"
   ]
  },
  {
   "cell_type": "code",
   "execution_count": null,
   "metadata": {},
   "outputs": [],
   "source": [
    "# The physicians said that missing values `smoker_status` can be treated as Never\n",
    "\n",
    "mri[\"smoker_status\"] = mri[\"smoker_status\"].fillna(\"Never\")"
   ]
  },
  {
   "cell_type": "code",
   "execution_count": null,
   "metadata": {
    "scrolled": true
   },
   "outputs": [],
   "source": [
    "(mri.isnull().mean()*100).sort_values(ascending = False).head(4)"
   ]
  },
  {
   "cell_type": "markdown",
   "metadata": {},
   "source": [
    "### Saving A New Dataframe"
   ]
  },
  {
   "cell_type": "markdown",
   "metadata": {},
   "source": [
    "Now that I've made a lot of changes to the original .csv file, I want to be able to model on the changed data.  To do this I will create a new .csv file."
   ]
  },
  {
   "cell_type": "code",
   "execution_count": null,
   "metadata": {},
   "outputs": [],
   "source": [
    "mri.to_csv(\"../Data/mri_cleaned.csv\", index = False)"
   ]
  },
  {
   "cell_type": "markdown",
   "metadata": {},
   "source": [
    "[Top](#Table-Of-Contents)"
   ]
  },
  {
   "cell_type": "markdown",
   "metadata": {},
   "source": [
    "# Exploratory Visualizations"
   ]
  },
  {
   "cell_type": "markdown",
   "metadata": {},
   "source": [
    "## Numeric Data"
   ]
  },
  {
   "cell_type": "markdown",
   "metadata": {},
   "source": [
    "### Functions"
   ]
  },
  {
   "cell_type": "code",
   "execution_count": null,
   "metadata": {},
   "outputs": [],
   "source": [
    "def continuous_data_histograms(columns, titles, labels):\n",
    "    \n",
    "    # The count determines the location of the chart within the grid\n",
    "    count = 0\n",
    "    fig   = plt.figure(figsize = (14,7))\n",
    "    \n",
    "    # Looping through each column in the list to graph\n",
    "    # enumerating allows for me to index the other lists\n",
    "    for c, column in enumerate(columns):\n",
    "        # Changing the location\n",
    "        count += 1\n",
    "        ax    = fig.add_subplot(2, 2, count)\n",
    "        plt.title(f\"Distribution Of {titles[c]}\", size = 18)\n",
    "        sns.distplot(mri[column], color = \"black\",\n",
    "                     kde = False)\n",
    "        plt.axvline(mri[column].mean(),\n",
    "                    color = \"red\")\n",
    "        plt.xlabel(f\"{labels[c]}\", size = 16)\n",
    "        plt.ylabel(\"Frequency\", size = 16)\n",
    "        plt.xticks(size = 14)\n",
    "        plt.yticks(size = 14)\n",
    "    plt.tight_layout();\n",
    "    plt.show();"
   ]
  },
  {
   "cell_type": "code",
   "execution_count": null,
   "metadata": {},
   "outputs": [],
   "source": [
    "def continuous_data_boxplots(columns, titles, labels):\n",
    "    \n",
    "    # Count sets the location within the grid\n",
    "    count = 0\n",
    "    fig   = plt.figure(figsize = (14,7))\n",
    "    \n",
    "    # Looping through each column for a graph\n",
    "    # Enumerating allows me to index the other lists\n",
    "    for c, column in enumerate(columns):\n",
    "        \n",
    "        # Changing the location for the next graph\n",
    "        count += 1\n",
    "        ax    = fig.add_subplot(2, 2, count)\n",
    "        plt.title(f\"{titles[c]}\", size = 18)\n",
    "        sns.boxplot(mri[column])\n",
    "        plt.xlabel(f\"{labels[c]}\", size = 16)\n",
    "        plt.xticks(size = 14)\n",
    "        plt.yticks(size = 14)\n",
    "    plt.tight_layout();\n",
    "    plt.show();"
   ]
  },
  {
   "cell_type": "code",
   "execution_count": null,
   "metadata": {},
   "outputs": [],
   "source": [
    "# For comments see above\n",
    "\n",
    "def continuous_data_scatterplots(columns, titles, labels):\n",
    "    count = 0\n",
    "    fig   = plt.figure(figsize = (14,7))\n",
    "    for c, column in enumerate(columns):\n",
    "        count += 1\n",
    "        ax    = fig.add_subplot(2, 2, count)\n",
    "        plt.title(f\"{titles[c]} Vs EDV\", size = 18)\n",
    "        sns.regplot(x = column, y = \"lvedv\",\n",
    "                    data = mri, fit_reg = True,\n",
    "                    marker = \"+\", color = \"black\",\n",
    "                    line_kws = {\"color\": \"red\"}, ci = None)\n",
    "        plt.xlabel(f\"{labels[c]}\", size = 16)\n",
    "        plt.ylabel(f\"Diastolic Volume (mL)\", size = 16)\n",
    "        plt.xticks(size = 14)\n",
    "        plt.yticks(size = 14)\n",
    "    plt.tight_layout();\n",
    "    plt.show();"
   ]
  },
  {
   "cell_type": "markdown",
   "metadata": {},
   "source": [
    "[Top](#Table-Of-Contents)"
   ]
  },
  {
   "cell_type": "markdown",
   "metadata": {},
   "source": [
    "### Histograms"
   ]
  },
  {
   "cell_type": "markdown",
   "metadata": {},
   "source": [
    "In the following histograms, the vertical red line indicates the mean."
   ]
  },
  {
   "cell_type": "code",
   "execution_count": null,
   "metadata": {},
   "outputs": [],
   "source": [
    "continuous_data_histograms(columns = [\"age\", \"lvedv\", \n",
    "                                      \"lvesv\", \"lvef\"], \n",
    "                           titles  = [\"Age\", \"End Diastolic Volume\",\n",
    "                                      \"End Systolic Volume\", \"Ejection Fraction\"],\n",
    "                           labels  = [\"Year\", \"Volume In mL\", \n",
    "                                      \"Volume In mL\", \"Percentage\"])"
   ]
  },
  {
   "cell_type": "markdown",
   "metadata": {},
   "source": [
    "- `age` follows a normal distribution, but it is skewed left.  This is a little surprising, because cardiac patients in general tend to be older than other patients.\n",
    "\n",
    "-----\n",
    "\n",
    "- `LVEDV` and `LVESV` both have lognormal distributions, which is not suprising given that most biological data has a positive-skewed and rarely have values of 0.\n",
    "\n",
    "-----\n",
    "\n",
    "- `LVEV` has an irregular distribution that appears to be skewed left, probably due to the fact that the healthy range is between 50% and 70%.  However, having an ejection fraction >70% is also a sign of disease which could explain the sharp drop off the graph.\n",
    "\n",
    "-----\n",
    "\n",
    "Later on in feature engineering, we will take the log of `lvesv` because that will force it to have a more normal distribution which will make the models better.  However, `lvedv` is the target variable, so it will be left as is."
   ]
  },
  {
   "cell_type": "markdown",
   "metadata": {},
   "source": [
    "### Box Plots"
   ]
  },
  {
   "cell_type": "code",
   "execution_count": null,
   "metadata": {},
   "outputs": [],
   "source": [
    "continuous_data_boxplots(columns = [\"age\", \"lvedv\", \"lvesv\", \"lvef\"], \n",
    "                         titles  = [\"Age\", \"End Diastolic Volume\",\n",
    "                                    \"End Systolic Volume\", \"Ejection Fraction\"],\n",
    "                         labels  = [\"Year\", \"Volume In mL\", \n",
    "                                    \"Volume In mL\", \"Percentage\"])"
   ]
  },
  {
   "cell_type": "markdown",
   "metadata": {},
   "source": [
    "- `age` has a wide range, with a few outliers <20 years and >95 years which is not unexpected.  We expected the mean to be a little bit higher given that older people tend to have heart attacks more than younger people, but as it turns out people are having heart attacks at a younger ages.  [Source](https://www.heart.org/en/news/2018/11/12/heart-attacks-are-becoming-more-common-in-younger-people-especially-women).  Furthermore, given that the left whisker is longer than the right whisker, it is evident that the ages <60 vary more than >60.\n",
    "\n",
    "-----\n",
    "\n",
    "- `lvedv` has a very tight distribution, but a significant number of high outliers which is a reflection of its lognormal distribution.\n",
    "\n",
    "-----\n",
    "\n",
    "- `lvesv` has a very tight distribution, but a significant number of high outliers which is a reflection of its lognormal distribution.\n",
    "\n",
    "-----\n",
    "\n",
    "- `lvef` also has a tight distribution, but is skewed left.  This is a reflection of the fact that people with heart disease are likely to have low ejection fractions (more blood left after the diastolic contraction)."
   ]
  },
  {
   "cell_type": "markdown",
   "metadata": {},
   "source": [
    "### Scatter Plots"
   ]
  },
  {
   "cell_type": "code",
   "execution_count": null,
   "metadata": {},
   "outputs": [],
   "source": [
    "continuous_data_scatterplots(columns = [\"age\", \"lvesv\", \"lvef\"], \n",
    "                             titles  = [\"Age\", \"ESV\", \"EF\"],\n",
    "                             labels  = [\"Age\", \"Systolic Volume (mL)\", \n",
    "                                        \"Fraction\"])"
   ]
  },
  {
   "cell_type": "markdown",
   "metadata": {},
   "source": [
    "- `Age Vs LVEDV`: there is a negative linear relationship between the two, but it is not strong.  The EDV appears to be densest between the ages of 40 and 80.\n",
    "\n",
    "-----\n",
    "\n",
    "- `LVESV Vs LVEDV`: there is a very strong positive relationship between the two given the fact that the the ESV is the volume when the ventricle is contracted, hence it will be directly related to the EDV.\n",
    "\n",
    "-----\n",
    "\n",
    "- `LVEF Vs LVEDV`: there is a moderately strong negative relationship between the due because the ejection fraction is the SV divided by the DV.  This column will not be included in the models."
   ]
  },
  {
   "cell_type": "markdown",
   "metadata": {},
   "source": [
    "[Top](#Table-Of-Contents)"
   ]
  },
  {
   "cell_type": "markdown",
   "metadata": {},
   "source": [
    "## Ordinal Data"
   ]
  },
  {
   "cell_type": "markdown",
   "metadata": {},
   "source": [
    "### Functions"
   ]
  },
  {
   "cell_type": "markdown",
   "metadata": {},
   "source": [
    "Rather than trying to plot all 44 categorical/ordinal columns at once, we broke them down into four groups:\n",
    "\n",
    "- `segments_scr` encompasses the compasses that record scarification in each of the segments of the heart, i.e. columns that end in `_HE`.\n",
    "\n",
    "- `segments_isc` is the same as `segments_scr` but instead records ischemia; all of the columns that end with `_ischemia`.\n",
    "\n",
    "- `structure` is a list of cardiac structural measurements: thickness of the left ventricular wall, vavlular regurgitation, and aortic stenosis.\n",
    "\n",
    "- `lifestyle` refers to hypertension, hyperlipidemia, diabetes, and smoking status."
   ]
  },
  {
   "cell_type": "code",
   "execution_count": null,
   "metadata": {},
   "outputs": [],
   "source": [
    "# Defining groups to visualize\n",
    "# Rather than using plotting all ordinal columns at once,\n",
    "# I'm breaking them down by similarity\n",
    "\n",
    "segments_scr  = ['ba_he', 'bas_he', 'bis_he', 'bi_he', \n",
    "                 'bil_he', 'bal_he', 'ma_he', 'mas_he', \n",
    "                 'mis_he', 'mi_he','mil_he', 'mal_he', \n",
    "                 'aa_he', 'as_he', 'ai_he', 'al_he', 'apex_he']\n",
    "\n",
    "segments_isc  = ['ba_ischemia', 'bas_ischemia', 'bis_ischemia', \n",
    "                'bi_ischemia', 'bil_ischemia', 'bal_ischemia', \n",
    "                'ma_ischemia', 'mas_ischemia','mis_ischemia', \n",
    "                'mi_ischemia', 'mil_ischemia', 'mal_ischemia', \n",
    "                'aa_ischemia', 'as_ischemia', 'ai_ischemia', \n",
    "                'al_ischemia',]\n",
    "\n",
    "structure     = ['lv_wall_thickness', 'aortic_stenosis',\n",
    "                 'aortic_reg', 'mitral_reg', 'tricusp_reg']\n",
    "\n",
    "lifestyle      = ['sex','hypertension', 'hyperlipidemia', \n",
    "                 'diabetes', \"smoker_status\"]"
   ]
  },
  {
   "cell_type": "code",
   "execution_count": null,
   "metadata": {},
   "outputs": [],
   "source": [
    "# See the previous plotting functions for comments\n",
    "\n",
    "def plot_barcharts(columns, titles, labels):\n",
    "    fig       = plt.figure(figsize = (20,30))\n",
    "    count     = 0\n",
    "    for c, column in enumerate(columns):\n",
    "        count += 1\n",
    "        ax    = fig.add_subplot(8, 3, count)\n",
    "        title = titles[c]\n",
    "        plt.title(f\"{title}\", size = 18)\n",
    "        sns.countplot(mri[column])\n",
    "        plt.xlabel(f\"{labels[c]}\", size = 16)\n",
    "        plt.ylabel(\"Count\", size = 16)\n",
    "        plt.xticks(size = 14)\n",
    "        plt.yticks(size = 14)\n",
    "    plt.tight_layout();\n",
    "    plt.show();"
   ]
  },
  {
   "cell_type": "code",
   "execution_count": null,
   "metadata": {},
   "outputs": [],
   "source": [
    "def sum_segment_scr_cols():\n",
    "    \n",
    "    # Delcaring empty variables for each value\n",
    "    cat_0 = 0\n",
    "    cat_1 = 0\n",
    "    cat_2 = 0\n",
    "    cat_3 = 0\n",
    "    cat_4 = 0\n",
    "    \n",
    "    # Looping through each column's value counts\n",
    "    # Adds the count and sets the variable equal to that\n",
    "    for column in segments_scr:\n",
    "        cat_0  += mri[column].value_counts()[0]\n",
    "        cat_1  += mri[column].value_counts()[1]\n",
    "        cat_2  += mri[column].value_counts()[2]\n",
    "        cat_3  += mri[column].value_counts()[3]\n",
    "        cat_4  += mri[column].value_counts()[4]\n",
    "        \n",
    "    # Creating a dataframe allows for easy visualization\n",
    "    scar_total = pd.DataFrame(data    = [cat_0, cat_1, \n",
    "                                         cat_2, cat_3, \n",
    "                                         cat_4],\n",
    "                              columns = [\"count\"])\n",
    "    \n",
    "    # Setting up a bar chart\n",
    "    plt.figure(figsize = (10,5))\n",
    "    sns.barplot(x    = scar_total.index,\n",
    "                y    = \"count\",\n",
    "                data = scar_total)\n",
    "    plt.title(\"Presence Of Scar Tissue\", size = 18)\n",
    "    plt.xlabel(\"Level\", size = 16)\n",
    "    plt.ylabel(\"Frequency\", size = 16)\n",
    "    plt.xticks(size = 14)\n",
    "    plt.yticks(size = 14)"
   ]
  },
  {
   "cell_type": "code",
   "execution_count": null,
   "metadata": {
    "scrolled": false
   },
   "outputs": [],
   "source": [
    "def sum_segment_isc_cols():\n",
    "    \n",
    "    # Declaring empty values for each value\n",
    "    cat_0 = 0\n",
    "    cat_1 = 0\n",
    "    \n",
    "    # Looping through each column's value counts\n",
    "    # Adds the count and sets the variable equal to that\n",
    "    for column in segments_scr:\n",
    "        cat_0  += mri[column].value_counts()[0]\n",
    "        cat_1  += mri[column].value_counts()[1]\n",
    "        \n",
    "    # Making a dataframe allows for easy visuals\n",
    "    isc_total  = pd.DataFrame(data    = [cat_0, cat_1],\n",
    "                              columns = [\"count\"])\n",
    "    \n",
    "    # Creating a bar plot\n",
    "    plt.figure(figsize = (10,5))\n",
    "    sns.barplot(x    = isc_total.index,\n",
    "                y    = \"count\",\n",
    "                data = isc_total)\n",
    "    plt.title(\"Presence Of Ischemia\", size = 18)\n",
    "    plt.xlabel(\"Category\", size = 16)\n",
    "    plt.ylabel(\"Frequency\", size = 16)\n",
    "    plt.xticks(size = 14)\n",
    "    plt.yticks(size = 14)"
   ]
  },
  {
   "cell_type": "markdown",
   "metadata": {},
   "source": [
    "[Top](#Table-Of-Contents)"
   ]
  },
  {
   "cell_type": "markdown",
   "metadata": {},
   "source": [
    "### Bar Plots"
   ]
  },
  {
   "cell_type": "code",
   "execution_count": null,
   "metadata": {},
   "outputs": [],
   "source": [
    "sum_segment_scr_cols()"
   ]
  },
  {
   "cell_type": "markdown",
   "metadata": {},
   "source": [
    "The main takeaway is that by far most segments of the heart do not have any damage at all, which makes sense because it would be likely that damage across the entirety of the heart is near impossible: infarction is localized by the blockage of a given artery."
   ]
  },
  {
   "cell_type": "markdown",
   "metadata": {},
   "source": [
    "The data in the `segments_scr` list is ordinal, meaning that each category corresponds to a degree of scarification.  In this case, the scale is from 0 to 5:\n",
    "\n",
    "- 0: no scarification\n",
    "\n",
    "- 1: 25% scarification\n",
    "\n",
    "- 2: 50% scarification\n",
    "\n",
    "- 3: 75% scarification\n",
    "\n",
    "- 4: 100% scarification: tissue death.\n",
    "\n",
    "These measurements were seen by the physician on a MRI scan and then classified at their discretion."
   ]
  },
  {
   "cell_type": "code",
   "execution_count": null,
   "metadata": {},
   "outputs": [],
   "source": [
    "sum_segment_isc_cols()"
   ]
  },
  {
   "cell_type": "markdown",
   "metadata": {},
   "source": [
    "This graph has a similar takeaway: by far most areas of the heart had no ischemia at the time the image was taken.  Ischemia is also localized by blockage of an artery, so an ischemic event would happen only in one place."
   ]
  },
  {
   "cell_type": "markdown",
   "metadata": {},
   "source": [
    "The data in the `segments_isc` list is binary, meaning that the columns simply record if there was ischemia (reduced blood-flow):\n",
    "\n",
    "- 0: no ischemia\n",
    "\n",
    "- 1: ischemia present"
   ]
  },
  {
   "cell_type": "code",
   "execution_count": null,
   "metadata": {},
   "outputs": [],
   "source": [
    "plot_barcharts(columns = structure, \n",
    "               titles  = [\"LV Wall Thickness\", \"Aortic Stenosis\",\n",
    "                          \"Aortic Regurgitation\", \"Mitral Regurgitation\",\n",
    "                          \"Tricuspid Regurgitation\"],\n",
    "               labels  = [\"Thickness\", \"Narrowness\", \"Severity Of Regurgitation\",\n",
    "                          \"Severity Of Regurgitation\", \"Severity Of Regurgitation\"])"
   ]
  },
  {
   "cell_type": "markdown",
   "metadata": {},
   "source": [
    "Unfortunately, not all of these columns are on the same scale.\n",
    "\n",
    "For `LV Wall Thickness`:\n",
    "\n",
    "- 0: Normal\n",
    "- 1: Mild\n",
    "- 2: Moderate\n",
    "- 3: Severe\n",
    "\n",
    "This measures hypertrophy, so this measures how much thicker the muscle is than normal.\n",
    "\n",
    "-----\n",
    "\n",
    "For `Aortic Stenosis`:\n",
    "\n",
    "- 0: None\n",
    "- 1: Trivial\n",
    "- 2: Mild\n",
    "- 3: Moderate\n",
    "- 4: Severe\n",
    "\n",
    "-----\n",
    "\n",
    "For `Aortic Regurgitation` And `Mitral Regurgitation`:\n",
    "\n",
    " - 0: Mild\n",
    " - 1: Mild-Moderate\n",
    " - 2: Moderate\n",
    " - 3: Moderate-Severe\n",
    " - 4: Severe\n",
    " \n",
    " -----\n",
    " \n",
    " For `Tricuspid Regurgitation`:\n",
    " \n",
    " - 0: None\n",
    " - 1: Trivial\n",
    " - 2: Mild\n",
    " - 3: Mild-Moderate\n",
    " - 4: Moderate\n",
    " - 5: Moderate-Severe\n",
    " - 6: Severe\n",
    " \n",
    " We were not given a satisfactory explanation as to why this column was different that the other two regurgitation columns."
   ]
  },
  {
   "cell_type": "code",
   "execution_count": null,
   "metadata": {},
   "outputs": [],
   "source": [
    "plot_barcharts(columns = lifestyle,\n",
    "               titles  = [\"Sex\", \"Hypertension\", \"Hyperlipidemia\",\n",
    "                          \"Diabetes\", \"Tobacco Use\"],\n",
    "               labels = [\"Sex\", \"Category\", \"Category\", \"Category\",\n",
    "                         \"Status\"])"
   ]
  },
  {
   "cell_type": "markdown",
   "metadata": {},
   "source": [
    "- `Sex` is virtually evenly split, which surprised us because heart attacks are more associated with men than with women.\n",
    "\n",
    "-----\n",
    "\n",
    "- `Hypertension` has a split that was expected because hyper tension is strongly correlated with occurance of cardiac disease.\n",
    "\n",
    "-----\n",
    "\n",
    "- `Hyperlipidemia` also has a surprising split.  We expected that it would look more like the split in `Hypertension` because it is also a huge risk factor for heart diease.\n",
    "\n",
    "-----\n",
    "\n",
    "- `Diabetes` was a little suprising because diabetes also is a risk factor for cardiovascular disease, but also because roughly 100 million American adults are pre-diabetic or have Type 2 Diabetes.  We were not told if this group includes those with Type 1 Diabetes.\n",
    "\n",
    "-----\n",
    "\n",
    "- `Tobacco Use` was expected given that tobacco use has plummeted in recent decades amongst Americans. "
   ]
  },
  {
   "cell_type": "markdown",
   "metadata": {},
   "source": [
    "# Heat Map"
   ]
  },
  {
   "cell_type": "code",
   "execution_count": null,
   "metadata": {},
   "outputs": [],
   "source": [
    "# Creating a list of columns for the heat map\n",
    "\n",
    "numeric_cols = [\"age\", \"lvedv\", \"lvesv\", \"lvef\"]"
   ]
  },
  {
   "cell_type": "code",
   "execution_count": null,
   "metadata": {},
   "outputs": [],
   "source": [
    "plt.figure(figsize = (8,8))\n",
    "plt.title(\"Correlations Among Numeric Columns\", size = 18)\n",
    "corr = mri[numeric_cols].corr()\n",
    "mask = np.zeros_like(corr)                                                                                \n",
    "mask[np.triu_indices_from(mask)] = True\n",
    "with sns.axes_style(\"white\"):\n",
    "    sns.heatmap(corr, cmap = \"RdBu\", mask = mask,\n",
    "                vmin = -1, vmax = 1, annot = True)\n",
    "plt.xticks(size = 14)\n",
    "plt.yticks(size = 14);"
   ]
  },
  {
   "cell_type": "markdown",
   "metadata": {},
   "source": [
    "We were fairly surprised by this heatmap.  While we were not at all surprised that EDV and ESV are so strongly correlated, we were surpised that age was not signficantly correlated with EDV, ESV, or EF at all.  We initially expected that EF would be strongly correlated with the two volume measurements, but the EF is actually done by diameter of the ventricles not by volume measurements."
   ]
  },
  {
   "cell_type": "markdown",
   "metadata": {},
   "source": [
    "[Top](#Table-Of-Contents)"
   ]
  }
 ],
 "metadata": {
  "kernelspec": {
   "display_name": "Python 3",
   "language": "python",
   "name": "python3"
  },
  "language_info": {
   "codemirror_mode": {
    "name": "ipython",
    "version": 3
   },
   "file_extension": ".py",
   "mimetype": "text/x-python",
   "name": "python",
   "nbconvert_exporter": "python",
   "pygments_lexer": "ipython3",
   "version": "3.6.8"
  }
 },
 "nbformat": 4,
 "nbformat_minor": 2
}
