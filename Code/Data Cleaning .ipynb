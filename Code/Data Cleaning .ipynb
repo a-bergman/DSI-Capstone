{
 "cells": [
  {
   "cell_type": "markdown",
   "metadata": {},
   "source": [
    "# Imports"
   ]
  },
  {
   "cell_type": "code",
   "execution_count": null,
   "metadata": {
    "scrolled": false
   },
   "outputs": [],
   "source": [
    "import pandas               as pd\n",
    "import numpy                as np\n",
    "import seaborn              as sns\n",
    "import matplotlib.pyplot    as plt\n",
    "from sklearn.experimental   import enable_iterative_imputer\n",
    "from sklearn.impute         import IterativeImputer\n",
    "from sklearn.ensemble       import ExtraTreesRegressor\n",
    "from autoimpute.imputations import MultipleImputer\n",
    "from IPython.core.display   import display, HTML\n",
    "sns.set(style = \"white\", palette = \"dark\")\n",
    "display(HTML(\"<style>.container { width:95% !important; }</style>\"))\n",
    "%matplotlib inline"
   ]
  },
  {
   "cell_type": "markdown",
   "metadata": {},
   "source": [
    "# Table Of Contents\n",
    "\n",
    "-----\n",
    "\n",
    "1. [Data Cleaning](#Data-Cleaning)\n",
    "\n",
    "    - [Reading In The Data](#Reading-In-The-Data)\n",
    "    - [Overview](#Overview)\n",
    "    - [Columns](#Columns)\n",
    "    - [Ordinal & Nominal Values](#Ordinal-&-Nominal-Values)\n",
    "    - [Imputation Of Missing Data](#Imputation-Of-Missing-Data)\n",
    "    \n",
    "-----\n",
    "\n",
    "2. [Exploratory Visualizations](#Exploratory-Visualizations)\n",
    "    - [Numeric Data](#Numeric-Data)\n",
    "        - [Functions](#Functions)\n",
    "        - [Histograms](#Histograms)\n",
    "        - [Scatter Plots](#Scatter-Plots)\n",
    "    - [Ordinal Data](#Ordinal-Data)\n",
    "        - [Functions](#Functions)\n",
    "        - [Bar Plots](#Bar-Plots)\n",
    "        \n",
    "-----\n",
    "\n",
    "3. [Heat Maps](#Heat-Maps)"
   ]
  },
  {
   "cell_type": "markdown",
   "metadata": {},
   "source": [
    "# Data Cleaning"
   ]
  },
  {
   "cell_type": "markdown",
   "metadata": {},
   "source": [
    "## Reading In The Data"
   ]
  },
  {
   "cell_type": "code",
   "execution_count": null,
   "metadata": {},
   "outputs": [],
   "source": [
    "# Reading in the MRI data file\n",
    "\n",
    "mri = pd.read_csv(\"../Data/stress_cardiac_mri.csv\")"
   ]
  },
  {
   "cell_type": "markdown",
   "metadata": {},
   "source": [
    "## Overview"
   ]
  },
  {
   "cell_type": "code",
   "execution_count": null,
   "metadata": {},
   "outputs": [],
   "source": [
    "# Looking at the first two rows\n",
    "\n",
    "mri.head(2)"
   ]
  },
  {
   "cell_type": "code",
   "execution_count": null,
   "metadata": {},
   "outputs": [],
   "source": [
    "# Checking the shape of the data\n",
    "\n",
    "print(f'The shape of the mri set is: {mri.shape}')"
   ]
  },
  {
   "cell_type": "code",
   "execution_count": null,
   "metadata": {},
   "outputs": [],
   "source": [
    "# Getting the data types\n",
    "\n",
    "mri.dtypes"
   ]
  },
  {
   "cell_type": "code",
   "execution_count": null,
   "metadata": {},
   "outputs": [],
   "source": [
    "# Sum of the data types\n",
    "\n",
    "mri.dtypes.value_counts()"
   ]
  },
  {
   "cell_type": "markdown",
   "metadata": {},
   "source": [
    "### Columns"
   ]
  },
  {
   "cell_type": "code",
   "execution_count": null,
   "metadata": {},
   "outputs": [],
   "source": [
    "# Some of the columns have very long names, so I will rename them\n",
    "\n",
    "mri = mri.rename({\"Sex (1=male,0=female)\": \"Sex\", \n",
    "                  \"Hypertension (1=yes,0=no)\": \"Hypertension\", \n",
    "                  \"Name\": \"ID\",\n",
    "                  \"History of smoking\": \"Smoker Status\", \n",
    "                  \"Tricuspid Regurgitation\": \"Tricusp Reg\"}, axis = 1)\n",
    "mri = mri.rename({\"Aortic Regurgitation (0=none, 0.5 = trivial, 1=mild, 1.5=mild-moderate, 2=moderate, 2.5=moderate-severe, 3= severe)\":\n",
    "                  \"Aortic Reg\"}, axis = 1)\n",
    "mri = mri.rename({\"Mitral Regurgitation (0=none, 0.5 = trivial, 1=mild, 1.5=mild-moderate, 2=moderate, 2.5=moderate-severe, 3= severe)\":\n",
    "                  \"Mitral Reg\"}, axis = 1)"
   ]
  },
  {
   "cell_type": "code",
   "execution_count": null,
   "metadata": {},
   "outputs": [],
   "source": [
    "# Replacing spaces with underscores\n",
    "\n",
    "mri.columns = mri.columns.str.replace(\" \", \"_\")\n",
    "\n",
    "# Making sure that all columns are lower case\n",
    "\n",
    "mri.columns = mri.columns.str.lower()"
   ]
  },
  {
   "cell_type": "markdown",
   "metadata": {},
   "source": [
    "### Ordinal & Nominal Values"
   ]
  },
  {
   "cell_type": "code",
   "execution_count": null,
   "metadata": {},
   "outputs": [],
   "source": [
    "# Making Yes/No values binary\n",
    "\n",
    "mri[\"diabetes\"] = mri[\"diabetes\"].apply(lambda x: 1 if x == \"Yes\" else 0)"
   ]
  },
  {
   "cell_type": "code",
   "execution_count": null,
   "metadata": {},
   "outputs": [],
   "source": [
    "# Creating dictionaries for mapping ordinal data to numeric values\n",
    "\n",
    "lv_wall_map         = {\"Normal\": 0, \n",
    "                       \"MILD HYPERTROPHY\": 1, \n",
    "                       \"MODERATE HYPERTROPHY\": 2, \n",
    "                       \"SEVERE HYPERTROPHY\": 3}\n",
    "\n",
    "aortic_stenosis_map = {\"None\": 0, \n",
    "                       \"Indeterminant\": 0, \n",
    "                       \"Trivial\": 1, \n",
    "                       \"Mild\": 2, \n",
    "                       \"MODERATE\": 3, \n",
    "                       \"SEVERE\": 4}\n",
    "\n",
    "tricuspid_map       = {\"None\": 0, \n",
    "                       \"Trivial\": 1, \n",
    "                       \"MILD\": 2, \n",
    "                       \"MILD-MODERATE\": 3, \n",
    "                       \"MODERATE\": 4, \n",
    "                       \"MODERATE-SEVERE\": 5, \n",
    "                       \"SEVERE\": 6}\n",
    "\n",
    "aortic_mitral_map   = {0: 0, \n",
    "                       0.5: 1, \n",
    "                       1: 2, \n",
    "                       1.5: 2, \n",
    "                       2: 3, \n",
    "                       2.5: 3, \n",
    "                       3: 4}"
   ]
  },
  {
   "cell_type": "code",
   "execution_count": null,
   "metadata": {},
   "outputs": [],
   "source": [
    "# Mapping the ordinal data using the dicitionaries from above\n",
    "# I am ignoring NaNs here, but they will be dealt with later\n",
    "\n",
    "mri[\"lv_wall_thickness\"] = mri[\"lv_wall_thickness\"].map(lv_wall_map, na_action = \"ignore\")\n",
    "mri[\"aortic_stenosis\"]   = mri[\"aortic_stenosis\"].map(aortic_stenosis_map, na_action = \"ignore\")\n",
    "mri[\"tricusp_reg\"]       = mri[\"tricusp_reg\"].map(tricuspid_map)\n",
    "mri[\"aortic_reg\"]        = mri[\"aortic_reg\"].map(aortic_mitral_map)\n",
    "mri[\"mitral_reg\"]        = mri[\"mitral_reg\"].map(aortic_mitral_map)"
   ]
  },
  {
   "cell_type": "code",
   "execution_count": null,
   "metadata": {},
   "outputs": [],
   "source": [
    "# The doctors who gave me this data told me to treat the `Unknown` value as `Never`\n",
    "\n",
    "mri[\"smoker_status\"] = mri[\"smoker_status\"].replace({\"Unknown\": \"Never\"})"
   ]
  },
  {
   "cell_type": "code",
   "execution_count": null,
   "metadata": {},
   "outputs": [],
   "source": [
    "# Since the `smoker_status` column is nominal, they have to be made into dummies\n",
    "\n",
    "mri = pd.get_dummies(mri, columns = [\"smoker_status\"], drop_first = True )"
   ]
  },
  {
   "cell_type": "code",
   "execution_count": null,
   "metadata": {},
   "outputs": [],
   "source": [
    "# Making sure again that all columns are lower case\n",
    "\n",
    "mri.columns = mri.columns.str.lower()"
   ]
  },
  {
   "cell_type": "code",
   "execution_count": null,
   "metadata": {},
   "outputs": [],
   "source": [
    "# Renaming the `smoker_status_former` column\n",
    "\n",
    "mri = mri.rename({\"smoker_status_former (>1yr)\": \"smoker_status_former\"}, axis = 1)"
   ]
  },
  {
   "cell_type": "code",
   "execution_count": null,
   "metadata": {},
   "outputs": [],
   "source": [
    "mri.head()"
   ]
  },
  {
   "cell_type": "markdown",
   "metadata": {},
   "source": [
    "### Imputation Of Missing Data"
   ]
  },
  {
   "cell_type": "code",
   "execution_count": null,
   "metadata": {},
   "outputs": [],
   "source": [
    "# Checking for columns with missing/NaN data\n",
    "\n",
    "(mri.isnull().mean()*100).sort_values(ascending = False).head(6)"
   ]
  },
  {
   "cell_type": "markdown",
   "metadata": {},
   "source": [
    "Despite these columns missing data, the doctors who gave us the data said that the `NaNs` in `LV_Wall_Thickness` can be considered to be \"normal\"."
   ]
  },
  {
   "cell_type": "code",
   "execution_count": null,
   "metadata": {},
   "outputs": [],
   "source": [
    "mri[\"lv_wall_thickness\"] = mri[\"lv_wall_thickness\"].fillna(0)"
   ]
  },
  {
   "cell_type": "markdown",
   "metadata": {},
   "source": [
    "There are two numeric columns `lvesv` and `lvef` which have a small number of missing values, but they need to be filled in.\n",
    "\n",
    "To impute the values, I will use `sklearn`'s `IterativeImputer` algorithm."
   ]
  },
  {
   "cell_type": "code",
   "execution_count": null,
   "metadata": {
    "scrolled": false
   },
   "outputs": [],
   "source": [
    "# Instantiating an IterativeImputer model\n",
    "\n",
    "imp = IterativeImputer(random_state = 42,\n",
    "                       max_iter     = 25,\n",
    "                       estimator    = ExtraTreesRegressor(n_estimators = 10, \n",
    "                                                          random_state = 42))\n",
    "\n",
    "# Fit_transforming the model\n",
    "\n",
    "mri[[\"lvef\", \"lvesv\"]] = imp.fit_transform(X = mri[[\"lvef\", \"lvesv\"]])"
   ]
  },
  {
   "cell_type": "code",
   "execution_count": null,
   "metadata": {},
   "outputs": [],
   "source": []
  },
  {
   "cell_type": "markdown",
   "metadata": {},
   "source": [
    "There are still four more columns that need to be impute and they are all ordinal.\n",
    "\n",
    "To do that I will X."
   ]
  },
  {
   "cell_type": "code",
   "execution_count": null,
   "metadata": {},
   "outputs": [],
   "source": [
    "(mri.isnull().mean()*100).sort_values(ascending = False).head(4)"
   ]
  },
  {
   "cell_type": "markdown",
   "metadata": {},
   "source": [
    "# Exploratory Visualizations"
   ]
  },
  {
   "cell_type": "markdown",
   "metadata": {},
   "source": [
    "## Numeric Data"
   ]
  },
  {
   "cell_type": "markdown",
   "metadata": {},
   "source": [
    "### Functions"
   ]
  },
  {
   "cell_type": "code",
   "execution_count": null,
   "metadata": {},
   "outputs": [],
   "source": [
    "def continuous_data_histograms(list_of_columns):\n",
    "    count = 0\n",
    "    fig   = plt.figure(figsize = (12,6))\n",
    "    for column in list_of_columns:\n",
    "        count += 1\n",
    "        ax    = fig.add_subplot(2, 2, count)\n",
    "        title = column.upper()\n",
    "        plt.title(f\"Distribution Of {title}\", size = 18)\n",
    "        sns.distplot(mri[column], color = \"black\",\n",
    "                     kde = False)\n",
    "        plt.axvline(mri[column].mean(),\n",
    "                    color = \"red\")\n",
    "        plt.xlabel(f\"{title}\", size = 16)\n",
    "        plt.ylabel(\"Frequency\", size = 16)\n",
    "        plt.xticks(size = 14)\n",
    "        plt.yticks(size = 14)\n",
    "    plt.tight_layout();\n",
    "    plt.show();"
   ]
  },
  {
   "cell_type": "code",
   "execution_count": null,
   "metadata": {},
   "outputs": [],
   "source": [
    "def continuous_data_scatterplots(list_of_columns):\n",
    "    count = 0\n",
    "    fig   = plt.figure(figsize = (12,6))\n",
    "    for column in list_of_columns:\n",
    "        count += 1\n",
    "        ax    = fig.add_subplot(2, 2, count)\n",
    "        title = column.upper()\n",
    "        plt.title(f\"{title} Vs LVEDV\", size = 18)\n",
    "        sns.regplot(x = column, y = \"lvedv\",\n",
    "                    data = mri, fit_reg = True,\n",
    "                    marker = \"+\", color = \"black\",\n",
    "                    line_kws = {\"color\": \"red\"}, ci = None)\n",
    "        plt.xlabel(f\"{title}\", size = 16)\n",
    "        plt.ylabel(\"LVEDV Volume\", size = 16)\n",
    "        plt.xticks(size = 14)\n",
    "        plt.yticks(size = 14)\n",
    "    plt.tight_layout();\n",
    "    plt.show();"
   ]
  },
  {
   "cell_type": "markdown",
   "metadata": {},
   "source": [
    "### Histograms"
   ]
  },
  {
   "cell_type": "code",
   "execution_count": null,
   "metadata": {},
   "outputs": [],
   "source": [
    "continuous_data_histograms([\"age\", \"lvedv\", \"lvesv\", \"lvef\"])"
   ]
  },
  {
   "cell_type": "markdown",
   "metadata": {},
   "source": [
    "### Scatter Plots"
   ]
  },
  {
   "cell_type": "code",
   "execution_count": null,
   "metadata": {},
   "outputs": [],
   "source": [
    "continuous_data_scatterplots([\"age\", \"lvesv\", \"lvef\"])"
   ]
  },
  {
   "cell_type": "markdown",
   "metadata": {},
   "source": [
    "## Ordinal Data"
   ]
  },
  {
   "cell_type": "markdown",
   "metadata": {},
   "source": [
    "### Functions"
   ]
  },
  {
   "cell_type": "code",
   "execution_count": null,
   "metadata": {},
   "outputs": [],
   "source": [
    "# Defining groups to visualize\n",
    "# Rather than using plotting all ordinal columns at once,\n",
    "# I'm breaking them down by similarity\n",
    "\n",
    "segments_scr = mri.columns[14:31]\n",
    "segments_isc = mri.columns[37:46]\n",
    "structure    = mri.columns[[8,10,11,12,13]]\n",
    "lifestyle    = mri.columns[[1,3,4,5,47,48]]"
   ]
  },
  {
   "cell_type": "code",
   "execution_count": null,
   "metadata": {},
   "outputs": [],
   "source": [
    "def plot_barcharts(list_of_columns):\n",
    "    fig       = plt.figure(figsize = (20,30))\n",
    "    count     = 0\n",
    "    for column in list_of_columns:\n",
    "        count += 1\n",
    "        ax    = fig.add_subplot(8, 3, count)\n",
    "        title = column.upper()\n",
    "        plt.title(f\"{title} Counts\", size = 16)\n",
    "        sns.countplot(mri[column])\n",
    "        plt.xlabel(\"Category\", size = 14)\n",
    "        plt.ylabel(\"Count\", size = 14)\n",
    "        plt.xticks(size = 12)\n",
    "        plt.yticks(size = 12)\n",
    "    plt.tight_layout();\n",
    "    plt.show();"
   ]
  },
  {
   "cell_type": "markdown",
   "metadata": {},
   "source": [
    "### Bar Plots"
   ]
  },
  {
   "cell_type": "code",
   "execution_count": null,
   "metadata": {},
   "outputs": [],
   "source": [
    "plot_barcharts(segments_scr)"
   ]
  },
  {
   "cell_type": "code",
   "execution_count": null,
   "metadata": {},
   "outputs": [],
   "source": [
    "plot_barcharts(segments_isc)"
   ]
  },
  {
   "cell_type": "code",
   "execution_count": null,
   "metadata": {},
   "outputs": [],
   "source": [
    "plot_barcharts(structure)"
   ]
  },
  {
   "cell_type": "code",
   "execution_count": null,
   "metadata": {},
   "outputs": [],
   "source": [
    "plot_barcharts(lifestyle)"
   ]
  },
  {
   "cell_type": "markdown",
   "metadata": {},
   "source": [
    "# Heat Maps"
   ]
  },
  {
   "cell_type": "code",
   "execution_count": null,
   "metadata": {},
   "outputs": [],
   "source": [
    "mri.columns"
   ]
  },
  {
   "cell_type": "code",
   "execution_count": null,
   "metadata": {},
   "outputs": [],
   "source": [
    "numeric_cols = mri.columns[[2,6,7,9]]"
   ]
  },
  {
   "cell_type": "code",
   "execution_count": null,
   "metadata": {},
   "outputs": [],
   "source": [
    "numeric_cols"
   ]
  },
  {
   "cell_type": "code",
   "execution_count": null,
   "metadata": {},
   "outputs": [],
   "source": [
    "plt.figure(figsize = (5,5))\n",
    "plt.title(\"Correlations Among Numeric Columns\", size = 18)\n",
    "corr = mri[numeric_cols].corr()\n",
    "mask = np.zeros_like(corr)                                                                                \n",
    "mask[np.triu_indices_from(mask)] = True\n",
    "with sns.axes_style(\"white\"):\n",
    "    sns.heatmap(corr, cmap = \"RdBu\", mask = mask,\n",
    "                vmin = -1, vmax = 1, annot = True)"
   ]
  },
  {
   "cell_type": "markdown",
   "metadata": {},
   "source": [
    "#### E N D"
   ]
  }
 ],
 "metadata": {
  "kernelspec": {
   "display_name": "Python 3",
   "language": "python",
   "name": "python3"
  },
  "language_info": {
   "codemirror_mode": {
    "name": "ipython",
    "version": 3
   },
   "file_extension": ".py",
   "mimetype": "text/x-python",
   "name": "python",
   "nbconvert_exporter": "python",
   "pygments_lexer": "ipython3",
   "version": "3.6.8"
  }
 },
 "nbformat": 4,
 "nbformat_minor": 2
}
