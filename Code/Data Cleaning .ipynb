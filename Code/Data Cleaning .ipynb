{
 "cells": [
  {
   "cell_type": "markdown",
   "metadata": {},
   "source": [
    "# Imports"
   ]
  },
  {
   "cell_type": "code",
   "execution_count": null,
   "metadata": {},
   "outputs": [],
   "source": [
    "import pandas             as pd\n",
    "import numpy              as np\n",
    "import regex              as re\n",
    "import seaborn            as sns\n",
    "import matplotlib.pyplot  as plt\n",
    "from IPython.core.display import display, HTML\n",
    "sns.set(style = \"white\", palette = \"dark\")\n",
    "display(HTML(\"<style>.container { width:95% !important; }</style>\"))\n",
    "%matplotlib inline"
   ]
  },
  {
   "cell_type": "markdown",
   "metadata": {},
   "source": [
    "# Data Cleaning"
   ]
  },
  {
   "cell_type": "markdown",
   "metadata": {},
   "source": [
    "## Reading In The Data & Overview"
   ]
  },
  {
   "cell_type": "code",
   "execution_count": null,
   "metadata": {},
   "outputs": [],
   "source": [
    "# Reading in the MRI data file\n",
    "\n",
    "mri = pd.read_csv(\"../Data/stress_cardiac_mri.csv\")"
   ]
  },
  {
   "cell_type": "code",
   "execution_count": null,
   "metadata": {},
   "outputs": [],
   "source": [
    "# Looking at the first two rows\n",
    "\n",
    "mri.head(2)"
   ]
  },
  {
   "cell_type": "code",
   "execution_count": null,
   "metadata": {},
   "outputs": [],
   "source": [
    "# Checking the shape of the data\n",
    "\n",
    "print(f'The shape of the mri set is: {mri.shape}')"
   ]
  },
  {
   "cell_type": "code",
   "execution_count": null,
   "metadata": {},
   "outputs": [],
   "source": [
    "# Getting the data types\n",
    "\n",
    "mri.dtypes"
   ]
  },
  {
   "cell_type": "code",
   "execution_count": null,
   "metadata": {},
   "outputs": [],
   "source": [
    "# Sum of the data types\n",
    "\n",
    "mri.dtypes.value_counts()"
   ]
  },
  {
   "cell_type": "markdown",
   "metadata": {},
   "source": [
    "### Columns"
   ]
  },
  {
   "cell_type": "code",
   "execution_count": null,
   "metadata": {},
   "outputs": [],
   "source": [
    "# Some of the columns have very long names, so I will rename them\n",
    "\n",
    "mri = mri.rename({\"Sex (1=male,0=female)\": \"Sex\", \"Hypertension (1=yes,0=no)\": \"Hypertension\", \"Name\": \"ID\",\n",
    "                  \"History of smoking\": \"Smoker Status\", \"Tricuspid Regurgitation\": \"Tricusp Reg\"}, axis = 1)\n",
    "mri = mri.rename({\"Aortic Regurgitation (0=none, 0.5 = trivial, 1=mild, 1.5=mild-moderate, 2=moderate, 2.5=moderate-severe, 3= severe)\":\n",
    "                  \"Aortic Reg\"}, axis = 1)\n",
    "mri = mri.rename({\"Mitral Regurgitation (0=none, 0.5 = trivial, 1=mild, 1.5=mild-moderate, 2=moderate, 2.5=moderate-severe, 3= severe)\":\n",
    "                  \"Mitral Reg\"}, axis = 1)"
   ]
  },
  {
   "cell_type": "code",
   "execution_count": null,
   "metadata": {},
   "outputs": [],
   "source": [
    "# Replacing spaces with underscores\n",
    "\n",
    "mri.columns = mri.columns.str.replace(\" \", \"_\")\n",
    "\n",
    "# Making sure that all columns are lower case\n",
    "\n",
    "mri.columns = mri.columns.str.lower()"
   ]
  },
  {
   "cell_type": "markdown",
   "metadata": {},
   "source": [
    "### Ordinal & Nominal Values"
   ]
  },
  {
   "cell_type": "code",
   "execution_count": null,
   "metadata": {},
   "outputs": [],
   "source": [
    "# Making Yes/No values binary\n",
    "\n",
    "mri[\"diabetes\"] = mri[\"diabetes\"].apply(lambda x: 1 if x == \"Yes\" else 0)"
   ]
  },
  {
   "cell_type": "code",
   "execution_count": null,
   "metadata": {},
   "outputs": [],
   "source": [
    "# Creating dictionaries for mapping ordinal data to numeric values\n",
    "\n",
    "lv_wall_map         = {\"Normal\": 0, \"MILD HYPERTROPHY\": 1, \"MODERATE HYPERTROPHY\": 2, \"SEVERE HYPERTROPHY\": 3}\n",
    "aortic_stenosis_map = {\"None\": 0, \"Indeterminant\": 0, \"Trivial\": 1, \"Mild\": 2, \"MODERATE\": 3, \"SEVERE\": 4}\n",
    "tricuspid_map       = {\"None\": 0, \"Trivial\": 1, \"MILD\": 2, \"MILD-MODERATE\": 3, \"MODERATE\": 4, \"MODERATE-SEVERE\": 5, \"SEVERE\": 6}\n",
    "aortic_mitral_map   = {0: 0, 0.5: 1, 1: 2, 1.5: 2, 2: 3, 2.5: 3, 3: 4}"
   ]
  },
  {
   "cell_type": "code",
   "execution_count": null,
   "metadata": {},
   "outputs": [],
   "source": [
    "# Mapping the ordinal data using the dicitionaries from above\n",
    "# I am ignoring NaNs here, but they will be dealt with later\n",
    "\n",
    "mri[\"lv_wall_thickness\"] = mri[\"lv_wall_thickness\"].map(lv_wall_map, na_action = \"ignore\")\n",
    "mri[\"aortic_stenosis\"]   = mri[\"aortic_stenosis\"].map(aortic_stenosis_map, na_action = \"ignore\")\n",
    "mri[\"tricusp_reg\"]       = mri[\"tricusp_reg\"].map(tricuspid_map)\n",
    "mri[\"aortic_reg\"]        = mri[\"aortic_reg\"].map(aortic_mitral_map)\n",
    "mri[\"mitral_reg\"]        = mri[\"mitral_reg\"].map(aortic_mitral_map)"
   ]
  },
  {
   "cell_type": "code",
   "execution_count": null,
   "metadata": {},
   "outputs": [],
   "source": [
    "# The doctors who gave me this data told me to treat the `Unknown` value as `Never`\n",
    "\n",
    "mri[\"smoker_status\"] = mri[\"smoker_status\"].replace({\"Unknown\": \"Never\"})"
   ]
  },
  {
   "cell_type": "code",
   "execution_count": null,
   "metadata": {},
   "outputs": [],
   "source": [
    "# Since the `smoker_status` column is nominal, they have to be made into dummies\n",
    "\n",
    "mri = pd.get_dummies(mri, columns = [\"smoker_status\"], drop_first = True )"
   ]
  },
  {
   "cell_type": "code",
   "execution_count": null,
   "metadata": {},
   "outputs": [],
   "source": [
    "# Making sure again that all columns are lower case\n",
    "\n",
    "mri.columns = mri.columns.str.lower()"
   ]
  },
  {
   "cell_type": "code",
   "execution_count": null,
   "metadata": {},
   "outputs": [],
   "source": [
    "mri.columns"
   ]
  },
  {
   "cell_type": "code",
   "execution_count": null,
   "metadata": {},
   "outputs": [],
   "source": [
    "# Renaming the `smoker_status_former` column\n",
    "\n",
    "mri = mri.rename({\"smoker_status_former (>1yr)\": \"smoker_status_former\"}, axis = 1)\n",
    "\n",
    "# Checkig that the changes worked\n",
    "\n",
    "mri.columns"
   ]
  },
  {
   "cell_type": "markdown",
   "metadata": {},
   "source": [
    "### Continuous Values"
   ]
  },
  {
   "cell_type": "code",
   "execution_count": null,
   "metadata": {},
   "outputs": [],
   "source": [
    "male = mri[mri[\"sex\"] == 1]\n",
    "\n",
    "male[[\"age\", \"lvedv\", \"lvesv\", \"lvef\"]].describe().T"
   ]
  },
  {
   "cell_type": "code",
   "execution_count": null,
   "metadata": {},
   "outputs": [],
   "source": [
    "female = mri[mri[\"sex\"] == 0]\n",
    "\n",
    "female[[\"age\", \"lvedv\", \"lvesv\", \"lvef\"]].describe().T"
   ]
  },
  {
   "cell_type": "markdown",
   "metadata": {},
   "source": [
    "### Imputation of `NaN` Values"
   ]
  },
  {
   "cell_type": "code",
   "execution_count": null,
   "metadata": {},
   "outputs": [],
   "source": [
    "# Checking for columns with missing/NaN data\n",
    "\n",
    "(mri.isnull().mean()*100).sort_values(ascending = False).head(7)"
   ]
  },
  {
   "cell_type": "code",
   "execution_count": null,
   "metadata": {},
   "outputs": [],
   "source": [
    "print(f\"{round((((mri.isnull().sum().sum()) / len(mri)))*100,2)}% of the data is missing\")"
   ]
  },
  {
   "cell_type": "markdown",
   "metadata": {},
   "source": [
    "There is quite a bit of missing data, I cannot drop `NaN` values because that will remove a lot of otherwise good data.  Furthermore, not all of the columns are the same type: `lvef` and `lvesv` are numeric while the others are ordinal.\n",
    "\n",
    "I will be making use of a technique called X."
   ]
  },
  {
   "cell_type": "markdown",
   "metadata": {},
   "source": [
    "### Target Definition"
   ]
  },
  {
   "cell_type": "markdown",
   "metadata": {},
   "source": [
    "Because this data is biometric in nature, the definition of left ventricular dilation is different for men than in women.  The following values are clinical definitions:\n",
    "\n",
    "<img src = \"../Images/Source_snip.PNG\" alt = \"Article Snip\" width = \"750\" >\n",
    "\n",
    "* **For men**: >214 mL\n",
    "\n",
    "* **For women**: >178 mL\n",
    "\n",
    "The values are further dependant upon age (<20 and >80), but for the sake of simplicity I will not specify that much.\n",
    "\n",
    "-----\n",
    "\n",
    "I will be defining a third category: at-risk.\n",
    "\n",
    "* **For men**: >186 mL\n",
    "\n",
    "* **For women**: >139 mL\n",
    "\n",
    "These values are not formally supported by formal clinical definitions, but the cardiologist who sent me this data said that they consider values with a z-score of >1.5 to be abnormal.  However, in my data set the \"high\" value is within one $\\sigma$ of the mean: I opted to define borderline as any values greater than the 75th percentile.\n",
    "\n",
    "Below is the 75th percentile (orange) and the high value (red):\n",
    "\n",
    "|Male At-risk And High |Female At-risk And High |\n",
    "|:--------------------:|:----------------------:|\n",
    "| <img src = \"../Images/male lvedv.PNG\" alt = \"Male LVEDV\" width = \"300\"> | <img src = \"../Images/female lvedv.PNG\" alt = \"Female LVEDV\" width = \"300\"> |"
   ]
  },
  {
   "cell_type": "code",
   "execution_count": null,
   "metadata": {},
   "outputs": [],
   "source": [
    "m_high       = mri[(mri[\"sex\"] == 1) & (mri[\"lvedv\"] > 214)]\n",
    "m_atrisk     = mri[(mri[\"sex\"] == 1) & (mri[\"lvedv\"] > 186)]\n",
    "f_high       = mri[(mri[\"sex\"] == 0) & (mri[\"lvedv\"] > 178)]\n",
    "f_atrisk     = mri[(mri[\"sex\"] == 0) & (mri[\"lvedv\"] > 139)]\n",
    "atrisk_cases = len(m_atrisk) + len(f_atrisk)\n",
    "high_cases   = len(m_high) + len(f_high)\n",
    "total        = atrisk_cases + high_cases"
   ]
  },
  {
   "cell_type": "code",
   "execution_count": null,
   "metadata": {},
   "outputs": [],
   "source": [
    "print(f\"There are {high_cases} cases of left ventricular dilation\")\n",
    "print(f\"The cases of dilation make up {round((high_cases/len(mri))*100,2)}% of the data\")"
   ]
  },
  {
   "cell_type": "code",
   "execution_count": null,
   "metadata": {},
   "outputs": [],
   "source": [
    "print(f\"There are {atrisk_cases} cases of left ventricular dilation\")\n",
    "print(f\"The cases of dilation make up {round((atrisk_cases/len(mri))*100,2)}% of the data\")"
   ]
  },
  {
   "cell_type": "code",
   "execution_count": null,
   "metadata": {},
   "outputs": [],
   "source": [
    "print(f\"There are {total} cases of left ventricular dilation\")\n",
    "print(f\"The high and at-risk cases of dilation make up {round((total/len(mri))*100,2)}% of the data\")"
   ]
  },
  {
   "cell_type": "markdown",
   "metadata": {},
   "source": [
    "# Initial Visualizations"
   ]
  },
  {
   "cell_type": "code",
   "execution_count": null,
   "metadata": {},
   "outputs": [],
   "source": []
  }
 ],
 "metadata": {
  "kernelspec": {
   "display_name": "Python 3",
   "language": "python",
   "name": "python3"
  },
  "language_info": {
   "codemirror_mode": {
    "name": "ipython",
    "version": 3
   },
   "file_extension": ".py",
   "mimetype": "text/x-python",
   "name": "python",
   "nbconvert_exporter": "python",
   "pygments_lexer": "ipython3",
   "version": "3.7.3"
  }
 },
 "nbformat": 4,
 "nbformat_minor": 2
}
