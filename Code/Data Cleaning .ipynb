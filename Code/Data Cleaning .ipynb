{
 "cells": [
  {
   "cell_type": "code",
   "execution_count": null,
   "metadata": {},
   "outputs": [],
   "source": [
    "import pandas             as pd\n",
    "import numpy              as np\n",
    "import regex              as re\n",
    "from IPython.core.display import display, HTML\n",
    "display(HTML(\"<style>.container { width:95% !important; }</style>\"))\n",
    "%matplotlib inline"
   ]
  },
  {
   "cell_type": "code",
   "execution_count": null,
   "metadata": {},
   "outputs": [],
   "source": [
    "mri = pd.read_csv(\"../Data/stress_cardiac_mri.csv\")"
   ]
  },
  {
   "cell_type": "code",
   "execution_count": null,
   "metadata": {},
   "outputs": [],
   "source": [
    "print(f'The shape of the mri set is: {mri.shape}')"
   ]
  },
  {
   "cell_type": "code",
   "execution_count": null,
   "metadata": {},
   "outputs": [],
   "source": [
    "mri.head(2)"
   ]
  },
  {
   "cell_type": "code",
   "execution_count": null,
   "metadata": {},
   "outputs": [],
   "source": [
    "mri.columns"
   ]
  },
  {
   "cell_type": "code",
   "execution_count": null,
   "metadata": {},
   "outputs": [],
   "source": [
    "mri = mri.rename({\"Sex (1=male,0=female)\": \"Sex\", \"Hypertension (1=yes,0=no)\": \"Hypertension\", \"Name\": \"ID\",\n",
    "                  \"History of smoking\": \"Smoker Status\", \"Tricuspid Regurgitation\": \"Tricusp Reg\"}, axis = 1)\n",
    "mri = mri.rename({\"Aortic Regurgitation (0=none, 0.5 = trivial, 1=mild, 1.5=mild-moderate, 2=moderate, 2.5=moderate-severe, 3= severe)\":\n",
    "                  \"Aortic Reg\"}, axis = 1)\n",
    "mri = mri.rename({\"Mitral Regurgitation (0=none, 0.5 = trivial, 1=mild, 1.5=mild-moderate, 2=moderate, 2.5=moderate-severe, 3= severe)\":\n",
    "                  \"Mitral Reg\"}, axis = 1)"
   ]
  },
  {
   "cell_type": "code",
   "execution_count": null,
   "metadata": {},
   "outputs": [],
   "source": [
    "mri.columns = mri.columns.str.replace(\" \", \"_\")\n",
    "mri.columns = mri.columns.str.lower()"
   ]
  },
  {
   "cell_type": "code",
   "execution_count": null,
   "metadata": {},
   "outputs": [],
   "source": [
    "mri.columns"
   ]
  },
  {
   "cell_type": "code",
   "execution_count": null,
   "metadata": {},
   "outputs": [],
   "source": [
    "mri.head(2)"
   ]
  },
  {
   "cell_type": "code",
   "execution_count": null,
   "metadata": {},
   "outputs": [],
   "source": [
    "mri[\"diabetes\"] = mri[\"diabetes\"].apply(lambda x: 1 if x == \"Yes\" else 0)"
   ]
  },
  {
   "cell_type": "code",
   "execution_count": null,
   "metadata": {},
   "outputs": [],
   "source": [
    "lv_wall_map         = {\"Normal\": 0, \"MILD HYPERTROPHY\": 1, \"MODERATE HYPERTROPHY\": 2, \"SEVERE HYPERTROPHY\": 3}\n",
    "aortic_stenosis_map = {\"None\": 0, \"Indeterminant\": 0, \"Trivial\": 1, \"Mild\": 2, \"MODERATE\": 3, \"SEVERE\": 4}\n",
    "tricuspid_map       = {\"None\": 0, \"Trivial\": 1, \"MILD\": 2, \"MILD-MODERATE\": 3, \"MODERATE\": 4, \"MODERATE-SEVERE\": 5, \"SEVERE\": 6}\n",
    "aortic_mitral_map   = {0: 0, 0.5: 1, 1: 2, 1.5: 2, 2: 3, 2.5: 3, 3: 4}"
   ]
  },
  {
   "cell_type": "code",
   "execution_count": null,
   "metadata": {},
   "outputs": [],
   "source": [
    "mri[\"lv_wall_thickness\"] = mri[\"lv_wall_thickness\"].map(lv_wall_map, na_action = \"ignore\")\n",
    "mri[\"aortic_stenosis\"]   = mri[\"aortic_stenosis\"].map(aortic_stenosis_map, na_action = \"ignore\")\n",
    "mri[\"tricusp_reg\"]       = mri[\"tricusp_reg\"].map(tricuspid_map)\n",
    "mri[\"aortic_reg\"]        = mri[\"aortic_reg\"].map(aortic_mitral_map)\n",
    "mri[\"mitral_reg\"]        = mri[\"mitral_reg\"].map(aortic_mitral_map)"
   ]
  },
  {
   "cell_type": "code",
   "execution_count": null,
   "metadata": {},
   "outputs": [],
   "source": [
    "mri[\"smoker_status\"].value_counts()"
   ]
  },
  {
   "cell_type": "code",
   "execution_count": null,
   "metadata": {},
   "outputs": [],
   "source": [
    "mri[\"smoker_status\"] = mri[\"smoker_status\"].replace({\"Unknown\": \"Never\"})"
   ]
  },
  {
   "cell_type": "code",
   "execution_count": null,
   "metadata": {},
   "outputs": [],
   "source": [
    "mri = pd.get_dummies(mri, columns = [\"smoker_status\"], drop_first = True )"
   ]
  },
  {
   "cell_type": "code",
   "execution_count": null,
   "metadata": {},
   "outputs": [],
   "source": [
    "mri.columns = mri.columns.str.lower()"
   ]
  },
  {
   "cell_type": "code",
   "execution_count": null,
   "metadata": {},
   "outputs": [],
   "source": [
    "mri.columns"
   ]
  },
  {
   "cell_type": "code",
   "execution_count": null,
   "metadata": {},
   "outputs": [],
   "source": [
    "mri.isnull().mean()*100"
   ]
  },
  {
   "cell_type": "code",
   "execution_count": null,
   "metadata": {},
   "outputs": [],
   "source": [
    "m = mri[(mri[\"sex\"] == 1) & (mri[\"lvedv\"] > 214)]\n",
    "f = mri[(mri[\"sex\"] == 0) & (mri[\"lvedv\"] > 178)]"
   ]
  },
  {
   "cell_type": "code",
   "execution_count": null,
   "metadata": {},
   "outputs": [],
   "source": [
    "print(f\"There are {m.shape[0] + f.shape[0]} cases of left ventricular dilation\")\n",
    "print(f\"The positive target makes up {(((m.shape[0] + f.shape[0]) / len(mri)) * 100)} percent of the data\" )"
   ]
  }
 ],
 "metadata": {
  "kernelspec": {
   "display_name": "Python 3",
   "language": "python",
   "name": "python3"
  },
  "language_info": {
   "codemirror_mode": {
    "name": "ipython",
    "version": 3
   },
   "file_extension": ".py",
   "mimetype": "text/x-python",
   "name": "python",
   "nbconvert_exporter": "python",
   "pygments_lexer": "ipython3",
   "version": "3.7.3"
  }
 },
 "nbformat": 4,
 "nbformat_minor": 2
}
