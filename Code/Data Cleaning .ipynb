{
 "cells": [
  {
   "cell_type": "markdown",
   "metadata": {},
   "source": [
    "# Imports"
   ]
  },
  {
   "cell_type": "code",
   "execution_count": 1,
   "metadata": {},
   "outputs": [
    {
     "data": {
      "text/html": [
       "<style>.container { width:95% !important; }</style>"
      ],
      "text/plain": [
       "<IPython.core.display.HTML object>"
      ]
     },
     "metadata": {},
     "output_type": "display_data"
    }
   ],
   "source": [
    "import pandas             as pd\n",
    "import numpy              as np\n",
    "import regex              as re\n",
    "import seaborn            as sns\n",
    "import matplotlib.pyplot  as plt\n",
    "from IPython.core.display import display, HTML\n",
    "sns.set(style = \"white\", palette = \"dark\")\n",
    "display(HTML(\"<style>.container { width:95% !important; }</style>\"))\n",
    "%matplotlib inline"
   ]
  },
  {
   "cell_type": "markdown",
   "metadata": {},
   "source": [
    "# Data Cleaning"
   ]
  },
  {
   "cell_type": "markdown",
   "metadata": {},
   "source": [
    "## Reading In The Data & Overview"
   ]
  },
  {
   "cell_type": "code",
   "execution_count": 2,
   "metadata": {},
   "outputs": [],
   "source": [
    "# Reading in the MRI data file\n",
    "\n",
    "mri = pd.read_csv(\"../Data/stress_cardiac_mri.csv\")"
   ]
  },
  {
   "cell_type": "code",
   "execution_count": 3,
   "metadata": {},
   "outputs": [
    {
     "data": {
      "text/html": [
       "<div>\n",
       "<style scoped>\n",
       "    .dataframe tbody tr th:only-of-type {\n",
       "        vertical-align: middle;\n",
       "    }\n",
       "\n",
       "    .dataframe tbody tr th {\n",
       "        vertical-align: top;\n",
       "    }\n",
       "\n",
       "    .dataframe thead th {\n",
       "        text-align: right;\n",
       "    }\n",
       "</style>\n",
       "<table border=\"1\" class=\"dataframe\">\n",
       "  <thead>\n",
       "    <tr style=\"text-align: right;\">\n",
       "      <th></th>\n",
       "      <th>Name</th>\n",
       "      <th>Sex (1=male,0=female)</th>\n",
       "      <th>Age</th>\n",
       "      <th>Hypertension (1=yes,0=no)</th>\n",
       "      <th>Hyperlipidemia</th>\n",
       "      <th>Diabetes</th>\n",
       "      <th>History of smoking</th>\n",
       "      <th>LVEDV</th>\n",
       "      <th>LVESV</th>\n",
       "      <th>LV Wall Thickness</th>\n",
       "      <th>...</th>\n",
       "      <th>MA_Ischemia</th>\n",
       "      <th>MAS_Ischemia</th>\n",
       "      <th>MIS_Ischemia</th>\n",
       "      <th>MI_Ischemia</th>\n",
       "      <th>MIL_Ischemia</th>\n",
       "      <th>MAL_Ischemia</th>\n",
       "      <th>AA_Ischemia</th>\n",
       "      <th>AS_Ischemia</th>\n",
       "      <th>AI_Ischemia</th>\n",
       "      <th>AL_Ischemia</th>\n",
       "    </tr>\n",
       "  </thead>\n",
       "  <tbody>\n",
       "    <tr>\n",
       "      <th>0</th>\n",
       "      <td>CloudCMR-35423</td>\n",
       "      <td>1</td>\n",
       "      <td>37</td>\n",
       "      <td>0</td>\n",
       "      <td>0</td>\n",
       "      <td>No</td>\n",
       "      <td>Never</td>\n",
       "      <td>613.0</td>\n",
       "      <td>501.0</td>\n",
       "      <td>Normal</td>\n",
       "      <td>...</td>\n",
       "      <td>0</td>\n",
       "      <td>0</td>\n",
       "      <td>0</td>\n",
       "      <td>0</td>\n",
       "      <td>0</td>\n",
       "      <td>0</td>\n",
       "      <td>0</td>\n",
       "      <td>0</td>\n",
       "      <td>0</td>\n",
       "      <td>0</td>\n",
       "    </tr>\n",
       "    <tr>\n",
       "      <th>1</th>\n",
       "      <td>CloudCMR-24662</td>\n",
       "      <td>1</td>\n",
       "      <td>74</td>\n",
       "      <td>0</td>\n",
       "      <td>1</td>\n",
       "      <td>No</td>\n",
       "      <td>Never</td>\n",
       "      <td>569.0</td>\n",
       "      <td>492.0</td>\n",
       "      <td>MILD HYPERTROPHY</td>\n",
       "      <td>...</td>\n",
       "      <td>0</td>\n",
       "      <td>0</td>\n",
       "      <td>0</td>\n",
       "      <td>0</td>\n",
       "      <td>0</td>\n",
       "      <td>0</td>\n",
       "      <td>0</td>\n",
       "      <td>1</td>\n",
       "      <td>0</td>\n",
       "      <td>1</td>\n",
       "    </tr>\n",
       "  </tbody>\n",
       "</table>\n",
       "<p>2 rows × 48 columns</p>\n",
       "</div>"
      ],
      "text/plain": [
       "             Name  Sex (1=male,0=female)  Age  Hypertension (1=yes,0=no)  \\\n",
       "0  CloudCMR-35423                      1   37                          0   \n",
       "1  CloudCMR-24662                      1   74                          0   \n",
       "\n",
       "   Hyperlipidemia Diabetes History of smoking  LVEDV  LVESV LV Wall Thickness  \\\n",
       "0               0       No              Never  613.0  501.0            Normal   \n",
       "1               1       No              Never  569.0  492.0  MILD HYPERTROPHY   \n",
       "\n",
       "   ...  MA_Ischemia MAS_Ischemia  MIS_Ischemia  MI_Ischemia MIL_Ischemia  \\\n",
       "0  ...            0            0             0            0            0   \n",
       "1  ...            0            0             0            0            0   \n",
       "\n",
       "   MAL_Ischemia  AA_Ischemia  AS_Ischemia  AI_Ischemia  AL_Ischemia  \n",
       "0             0            0            0            0            0  \n",
       "1             0            0            1            0            1  \n",
       "\n",
       "[2 rows x 48 columns]"
      ]
     },
     "execution_count": 3,
     "metadata": {},
     "output_type": "execute_result"
    }
   ],
   "source": [
    "# Looking at the first two rows\n",
    "\n",
    "mri.head(2)"
   ]
  },
  {
   "cell_type": "code",
   "execution_count": 4,
   "metadata": {},
   "outputs": [
    {
     "name": "stdout",
     "output_type": "stream",
     "text": [
      "The shape of the mri set is: (6494, 48)\n"
     ]
    }
   ],
   "source": [
    "# Checking the shape of the data\n",
    "\n",
    "print(f'The shape of the mri set is: {mri.shape}')"
   ]
  },
  {
   "cell_type": "code",
   "execution_count": 5,
   "metadata": {},
   "outputs": [
    {
     "data": {
      "text/plain": [
       "Name                                                                                                                    object\n",
       "Sex (1=male,0=female)                                                                                                    int64\n",
       "Age                                                                                                                      int64\n",
       "Hypertension (1=yes,0=no)                                                                                                int64\n",
       "Hyperlipidemia                                                                                                           int64\n",
       "Diabetes                                                                                                                object\n",
       "History of smoking                                                                                                      object\n",
       "LVEDV                                                                                                                  float64\n",
       "LVESV                                                                                                                  float64\n",
       "LV Wall Thickness                                                                                                       object\n",
       "LVEF                                                                                                                   float64\n",
       "Aortic Stenosis                                                                                                         object\n",
       "Aortic Regurgitation (0=none, 0.5 = trivial, 1=mild, 1.5=mild-moderate, 2=moderate, 2.5=moderate-severe, 3= severe)    float64\n",
       "Mitral Regurgitation (0=none, 0.5 = trivial, 1=mild, 1.5=mild-moderate, 2=moderate, 2.5=moderate-severe, 3= severe)    float64\n",
       "Tricuspid Regurgitation                                                                                                 object\n",
       "BA_HE                                                                                                                    int64\n",
       "BAS_HE                                                                                                                   int64\n",
       "BIS_HE                                                                                                                   int64\n",
       "BI_HE                                                                                                                    int64\n",
       "BIL_HE                                                                                                                   int64\n",
       "BAL_HE                                                                                                                   int64\n",
       "MA_HE                                                                                                                    int64\n",
       "MAS_HE                                                                                                                   int64\n",
       "MIS_HE                                                                                                                   int64\n",
       "MI_HE                                                                                                                    int64\n",
       "MIL_HE                                                                                                                   int64\n",
       "MAL_HE                                                                                                                   int64\n",
       "AA_HE                                                                                                                    int64\n",
       "AS_HE                                                                                                                    int64\n",
       "AI_HE                                                                                                                    int64\n",
       "AL_HE                                                                                                                    int64\n",
       "Apex_HE                                                                                                                  int64\n",
       "BA_Ischemia                                                                                                              int64\n",
       "BAS_Ischemia                                                                                                             int64\n",
       "BIS_Ischemia                                                                                                             int64\n",
       "BI_Ischemia                                                                                                              int64\n",
       "BIL_Ischemia                                                                                                             int64\n",
       "BAL_Ischemia                                                                                                             int64\n",
       "MA_Ischemia                                                                                                              int64\n",
       "MAS_Ischemia                                                                                                             int64\n",
       "MIS_Ischemia                                                                                                             int64\n",
       "MI_Ischemia                                                                                                              int64\n",
       "MIL_Ischemia                                                                                                             int64\n",
       "MAL_Ischemia                                                                                                             int64\n",
       "AA_Ischemia                                                                                                              int64\n",
       "AS_Ischemia                                                                                                              int64\n",
       "AI_Ischemia                                                                                                              int64\n",
       "AL_Ischemia                                                                                                              int64\n",
       "dtype: object"
      ]
     },
     "execution_count": 5,
     "metadata": {},
     "output_type": "execute_result"
    }
   ],
   "source": [
    "# Getting the data types\n",
    "\n",
    "mri.dtypes"
   ]
  },
  {
   "cell_type": "code",
   "execution_count": 6,
   "metadata": {},
   "outputs": [
    {
     "data": {
      "text/plain": [
       "int64      37\n",
       "object      6\n",
       "float64     5\n",
       "dtype: int64"
      ]
     },
     "execution_count": 6,
     "metadata": {},
     "output_type": "execute_result"
    }
   ],
   "source": [
    "# Sum of the data types\n",
    "\n",
    "mri.dtypes.value_counts()"
   ]
  },
  {
   "cell_type": "markdown",
   "metadata": {},
   "source": [
    "### Columns"
   ]
  },
  {
   "cell_type": "code",
   "execution_count": 7,
   "metadata": {},
   "outputs": [],
   "source": [
    "# Some of the columns have very long names, so I will rename them\n",
    "\n",
    "mri = mri.rename({\"Sex (1=male,0=female)\": \"Sex\", \n",
    "                  \"Hypertension (1=yes,0=no)\": \"Hypertension\", \n",
    "                  \"Name\": \"ID\",\n",
    "                  \"History of smoking\": \"Smoker Status\", \n",
    "                  \"Tricuspid Regurgitation\": \"Tricusp Reg\"}, axis = 1)\n",
    "mri = mri.rename({\"Aortic Regurgitation (0=none, 0.5 = trivial, 1=mild, 1.5=mild-moderate, 2=moderate, 2.5=moderate-severe, 3= severe)\":\n",
    "                  \"Aortic Reg\"}, axis = 1)\n",
    "mri = mri.rename({\"Mitral Regurgitation (0=none, 0.5 = trivial, 1=mild, 1.5=mild-moderate, 2=moderate, 2.5=moderate-severe, 3= severe)\":\n",
    "                  \"Mitral Reg\"}, axis = 1)"
   ]
  },
  {
   "cell_type": "code",
   "execution_count": 8,
   "metadata": {},
   "outputs": [],
   "source": [
    "# Replacing spaces with underscores\n",
    "\n",
    "mri.columns = mri.columns.str.replace(\" \", \"_\")\n",
    "\n",
    "# Making sure that all columns are lower case\n",
    "\n",
    "mri.columns = mri.columns.str.lower()"
   ]
  },
  {
   "cell_type": "markdown",
   "metadata": {},
   "source": [
    "### Ordinal & Nominal Values"
   ]
  },
  {
   "cell_type": "code",
   "execution_count": 9,
   "metadata": {},
   "outputs": [],
   "source": [
    "# Making Yes/No values binary\n",
    "\n",
    "mri[\"diabetes\"] = mri[\"diabetes\"].apply(lambda x: 1 if x == \"Yes\" else 0)"
   ]
  },
  {
   "cell_type": "code",
   "execution_count": 10,
   "metadata": {},
   "outputs": [],
   "source": [
    "# Creating dictionaries for mapping ordinal data to numeric values\n",
    "\n",
    "lv_wall_map         = {\"Normal\": 0, \n",
    "                       \"MILD HYPERTROPHY\": 1, \n",
    "                       \"MODERATE HYPERTROPHY\": 2, \n",
    "                       \"SEVERE HYPERTROPHY\": 3}\n",
    "\n",
    "aortic_stenosis_map = {\"None\": 0, \n",
    "                       \"Indeterminant\": 0, \n",
    "                       \"Trivial\": 1, \n",
    "                       \"Mild\": 2, \n",
    "                       \"MODERATE\": 3, \n",
    "                       \"SEVERE\": 4}\n",
    "\n",
    "tricuspid_map       = {\"None\": 0, \n",
    "                       \"Trivial\": 1, \n",
    "                       \"MILD\": 2, \n",
    "                       \"MILD-MODERATE\": 3, \n",
    "                       \"MODERATE\": 4, \n",
    "                       \"MODERATE-SEVERE\": 5, \n",
    "                       \"SEVERE\": 6}\n",
    "\n",
    "aortic_mitral_map   = {0: 0, \n",
    "                       0.5: 1, \n",
    "                       1: 2, \n",
    "                       1.5: 2, \n",
    "                       2: 3, \n",
    "                       2.5: 3, \n",
    "                       3: 4}"
   ]
  },
  {
   "cell_type": "code",
   "execution_count": 11,
   "metadata": {},
   "outputs": [],
   "source": [
    "# Mapping the ordinal data using the dicitionaries from above\n",
    "# I am ignoring NaNs here, but they will be dealt with later\n",
    "\n",
    "mri[\"lv_wall_thickness\"] = mri[\"lv_wall_thickness\"].map(lv_wall_map, na_action = \"ignore\")\n",
    "mri[\"aortic_stenosis\"]   = mri[\"aortic_stenosis\"].map(aortic_stenosis_map, na_action = \"ignore\")\n",
    "mri[\"tricusp_reg\"]       = mri[\"tricusp_reg\"].map(tricuspid_map)\n",
    "mri[\"aortic_reg\"]        = mri[\"aortic_reg\"].map(aortic_mitral_map)\n",
    "mri[\"mitral_reg\"]        = mri[\"mitral_reg\"].map(aortic_mitral_map)"
   ]
  },
  {
   "cell_type": "code",
   "execution_count": 12,
   "metadata": {},
   "outputs": [],
   "source": [
    "# The doctors who gave me this data told me to treat the `Unknown` value as `Never`\n",
    "\n",
    "mri[\"smoker_status\"] = mri[\"smoker_status\"].replace({\"Unknown\": \"Never\"})"
   ]
  },
  {
   "cell_type": "code",
   "execution_count": 13,
   "metadata": {},
   "outputs": [],
   "source": [
    "# Since the `smoker_status` column is nominal, they have to be made into dummies\n",
    "\n",
    "mri = pd.get_dummies(mri, columns = [\"smoker_status\"], drop_first = True )"
   ]
  },
  {
   "cell_type": "code",
   "execution_count": 14,
   "metadata": {},
   "outputs": [],
   "source": [
    "# Making sure again that all columns are lower case\n",
    "\n",
    "mri.columns = mri.columns.str.lower()"
   ]
  },
  {
   "cell_type": "code",
   "execution_count": 15,
   "metadata": {},
   "outputs": [
    {
     "data": {
      "text/plain": [
       "Index(['id', 'sex', 'age', 'hypertension', 'hyperlipidemia', 'diabetes',\n",
       "       'lvedv', 'lvesv', 'lv_wall_thickness', 'lvef', 'aortic_stenosis',\n",
       "       'aortic_reg', 'mitral_reg', 'tricusp_reg', 'ba_he', 'bas_he', 'bis_he',\n",
       "       'bi_he', 'bil_he', 'bal_he', 'ma_he', 'mas_he', 'mis_he', 'mi_he',\n",
       "       'mil_he', 'mal_he', 'aa_he', 'as_he', 'ai_he', 'al_he', 'apex_he',\n",
       "       'ba_ischemia', 'bas_ischemia', 'bis_ischemia', 'bi_ischemia',\n",
       "       'bil_ischemia', 'bal_ischemia', 'ma_ischemia', 'mas_ischemia',\n",
       "       'mis_ischemia', 'mi_ischemia', 'mil_ischemia', 'mal_ischemia',\n",
       "       'aa_ischemia', 'as_ischemia', 'ai_ischemia', 'al_ischemia',\n",
       "       'smoker_status_former (>1yr)', 'smoker_status_never'],\n",
       "      dtype='object')"
      ]
     },
     "execution_count": 15,
     "metadata": {},
     "output_type": "execute_result"
    }
   ],
   "source": [
    "mri.columns"
   ]
  },
  {
   "cell_type": "code",
   "execution_count": 16,
   "metadata": {},
   "outputs": [],
   "source": [
    "# Renaming the `smoker_status_former` column\n",
    "\n",
    "mri = mri.rename({\"smoker_status_former (>1yr)\": \"smoker_status_former\"}, axis = 1)"
   ]
  },
  {
   "cell_type": "code",
   "execution_count": 17,
   "metadata": {},
   "outputs": [
    {
     "data": {
      "text/html": [
       "<div>\n",
       "<style scoped>\n",
       "    .dataframe tbody tr th:only-of-type {\n",
       "        vertical-align: middle;\n",
       "    }\n",
       "\n",
       "    .dataframe tbody tr th {\n",
       "        vertical-align: top;\n",
       "    }\n",
       "\n",
       "    .dataframe thead th {\n",
       "        text-align: right;\n",
       "    }\n",
       "</style>\n",
       "<table border=\"1\" class=\"dataframe\">\n",
       "  <thead>\n",
       "    <tr style=\"text-align: right;\">\n",
       "      <th></th>\n",
       "      <th>id</th>\n",
       "      <th>sex</th>\n",
       "      <th>age</th>\n",
       "      <th>hypertension</th>\n",
       "      <th>hyperlipidemia</th>\n",
       "      <th>diabetes</th>\n",
       "      <th>lvedv</th>\n",
       "      <th>lvesv</th>\n",
       "      <th>lv_wall_thickness</th>\n",
       "      <th>lvef</th>\n",
       "      <th>...</th>\n",
       "      <th>mis_ischemia</th>\n",
       "      <th>mi_ischemia</th>\n",
       "      <th>mil_ischemia</th>\n",
       "      <th>mal_ischemia</th>\n",
       "      <th>aa_ischemia</th>\n",
       "      <th>as_ischemia</th>\n",
       "      <th>ai_ischemia</th>\n",
       "      <th>al_ischemia</th>\n",
       "      <th>smoker_status_former</th>\n",
       "      <th>smoker_status_never</th>\n",
       "    </tr>\n",
       "  </thead>\n",
       "  <tbody>\n",
       "    <tr>\n",
       "      <th>0</th>\n",
       "      <td>CloudCMR-35423</td>\n",
       "      <td>1</td>\n",
       "      <td>37</td>\n",
       "      <td>0</td>\n",
       "      <td>0</td>\n",
       "      <td>0</td>\n",
       "      <td>613.0</td>\n",
       "      <td>501.0</td>\n",
       "      <td>0.0</td>\n",
       "      <td>18.00</td>\n",
       "      <td>...</td>\n",
       "      <td>0</td>\n",
       "      <td>0</td>\n",
       "      <td>0</td>\n",
       "      <td>0</td>\n",
       "      <td>0</td>\n",
       "      <td>0</td>\n",
       "      <td>0</td>\n",
       "      <td>0</td>\n",
       "      <td>0</td>\n",
       "      <td>1</td>\n",
       "    </tr>\n",
       "    <tr>\n",
       "      <th>1</th>\n",
       "      <td>CloudCMR-24662</td>\n",
       "      <td>1</td>\n",
       "      <td>74</td>\n",
       "      <td>0</td>\n",
       "      <td>1</td>\n",
       "      <td>0</td>\n",
       "      <td>569.0</td>\n",
       "      <td>492.0</td>\n",
       "      <td>1.0</td>\n",
       "      <td>14.00</td>\n",
       "      <td>...</td>\n",
       "      <td>0</td>\n",
       "      <td>0</td>\n",
       "      <td>0</td>\n",
       "      <td>0</td>\n",
       "      <td>0</td>\n",
       "      <td>1</td>\n",
       "      <td>0</td>\n",
       "      <td>1</td>\n",
       "      <td>0</td>\n",
       "      <td>1</td>\n",
       "    </tr>\n",
       "    <tr>\n",
       "      <th>2</th>\n",
       "      <td>CloudCMR-25620</td>\n",
       "      <td>1</td>\n",
       "      <td>78</td>\n",
       "      <td>1</td>\n",
       "      <td>1</td>\n",
       "      <td>1</td>\n",
       "      <td>564.0</td>\n",
       "      <td>500.0</td>\n",
       "      <td>0.0</td>\n",
       "      <td>11.00</td>\n",
       "      <td>...</td>\n",
       "      <td>1</td>\n",
       "      <td>1</td>\n",
       "      <td>0</td>\n",
       "      <td>0</td>\n",
       "      <td>1</td>\n",
       "      <td>1</td>\n",
       "      <td>0</td>\n",
       "      <td>0</td>\n",
       "      <td>0</td>\n",
       "      <td>1</td>\n",
       "    </tr>\n",
       "    <tr>\n",
       "      <th>3</th>\n",
       "      <td>CloudCMR-21728</td>\n",
       "      <td>1</td>\n",
       "      <td>61</td>\n",
       "      <td>0</td>\n",
       "      <td>1</td>\n",
       "      <td>0</td>\n",
       "      <td>531.0</td>\n",
       "      <td>435.0</td>\n",
       "      <td>1.0</td>\n",
       "      <td>18.00</td>\n",
       "      <td>...</td>\n",
       "      <td>0</td>\n",
       "      <td>0</td>\n",
       "      <td>0</td>\n",
       "      <td>0</td>\n",
       "      <td>0</td>\n",
       "      <td>0</td>\n",
       "      <td>0</td>\n",
       "      <td>0</td>\n",
       "      <td>0</td>\n",
       "      <td>1</td>\n",
       "    </tr>\n",
       "    <tr>\n",
       "      <th>4</th>\n",
       "      <td>CloudCMR-49141</td>\n",
       "      <td>1</td>\n",
       "      <td>53</td>\n",
       "      <td>0</td>\n",
       "      <td>0</td>\n",
       "      <td>0</td>\n",
       "      <td>522.2</td>\n",
       "      <td>408.6</td>\n",
       "      <td>0.0</td>\n",
       "      <td>21.75</td>\n",
       "      <td>...</td>\n",
       "      <td>0</td>\n",
       "      <td>0</td>\n",
       "      <td>0</td>\n",
       "      <td>0</td>\n",
       "      <td>0</td>\n",
       "      <td>0</td>\n",
       "      <td>0</td>\n",
       "      <td>0</td>\n",
       "      <td>0</td>\n",
       "      <td>0</td>\n",
       "    </tr>\n",
       "  </tbody>\n",
       "</table>\n",
       "<p>5 rows × 49 columns</p>\n",
       "</div>"
      ],
      "text/plain": [
       "               id  sex  age  hypertension  hyperlipidemia  diabetes  lvedv  \\\n",
       "0  CloudCMR-35423    1   37             0               0         0  613.0   \n",
       "1  CloudCMR-24662    1   74             0               1         0  569.0   \n",
       "2  CloudCMR-25620    1   78             1               1         1  564.0   \n",
       "3  CloudCMR-21728    1   61             0               1         0  531.0   \n",
       "4  CloudCMR-49141    1   53             0               0         0  522.2   \n",
       "\n",
       "   lvesv  lv_wall_thickness   lvef  ...  mis_ischemia  mi_ischemia  \\\n",
       "0  501.0                0.0  18.00  ...             0            0   \n",
       "1  492.0                1.0  14.00  ...             0            0   \n",
       "2  500.0                0.0  11.00  ...             1            1   \n",
       "3  435.0                1.0  18.00  ...             0            0   \n",
       "4  408.6                0.0  21.75  ...             0            0   \n",
       "\n",
       "   mil_ischemia  mal_ischemia  aa_ischemia  as_ischemia  ai_ischemia  \\\n",
       "0             0             0            0            0            0   \n",
       "1             0             0            0            1            0   \n",
       "2             0             0            1            1            0   \n",
       "3             0             0            0            0            0   \n",
       "4             0             0            0            0            0   \n",
       "\n",
       "   al_ischemia  smoker_status_former  smoker_status_never  \n",
       "0            0                     0                    1  \n",
       "1            1                     0                    1  \n",
       "2            0                     0                    1  \n",
       "3            0                     0                    1  \n",
       "4            0                     0                    0  \n",
       "\n",
       "[5 rows x 49 columns]"
      ]
     },
     "execution_count": 17,
     "metadata": {},
     "output_type": "execute_result"
    }
   ],
   "source": [
    "mri.head()"
   ]
  },
  {
   "cell_type": "markdown",
   "metadata": {},
   "source": [
    "### Continuous Values"
   ]
  },
  {
   "cell_type": "code",
   "execution_count": 18,
   "metadata": {},
   "outputs": [
    {
     "data": {
      "text/html": [
       "<div>\n",
       "<style scoped>\n",
       "    .dataframe tbody tr th:only-of-type {\n",
       "        vertical-align: middle;\n",
       "    }\n",
       "\n",
       "    .dataframe tbody tr th {\n",
       "        vertical-align: top;\n",
       "    }\n",
       "\n",
       "    .dataframe thead th {\n",
       "        text-align: right;\n",
       "    }\n",
       "</style>\n",
       "<table border=\"1\" class=\"dataframe\">\n",
       "  <thead>\n",
       "    <tr style=\"text-align: right;\">\n",
       "      <th></th>\n",
       "      <th>count</th>\n",
       "      <th>mean</th>\n",
       "      <th>std</th>\n",
       "      <th>min</th>\n",
       "      <th>25%</th>\n",
       "      <th>50%</th>\n",
       "      <th>75%</th>\n",
       "      <th>max</th>\n",
       "    </tr>\n",
       "  </thead>\n",
       "  <tbody>\n",
       "    <tr>\n",
       "      <th>age</th>\n",
       "      <td>3312.0</td>\n",
       "      <td>60.276268</td>\n",
       "      <td>13.989795</td>\n",
       "      <td>18.0</td>\n",
       "      <td>52.000</td>\n",
       "      <td>62.0</td>\n",
       "      <td>70.0</td>\n",
       "      <td>106.0</td>\n",
       "    </tr>\n",
       "    <tr>\n",
       "      <th>lvedv</th>\n",
       "      <td>3312.0</td>\n",
       "      <td>162.907506</td>\n",
       "      <td>67.695168</td>\n",
       "      <td>30.4</td>\n",
       "      <td>120.000</td>\n",
       "      <td>148.0</td>\n",
       "      <td>186.0</td>\n",
       "      <td>613.0</td>\n",
       "    </tr>\n",
       "    <tr>\n",
       "      <th>lvesv</th>\n",
       "      <td>3308.0</td>\n",
       "      <td>81.771173</td>\n",
       "      <td>62.552793</td>\n",
       "      <td>7.7</td>\n",
       "      <td>45.000</td>\n",
       "      <td>61.0</td>\n",
       "      <td>91.0</td>\n",
       "      <td>501.0</td>\n",
       "    </tr>\n",
       "    <tr>\n",
       "      <th>lvef</th>\n",
       "      <td>3275.0</td>\n",
       "      <td>53.814061</td>\n",
       "      <td>14.826902</td>\n",
       "      <td>9.0</td>\n",
       "      <td>46.505</td>\n",
       "      <td>57.0</td>\n",
       "      <td>64.0</td>\n",
       "      <td>147.0</td>\n",
       "    </tr>\n",
       "  </tbody>\n",
       "</table>\n",
       "</div>"
      ],
      "text/plain": [
       "        count        mean        std   min      25%    50%    75%    max\n",
       "age    3312.0   60.276268  13.989795  18.0   52.000   62.0   70.0  106.0\n",
       "lvedv  3312.0  162.907506  67.695168  30.4  120.000  148.0  186.0  613.0\n",
       "lvesv  3308.0   81.771173  62.552793   7.7   45.000   61.0   91.0  501.0\n",
       "lvef   3275.0   53.814061  14.826902   9.0   46.505   57.0   64.0  147.0"
      ]
     },
     "execution_count": 18,
     "metadata": {},
     "output_type": "execute_result"
    }
   ],
   "source": [
    "male = mri[mri[\"sex\"] == 1]\n",
    "\n",
    "male[[\"age\", \"lvedv\", \"lvesv\", \"lvef\"]].describe().T"
   ]
  },
  {
   "cell_type": "code",
   "execution_count": 19,
   "metadata": {},
   "outputs": [
    {
     "data": {
      "text/html": [
       "<div>\n",
       "<style scoped>\n",
       "    .dataframe tbody tr th:only-of-type {\n",
       "        vertical-align: middle;\n",
       "    }\n",
       "\n",
       "    .dataframe tbody tr th {\n",
       "        vertical-align: top;\n",
       "    }\n",
       "\n",
       "    .dataframe thead th {\n",
       "        text-align: right;\n",
       "    }\n",
       "</style>\n",
       "<table border=\"1\" class=\"dataframe\">\n",
       "  <thead>\n",
       "    <tr style=\"text-align: right;\">\n",
       "      <th></th>\n",
       "      <th>count</th>\n",
       "      <th>mean</th>\n",
       "      <th>std</th>\n",
       "      <th>min</th>\n",
       "      <th>25%</th>\n",
       "      <th>50%</th>\n",
       "      <th>75%</th>\n",
       "      <th>max</th>\n",
       "    </tr>\n",
       "  </thead>\n",
       "  <tbody>\n",
       "    <tr>\n",
       "      <th>age</th>\n",
       "      <td>3182.0</td>\n",
       "      <td>60.073853</td>\n",
       "      <td>14.507157</td>\n",
       "      <td>18.0</td>\n",
       "      <td>51.000</td>\n",
       "      <td>61.0</td>\n",
       "      <td>71.0000</td>\n",
       "      <td>98.0</td>\n",
       "    </tr>\n",
       "    <tr>\n",
       "      <th>lvedv</th>\n",
       "      <td>3182.0</td>\n",
       "      <td>123.123190</td>\n",
       "      <td>44.718785</td>\n",
       "      <td>27.0</td>\n",
       "      <td>95.925</td>\n",
       "      <td>116.0</td>\n",
       "      <td>139.4550</td>\n",
       "      <td>435.0</td>\n",
       "    </tr>\n",
       "    <tr>\n",
       "      <th>lvesv</th>\n",
       "      <td>3178.0</td>\n",
       "      <td>53.126963</td>\n",
       "      <td>38.758219</td>\n",
       "      <td>3.0</td>\n",
       "      <td>32.925</td>\n",
       "      <td>43.0</td>\n",
       "      <td>58.0000</td>\n",
       "      <td>370.0</td>\n",
       "    </tr>\n",
       "    <tr>\n",
       "      <th>lvef</th>\n",
       "      <td>3144.0</td>\n",
       "      <td>59.590623</td>\n",
       "      <td>12.780668</td>\n",
       "      <td>8.7</td>\n",
       "      <td>55.000</td>\n",
       "      <td>62.0</td>\n",
       "      <td>67.7875</td>\n",
       "      <td>90.0</td>\n",
       "    </tr>\n",
       "  </tbody>\n",
       "</table>\n",
       "</div>"
      ],
      "text/plain": [
       "        count        mean        std   min     25%    50%       75%    max\n",
       "age    3182.0   60.073853  14.507157  18.0  51.000   61.0   71.0000   98.0\n",
       "lvedv  3182.0  123.123190  44.718785  27.0  95.925  116.0  139.4550  435.0\n",
       "lvesv  3178.0   53.126963  38.758219   3.0  32.925   43.0   58.0000  370.0\n",
       "lvef   3144.0   59.590623  12.780668   8.7  55.000   62.0   67.7875   90.0"
      ]
     },
     "execution_count": 19,
     "metadata": {},
     "output_type": "execute_result"
    }
   ],
   "source": [
    "female = mri[mri[\"sex\"] == 0]\n",
    "\n",
    "female[[\"age\", \"lvedv\", \"lvesv\", \"lvef\"]].describe().T"
   ]
  },
  {
   "cell_type": "markdown",
   "metadata": {},
   "source": [
    "### Imputation of `NaN` Values"
   ]
  },
  {
   "cell_type": "code",
   "execution_count": 20,
   "metadata": {},
   "outputs": [
    {
     "data": {
      "text/plain": [
       "tricusp_reg          17.801047\n",
       "aortic_stenosis      16.338158\n",
       "aortic_reg           12.750231\n",
       "mitral_reg            7.776409\n",
       "lv_wall_thickness     3.849707\n",
       "lvef                  1.154912\n",
       "lvesv                 0.123191\n",
       "dtype: float64"
      ]
     },
     "execution_count": 20,
     "metadata": {},
     "output_type": "execute_result"
    }
   ],
   "source": [
    "# Checking for columns with missing/NaN data\n",
    "\n",
    "(mri.isnull().mean()*100).sort_values(ascending = False).head(7)"
   ]
  },
  {
   "cell_type": "markdown",
   "metadata": {},
   "source": [
    "There is quite a bit of missing data, I cannot drop `NaN` values because that will remove a lot of otherwise good data.  Furthermore, not all of the columns are the same type: `lvef` and `lvesv` are numeric while the others are ordinal.\n",
    "\n",
    "I will be making use of a technique called X."
   ]
  },
  {
   "cell_type": "markdown",
   "metadata": {},
   "source": [
    "### Target Definition"
   ]
  },
  {
   "cell_type": "markdown",
   "metadata": {},
   "source": [
    "Because this data is biometric in nature, the definition of left ventricular dilation is different for men than in women.  The following values are clinical definitions:\n",
    "\n",
    "<img src = \"../Images/Source_snip.PNG\" alt = \"Article Snip\" width = \"750\" >\n",
    "\n",
    "* **For men**: >214 mL\n",
    "\n",
    "* **For women**: >178 mL\n",
    "\n",
    "The values are further dependant upon age (<20 and >80), but for the sake of simplicity I will not specify that much.\n",
    "\n",
    "-----\n",
    "\n",
    "I will be defining a third category: at-risk.\n",
    "\n",
    "* **For men**: >186 mL\n",
    "\n",
    "* **For women**: >139 mL\n",
    "\n",
    "These values are not formally supported by formal clinical definitions, but the cardiologist who sent me this data said that they consider values with a z-score of >1.5 to be abnormal.  However, in my data set the \"high\" value is within one $\\sigma$ of the mean: I opted to define borderline as any values greater than the 75th percentile.\n",
    "\n",
    "Below is the 75th percentile (orange) and the high value (red):\n",
    "\n",
    "|Male At-risk And High |Female At-risk And High |\n",
    "|:--------------------:|:----------------------:|\n",
    "| <img src = \"../Images/male lvedv.PNG\" alt = \"Male LVEDV\" width = \"300\"> | <img src = \"../Images/female lvedv.PNG\" alt = \"Female LVEDV\" width = \"300\"> |"
   ]
  },
  {
   "cell_type": "code",
   "execution_count": 21,
   "metadata": {},
   "outputs": [],
   "source": [
    "m_high       = mri[(mri[\"sex\"] == 1) & (mri[\"lvedv\"] > 214)]\n",
    "m_atrisk     = mri[(mri[\"sex\"] == 1) & (mri[\"lvedv\"] > 186)]\n",
    "f_high       = mri[(mri[\"sex\"] == 0) & (mri[\"lvedv\"] > 178)]\n",
    "f_atrisk     = mri[(mri[\"sex\"] == 0) & (mri[\"lvedv\"] > 139)]\n",
    "atrisk_cases = len(m_atrisk) + len(f_atrisk)\n",
    "high_cases   = len(m_high) + len(f_high)\n",
    "total        = atrisk_cases + high_cases"
   ]
  },
  {
   "cell_type": "code",
   "execution_count": 22,
   "metadata": {},
   "outputs": [
    {
     "name": "stdout",
     "output_type": "stream",
     "text": [
      "There are 811 cases of left ventricular dilation\n",
      "The cases of dilation make up 12.49% of the data\n"
     ]
    }
   ],
   "source": [
    "print(f\"There are {high_cases} cases of left ventricular dilation\")\n",
    "print(f\"The cases of dilation make up {round((high_cases/len(mri))*100,2)}% of the data\")"
   ]
  },
  {
   "cell_type": "code",
   "execution_count": 23,
   "metadata": {},
   "outputs": [
    {
     "name": "stdout",
     "output_type": "stream",
     "text": [
      "There are 1621 cases of left ventricular dilation\n",
      "The cases of dilation make up 24.96% of the data\n"
     ]
    }
   ],
   "source": [
    "print(f\"There are {atrisk_cases} cases of left ventricular dilation\")\n",
    "print(f\"The cases of dilation make up {round((atrisk_cases/len(mri))*100,2)}% of the data\")"
   ]
  },
  {
   "cell_type": "code",
   "execution_count": 24,
   "metadata": {},
   "outputs": [
    {
     "name": "stdout",
     "output_type": "stream",
     "text": [
      "There are 2432 cases of left ventricular dilation\n",
      "The high and at-risk cases of dilation make up 37.45% of the data\n"
     ]
    }
   ],
   "source": [
    "print(f\"There are {total} cases of left ventricular dilation\")\n",
    "print(f\"The high and at-risk cases of dilation make up {round((total/len(mri))*100,2)}% of the data\")"
   ]
  },
  {
   "cell_type": "markdown",
   "metadata": {},
   "source": [
    "# Initial Visualizations"
   ]
  },
  {
   "cell_type": "code",
   "execution_count": null,
   "metadata": {},
   "outputs": [],
   "source": []
  }
 ],
 "metadata": {
  "kernelspec": {
   "display_name": "Python 3",
   "language": "python",
   "name": "python3"
  },
  "language_info": {
   "codemirror_mode": {
    "name": "ipython",
    "version": 3
   },
   "file_extension": ".py",
   "mimetype": "text/x-python",
   "name": "python",
   "nbconvert_exporter": "python",
   "pygments_lexer": "ipython3",
   "version": "3.7.3"
  }
 },
 "nbformat": 4,
 "nbformat_minor": 2
}
